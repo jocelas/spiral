{
 "cells": [
  {
   "cell_type": "code",
   "execution_count": 1,
   "metadata": {},
   "outputs": [],
   "source": [
    "import numpy as np\n",
    "import math\n",
    "import matplotlib.pyplot as plt\n",
    "from helper_functions import *\n",
    "import plotly.graph_objects as go\n"
   ]
  },
  {
   "cell_type": "markdown",
   "metadata": {},
   "source": [
    "# Constructing a helix using the _Joint Face Normal Method_\n",
    "\n",
    "This notebook will implement the following algorithm:\n",
    "\n",
    "Given :\n",
    "- the length $L$ of an object,\n",
    "- the angles between the axis and the normal vectors of the joint faces $\\theta/2$, where the angles are assumed to be the same but in opposite directions and the two face normals and the axis are co-planar. Note that the total angle between the planes defined by the joint faces are $\\theta$, which is consistent with the reference,\n",
    "- the twist angle $\\tau$. This is the same angle described in the reference.\n",
    "\n",
    "All relevant properties of the matrix will be computed. Then later, practical methods to find the right parameters for the welding application."
   ]
  },
  {
   "cell_type": "markdown",
   "metadata": {},
   "source": [
    "## Homogeneous coordinates and rigid transformations\n",
    "\n",
    "In **homogeneous coordinates** in 3D, a space is described by a vector $(x, y, z, w)$. The corresponding cartesian coordinates are $(x/w, y/w, z/w)$. The point $(x, y, z, 0)$ signifies the point 'at infinity, so meaning a direction.\n",
    "\n",
    "**Rigid body transormations** are transormations, where all distances are preserved. They include rotations and translations, which is all that is important here. The transformation matrix is of the form:\n",
    "\n",
    "$$\n",
    "M = \\begin{pmatrix} r_{11}&r_{12}&r_{13}&t_x\\\\ r_{21}&r_{22}&r_{23}&t_y \\\\ r_{31}&r_{32}&r_{33}&t_z \\\\ 0 & 0& 0& 1\\end{pmatrix}\n",
    "$$\n",
    "\n",
    "Where the matrix $R \\in SO(3)$ is a rotation matrix and $\\vec t$ the translation vector."
   ]
  },
  {
   "cell_type": "markdown",
   "metadata": {},
   "source": [
    "## The algorithm\n",
    "\n",
    "To construct the helix, we will assume that the first point B lies at the origin. \n",
    "The first segment goes in the x direction, so C is at $(L,0,0,1)$.\n",
    "Further, the joint faces of the first segment are normal to the $xy$-plane, meaning\n",
    "$$N_B = (-\\cos(\\theta/2), \\sin(\\theta/2), 0, 1)\\quad N_C = (\\cos(\\theta/2), \\sin(\\theta/2), 0, 1)$$\n",
    "which are the normal vectors to the joint faces.\n",
    "\n",
    "Note that this means that the axis of the helix is not the $z$-axis, and it is in fact not even parallel to it unless the twist angle $\\tau$ is 0.\n",
    "\n",
    "To determine the third point A we do the following:\n",
    "\n",
    "1. translate C to the origin ($\\vec t = (-L, 0, 0), R = \\mathbf 1$)\n",
    "2. rotate by $-\\theta/2$ along the $z$-axis. Now $\\vec N_B$ is aligned with the $x$-axis.\n",
    "3. rotate by $\\tau$ around the $x$-axis.\n",
    "4. rotate by $-\\theta/2$ around the $z$-axis again. Now the point D would lie where C was before, and B has moved to A.\n",
    "\n",
    "Doing this transformation to B will give you A, and doing the inverse to C will give you D."
   ]
  },
  {
   "cell_type": "code",
   "execution_count": 2,
   "metadata": {},
   "outputs": [],
   "source": [
    "## Defining parameters\n",
    "\n",
    "L = 60 ## mm\n",
    "theta = 15 ## degrees\n",
    "theta_rad = np.deg2rad(theta)\n",
    "tau = 15 ## degrees\n",
    "tau_rad = np.deg2rad(tau)"
   ]
  },
  {
   "cell_type": "code",
   "execution_count": 3,
   "metadata": {},
   "outputs": [
    {
     "name": "stdout",
     "output_type": "stream",
     "text": [
      "OK. Inverse matrix calculation is consistent\n"
     ]
    }
   ],
   "source": [
    "B = np.array([0,0,0,1])\n",
    "C = np.array([L,0,0,1])\n",
    "\n",
    "## translate b to origin\n",
    "T1 = np.array([[1,0,0,-L],\n",
    "                [0,1,0,0],\n",
    "                [0,0,1,0],\n",
    "                [0,0,0,1]])\n",
    "\n",
    "## rotate by -theta/2 around z axis\n",
    "R1 = np.array([[math.cos(-theta_rad/2), -math.sin(-theta_rad/2), 0, 0],\n",
    "                [math.sin(-theta_rad/2), math.cos(-theta_rad/2), 0, 0],\n",
    "                [0, 0, 1, 0],\n",
    "                [0, 0, 0, 1]])\n",
    "\n",
    "## rotate by tau around x axis\n",
    "R2 = np.array([[1, 0, 0, 0],\n",
    "                [0, math.cos(tau_rad), -math.sin(tau_rad), 0],\n",
    "                [0, math.sin(tau_rad), math.cos(tau_rad), 0],\n",
    "                [0, 0, 0, 1]])\n",
    "\n",
    "## rotate by -tau around x axis\n",
    "R2_inv = np.array([[1, 0, 0, 0],\n",
    "                    [0, math.cos(-tau_rad), -math.sin(-tau_rad), 0],\n",
    "                    [0, math.sin(-tau_rad), math.cos(-tau_rad), 0],\n",
    "                    [0, 0, 0, 1]])  \n",
    "\n",
    "## rotate by theta/2 around z axis\n",
    "R3 = np.array([[math.cos(theta_rad/2), -math.sin(theta_rad/2), 0, 0],\n",
    "                [math.sin(theta_rad/2), math.cos(theta_rad/2), 0, 0],\n",
    "                [0, 0, 1, 0],\n",
    "                [0, 0, 0, 1]])\n",
    "\n",
    "## translate back\n",
    "T2 = np.array([[1,0,0,L],\n",
    "                [0,1,0,0],        \n",
    "                [0,0,1,0],\n",
    "                [0,0,0,1]])\n",
    "\n",
    "\n",
    "M = R1@R2@R1@T1\n",
    "inverse_M = np.linalg.inv(M)\n",
    "inverse_M_from_scratch = T2@R3@R2_inv@R3\n",
    "\n",
    "if np.allclose(inverse_M, inverse_M_from_scratch):\n",
    "    print(\"OK. Inverse matrix calculation is consistent\")\n",
    "else:  \n",
    "    print(\"Inverse matrix calculation is NOT consistent\")\n",
    "    raise ValueError(\"Inverse matrix calculation is NOT consistent\")"
   ]
  },
  {
   "cell_type": "code",
   "execution_count": 4,
   "metadata": {},
   "outputs": [
    {
     "data": {
      "text/plain": [
       "array([-57.99038106,  15.26457135,   2.02695987,   1.        ])"
      ]
     },
     "execution_count": 4,
     "metadata": {},
     "output_type": "execute_result"
    }
   ],
   "source": [
    "A = np.array(M@B)\n",
    "D = inverse_M@C\n",
    "\n",
    "A"
   ]
  },
  {
   "cell_type": "code",
   "execution_count": 5,
   "metadata": {},
   "outputs": [
    {
     "data": {
      "image/png": "[encoded data removed]",
      "text/plain": [
       "<Figure size 640x480 with 1 Axes>"
      ]
     },
     "metadata": {},
     "output_type": "display_data"
    }
   ],
   "source": [
    "plt.plot(B[0], B[1], 'ro', label='B')\n",
    "plt.plot(C[0], C[1], 'go', label='C')\n",
    "plt.plot(A[0], A[1], 'bo', label='A')\n",
    "plt.plot(D[0], D[1], 'mo', label='D')\n",
    "plt.axis('equal')\n",
    "\n",
    "Bcart = homogeneous_to_cartesian(B)\n",
    "x, y, z = Bcart.T\n",
    "\n",
    "points = generate_point_on_helix(25, Bcart, M)\n",
    "axis_origin, axis_direction = find_helix_axis(points[5], M)\n",
    "# axis_direction = find_axis_ev(M)\n",
    "points_straight = transform_points(points.copy(), axis_origin, axis_direction)"
   ]
  },
  {
   "cell_type": "code",
   "execution_count": 10,
   "metadata": {},
   "outputs": [
    {
     "data": {
      "application/vnd.plotly.v1+json": {
       "config": {
        "plotlyServerURL": "https://plot.ly"
       },
       "data": [
        {
         "marker": {
          "color": "blue",
          "size": 3
         },
         "type": "scatter3d",
         "x": {
          "bdata": "D5udYTMfNUBbG7HCckFOQHJ/ZxZO7lZAc6mCNJmiW0Ax7mSI3JpcQL3g9HqLtVlAaSIwsdNWU0Ax0EnQJrZEQJCTYot4uLu/rkiayv/PRMDQPfdWEWFTwIVyLQK4u1nA/44eWyKcXMDlOvpKzJ5bwEqwPurx5VbA0Kp6Ut4pTsA++kDLseg0wAOvZA2wVTVAWmYRKABZTkCM3S/spPZWQCe2Wq9fpltAqbsxDZCZXEB3ZM/3WK9ZQCdODYuRTFNAsVLXA0mcREA=",
          "dtype": "f8"
         },
         "y": {
          "bdata": "J/RxEEY9XEBnucJTV2xYQFuUG5F+TlFAusWRR7hnP0A+Mug2+1ElwMZK9Wd1pEnA9I/gLqo+VcBJGKiMJMxawC04UCmSulzAYImEaSLHWsAsI8krUzVVwCaCrtqji0nAi4LzQpHjJMDus4hCCZ0/QIcWarKMWVFAZzgP5KBzWEBy1RL1zj9cQMIYIJm2OlxAyX4pFAhlWED4Ro5obENRQIoDRv1fMj9AFXR1NGDAJcAiREn9QL1JwLSVD0D8R1XAc/wFcyDRWsA=",
          "dtype": "f8"
         },
         "z": {
          "bdata": "dYhHuEJPccC2Ne9yDkttwIFaT3WX92fAS3+vdyCkYsAkSB/0UqFawF4jv/HJ9E/A32x/9ttNNcD1bH/22001QGcjv/HJ9E9AJUgf9FKhWkBKf693IKRiQH5aT3WX92dAszXvcg5LbUBziEe4Qk9xQAx2Fzf++HNApGPntbmidkA9Ubc0dUx5QNU+h7Mw9ntAbyxXMuyffkAFjZPY06SAQNKD+5ex+YFAoHpjV49Og0BvccsWbaOEQD5oM9ZK+IVADV+blShNh0A=",
          "dtype": "f8"
         }
        },
        {
         "marker": {
          "color": "blue",
          "size": 3
         },
         "type": "scatter3d",
         "x": {
          "bdata": "D5udYTMfNcBbG7HCckFOwHJ/ZxZO7lbAc6mCNJmiW8Ax7mSI3JpcwL3g9HqLtVnAaSIwsdNWU8Ax0EnQJrZEwJCTYot4uLs/rkiayv/PREDQPfdWEWFTQIVyLQK4u1lA/44eWyKcXEDlOvpKzJ5bQEqwPurx5VZA0Kp6Ut4pTkA++kDLseg0QAOvZA2wVTXAWmYRKABZTsCM3S/spPZWwCe2Wq9fplvAqbsxDZCZXMB3ZM/3WK9ZwCdODYuRTFPAsVLXA0mcRMA=",
          "dtype": "f8"
         },
         "y": {
          "bdata": "J/RxEEY9XMBnucJTV2xYwFuUG5F+TlHAusWRR7hnP8A+Mug2+1ElQMZK9Wd1pElA9I/gLqo+VUBJGKiMJMxaQC04UCmSulxAYImEaSLHWkAsI8krUzVVQCaCrtqji0lAi4LzQpHjJEDus4hCCZ0/wIcWarKMWVHAZzgP5KBzWMBy1RL1zj9cwMIYIJm2OlzAyX4pFAhlWMD4Ro5obENRwIoDRv1fMj/AFXR1NGDAJUAiREn9QL1JQLSVD0D8R1VAc/wFcyDRWkA=",
          "dtype": "f8"
         },
         "z": {
          "bdata": "dYhHuEJPccC2Ne9yDkttwIFaT3WX92fAS3+vdyCkYsAkSB/0UqFawF4jv/HJ9E/A32x/9ttNNcD1bH/22001QGcjv/HJ9E9AJUgf9FKhWkBKf693IKRiQH5aT3WX92dAszXvcg5LbUBziEe4Qk9xQAx2Fzf++HNApGPntbmidkA9Ubc0dUx5QNU+h7Mw9ntAbyxXMuyffkAFjZPY06SAQNKD+5ex+YFAoHpjV49Og0BvccsWbaOEQD5oM9ZK+IVADV+blShNh0A=",
          "dtype": "f8"
         }
        }
       ],
       "layout": {
        "dragmode": "turntable",
        "font": {
         "family": "Arial",
         "size": 14
        },
        "margin": {
         "b": 0,
         "l": 0,
         "r": 0,
         "t": 40
        },
        "scene": {
         "aspectmode": "data",
         "camera": {
          "eye": {
           "x": 4,
           "y": 1.8,
           "z": 1.2
          }
         },
         "xaxis": {
          "autorange": true,
          "showbackground": false,
          "showgrid": true,
          "zeroline": false
         },
         "yaxis": {
          "autorange": true,
          "showbackground": false,
          "showgrid": true,
          "zeroline": false
         },
         "zaxis": {
          "autorange": true,
          "showbackground": false,
          "showgrid": true,
          "zeroline": false
         }
        },
        "showlegend": false,
        "template": {
         "data": {
          "bar": [
           {
            "error_x": {
             "color": "#2a3f5f"
            },
            "error_y": {
             "color": "#2a3f5f"
            },
            "marker": {
             "line": {
              "color": "white",
              "width": 0.5
             },
             "pattern": {
              "fillmode": "overlay",
              "size": 10,
              "solidity": 0.2
             }
            },
            "type": "bar"
           }
          ],
          "barpolar": [
           {
            "marker": {
             "line": {
              "color": "white",
              "width": 0.5
             },
             "pattern": {
              "fillmode": "overlay",
              "size": 10,
              "solidity": 0.2
             }
            },
            "type": "barpolar"
           }
          ],
          "carpet": [
           {
            "aaxis": {
             "endlinecolor": "#2a3f5f",
             "gridcolor": "#C8D4E3",
             "linecolor": "#C8D4E3",
             "minorgridcolor": "#C8D4E3",
             "startlinecolor": "#2a3f5f"
            },
            "baxis": {
             "endlinecolor": "#2a3f5f",
             "gridcolor": "#C8D4E3",
             "linecolor": "#C8D4E3",
             "minorgridcolor": "#C8D4E3",
             "startlinecolor": "#2a3f5f"
            },
            "type": "carpet"
           }
          ],
          "choropleth": [
           {
            "colorbar": {
             "outlinewidth": 0,
             "ticks": ""
            },
            "type": "choropleth"
           }
          ],
          "contour": [
           {
            "colorbar": {
             "outlinewidth": 0,
             "ticks": ""
            },
            "colorscale": [
             [
              0,
              "#0d0887"
             ],
             [
              0.1111111111111111,
              "#46039f"
             ],
             [
              0.2222222222222222,
              "#7201a8"
             ],
             [
              0.3333333333333333,
              "#9c179e"
             ],
             [
              0.4444444444444444,
              "#bd3786"
             ],
             [
              0.5555555555555556,
              "#d8576b"
             ],
             [
              0.6666666666666666,
              "#ed7953"
             ],
             [
              0.7777777777777778,
              "#fb9f3a"
             ],
             [
              0.8888888888888888,
              "#fdca26"
             ],
             [
              1,
              "#f0f921"
             ]
            ],
            "type": "contour"
           }
          ],
          "contourcarpet": [
           {
            "colorbar": {
             "outlinewidth": 0,
             "ticks": ""
            },
            "type": "contourcarpet"
           }
          ],
          "heatmap": [
           {
            "colorbar": {
             "outlinewidth": 0,
             "ticks": ""
            },
            "colorscale": [
             [
              0,
              "#0d0887"
             ],
             [
              0.1111111111111111,
              "#46039f"
             ],
             [
              0.2222222222222222,
              "#7201a8"
             ],
             [
              0.3333333333333333,
              "#9c179e"
             ],
             [
              0.4444444444444444,
              "#bd3786"
             ],
             [
              0.5555555555555556,
              "#d8576b"
             ],
             [
              0.6666666666666666,
              "#ed7953"
             ],
             [
              0.7777777777777778,
              "#fb9f3a"
             ],
             [
              0.8888888888888888,
              "#fdca26"
             ],
             [
              1,
              "#f0f921"
             ]
            ],
            "type": "heatmap"
           }
          ],
          "histogram": [
           {
            "marker": {
             "pattern": {
              "fillmode": "overlay",
              "size": 10,
              "solidity": 0.2
             }
            },
            "type": "histogram"
           }
          ],
          "histogram2d": [
           {
            "colorbar": {
             "outlinewidth": 0,
             "ticks": ""
            },
            "colorscale": [
             [
              0,
              "#0d0887"
             ],
             [
              0.1111111111111111,
              "#46039f"
             ],
             [
              0.2222222222222222,
              "#7201a8"
             ],
             [
              0.3333333333333333,
              "#9c179e"
             ],
             [
              0.4444444444444444,
              "#bd3786"
             ],
             [
              0.5555555555555556,
              "#d8576b"
             ],
             [
              0.6666666666666666,
              "#ed7953"
             ],
             [
              0.7777777777777778,
              "#fb9f3a"
             ],
             [
              0.8888888888888888,
              "#fdca26"
             ],
             [
              1,
              "#f0f921"
             ]
            ],
            "type": "histogram2d"
           }
          ],
          "histogram2dcontour": [
           {
            "colorbar": {
             "outlinewidth": 0,
             "ticks": ""
            },
            "colorscale": [
             [
              0,
              "#0d0887"
             ],
             [
              0.1111111111111111,
              "#46039f"
             ],
             [
              0.2222222222222222,
              "#7201a8"
             ],
             [
              0.3333333333333333,
              "#9c179e"
             ],
             [
              0.4444444444444444,
              "#bd3786"
             ],
             [
              0.5555555555555556,
              "#d8576b"
             ],
             [
              0.6666666666666666,
              "#ed7953"
             ],
             [
              0.7777777777777778,
              "#fb9f3a"
             ],
             [
              0.8888888888888888,
              "#fdca26"
             ],
             [
              1,
              "#f0f921"
             ]
            ],
            "type": "histogram2dcontour"
           }
          ],
          "mesh3d": [
           {
            "colorbar": {
             "outlinewidth": 0,
             "ticks": ""
            },
            "type": "mesh3d"
           }
          ],
          "parcoords": [
           {
            "line": {
             "colorbar": {
              "outlinewidth": 0,
              "ticks": ""
             }
            },
            "type": "parcoords"
           }
          ],
          "pie": [
           {
            "automargin": true,
            "type": "pie"
           }
          ],
          "scatter": [
           {
            "fillpattern": {
             "fillmode": "overlay",
             "size": 10,
             "solidity": 0.2
            },
            "type": "scatter"
           }
          ],
          "scatter3d": [
           {
            "line": {
             "colorbar": {
              "outlinewidth": 0,
              "ticks": ""
             }
            },
            "marker": {
             "colorbar": {
              "outlinewidth": 0,
              "ticks": ""
             }
            },
            "type": "scatter3d"
           }
          ],
          "scattercarpet": [
           {
            "marker": {
             "colorbar": {
              "outlinewidth": 0,
              "ticks": ""
             }
            },
            "type": "scattercarpet"
           }
          ],
          "scattergeo": [
           {
            "marker": {
             "colorbar": {
              "outlinewidth": 0,
              "ticks": ""
             }
            },
            "type": "scattergeo"
           }
          ],
          "scattergl": [
           {
            "marker": {
             "colorbar": {
              "outlinewidth": 0,
              "ticks": ""
             }
            },
            "type": "scattergl"
           }
          ],
          "scattermap": [
           {
            "marker": {
             "colorbar": {
              "outlinewidth": 0,
              "ticks": ""
             }
            },
            "type": "scattermap"
           }
          ],
          "scattermapbox": [
           {
            "marker": {
             "colorbar": {
              "outlinewidth": 0,
              "ticks": ""
             }
            },
            "type": "scattermapbox"
           }
          ],
          "scatterpolar": [
           {
            "marker": {
             "colorbar": {
              "outlinewidth": 0,
              "ticks": ""
             }
            },
            "type": "scatterpolar"
           }
          ],
          "scatterpolargl": [
           {
            "marker": {
             "colorbar": {
              "outlinewidth": 0,
              "ticks": ""
             }
            },
            "type": "scatterpolargl"
           }
          ],
          "scatterternary": [
           {
            "marker": {
             "colorbar": {
              "outlinewidth": 0,
              "ticks": ""
             }
            },
            "type": "scatterternary"
           }
          ],
          "surface": [
           {
            "colorbar": {
             "outlinewidth": 0,
             "ticks": ""
            },
            "colorscale": [
             [
              0,
              "#0d0887"
             ],
             [
              0.1111111111111111,
              "#46039f"
             ],
             [
              0.2222222222222222,
              "#7201a8"
             ],
             [
              0.3333333333333333,
              "#9c179e"
             ],
             [
              0.4444444444444444,
              "#bd3786"
             ],
             [
              0.5555555555555556,
              "#d8576b"
             ],
             [
              0.6666666666666666,
              "#ed7953"
             ],
             [
              0.7777777777777778,
              "#fb9f3a"
             ],
             [
              0.8888888888888888,
              "#fdca26"
             ],
             [
              1,
              "#f0f921"
             ]
            ],
            "type": "surface"
           }
          ],
          "table": [
           {
            "cells": {
             "fill": {
              "color": "#EBF0F8"
             },
             "line": {
              "color": "white"
             }
            },
            "header": {
             "fill": {
              "color": "#C8D4E3"
             },
             "line": {
              "color": "white"
             }
            },
            "type": "table"
           }
          ]
         },
         "layout": {
          "annotationdefaults": {
           "arrowcolor": "#2a3f5f",
           "arrowhead": 0,
           "arrowwidth": 1
          },
          "autotypenumbers": "strict",
          "coloraxis": {
           "colorbar": {
            "outlinewidth": 0,
            "ticks": ""
           }
          },
          "colorscale": {
           "diverging": [
            [
             0,
             "#8e0152"
            ],
            [
             0.1,
             "#c51b7d"
            ],
            [
             0.2,
             "#de77ae"
            ],
            [
             0.3,
             "#f1b6da"
            ],
            [
             0.4,
             "#fde0ef"
            ],
            [
             0.5,
             "#f7f7f7"
            ],
            [
             0.6,
             "#e6f5d0"
            ],
            [
             0.7,
             "#b8e186"
            ],
            [
             0.8,
             "#7fbc41"
            ],
            [
             0.9,
             "#4d9221"
            ],
            [
             1,
             "#276419"
            ]
           ],
           "sequential": [
            [
             0,
             "#0d0887"
            ],
            [
             0.1111111111111111,
             "#46039f"
            ],
            [
             0.2222222222222222,
             "#7201a8"
            ],
            [
             0.3333333333333333,
             "#9c179e"
            ],
            [
             0.4444444444444444,
             "#bd3786"
            ],
            [
             0.5555555555555556,
             "#d8576b"
            ],
            [
             0.6666666666666666,
             "#ed7953"
            ],
            [
             0.7777777777777778,
             "#fb9f3a"
            ],
            [
             0.8888888888888888,
             "#fdca26"
            ],
            [
             1,
             "#f0f921"
            ]
           ],
           "sequentialminus": [
            [
             0,
             "#0d0887"
            ],
            [
             0.1111111111111111,
             "#46039f"
            ],
            [
             0.2222222222222222,
             "#7201a8"
            ],
            [
             0.3333333333333333,
             "#9c179e"
            ],
            [
             0.4444444444444444,
             "#bd3786"
            ],
            [
             0.5555555555555556,
             "#d8576b"
            ],
            [
             0.6666666666666666,
             "#ed7953"
            ],
            [
             0.7777777777777778,
             "#fb9f3a"
            ],
            [
             0.8888888888888888,
             "#fdca26"
            ],
            [
             1,
             "#f0f921"
            ]
           ]
          },
          "colorway": [
           "#636efa",
           "#EF553B",
           "#00cc96",
           "#ab63fa",
           "#FFA15A",
           "#19d3f3",
           "#FF6692",
           "#B6E880",
           "#FF97FF",
           "#FECB52"
          ],
          "font": {
           "color": "#2a3f5f"
          },
          "geo": {
           "bgcolor": "white",
           "lakecolor": "white",
           "landcolor": "white",
           "showlakes": true,
           "showland": true,
           "subunitcolor": "#C8D4E3"
          },
          "hoverlabel": {
           "align": "left"
          },
          "hovermode": "closest",
          "mapbox": {
           "style": "light"
          },
          "paper_bgcolor": "white",
          "plot_bgcolor": "white",
          "polar": {
           "angularaxis": {
            "gridcolor": "#EBF0F8",
            "linecolor": "#EBF0F8",
            "ticks": ""
           },
           "bgcolor": "white",
           "radialaxis": {
            "gridcolor": "#EBF0F8",
            "linecolor": "#EBF0F8",
            "ticks": ""
           }
          },
          "scene": {
           "xaxis": {
            "backgroundcolor": "white",
            "gridcolor": "#DFE8F3",
            "gridwidth": 2,
            "linecolor": "#EBF0F8",
            "showbackground": true,
            "ticks": "",
            "zerolinecolor": "#EBF0F8"
           },
           "yaxis": {
            "backgroundcolor": "white",
            "gridcolor": "#DFE8F3",
            "gridwidth": 2,
            "linecolor": "#EBF0F8",
            "showbackground": true,
            "ticks": "",
            "zerolinecolor": "#EBF0F8"
           },
           "zaxis": {
            "backgroundcolor": "white",
            "gridcolor": "#DFE8F3",
            "gridwidth": 2,
            "linecolor": "#EBF0F8",
            "showbackground": true,
            "ticks": "",
            "zerolinecolor": "#EBF0F8"
           }
          },
          "shapedefaults": {
           "line": {
            "color": "#2a3f5f"
           }
          },
          "ternary": {
           "aaxis": {
            "gridcolor": "#DFE8F3",
            "linecolor": "#A2B1C6",
            "ticks": ""
           },
           "baxis": {
            "gridcolor": "#DFE8F3",
            "linecolor": "#A2B1C6",
            "ticks": ""
           },
           "bgcolor": "white",
           "caxis": {
            "gridcolor": "#DFE8F3",
            "linecolor": "#A2B1C6",
            "ticks": ""
           }
          },
          "title": {
           "x": 0.05
          },
          "xaxis": {
           "automargin": true,
           "gridcolor": "#EBF0F8",
           "linecolor": "#EBF0F8",
           "ticks": "",
           "title": {
            "standoff": 15
           },
           "zerolinecolor": "#EBF0F8",
           "zerolinewidth": 2
          },
          "yaxis": {
           "automargin": true,
           "gridcolor": "#EBF0F8",
           "linecolor": "#EBF0F8",
           "ticks": "",
           "title": {
            "standoff": 15
           },
           "zerolinecolor": "#EBF0F8",
           "zerolinewidth": 2
          }
         }
        },
        "title": {
         "text": "Helical path straightened along its axis"
        }
       }
      }
     },
     "metadata": {},
     "output_type": "display_data"
    }
   ],
   "source": [
    "x, y, z = points.T\n",
    "\n",
    "\n",
    "fig = go.Figure()\n",
    "\n",
    "rotated = turn_spiral_about_z_axis(points_straight)\n",
    "x,y,z = rotated.T\n",
    "fig.add_trace(go.Scatter3d(x=x, y=y, z=z, ))\n",
    "\n",
    "\n",
    "x, y, z = points_straight.T\n",
    "fig.add_trace(go.Scatter3d(x=x, y=y, z=z, ))\n",
    "\n",
    "\n",
    "#x, y, z = make_line(axis_origin + axis_direction * 500, axis_direction, length=1000).T\n",
    "#fig.add_trace(go.Scatter3d(x=x, y=y, z=z, ))\n",
    "\n",
    "\n",
    "#fig.update_layout(scene=dict(xaxis_title='x', yaxis_title='y', zaxis_title='z'))\n",
    "fig.update_layout(\n",
    "    scene=dict(\n",
    "        xaxis=dict(range=None, autorange=True),\n",
    "        yaxis=dict(range=None, autorange=True),\n",
    "        zaxis=dict(range=None, autorange=True)\n",
    "    )\n",
    ")\n",
    "fig.update_layout(\n",
    "    scene=dict(\n",
    "        aspectmode='data'   # ensures equal scaling for x, y, z\n",
    "    )\n",
    ")\n",
    "\n",
    "fig.update_layout(\n",
    "    template=\"plotly_white\",          # clean background\n",
    "    scene=dict(\n",
    "        aspectmode=\"data\",            # equal axes\n",
    "        xaxis=dict(showbackground=False, showgrid=True, zeroline=False),\n",
    "        yaxis=dict(showbackground=False, showgrid=True, zeroline=False),\n",
    "        zaxis=dict(showbackground=False, showgrid=True, zeroline=False),\n",
    "    ),\n",
    "    margin=dict(l=0, r=0, t=40, b=0),\n",
    "    font=dict(size=14, family=\"Arial\"),\n",
    ")\n",
    "\n",
    "fig.update_layout(\n",
    "    dragmode=\"turntable\",        # intuitive rotation\n",
    "    scene_camera=dict(eye=dict(x=4, y=1.8, z=1.2)),  # pleasant starting view\n",
    ")\n",
    "\n",
    "fig.update_traces(marker=dict(size=3, color='blue'))\n",
    "fig.update_layout(showlegend=False, title_text=\"Helical path straightened along its axis\")\n",
    "\n",
    "\n",
    "fig.show()  # fully interactive in browser/notebook\n",
    "fig.write_html(\"plot.html\")  # shareable file"
   ]
  },
  {
   "cell_type": "markdown",
   "metadata": {},
   "source": [
    "## Identifying the axis of the helix\n",
    "\n",
    "By the reference, the vector of the helix Matrix is given by\n",
    "\n",
    "$$\n",
    "(M^2 q) -q\n",
    "$$\n",
    "\n",
    "where M is the transormation matrix and q is any vector."
   ]
  },
  {
   "cell_type": "code",
   "execution_count": 7,
   "metadata": {},
   "outputs": [
    {
     "data": {
      "text/plain": [
       "(14.870944452263695, 114.91522199999108)"
      ]
     },
     "execution_count": 7,
     "metadata": {},
     "output_type": "execute_result"
    }
   ],
   "source": [
    "def point_line_distance(P, A, v):\n",
    "    \"\"\"\n",
    "    Distance between point P and line passing through A with direction v.\n",
    "    \"\"\"\n",
    "    P, A, v = map(lambda x: np.asarray(x, float), (P, A, v))\n",
    "    return np.linalg.norm(np.cross(P - A, v)) / np.linalg.norm(v)\n",
    "\n",
    "BC = points[1] - points[0]\n",
    "CD = points[2] - points[1]\n",
    "\n",
    "def angle(v1, v2):\n",
    "    v1_u = v1 / np.linalg.norm(v1)\n",
    "    v2_u = v2 / np.linalg.norm(v2)\n",
    "    dot_product = np.clip(np.dot(v1_u, v2_u), -1.0, 1.0)\n",
    "    angle_rad = np.arccos(dot_product)\n",
    "    return np.rad2deg(angle_rad)\n",
    "\n",
    "angle_BCD = angle(BC, CD)\n",
    "angle_BCD, point_line_distance(points_straight[2], [0,0,0], [0,0,1])"
   ]
  },
  {
   "cell_type": "code",
   "execution_count": 8,
   "metadata": {},
   "outputs": [
    {
     "data": {
      "text/plain": [
       "(1005, 42.60827523443152, 24, 1022.5986056263564)"
      ]
     },
     "execution_count": 8,
     "metadata": {},
     "output_type": "execute_result"
    }
   ],
   "source": [
    "## How many for desired length?\n",
    "\n",
    "length = 1005 # mm\n",
    "\n",
    "def find_number_of_segments_for_length(points_in, length):\n",
    "    delta_points = np.diff(points_in.copy(), axis=0)\n",
    "    assert np.allclose(delta_points[:,2], delta_points[0,2])\n",
    "    deltaz = delta_points[0,2]\n",
    "    number = int(np.ceil(length/deltaz))\n",
    "\n",
    "    return length, deltaz, number, deltaz*number\n",
    "\n",
    "find_number_of_segments_for_length(points_straight, length)"
   ]
  },
  {
   "cell_type": "code",
   "execution_count": 9,
   "metadata": {},
   "outputs": [
    {
     "data": {
      "text/plain": [
       "(array([-7.10137921e-01,  2.00114010e-15,  7.04062592e-01]),\n",
       " array([-7.10137921e-01, -2.07470556e-16,  7.04062592e-01]))"
      ]
     },
     "execution_count": 9,
     "metadata": {},
     "output_type": "execute_result"
    }
   ],
   "source": [
    "def find_axis_ev(M_in):\n",
    "    M = M_in.copy()[:3,:3]\n",
    "    vals, vecs = np.linalg.eig(M)\n",
    "\n",
    "    axis_vec = np.real(vecs[:, np.isclose(vals, 1.)])\n",
    "\n",
    "    #test if it actually an eigenvector\n",
    "    assert np.allclose(M@axis_vec, axis_vec), \"Computation of eigenvector failed\"\n",
    "\n",
    "    unit(axis_vec)\n",
    "\n",
    "    return axis_vec[:,0]\n",
    " \n",
    "axis_ev = find_axis_ev(M)\n",
    "\n",
    "find_helix_axis(points[5], M)[1], axis_ev"
   ]
  }
 ],
 "metadata": {
  "kernelspec": {
   "display_name": "jonas",
   "language": "python",
   "name": "python3"
  },
  "language_info": {
   "codemirror_mode": {
    "name": "ipython",
    "version": 3
   },
   "file_extension": ".py",
   "mimetype": "text/x-python",
   "name": "python",
   "nbconvert_exporter": "python",
   "pygments_lexer": "ipython3",
   "version": "3.11.2"
  }
 },
 "nbformat": 4,
 "nbformat_minor": 2
}
