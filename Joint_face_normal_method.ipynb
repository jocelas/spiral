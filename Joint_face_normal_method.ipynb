{
 "cells": [
  {
   "cell_type": "code",
   "execution_count": 1,
   "metadata": {},
   "outputs": [],
   "source": [
    "import numpy as np\n",
    "import matplotlib.pyplot as plt\n",
    "from helper_functions import *\n",
    "import plotly.graph_objects as go\n",
    "import warnings"
   ]
  },
  {
   "cell_type": "markdown",
   "metadata": {},
   "source": [
    "# Constructing a helix using the _Joint Face Normal Method_\n",
    "\n",
    "This notebook will implement the following algorithm:\n",
    "\n",
    "Given :\n",
    "- the length $L$ of an object,\n",
    "- the angles between the axis and the normal vectors of the joint faces $\\theta/2$, where the angles are assumed to be the same but in opposite directions and the two face normals and the axis are co-planar. Note that the total angle between the planes defined by the joint faces are $\\theta$, which is consistent with the reference,\n",
    "- the twist angle $\\tau$. This is the same angle described in the reference.\n",
    "\n",
    "All relevant properties of the matrix will be computed. Then later, practical methods to find the right parameters for the welding application."
   ]
  },
  {
   "cell_type": "markdown",
   "metadata": {},
   "source": [
    "## Homogeneous coordinates and rigid transformations\n",
    "\n",
    "In **homogeneous coordinates** in 3D, a space is described by a vector $(x, y, z, w)$. The corresponding cartesian coordinates are $(x/w, y/w, z/w)$. The point $(x, y, z, 0)$ signifies the point 'at infinity, so meaning a direction.\n",
    "\n",
    "**Rigid body transormations** are transormations, where all distances are preserved. They include rotations and translations, which is all that is important here. The transformation matrix is of the form:\n",
    "\n",
    "$$\n",
    "M = \\begin{pmatrix} r_{11}&r_{12}&r_{13}&t_x\\\\ r_{21}&r_{22}&r_{23}&t_y \\\\ r_{31}&r_{32}&r_{33}&t_z \\\\ 0 & 0& 0& 1\\end{pmatrix}\n",
    "$$\n",
    "\n",
    "Where the matrix $R \\in SO(3)$ is a rotation matrix and $\\vec t$ the translation vector."
   ]
  },
  {
   "cell_type": "markdown",
   "metadata": {},
   "source": [
    "## The algorithm\n",
    "\n",
    "To construct the helix, we will assume that the first point B lies at the origin. \n",
    "The first segment goes in the x direction, so C is at $(L,0,0,1)$.\n",
    "Further, the joint faces of the first segment are normal to the $xy$-plane, meaning\n",
    "$$N_B = (-\\cos(\\theta/2), \\sin(\\theta/2), 0, 1)\\quad N_C = (\\cos(\\theta/2), \\sin(\\theta/2), 0, 1)$$\n",
    "which are the normal vectors to the joint faces.\n",
    "\n",
    "Note that this means that the axis of the helix is not the $z$-axis, and it is in fact not even parallel to it unless the twist angle $\\tau$ is 0.\n",
    "\n",
    "To determine the third point A we do the following:\n",
    "\n",
    "1. translate C to the origin ($\\vec t = (-L, 0, 0), R = \\mathbf 1$)\n",
    "2. rotate by $-\\theta/2$ along the $z$-axis. Now $\\vec N_B$ is aligned with the $x$-axis.\n",
    "3. rotate by $\\tau$ around the $x$-axis.\n",
    "4. rotate by $-\\theta/2$ around the $z$-axis again. Now the point D would lie where C was before, and B has moved to A.\n",
    "\n",
    "Doing this transformation to B will give you A, and doing the inverse to C will give you D."
   ]
  },
  {
   "cell_type": "code",
   "execution_count": 2,
   "metadata": {},
   "outputs": [],
   "source": [
    "## Defining parameters\n",
    "\n",
    "L = 60 ## mm\n",
    "theta = 15 ## degrees\n",
    "tau = 10 ## degrees\n"
   ]
  },
  {
   "cell_type": "code",
   "execution_count": 3,
   "metadata": {},
   "outputs": [],
   "source": [
    "B = np.array([0,0,0,1])\n",
    "C = np.array([L,0,0,1])\n",
    "\n",
    "M, inverse_M = transformation_matrix(L, theta, tau)\n"
   ]
  },
  {
   "cell_type": "code",
   "execution_count": 4,
   "metadata": {},
   "outputs": [
    {
     "data": {
      "text/plain": [
       "array([-57.97107948,  15.41118142,   1.35993813,   1.        ])"
      ]
     },
     "execution_count": 4,
     "metadata": {},
     "output_type": "execute_result"
    }
   ],
   "source": [
    "A = np.array(M@B)\n",
    "D = inverse_M@C\n",
    "\n",
    "A"
   ]
  },
  {
   "cell_type": "code",
   "execution_count": 5,
   "metadata": {},
   "outputs": [],
   "source": [
    "Bcart = homogeneous_to_cartesian(B)\n",
    "x, y, z = Bcart.T\n",
    "\n",
    "points = generate_points_on_helix(45, M)\n",
    "axis_origin, axis_direction = find_helix_axis(M)\n",
    "# axis_direction = find_axis_ev(M)\n",
    "points_straight = transform_helix_to_z_axis(points.copy(), axis_origin, axis_direction)"
   ]
  },
  {
   "cell_type": "code",
   "execution_count": 6,
   "metadata": {},
   "outputs": [
    {
     "data": {
      "application/vnd.plotly.v1+json": {
       "config": {
        "plotlyServerURL": "https://plot.ly"
       },
       "data": [
        {
         "marker": {
          "color": "blue",
          "size": 3
         },
         "type": "scatter3d",
         "x": {
          "bdata": "oxdKQX/rOEA38tkJTRRSQFvYN3cVKFxAuH0fva68YUA4Rv10RKhjQF2/1xidpmNAhiaVJ+K3YUDI0lWwIhlcQNvVNrx3AVJAf5AVLgKYOEDp1mVO9T45wI3h+T4dJ1LA6mJ2TgA3XMC7wthSdsFhwMRpw0bmqWPAtCjKMvCkY8CXBZSTELNhwBnrBv4nClzAX3VfW53uUcCOXlAsfkQ4wEKs4j1kkjlA2ipJVug5UkCIFt0x40VcQCAWaOc4xmFAoWa0jYKrY0DoZU3DPaNjQE7MdwI6rmFAFfeDZCX7W0BgKaTsvdtRQF2ZhFPz8DdAUnA8+MvlOcB6xHtKrkxSwDjTOR2+VFzAkwB2efbKYcBACFxJGa1jwOvo28qFoWPAr5KddV6pYcDzAwjoGuxbwF+0VnXZyFHAATs+u2GdN8BOD/FlLDk6QGoaRxZvX1JA/rpcDJFjXEDEdawHr89hQL+rR3mqrmNA3bTxScifY0A=",
          "dtype": "f8"
         },
         "y": {
          "bdata": "WwMveHGnY0BP2D4SSbphQMTodxGdIFxAqOPDBeMKUkDGdvqWwcE4QMp+Eyo7FTnA1y/Px7UdUsBX4A7hiy9cwADZCygTv2HAE6ozDxapY8A+cQZXx6VjwL68Tf15tWHAentYVKYRXMBpsdwtC/hRwCZ4jAlBbjjAOmxQq61oOUDqY7BugzBSQLbm575yPlxAXipbPdjDYUB72Z0btapjQNcOMqwXpGNAr4KT6qWwYUCsTuitpwJcQK04aUUu5VFAFphSmbkaOEAyICwDGbw5wCvAGvVLQ1LAu7/PplFNXMALotRQmMhhwLyW+JxOrGPAMogreGKiY8A0kGzbzKthwMlWYSKh81vAHYq6UUzSUcCX7NddK8c3wClvIxp9DzpAG/LCVQ9WUkCNaJWUKFxcQC18IWFTzWFABnTQkuKtY0CxFW67p6BjQNqvNtHupmFAALv/tZLkW0AdGyNYZb9RQJdXqW6WczdAsVi12NliOsA=",
          "dtype": "f8"
         },
         "z": {
          "bdata": "AAAAAAAAAAC6zec1B7RAQLjN5zUHtFBAkrTb0AoOWUC2zec1B7RgQCPBYQMJ4WRAkLTb0AoOaUD/p1WeDDttQLfN5zUHtHBAcMekHIjKckAowWEDCeF0QOG6HuqJ93ZAm7Tb0AoOeUBVrpi3iyR7QBCoVZ4MO31AyqEShY1Rf0DCzec1B7SAQJ5KRqlHv4FAfMekHIjKgkBYRAOQyNWDQDTBYQMJ4YRAED7AdknshUDruh7qifeGQMY3fV3KAohAobTb0AoOiUB8MTpESxmKQFiumLeLJItAMyv3KswvjEAQqFWeDDuNQOsktBFNRo5Ax6EShY1Rj0BSjzj8Zi6QQMHN5zUHtJBAMAyXb6c5kUCeSkapR7+RQA2J9eLnRJJAe8ekHIjKkkDqBVRWKFCTQFlEA5DI1ZNAx4KyyWhblEA1wWEDCeGUQKP/ED2pZpVAET7AdknslUB+fG+w6XGWQOy6HuqJ95ZAWfnNIyp9l0A=",
          "dtype": "f8"
         }
        },
        {
         "marker": {
          "color": "blue",
          "size": 3
         },
         "type": "scatter3d",
         "x": {
          "bdata": "oxdKQX/rOMA38tkJTRRSwFvYN3cVKFzAuH0fva68YcA4Rv10RKhjwF2/1xidpmPAhiaVJ+K3YcDI0lWwIhlcwNvVNrx3AVLAf5AVLgKYOMDp1mVO9T45QI3h+T4dJ1JA6mJ2TgA3XEC7wthSdsFhQMRpw0bmqWNAtCjKMvCkY0CXBZSTELNhQBnrBv4nClxAX3VfW53uUUCOXlAsfkQ4QEKs4j1kkjnA2ipJVug5UsCIFt0x40VcwCAWaOc4xmHAoWa0jYKrY8DoZU3DPaNjwE7MdwI6rmHAFfeDZCX7W8BgKaTsvdtRwF2ZhFPz8DfAUnA8+MvlOUB6xHtKrkxSQDjTOR2+VFxAkwB2efbKYUBACFxJGa1jQOvo28qFoWNAr5KddV6pYUDzAwjoGuxbQF+0VnXZyFFAATs+u2GdN0BOD/FlLDk6wGoaRxZvX1LA/rpcDJFjXMDEdawHr89hwL+rR3mqrmPA3bTxScifY8A=",
          "dtype": "f8"
         },
         "y": {
          "bdata": "WwMveHGnY8BP2D4SSbphwMTodxGdIFzAqOPDBeMKUsDGdvqWwcE4wMp+Eyo7FTlA1y/Px7UdUkBX4A7hiy9cQADZCygTv2FAE6ozDxapY0A+cQZXx6VjQL68Tf15tWFAentYVKYRXEBpsdwtC/hRQCZ4jAlBbjhAOmxQq61oOcDqY7BugzBSwLbm575yPlzAXipbPdjDYcB72Z0btapjwNcOMqwXpGPAr4KT6qWwYcCsTuitpwJcwK04aUUu5VHAFphSmbkaOMAyICwDGbw5QCvAGvVLQ1JAu7/PplFNXEALotRQmMhhQLyW+JxOrGNAMogreGKiY0A0kGzbzKthQMlWYSKh81tAHYq6UUzSUUCX7NddK8c3QClvIxp9DzrAG/LCVQ9WUsCNaJWUKFxcwC18IWFTzWHABnTQkuKtY8CxFW67p6BjwNqvNtHupmHAALv/tZLkW8AdGyNYZb9RwJdXqW6WczfAsVi12NliOkA=",
          "dtype": "f8"
         },
         "z": {
          "bdata": "AAAAAAAAAAC6zec1B7RAQLjN5zUHtFBAkrTb0AoOWUC2zec1B7RgQCPBYQMJ4WRAkLTb0AoOaUD/p1WeDDttQLfN5zUHtHBAcMekHIjKckAowWEDCeF0QOG6HuqJ93ZAm7Tb0AoOeUBVrpi3iyR7QBCoVZ4MO31AyqEShY1Rf0DCzec1B7SAQJ5KRqlHv4FAfMekHIjKgkBYRAOQyNWDQDTBYQMJ4YRAED7AdknshUDruh7qifeGQMY3fV3KAohAobTb0AoOiUB8MTpESxmKQFiumLeLJItAMyv3KswvjEAQqFWeDDuNQOsktBFNRo5Ax6EShY1Rj0BSjzj8Zi6QQMHN5zUHtJBAMAyXb6c5kUCeSkapR7+RQA2J9eLnRJJAe8ekHIjKkkDqBVRWKFCTQFlEA5DI1ZNAx4KyyWhblEA1wWEDCeGUQKP/ED2pZpVAET7AdknslUB+fG+w6XGWQOy6HuqJ95ZAWfnNIyp9l0A=",
          "dtype": "f8"
         }
        }
       ],
       "layout": {
        "dragmode": "turntable",
        "font": {
         "family": "Arial",
         "size": 14
        },
        "margin": {
         "b": 0,
         "l": 0,
         "r": 0,
         "t": 40
        },
        "scene": {
         "aspectmode": "data",
         "camera": {
          "eye": {
           "x": 4,
           "y": 1.8,
           "z": 1.2
          }
         },
         "xaxis": {
          "autorange": true,
          "showbackground": false,
          "showgrid": true,
          "zeroline": false
         },
         "yaxis": {
          "autorange": true,
          "showbackground": false,
          "showgrid": true,
          "zeroline": false
         },
         "zaxis": {
          "autorange": true,
          "showbackground": false,
          "showgrid": true,
          "zeroline": false
         }
        },
        "showlegend": false,
        "template": {
         "data": {
          "bar": [
           {
            "error_x": {
             "color": "#2a3f5f"
            },
            "error_y": {
             "color": "#2a3f5f"
            },
            "marker": {
             "line": {
              "color": "white",
              "width": 0.5
             },
             "pattern": {
              "fillmode": "overlay",
              "size": 10,
              "solidity": 0.2
             }
            },
            "type": "bar"
           }
          ],
          "barpolar": [
           {
            "marker": {
             "line": {
              "color": "white",
              "width": 0.5
             },
             "pattern": {
              "fillmode": "overlay",
              "size": 10,
              "solidity": 0.2
             }
            },
            "type": "barpolar"
           }
          ],
          "carpet": [
           {
            "aaxis": {
             "endlinecolor": "#2a3f5f",
             "gridcolor": "#C8D4E3",
             "linecolor": "#C8D4E3",
             "minorgridcolor": "#C8D4E3",
             "startlinecolor": "#2a3f5f"
            },
            "baxis": {
             "endlinecolor": "#2a3f5f",
             "gridcolor": "#C8D4E3",
             "linecolor": "#C8D4E3",
             "minorgridcolor": "#C8D4E3",
             "startlinecolor": "#2a3f5f"
            },
            "type": "carpet"
           }
          ],
          "choropleth": [
           {
            "colorbar": {
             "outlinewidth": 0,
             "ticks": ""
            },
            "type": "choropleth"
           }
          ],
          "contour": [
           {
            "colorbar": {
             "outlinewidth": 0,
             "ticks": ""
            },
            "colorscale": [
             [
              0,
              "#0d0887"
             ],
             [
              0.1111111111111111,
              "#46039f"
             ],
             [
              0.2222222222222222,
              "#7201a8"
             ],
             [
              0.3333333333333333,
              "#9c179e"
             ],
             [
              0.4444444444444444,
              "#bd3786"
             ],
             [
              0.5555555555555556,
              "#d8576b"
             ],
             [
              0.6666666666666666,
              "#ed7953"
             ],
             [
              0.7777777777777778,
              "#fb9f3a"
             ],
             [
              0.8888888888888888,
              "#fdca26"
             ],
             [
              1,
              "#f0f921"
             ]
            ],
            "type": "contour"
           }
          ],
          "contourcarpet": [
           {
            "colorbar": {
             "outlinewidth": 0,
             "ticks": ""
            },
            "type": "contourcarpet"
           }
          ],
          "heatmap": [
           {
            "colorbar": {
             "outlinewidth": 0,
             "ticks": ""
            },
            "colorscale": [
             [
              0,
              "#0d0887"
             ],
             [
              0.1111111111111111,
              "#46039f"
             ],
             [
              0.2222222222222222,
              "#7201a8"
             ],
             [
              0.3333333333333333,
              "#9c179e"
             ],
             [
              0.4444444444444444,
              "#bd3786"
             ],
             [
              0.5555555555555556,
              "#d8576b"
             ],
             [
              0.6666666666666666,
              "#ed7953"
             ],
             [
              0.7777777777777778,
              "#fb9f3a"
             ],
             [
              0.8888888888888888,
              "#fdca26"
             ],
             [
              1,
              "#f0f921"
             ]
            ],
            "type": "heatmap"
           }
          ],
          "histogram": [
           {
            "marker": {
             "pattern": {
              "fillmode": "overlay",
              "size": 10,
              "solidity": 0.2
             }
            },
            "type": "histogram"
           }
          ],
          "histogram2d": [
           {
            "colorbar": {
             "outlinewidth": 0,
             "ticks": ""
            },
            "colorscale": [
             [
              0,
              "#0d0887"
             ],
             [
              0.1111111111111111,
              "#46039f"
             ],
             [
              0.2222222222222222,
              "#7201a8"
             ],
             [
              0.3333333333333333,
              "#9c179e"
             ],
             [
              0.4444444444444444,
              "#bd3786"
             ],
             [
              0.5555555555555556,
              "#d8576b"
             ],
             [
              0.6666666666666666,
              "#ed7953"
             ],
             [
              0.7777777777777778,
              "#fb9f3a"
             ],
             [
              0.8888888888888888,
              "#fdca26"
             ],
             [
              1,
              "#f0f921"
             ]
            ],
            "type": "histogram2d"
           }
          ],
          "histogram2dcontour": [
           {
            "colorbar": {
             "outlinewidth": 0,
             "ticks": ""
            },
            "colorscale": [
             [
              0,
              "#0d0887"
             ],
             [
              0.1111111111111111,
              "#46039f"
             ],
             [
              0.2222222222222222,
              "#7201a8"
             ],
             [
              0.3333333333333333,
              "#9c179e"
             ],
             [
              0.4444444444444444,
              "#bd3786"
             ],
             [
              0.5555555555555556,
              "#d8576b"
             ],
             [
              0.6666666666666666,
              "#ed7953"
             ],
             [
              0.7777777777777778,
              "#fb9f3a"
             ],
             [
              0.8888888888888888,
              "#fdca26"
             ],
             [
              1,
              "#f0f921"
             ]
            ],
            "type": "histogram2dcontour"
           }
          ],
          "mesh3d": [
           {
            "colorbar": {
             "outlinewidth": 0,
             "ticks": ""
            },
            "type": "mesh3d"
           }
          ],
          "parcoords": [
           {
            "line": {
             "colorbar": {
              "outlinewidth": 0,
              "ticks": ""
             }
            },
            "type": "parcoords"
           }
          ],
          "pie": [
           {
            "automargin": true,
            "type": "pie"
           }
          ],
          "scatter": [
           {
            "fillpattern": {
             "fillmode": "overlay",
             "size": 10,
             "solidity": 0.2
            },
            "type": "scatter"
           }
          ],
          "scatter3d": [
           {
            "line": {
             "colorbar": {
              "outlinewidth": 0,
              "ticks": ""
             }
            },
            "marker": {
             "colorbar": {
              "outlinewidth": 0,
              "ticks": ""
             }
            },
            "type": "scatter3d"
           }
          ],
          "scattercarpet": [
           {
            "marker": {
             "colorbar": {
              "outlinewidth": 0,
              "ticks": ""
             }
            },
            "type": "scattercarpet"
           }
          ],
          "scattergeo": [
           {
            "marker": {
             "colorbar": {
              "outlinewidth": 0,
              "ticks": ""
             }
            },
            "type": "scattergeo"
           }
          ],
          "scattergl": [
           {
            "marker": {
             "colorbar": {
              "outlinewidth": 0,
              "ticks": ""
             }
            },
            "type": "scattergl"
           }
          ],
          "scattermap": [
           {
            "marker": {
             "colorbar": {
              "outlinewidth": 0,
              "ticks": ""
             }
            },
            "type": "scattermap"
           }
          ],
          "scattermapbox": [
           {
            "marker": {
             "colorbar": {
              "outlinewidth": 0,
              "ticks": ""
             }
            },
            "type": "scattermapbox"
           }
          ],
          "scatterpolar": [
           {
            "marker": {
             "colorbar": {
              "outlinewidth": 0,
              "ticks": ""
             }
            },
            "type": "scatterpolar"
           }
          ],
          "scatterpolargl": [
           {
            "marker": {
             "colorbar": {
              "outlinewidth": 0,
              "ticks": ""
             }
            },
            "type": "scatterpolargl"
           }
          ],
          "scatterternary": [
           {
            "marker": {
             "colorbar": {
              "outlinewidth": 0,
              "ticks": ""
             }
            },
            "type": "scatterternary"
           }
          ],
          "surface": [
           {
            "colorbar": {
             "outlinewidth": 0,
             "ticks": ""
            },
            "colorscale": [
             [
              0,
              "#0d0887"
             ],
             [
              0.1111111111111111,
              "#46039f"
             ],
             [
              0.2222222222222222,
              "#7201a8"
             ],
             [
              0.3333333333333333,
              "#9c179e"
             ],
             [
              0.4444444444444444,
              "#bd3786"
             ],
             [
              0.5555555555555556,
              "#d8576b"
             ],
             [
              0.6666666666666666,
              "#ed7953"
             ],
             [
              0.7777777777777778,
              "#fb9f3a"
             ],
             [
              0.8888888888888888,
              "#fdca26"
             ],
             [
              1,
              "#f0f921"
             ]
            ],
            "type": "surface"
           }
          ],
          "table": [
           {
            "cells": {
             "fill": {
              "color": "#EBF0F8"
             },
             "line": {
              "color": "white"
             }
            },
            "header": {
             "fill": {
              "color": "#C8D4E3"
             },
             "line": {
              "color": "white"
             }
            },
            "type": "table"
           }
          ]
         },
         "layout": {
          "annotationdefaults": {
           "arrowcolor": "#2a3f5f",
           "arrowhead": 0,
           "arrowwidth": 1
          },
          "autotypenumbers": "strict",
          "coloraxis": {
           "colorbar": {
            "outlinewidth": 0,
            "ticks": ""
           }
          },
          "colorscale": {
           "diverging": [
            [
             0,
             "#8e0152"
            ],
            [
             0.1,
             "#c51b7d"
            ],
            [
             0.2,
             "#de77ae"
            ],
            [
             0.3,
             "#f1b6da"
            ],
            [
             0.4,
             "#fde0ef"
            ],
            [
             0.5,
             "#f7f7f7"
            ],
            [
             0.6,
             "#e6f5d0"
            ],
            [
             0.7,
             "#b8e186"
            ],
            [
             0.8,
             "#7fbc41"
            ],
            [
             0.9,
             "#4d9221"
            ],
            [
             1,
             "#276419"
            ]
           ],
           "sequential": [
            [
             0,
             "#0d0887"
            ],
            [
             0.1111111111111111,
             "#46039f"
            ],
            [
             0.2222222222222222,
             "#7201a8"
            ],
            [
             0.3333333333333333,
             "#9c179e"
            ],
            [
             0.4444444444444444,
             "#bd3786"
            ],
            [
             0.5555555555555556,
             "#d8576b"
            ],
            [
             0.6666666666666666,
             "#ed7953"
            ],
            [
             0.7777777777777778,
             "#fb9f3a"
            ],
            [
             0.8888888888888888,
             "#fdca26"
            ],
            [
             1,
             "#f0f921"
            ]
           ],
           "sequentialminus": [
            [
             0,
             "#0d0887"
            ],
            [
             0.1111111111111111,
             "#46039f"
            ],
            [
             0.2222222222222222,
             "#7201a8"
            ],
            [
             0.3333333333333333,
             "#9c179e"
            ],
            [
             0.4444444444444444,
             "#bd3786"
            ],
            [
             0.5555555555555556,
             "#d8576b"
            ],
            [
             0.6666666666666666,
             "#ed7953"
            ],
            [
             0.7777777777777778,
             "#fb9f3a"
            ],
            [
             0.8888888888888888,
             "#fdca26"
            ],
            [
             1,
             "#f0f921"
            ]
           ]
          },
          "colorway": [
           "#636efa",
           "#EF553B",
           "#00cc96",
           "#ab63fa",
           "#FFA15A",
           "#19d3f3",
           "#FF6692",
           "#B6E880",
           "#FF97FF",
           "#FECB52"
          ],
          "font": {
           "color": "#2a3f5f"
          },
          "geo": {
           "bgcolor": "white",
           "lakecolor": "white",
           "landcolor": "white",
           "showlakes": true,
           "showland": true,
           "subunitcolor": "#C8D4E3"
          },
          "hoverlabel": {
           "align": "left"
          },
          "hovermode": "closest",
          "mapbox": {
           "style": "light"
          },
          "paper_bgcolor": "white",
          "plot_bgcolor": "white",
          "polar": {
           "angularaxis": {
            "gridcolor": "#EBF0F8",
            "linecolor": "#EBF0F8",
            "ticks": ""
           },
           "bgcolor": "white",
           "radialaxis": {
            "gridcolor": "#EBF0F8",
            "linecolor": "#EBF0F8",
            "ticks": ""
           }
          },
          "scene": {
           "xaxis": {
            "backgroundcolor": "white",
            "gridcolor": "#DFE8F3",
            "gridwidth": 2,
            "linecolor": "#EBF0F8",
            "showbackground": true,
            "ticks": "",
            "zerolinecolor": "#EBF0F8"
           },
           "yaxis": {
            "backgroundcolor": "white",
            "gridcolor": "#DFE8F3",
            "gridwidth": 2,
            "linecolor": "#EBF0F8",
            "showbackground": true,
            "ticks": "",
            "zerolinecolor": "#EBF0F8"
           },
           "zaxis": {
            "backgroundcolor": "white",
            "gridcolor": "#DFE8F3",
            "gridwidth": 2,
            "linecolor": "#EBF0F8",
            "showbackground": true,
            "ticks": "",
            "zerolinecolor": "#EBF0F8"
           }
          },
          "shapedefaults": {
           "line": {
            "color": "#2a3f5f"
           }
          },
          "ternary": {
           "aaxis": {
            "gridcolor": "#DFE8F3",
            "linecolor": "#A2B1C6",
            "ticks": ""
           },
           "baxis": {
            "gridcolor": "#DFE8F3",
            "linecolor": "#A2B1C6",
            "ticks": ""
           },
           "bgcolor": "white",
           "caxis": {
            "gridcolor": "#DFE8F3",
            "linecolor": "#A2B1C6",
            "ticks": ""
           }
          },
          "title": {
           "x": 0.05
          },
          "xaxis": {
           "automargin": true,
           "gridcolor": "#EBF0F8",
           "linecolor": "#EBF0F8",
           "ticks": "",
           "title": {
            "standoff": 15
           },
           "zerolinecolor": "#EBF0F8",
           "zerolinewidth": 2
          },
          "yaxis": {
           "automargin": true,
           "gridcolor": "#EBF0F8",
           "linecolor": "#EBF0F8",
           "ticks": "",
           "title": {
            "standoff": 15
           },
           "zerolinecolor": "#EBF0F8",
           "zerolinewidth": 2
          }
         }
        },
        "title": {
         "text": "Helical path straightened along its axis"
        }
       }
      }
     },
     "metadata": {},
     "output_type": "display_data"
    }
   ],
   "source": [
    "x, y, z = points.T\n",
    "\n",
    "\n",
    "fig = go.Figure()\n",
    "\n",
    "rotated = make_second_helix(points_straight)\n",
    "x,y,z = rotated.T\n",
    "fig.add_trace(go.Scatter3d(x=x, y=y, z=z, ))\n",
    "\n",
    "\n",
    "x, y, z = points_straight.T\n",
    "fig.add_trace(go.Scatter3d(x=x, y=y, z=z, ))\n",
    "\n",
    "\n",
    "#x, y, z = make_line(axis_origin + axis_direction * 500, axis_direction, length=1000).T\n",
    "#fig.add_trace(go.Scatter3d(x=x, y=y, z=z, ))\n",
    "\n",
    "\n",
    "#fig.update_layout(scene=dict(xaxis_title='x', yaxis_title='y', zaxis_title='z'))\n",
    "fig.update_layout(\n",
    "    scene=dict(\n",
    "        xaxis=dict(range=None, autorange=True),\n",
    "        yaxis=dict(range=None, autorange=True),\n",
    "        zaxis=dict(range=None, autorange=True)\n",
    "    )\n",
    ")\n",
    "fig.update_layout(\n",
    "    scene=dict(\n",
    "        aspectmode='data'   # ensures equal scaling for x, y, z\n",
    "    )\n",
    ")\n",
    "\n",
    "fig.update_layout(\n",
    "    template=\"plotly_white\",          # clean background\n",
    "    scene=dict(\n",
    "        aspectmode=\"data\",            # equal axes\n",
    "        xaxis=dict(showbackground=False, showgrid=True, zeroline=False),\n",
    "        yaxis=dict(showbackground=False, showgrid=True, zeroline=False),\n",
    "        zaxis=dict(showbackground=False, showgrid=True, zeroline=False),\n",
    "    ),\n",
    "    margin=dict(l=0, r=0, t=40, b=0),\n",
    "    font=dict(size=14, family=\"Arial\"),\n",
    ")\n",
    "\n",
    "fig.update_layout(\n",
    "    dragmode=\"turntable\",        # intuitive rotation\n",
    "    scene_camera=dict(eye=dict(x=4, y=1.8, z=1.2)),  # pleasant starting view\n",
    ")\n",
    "\n",
    "fig.update_traces(marker=dict(size=3, color='blue'))\n",
    "fig.update_layout(showlegend=False, title_text=\"Helical path straightened along its axis\")\n",
    "\n",
    "\n",
    "fig.show()  # fully interactive in browser/notebook\n",
    "fig.write_html(\"plot.html\")  # shareable file"
   ]
  },
  {
   "cell_type": "markdown",
   "metadata": {},
   "source": [
    "## Identifying the axis of the helix"
   ]
  },
  {
   "cell_type": "code",
   "execution_count": 7,
   "metadata": {},
   "outputs": [
    {
     "data": {
      "text/plain": [
       "(14.942594097841914, 159.19514074432928)"
      ]
     },
     "execution_count": 7,
     "metadata": {},
     "output_type": "execute_result"
    }
   ],
   "source": [
    "BC = points[1] - points[0]\n",
    "CD = points[2] - points[1]\n",
    "\n",
    "angle_BCD = angle(BC, CD)\n",
    "angle_BCD, point_line_distance(points_straight[2], [0,0,0], [0,0,1])"
   ]
  },
  {
   "cell_type": "code",
   "execution_count": 8,
   "metadata": {},
   "outputs": [
    {
     "data": {
      "text/plain": [
       "(1005, 33.40647004908119, 31, 1035.600571521517)"
      ]
     },
     "execution_count": 8,
     "metadata": {},
     "output_type": "execute_result"
    }
   ],
   "source": [
    "## How many for desired length?\n",
    "\n",
    "length = 1005 # mm\n",
    "\n",
    "find_number_of_segments_for_length(points_straight, length)"
   ]
  },
  {
   "cell_type": "code",
   "execution_count": null,
   "metadata": {},
   "outputs": [],
   "source": []
  },
  {
   "cell_type": "code",
   "execution_count": 9,
   "metadata": {},
   "outputs": [
    {
     "data": {
      "text/plain": [
       "(array([[ -23.36627808, -138.23840821,    0.        ],\n",
       "        [ -67.5026411 , -122.87894002,   37.63068157],\n",
       "        [-104.13888399,  -93.86657177,   75.26136314],\n",
       "        [-129.20440716,  -54.42482545,  112.89204472],\n",
       "        [-139.91421684,   -8.93601605,  150.52272629],\n",
       "        [-135.07836166,   37.54566109,  188.15340786],\n",
       "        [-115.23414646,   79.8556945 ,  225.78408943],\n",
       "        [ -82.58643309,  113.29307801,  263.41477101],\n",
       "        [ -40.76266142,  134.14263263,  301.04545258],\n",
       "        [   5.59019018,  140.08779472,  338.67613415],\n",
       "        [  51.3219239 ,  130.46800597,  376.30681572],\n",
       "        [  91.35135341,  106.35210711,  413.93749729],\n",
       "        [ 121.23086709,   70.41958053,  451.56817887],\n",
       "        [ 137.6405957 ,   26.66283691,  489.19886044],\n",
       "        [ 138.75727819,  -20.05637567,  526.82954201],\n",
       "        [ 124.4568416 ,  -64.54715357,  564.46022358],\n",
       "        [  96.32818662, -101.86619124,  602.09090516],\n",
       "        [  57.49664712, -127.86702478,  639.72158673],\n",
       "        [  12.2767389 , -139.66073943,  677.3522683 ],\n",
       "        [ -34.30721989, -135.93695273,  714.98294987],\n",
       "        [ -77.07935346, -117.10940921,  752.61363144],\n",
       "        [-111.28731232,  -85.27000981,  790.24431302],\n",
       "        [-133.1303    ,  -43.9563838 ,  827.87499459],\n",
       "        [-140.18137395,    2.24117198,  865.50567616],\n",
       "        [-131.65709962,   48.18971441,  903.13635773],\n",
       "        [-108.5045967 ,   88.78396786,  940.76703931],\n",
       "        [ -73.29630609,  119.51356396,  978.39772088],\n",
       "        [ -29.94416965,  136.96418203, 1016.02840245],\n",
       "        [  16.73501986,  139.19690933, 1053.65908402],\n",
       "        [  61.55480568,  125.96367077, 1091.28976559],\n",
       "        [  99.53532671,   98.73479221, 1128.92044717]]),\n",
       " 140.19928835655992,\n",
       " 30,\n",
       " 1128.9204471663618,\n",
       " 37.63068157221194)"
      ]
     },
     "execution_count": 9,
     "metadata": {},
     "output_type": "execute_result"
    }
   ],
   "source": [
    "full_helix_calculation(60, 15, 12, segments = 30)"
   ]
  },
  {
   "cell_type": "code",
   "execution_count": 10,
   "metadata": {},
   "outputs": [
    {
     "data": {
      "application/vnd.plotly.v1+json": {
       "config": {
        "plotlyServerURL": "https://plot.ly"
       },
       "data": [
        {
         "type": "scatter3d",
         "x": {
          "bdata": "vj2ZB2XZMcDP9ZIxhRtJwCIDZ+UiTVLA6wTrWsKhVMDMHJ0DPBxTwAN3zzSUCkzAqmBCd8dAOcArKIHeQJUkQDvkRCcQ9UVAWLiRPahVUUBEi4llPHRUQF6AX6QqwVNAOh7XA8S7TkA6HtcDxLtOwF6AX6QqwVPARIuJZTx0VMBYuJE9qFVRwDvkRCcQ9UXAKyiB3kCVJMCqYEJ3x0A5QAN3zzSUCkxAzBydAzwcU0DrBOtawqFUQCIDZ+UiTVJAz/WSMYUbSUC+PZkHZdkxQA==",
          "dtype": "f8"
         },
         "y": {
          "bdata": "L9sMLZUqVMAw6XOwr2ZQwOlgDbe4JUPAj1xgXxCuDsCD44S2Olc/QFvwfWgbVU5Agd7eLGWqU0CvyfIsRn5UQG+faXehflFAxICTppR1RkCTfi3fn/EmQHaeERzdHTjA8U0oFuqZS8DxTSgW6plLQHaeERzdHThAk34t35/xJsDEgJOmlHVGwG+faXehflHAr8nyLEZ+VMCB3t4sZapTwFvwfWgbVU7Ag+OEtjpXP8CPXGBfEK4OQOlgDbe4JUNAMOlzsK9mUEAv2wwtlSpUQA==",
          "dtype": "f8"
         },
         "z": {
          "bdata": "AAAAAAAAAABv6JbwwxxIQG7olvDDHFhAUi5x9JIVYkBu6JbwwxxoQIqivOz0I25AVC5x9JIVckBjC4RyKxl1QHLolvDDHHhAgcWpblwge0CQorzs9CN+QM+/Z7XGk4BAVi5x9JIVgkBWLnH0khWCQM+/Z7XGk4BAkKK87PQjfkCBxaluXCB7QHLolvDDHHhAYwuEcisZdUBULnH0khVyQIqivOz0I25AbuiW8MMcaEBSLnH0khViQG7olvDDHFhAb+iW8MMcSEAAAAAAAAAAAA==",
          "dtype": "f8"
         }
        }
       ],
       "layout": {
        "dragmode": "turntable",
        "scene": {
         "aspectmode": "data",
         "camera": {
          "eye": {
           "x": 4,
           "y": 1.8,
           "z": 1.2
          }
         }
        },
        "template": {
         "data": {
          "bar": [
           {
            "error_x": {
             "color": "#2a3f5f"
            },
            "error_y": {
             "color": "#2a3f5f"
            },
            "marker": {
             "line": {
              "color": "#E5ECF6",
              "width": 0.5
             },
             "pattern": {
              "fillmode": "overlay",
              "size": 10,
              "solidity": 0.2
             }
            },
            "type": "bar"
           }
          ],
          "barpolar": [
           {
            "marker": {
             "line": {
              "color": "#E5ECF6",
              "width": 0.5
             },
             "pattern": {
              "fillmode": "overlay",
              "size": 10,
              "solidity": 0.2
             }
            },
            "type": "barpolar"
           }
          ],
          "carpet": [
           {
            "aaxis": {
             "endlinecolor": "#2a3f5f",
             "gridcolor": "white",
             "linecolor": "white",
             "minorgridcolor": "white",
             "startlinecolor": "#2a3f5f"
            },
            "baxis": {
             "endlinecolor": "#2a3f5f",
             "gridcolor": "white",
             "linecolor": "white",
             "minorgridcolor": "white",
             "startlinecolor": "#2a3f5f"
            },
            "type": "carpet"
           }
          ],
          "choropleth": [
           {
            "colorbar": {
             "outlinewidth": 0,
             "ticks": ""
            },
            "type": "choropleth"
           }
          ],
          "contour": [
           {
            "colorbar": {
             "outlinewidth": 0,
             "ticks": ""
            },
            "colorscale": [
             [
              0,
              "#0d0887"
             ],
             [
              0.1111111111111111,
              "#46039f"
             ],
             [
              0.2222222222222222,
              "#7201a8"
             ],
             [
              0.3333333333333333,
              "#9c179e"
             ],
             [
              0.4444444444444444,
              "#bd3786"
             ],
             [
              0.5555555555555556,
              "#d8576b"
             ],
             [
              0.6666666666666666,
              "#ed7953"
             ],
             [
              0.7777777777777778,
              "#fb9f3a"
             ],
             [
              0.8888888888888888,
              "#fdca26"
             ],
             [
              1,
              "#f0f921"
             ]
            ],
            "type": "contour"
           }
          ],
          "contourcarpet": [
           {
            "colorbar": {
             "outlinewidth": 0,
             "ticks": ""
            },
            "type": "contourcarpet"
           }
          ],
          "heatmap": [
           {
            "colorbar": {
             "outlinewidth": 0,
             "ticks": ""
            },
            "colorscale": [
             [
              0,
              "#0d0887"
             ],
             [
              0.1111111111111111,
              "#46039f"
             ],
             [
              0.2222222222222222,
              "#7201a8"
             ],
             [
              0.3333333333333333,
              "#9c179e"
             ],
             [
              0.4444444444444444,
              "#bd3786"
             ],
             [
              0.5555555555555556,
              "#d8576b"
             ],
             [
              0.6666666666666666,
              "#ed7953"
             ],
             [
              0.7777777777777778,
              "#fb9f3a"
             ],
             [
              0.8888888888888888,
              "#fdca26"
             ],
             [
              1,
              "#f0f921"
             ]
            ],
            "type": "heatmap"
           }
          ],
          "histogram": [
           {
            "marker": {
             "pattern": {
              "fillmode": "overlay",
              "size": 10,
              "solidity": 0.2
             }
            },
            "type": "histogram"
           }
          ],
          "histogram2d": [
           {
            "colorbar": {
             "outlinewidth": 0,
             "ticks": ""
            },
            "colorscale": [
             [
              0,
              "#0d0887"
             ],
             [
              0.1111111111111111,
              "#46039f"
             ],
             [
              0.2222222222222222,
              "#7201a8"
             ],
             [
              0.3333333333333333,
              "#9c179e"
             ],
             [
              0.4444444444444444,
              "#bd3786"
             ],
             [
              0.5555555555555556,
              "#d8576b"
             ],
             [
              0.6666666666666666,
              "#ed7953"
             ],
             [
              0.7777777777777778,
              "#fb9f3a"
             ],
             [
              0.8888888888888888,
              "#fdca26"
             ],
             [
              1,
              "#f0f921"
             ]
            ],
            "type": "histogram2d"
           }
          ],
          "histogram2dcontour": [
           {
            "colorbar": {
             "outlinewidth": 0,
             "ticks": ""
            },
            "colorscale": [
             [
              0,
              "#0d0887"
             ],
             [
              0.1111111111111111,
              "#46039f"
             ],
             [
              0.2222222222222222,
              "#7201a8"
             ],
             [
              0.3333333333333333,
              "#9c179e"
             ],
             [
              0.4444444444444444,
              "#bd3786"
             ],
             [
              0.5555555555555556,
              "#d8576b"
             ],
             [
              0.6666666666666666,
              "#ed7953"
             ],
             [
              0.7777777777777778,
              "#fb9f3a"
             ],
             [
              0.8888888888888888,
              "#fdca26"
             ],
             [
              1,
              "#f0f921"
             ]
            ],
            "type": "histogram2dcontour"
           }
          ],
          "mesh3d": [
           {
            "colorbar": {
             "outlinewidth": 0,
             "ticks": ""
            },
            "type": "mesh3d"
           }
          ],
          "parcoords": [
           {
            "line": {
             "colorbar": {
              "outlinewidth": 0,
              "ticks": ""
             }
            },
            "type": "parcoords"
           }
          ],
          "pie": [
           {
            "automargin": true,
            "type": "pie"
           }
          ],
          "scatter": [
           {
            "fillpattern": {
             "fillmode": "overlay",
             "size": 10,
             "solidity": 0.2
            },
            "type": "scatter"
           }
          ],
          "scatter3d": [
           {
            "line": {
             "colorbar": {
              "outlinewidth": 0,
              "ticks": ""
             }
            },
            "marker": {
             "colorbar": {
              "outlinewidth": 0,
              "ticks": ""
             }
            },
            "type": "scatter3d"
           }
          ],
          "scattercarpet": [
           {
            "marker": {
             "colorbar": {
              "outlinewidth": 0,
              "ticks": ""
             }
            },
            "type": "scattercarpet"
           }
          ],
          "scattergeo": [
           {
            "marker": {
             "colorbar": {
              "outlinewidth": 0,
              "ticks": ""
             }
            },
            "type": "scattergeo"
           }
          ],
          "scattergl": [
           {
            "marker": {
             "colorbar": {
              "outlinewidth": 0,
              "ticks": ""
             }
            },
            "type": "scattergl"
           }
          ],
          "scattermap": [
           {
            "marker": {
             "colorbar": {
              "outlinewidth": 0,
              "ticks": ""
             }
            },
            "type": "scattermap"
           }
          ],
          "scattermapbox": [
           {
            "marker": {
             "colorbar": {
              "outlinewidth": 0,
              "ticks": ""
             }
            },
            "type": "scattermapbox"
           }
          ],
          "scatterpolar": [
           {
            "marker": {
             "colorbar": {
              "outlinewidth": 0,
              "ticks": ""
             }
            },
            "type": "scatterpolar"
           }
          ],
          "scatterpolargl": [
           {
            "marker": {
             "colorbar": {
              "outlinewidth": 0,
              "ticks": ""
             }
            },
            "type": "scatterpolargl"
           }
          ],
          "scatterternary": [
           {
            "marker": {
             "colorbar": {
              "outlinewidth": 0,
              "ticks": ""
             }
            },
            "type": "scatterternary"
           }
          ],
          "surface": [
           {
            "colorbar": {
             "outlinewidth": 0,
             "ticks": ""
            },
            "colorscale": [
             [
              0,
              "#0d0887"
             ],
             [
              0.1111111111111111,
              "#46039f"
             ],
             [
              0.2222222222222222,
              "#7201a8"
             ],
             [
              0.3333333333333333,
              "#9c179e"
             ],
             [
              0.4444444444444444,
              "#bd3786"
             ],
             [
              0.5555555555555556,
              "#d8576b"
             ],
             [
              0.6666666666666666,
              "#ed7953"
             ],
             [
              0.7777777777777778,
              "#fb9f3a"
             ],
             [
              0.8888888888888888,
              "#fdca26"
             ],
             [
              1,
              "#f0f921"
             ]
            ],
            "type": "surface"
           }
          ],
          "table": [
           {
            "cells": {
             "fill": {
              "color": "#EBF0F8"
             },
             "line": {
              "color": "white"
             }
            },
            "header": {
             "fill": {
              "color": "#C8D4E3"
             },
             "line": {
              "color": "white"
             }
            },
            "type": "table"
           }
          ]
         },
         "layout": {
          "annotationdefaults": {
           "arrowcolor": "#2a3f5f",
           "arrowhead": 0,
           "arrowwidth": 1
          },
          "autotypenumbers": "strict",
          "coloraxis": {
           "colorbar": {
            "outlinewidth": 0,
            "ticks": ""
           }
          },
          "colorscale": {
           "diverging": [
            [
             0,
             "#8e0152"
            ],
            [
             0.1,
             "#c51b7d"
            ],
            [
             0.2,
             "#de77ae"
            ],
            [
             0.3,
             "#f1b6da"
            ],
            [
             0.4,
             "#fde0ef"
            ],
            [
             0.5,
             "#f7f7f7"
            ],
            [
             0.6,
             "#e6f5d0"
            ],
            [
             0.7,
             "#b8e186"
            ],
            [
             0.8,
             "#7fbc41"
            ],
            [
             0.9,
             "#4d9221"
            ],
            [
             1,
             "#276419"
            ]
           ],
           "sequential": [
            [
             0,
             "#0d0887"
            ],
            [
             0.1111111111111111,
             "#46039f"
            ],
            [
             0.2222222222222222,
             "#7201a8"
            ],
            [
             0.3333333333333333,
             "#9c179e"
            ],
            [
             0.4444444444444444,
             "#bd3786"
            ],
            [
             0.5555555555555556,
             "#d8576b"
            ],
            [
             0.6666666666666666,
             "#ed7953"
            ],
            [
             0.7777777777777778,
             "#fb9f3a"
            ],
            [
             0.8888888888888888,
             "#fdca26"
            ],
            [
             1,
             "#f0f921"
            ]
           ],
           "sequentialminus": [
            [
             0,
             "#0d0887"
            ],
            [
             0.1111111111111111,
             "#46039f"
            ],
            [
             0.2222222222222222,
             "#7201a8"
            ],
            [
             0.3333333333333333,
             "#9c179e"
            ],
            [
             0.4444444444444444,
             "#bd3786"
            ],
            [
             0.5555555555555556,
             "#d8576b"
            ],
            [
             0.6666666666666666,
             "#ed7953"
            ],
            [
             0.7777777777777778,
             "#fb9f3a"
            ],
            [
             0.8888888888888888,
             "#fdca26"
            ],
            [
             1,
             "#f0f921"
            ]
           ]
          },
          "colorway": [
           "#636efa",
           "#EF553B",
           "#00cc96",
           "#ab63fa",
           "#FFA15A",
           "#19d3f3",
           "#FF6692",
           "#B6E880",
           "#FF97FF",
           "#FECB52"
          ],
          "font": {
           "color": "#2a3f5f"
          },
          "geo": {
           "bgcolor": "white",
           "lakecolor": "white",
           "landcolor": "#E5ECF6",
           "showlakes": true,
           "showland": true,
           "subunitcolor": "white"
          },
          "hoverlabel": {
           "align": "left"
          },
          "hovermode": "closest",
          "mapbox": {
           "style": "light"
          },
          "paper_bgcolor": "white",
          "plot_bgcolor": "#E5ECF6",
          "polar": {
           "angularaxis": {
            "gridcolor": "white",
            "linecolor": "white",
            "ticks": ""
           },
           "bgcolor": "#E5ECF6",
           "radialaxis": {
            "gridcolor": "white",
            "linecolor": "white",
            "ticks": ""
           }
          },
          "scene": {
           "xaxis": {
            "backgroundcolor": "#E5ECF6",
            "gridcolor": "white",
            "gridwidth": 2,
            "linecolor": "white",
            "showbackground": true,
            "ticks": "",
            "zerolinecolor": "white"
           },
           "yaxis": {
            "backgroundcolor": "#E5ECF6",
            "gridcolor": "white",
            "gridwidth": 2,
            "linecolor": "white",
            "showbackground": true,
            "ticks": "",
            "zerolinecolor": "white"
           },
           "zaxis": {
            "backgroundcolor": "#E5ECF6",
            "gridcolor": "white",
            "gridwidth": 2,
            "linecolor": "white",
            "showbackground": true,
            "ticks": "",
            "zerolinecolor": "white"
           }
          },
          "shapedefaults": {
           "line": {
            "color": "#2a3f5f"
           }
          },
          "ternary": {
           "aaxis": {
            "gridcolor": "white",
            "linecolor": "white",
            "ticks": ""
           },
           "baxis": {
            "gridcolor": "white",
            "linecolor": "white",
            "ticks": ""
           },
           "bgcolor": "#E5ECF6",
           "caxis": {
            "gridcolor": "white",
            "linecolor": "white",
            "ticks": ""
           }
          },
          "title": {
           "x": 0.05
          },
          "xaxis": {
           "automargin": true,
           "gridcolor": "white",
           "linecolor": "white",
           "ticks": "",
           "title": {
            "standoff": 15
           },
           "zerolinecolor": "white",
           "zerolinewidth": 2
          },
          "yaxis": {
           "automargin": true,
           "gridcolor": "white",
           "linecolor": "white",
           "ticks": "",
           "title": {
            "standoff": 15
           },
           "zerolinecolor": "white",
           "zerolinewidth": 2
          }
         }
        }
       }
      }
     },
     "metadata": {},
     "output_type": "display_data"
    }
   ],
   "source": [
    "def plot_points(points, saveto = None):\n",
    "    fig = go.Figure()\n",
    "\n",
    "    x,y,z = points.T\n",
    "    fig.add_trace(go.Scatter3d(x=x, y=y, z=z,))\n",
    "\n",
    "    fig.update_layout(\n",
    "    scene=dict(\n",
    "        aspectmode='data'   # ensures equal scaling for x, y, z\n",
    "    )\n",
    "    )    \n",
    "\n",
    "    fig.update_layout(\n",
    "    dragmode=\"turntable\",        # intuitive rotation\n",
    "    scene_camera=dict(eye=dict(x=4, y=1.8, z=1.2)),  # pleasant starting view\n",
    "    )\n",
    "\n",
    "    fig.show()\n",
    "\n",
    "    if saveto is not None:\n",
    "        fig.write_html(saveto)\n",
    "\n",
    "\n",
    "def plot_helix(L, theta, tau, segments = 45, saveto = None, double_helix = True):\n",
    "\n",
    "    data = full_helix_calculation(L, theta, tau, segments = segments)\n",
    "    points = data[0]\n",
    "\n",
    "    if double_helix:\n",
    "        points2 = points.copy()\n",
    "        points2 = make_second_helix(points2)\n",
    "        points = np.vstack((points, points2[::-1]))\n",
    "\n",
    "    plot_points(points, saveto)\n",
    "\n",
    "\n",
    "plot_helix(60, 15, 20, segments = 12, saveto = \"helix.html\", double_helix = True)\n"
   ]
  },
  {
   "cell_type": "code",
   "execution_count": 20,
   "metadata": {},
   "outputs": [
    {
     "data": {
      "image/png": "[encoded data removed]",
      "text/plain": [
       "<Figure size 640x480 with 1 Axes>"
      ]
     },
     "metadata": {},
     "output_type": "display_data"
    }
   ],
   "source": [
    "def is_helix_allowed(L, theta, tau, pipe_diameter, eps_wide = 3, eps_loose = 3):\n",
    "    return is_helix_loose_enough(L, theta, tau, pipe_diameter, eps = eps_loose) * is_helix_wide_enough(L, theta, tau, pipe_diameter, eps = eps_wide)\n",
    "\n",
    "tautau = np.arange(0.1,180,0.1)\n",
    "L = 50\n",
    "theta = 20\n",
    "helix_possible = np.zeros(len(tautau), dtype = int)\n",
    "pipe_diameter = 2.5\n",
    "for i, tau in enumerate(tautau):\n",
    "    helix_possible[i] = is_helix_allowed(L, theta, tau, pipe_diameter)\n",
    "\n",
    "\n",
    "def find_allowed_twist_range(L, theta, pipe_diameter, accuracy = 0.1):\n",
    "    def toggle(truth):\n",
    "        if truth:\n",
    "            return False\n",
    "        else:\n",
    "            return True\n",
    "\n",
    "    taumin = 0\n",
    "    taumax = 0\n",
    "    eps = 1\n",
    "    direction = 1\n",
    "    want = True\n",
    "\n",
    "    while eps > accuracy:\n",
    "        if taumin > 180:\n",
    "            taumin = None\n",
    "            taumax = None\n",
    "            return taumin, taumax\n",
    "        if taumin < 0:\n",
    "            taumin = -1\n",
    "            break\n",
    "        taumin = taumin + direction * eps\n",
    "        possible = is_helix_allowed(L, theta, taumin, pipe_diameter)\n",
    "        if possible == want:\n",
    "            eps /= 2\n",
    "            direction *= -1\n",
    "            want = toggle(want)\n",
    "            if want:\n",
    "                taumax = taumin\n",
    "\n",
    "    direction = 1\n",
    "    eps = 0.5\n",
    "    want = False\n",
    "\n",
    "    while eps > accuracy:\n",
    "        taumax = taumax + direction * eps\n",
    "        possible = is_helix_allowed(L, theta, taumax, pipe_diameter)\n",
    "        if possible == want:\n",
    "            eps /= 2\n",
    "            direction *= -1\n",
    "            toggle(want)\n",
    "\n",
    "    return taumin, taumax\n",
    "\n",
    "taumin, taumax = find_allowed_twist_range(L, theta, pipe_diameter)\n",
    "\n",
    "\n",
    "\n",
    "\n",
    "plt.plot(tautau, helix_possible)\n",
    "plt.xlabel(\"Twist angle (degrees)\")\n",
    "plt.ylabel(\"Is helix allowed\")\n",
    "plt.title(f\"L = {L}, theta = {theta}, pipe diameter = {pipe_diameter}\")\n",
    "plt.vlines([taumin, taumax], 0,1, colors = 'red')\n",
    "plt.show()\n",
    "\n"
   ]
  }
 ],
 "metadata": {
  "kernelspec": {
   "display_name": "jonas",
   "language": "python",
   "name": "python3"
  },
  "language_info": {
   "codemirror_mode": {
    "name": "ipython",
    "version": 3
   },
   "file_extension": ".py",
   "mimetype": "text/x-python",
   "name": "python",
   "nbconvert_exporter": "python",
   "pygments_lexer": "ipython3",
   "version": "3.11.2"
  }
 },
 "nbformat": 4,
 "nbformat_minor": 2
}
