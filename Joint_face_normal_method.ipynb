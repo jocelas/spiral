{
 "cells": [
  {
   "cell_type": "code",
   "execution_count": null,
   "metadata": {},
   "outputs": [],
   "source": [
    "import numpy as np\n",
    "import matplotlib.pyplot as plt\n",
    "from helper_functions import *\n",
    "import plotly.graph_objects as go\n",
    "import warnings"
   ]
  },
  {
   "cell_type": "markdown",
   "metadata": {},
   "source": [
    "# Constructing a helix using the _Joint Face Normal Method_\n",
    "\n",
    "This notebook will implement the following algorithm:\n",
    "\n",
    "Given :\n",
    "- the length $L$ of an object,\n",
    "- the angles between the axis and the normal vectors of the joint faces $\\theta/2$, where the angles are assumed to be the same but in opposite directions and the two face normals and the axis are co-planar. Note that the total angle between the planes defined by the joint faces are $\\theta$, which is consistent with the reference,\n",
    "- the twist angle $\\tau$. This is the same angle described in the reference.\n",
    "\n",
    "All relevant properties of the matrix will be computed. Then later, practical methods to find the right parameters for the welding application."
   ]
  },
  {
   "cell_type": "markdown",
   "metadata": {},
   "source": [
    "## Homogeneous coordinates and rigid transformations\n",
    "\n",
    "In **homogeneous coordinates** in 3D, a space is described by a vector $(x, y, z, w)$. The corresponding cartesian coordinates are $(x/w, y/w, z/w)$. The point $(x, y, z, 0)$ signifies the point 'at infinity, so meaning a direction.\n",
    "\n",
    "**Rigid body transormations** are transormations, where all distances are preserved. They include rotations and translations, which is all that is important here. The transformation matrix is of the form:\n",
    "\n",
    "$$\n",
    "M = \\begin{pmatrix} r_{11}&r_{12}&r_{13}&t_x\\\\ r_{21}&r_{22}&r_{23}&t_y \\\\ r_{31}&r_{32}&r_{33}&t_z \\\\ 0 & 0& 0& 1\\end{pmatrix}\n",
    "$$\n",
    "\n",
    "Where the matrix $R \\in SO(3)$ is a rotation matrix and $\\vec t$ the translation vector."
   ]
  },
  {
   "cell_type": "markdown",
   "metadata": {},
   "source": [
    "## The algorithm\n",
    "\n",
    "To construct the helix, we will assume that the first point B lies at the origin. \n",
    "The first segment goes in the x direction, so C is at $(L,0,0,1)$.\n",
    "Further, the joint faces of the first segment are normal to the $xy$-plane, meaning\n",
    "$$N_B = (-\\cos(\\theta/2), \\sin(\\theta/2), 0, 1)\\quad N_C = (\\cos(\\theta/2), \\sin(\\theta/2), 0, 1)$$\n",
    "which are the normal vectors to the joint faces.\n",
    "\n",
    "Note that this means that the axis of the helix is not the $z$-axis, and it is in fact not even parallel to it unless the twist angle $\\tau$ is 0.\n",
    "\n",
    "To determine the third point A we do the following:\n",
    "\n",
    "1. translate C to the origin ($\\vec t = (-L, 0, 0), R = \\mathbf 1$)\n",
    "2. rotate by $-\\theta/2$ along the $z$-axis. Now $\\vec N_B$ is aligned with the $x$-axis.\n",
    "3. rotate by $\\tau$ around the $x$-axis.\n",
    "4. rotate by $-\\theta/2$ around the $z$-axis again. Now the point D would lie where C was before, and B has moved to A.\n",
    "\n",
    "Doing this transformation to B will give you A, and doing the inverse to C will give you D."
   ]
  },
  {
   "cell_type": "code",
   "execution_count": 2,
   "metadata": {},
   "outputs": [],
   "source": [
    "## Defining parameters\n",
    "\n",
    "L = 60 ## mm\n",
    "theta = 15 ## degrees\n",
    "tau = 6 ## degrees\n"
   ]
  },
  {
   "cell_type": "code",
   "execution_count": 3,
   "metadata": {},
   "outputs": [],
   "source": [
    "B = np.array([0,0,0,1])\n",
    "C = np.array([L,0,0,1])\n",
    "\n",
    "M, inverse_M = transformation_matrix(L, theta, tau)\n"
   ]
  },
  {
   "cell_type": "code",
   "execution_count": 4,
   "metadata": {},
   "outputs": [
    {
     "data": {
      "text/plain": [
       "array([-57.96114943,  15.48660757,   0.81862214,   1.        ])"
      ]
     },
     "execution_count": 4,
     "metadata": {},
     "output_type": "execute_result"
    }
   ],
   "source": [
    "A = np.array(M@B)\n",
    "D = inverse_M@C\n",
    "\n",
    "A"
   ]
  },
  {
   "cell_type": "code",
   "execution_count": 5,
   "metadata": {},
   "outputs": [],
   "source": [
    "Bcart = homogeneous_to_cartesian(B)\n",
    "x, y, z = Bcart.T\n",
    "\n",
    "points = generate_points_on_helix(45, Bcart, M)\n",
    "axis_origin, axis_direction = find_helix_axis(points[5], M)\n",
    "# axis_direction = find_axis_ev(M)\n",
    "points_straight = transform_points(points.copy(), axis_origin, axis_direction)"
   ]
  },
  {
   "cell_type": "code",
   "execution_count": 6,
   "metadata": {},
   "outputs": [
    {
     "data": {
      "application/vnd.plotly.v1+json": {
       "config": {
        "plotlyServerURL": "https://plot.ly"
       },
       "data": [
        {
         "marker": {
          "color": "blue",
          "size": 3
         },
         "type": "scatter3d",
         "x": {
          "bdata": "NnSF5vrWO0AagUydn1RUQObFA8xhDGBAZdX0ODqqZEBvgYxIlKZnQB+zccsdxWhAM8AK2jnvZ0BOKp+tyTVlQE2fvZrXz2BAFKodLX4sVkBy5oIhpvJBQLnrjGSTvDPA7/Mffe1zUsAUUSi16INewFcyzgmyFWTAPWGOJapTZ8Bu79jTXLpowFEj/E97LWjASSHj0CO4ZcCsRBHrAIxhwHBebFC8+lfAIeu8EATyRcDKPf+pNDMnQETUuX04i1BAQmj1UM7hXEAjljKccXhjQN+4S3Cf9mZAEJ7Xj9+kaECXXzOjPWFoQBDuQQsQMWZAjgCBDIxAYkA4s/xYkb5ZQDlNqfba50lAuZWZQMCMC8CV2TiVqTZNwI7K7u8pM1vAD7hHNb3SYsBEgI2NnI9mwG9Ix1OvhGjABMceW2qKaMBxtjndWaBmwNToOJ0q7WLAOMidHTl3W8DVHuarctJNwE39Kwmk3xLA",
          "dtype": "f8"
         },
         "y": {
          "bdata": "PAoFKJWHaEBvJvrdAphmQOSqIU/632JABHyayjpVW0Cd1f4hmIRNQG3WSZ0HUxBAV6En1g+ZScB/l72erJtZwEkfP5S6MmLAWfRMo/YnZsAJun0glF1owDh/4+7vpmjAvlxs/j/+ZsA0g/hBCIVjwCIMnyXrAl3AUiZB4qexUMCns6NEAHkowO4b1Y5qokVAyvELVQDXV0CbjmtIlH1hQLbXhfNLrmVAta2uFP8oaEC7F0/YlrtoQFaWsaGBWmdANQZnxJwhZECXWKIjA6ReQBg0EVDEmVJAw7tLZ+5eNEDflwLNYKJBwHIRKnT6B1bAvC/YENbAYMCcetagNytlwHBhpdjs6WfABNn97IDFaMCnD0y6n6xnwJS+6ttztWTAI5wp2OYbYMBG+ClxzXlUwCvvS6KEeDzAlUEgS141O0CASAsBZC9UQLsHUL2j+V9AFISSk/KeZEC7gDLOeKBnQHtJCt+pxGhA",
          "dtype": "f8"
         },
         "z": {
          "bdata": "AAAAAAAAAADI3n1XIVs2QLzefVchW0ZACWeeAVnEUECw3n1XIVtWQFZWXa3p8VtA/WaeAVnEYEDPIo4svY9jQKHefVchW2ZAdJptgoUmaUBIVl2t6fFrQB4STdhNvW5A+maeAVnEcEDmRBYXCypyQNQijiy9j3NAwQAGQm/1dECw3n1XIVt2QJ689WzTwHdAjJptgoUmeUB7eOWXN4x6QGhWXa3p8XtAVjTVwptXfUBCEk3YTb1+QBd44vZ/EYBADGeeAVnEgEACVloMMneBQPZEFhcLKoJA6zPSIeTcgkDgIo4svY+DQNQRSjeWQoRAyAAGQm/1hEC978FMSKiFQLLefVchW4ZAp805YvoNh0CcvPVs08CHQJKrsXesc4hAiJptgoUmiUB+iSmNXtmJQHR45Zc3jIpAbGehohA/i0BiVl2t6fGLQFpFGbjCpIxAUTTVwptXjUBHI5HNdAqOQD0STdhNvY5A",
          "dtype": "f8"
         }
        },
        {
         "marker": {
          "color": "blue",
          "size": 3
         },
         "type": "scatter3d",
         "x": {
          "bdata": "NnSF5vrWO8AagUydn1RUwObFA8xhDGDAZdX0ODqqZMBvgYxIlKZnwB+zccsdxWjAM8AK2jnvZ8BOKp+tyTVlwE2fvZrXz2DAFKodLX4sVsBy5oIhpvJBwLnrjGSTvDNA7/Mffe1zUkAUUSi16INeQFcyzgmyFWRAPWGOJapTZ0Bu79jTXLpoQFEj/E97LWhASSHj0CO4ZUCsRBHrAIxhQHBebFC8+ldAIeu8EATyRUDKPf+pNDMnwETUuX04i1DAQmj1UM7hXMAjljKccXhjwN+4S3Cf9mbAEJ7Xj9+kaMCXXzOjPWFowBDuQQsQMWbAjgCBDIxAYsA4s/xYkb5ZwDlNqfba50nAuZWZQMCMC0CV2TiVqTZNQI7K7u8pM1tAD7hHNb3SYkBEgI2NnI9mQG9Ix1OvhGhABMceW2qKaEBxtjndWaBmQNToOJ0q7WJAOMidHTl3W0DVHuarctJNQE39Kwmk3xJA",
          "dtype": "f8"
         },
         "y": {
          "bdata": "PAoFKJWHaMBvJvrdAphmwOSqIU/632LABHyayjpVW8Cd1f4hmIRNwG3WSZ0HUxDAV6En1g+ZSUB/l72erJtZQEkfP5S6MmJAWfRMo/YnZkAJun0glF1oQDh/4+7vpmhAvlxs/j/+ZkA0g/hBCIVjQCIMnyXrAl1AUiZB4qexUECns6NEAHkoQO4b1Y5qokXAyvELVQDXV8CbjmtIlH1hwLbXhfNLrmXAta2uFP8oaMC7F0/YlrtowFaWsaGBWmfANQZnxJwhZMCXWKIjA6RewBg0EVDEmVLAw7tLZ+5eNMDflwLNYKJBQHIRKnT6B1ZAvC/YENbAYECcetagNytlQHBhpdjs6WdABNn97IDFaECnD0y6n6xnQJS+6ttztWRAI5wp2OYbYEBG+ClxzXlUQCvvS6KEeDxAlUEgS141O8CASAsBZC9UwLsHUL2j+V/AFISSk/KeZMC7gDLOeKBnwHtJCt+pxGjA",
          "dtype": "f8"
         },
         "z": {
          "bdata": "AAAAAAAAAADI3n1XIVs2QLzefVchW0ZACWeeAVnEUECw3n1XIVtWQFZWXa3p8VtA/WaeAVnEYEDPIo4svY9jQKHefVchW2ZAdJptgoUmaUBIVl2t6fFrQB4STdhNvW5A+maeAVnEcEDmRBYXCypyQNQijiy9j3NAwQAGQm/1dECw3n1XIVt2QJ689WzTwHdAjJptgoUmeUB7eOWXN4x6QGhWXa3p8XtAVjTVwptXfUBCEk3YTb1+QBd44vZ/EYBADGeeAVnEgEACVloMMneBQPZEFhcLKoJA6zPSIeTcgkDgIo4svY+DQNQRSjeWQoRAyAAGQm/1hEC978FMSKiFQLLefVchW4ZAp805YvoNh0CcvPVs08CHQJKrsXesc4hAiJptgoUmiUB+iSmNXtmJQHR45Zc3jIpAbGehohA/i0BiVl2t6fGLQFpFGbjCpIxAUTTVwptXjUBHI5HNdAqOQD0STdhNvY5A",
          "dtype": "f8"
         }
        }
       ],
       "layout": {
        "dragmode": "turntable",
        "font": {
         "family": "Arial",
         "size": 14
        },
        "margin": {
         "b": 0,
         "l": 0,
         "r": 0,
         "t": 40
        },
        "scene": {
         "aspectmode": "data",
         "camera": {
          "eye": {
           "x": 4,
           "y": 1.8,
           "z": 1.2
          }
         },
         "xaxis": {
          "autorange": true,
          "showbackground": false,
          "showgrid": true,
          "zeroline": false
         },
         "yaxis": {
          "autorange": true,
          "showbackground": false,
          "showgrid": true,
          "zeroline": false
         },
         "zaxis": {
          "autorange": true,
          "showbackground": false,
          "showgrid": true,
          "zeroline": false
         }
        },
        "showlegend": false,
        "template": {
         "data": {
          "bar": [
           {
            "error_x": {
             "color": "#2a3f5f"
            },
            "error_y": {
             "color": "#2a3f5f"
            },
            "marker": {
             "line": {
              "color": "white",
              "width": 0.5
             },
             "pattern": {
              "fillmode": "overlay",
              "size": 10,
              "solidity": 0.2
             }
            },
            "type": "bar"
           }
          ],
          "barpolar": [
           {
            "marker": {
             "line": {
              "color": "white",
              "width": 0.5
             },
             "pattern": {
              "fillmode": "overlay",
              "size": 10,
              "solidity": 0.2
             }
            },
            "type": "barpolar"
           }
          ],
          "carpet": [
           {
            "aaxis": {
             "endlinecolor": "#2a3f5f",
             "gridcolor": "#C8D4E3",
             "linecolor": "#C8D4E3",
             "minorgridcolor": "#C8D4E3",
             "startlinecolor": "#2a3f5f"
            },
            "baxis": {
             "endlinecolor": "#2a3f5f",
             "gridcolor": "#C8D4E3",
             "linecolor": "#C8D4E3",
             "minorgridcolor": "#C8D4E3",
             "startlinecolor": "#2a3f5f"
            },
            "type": "carpet"
           }
          ],
          "choropleth": [
           {
            "colorbar": {
             "outlinewidth": 0,
             "ticks": ""
            },
            "type": "choropleth"
           }
          ],
          "contour": [
           {
            "colorbar": {
             "outlinewidth": 0,
             "ticks": ""
            },
            "colorscale": [
             [
              0,
              "#0d0887"
             ],
             [
              0.1111111111111111,
              "#46039f"
             ],
             [
              0.2222222222222222,
              "#7201a8"
             ],
             [
              0.3333333333333333,
              "#9c179e"
             ],
             [
              0.4444444444444444,
              "#bd3786"
             ],
             [
              0.5555555555555556,
              "#d8576b"
             ],
             [
              0.6666666666666666,
              "#ed7953"
             ],
             [
              0.7777777777777778,
              "#fb9f3a"
             ],
             [
              0.8888888888888888,
              "#fdca26"
             ],
             [
              1,
              "#f0f921"
             ]
            ],
            "type": "contour"
           }
          ],
          "contourcarpet": [
           {
            "colorbar": {
             "outlinewidth": 0,
             "ticks": ""
            },
            "type": "contourcarpet"
           }
          ],
          "heatmap": [
           {
            "colorbar": {
             "outlinewidth": 0,
             "ticks": ""
            },
            "colorscale": [
             [
              0,
              "#0d0887"
             ],
             [
              0.1111111111111111,
              "#46039f"
             ],
             [
              0.2222222222222222,
              "#7201a8"
             ],
             [
              0.3333333333333333,
              "#9c179e"
             ],
             [
              0.4444444444444444,
              "#bd3786"
             ],
             [
              0.5555555555555556,
              "#d8576b"
             ],
             [
              0.6666666666666666,
              "#ed7953"
             ],
             [
              0.7777777777777778,
              "#fb9f3a"
             ],
             [
              0.8888888888888888,
              "#fdca26"
             ],
             [
              1,
              "#f0f921"
             ]
            ],
            "type": "heatmap"
           }
          ],
          "histogram": [
           {
            "marker": {
             "pattern": {
              "fillmode": "overlay",
              "size": 10,
              "solidity": 0.2
             }
            },
            "type": "histogram"
           }
          ],
          "histogram2d": [
           {
            "colorbar": {
             "outlinewidth": 0,
             "ticks": ""
            },
            "colorscale": [
             [
              0,
              "#0d0887"
             ],
             [
              0.1111111111111111,
              "#46039f"
             ],
             [
              0.2222222222222222,
              "#7201a8"
             ],
             [
              0.3333333333333333,
              "#9c179e"
             ],
             [
              0.4444444444444444,
              "#bd3786"
             ],
             [
              0.5555555555555556,
              "#d8576b"
             ],
             [
              0.6666666666666666,
              "#ed7953"
             ],
             [
              0.7777777777777778,
              "#fb9f3a"
             ],
             [
              0.8888888888888888,
              "#fdca26"
             ],
             [
              1,
              "#f0f921"
             ]
            ],
            "type": "histogram2d"
           }
          ],
          "histogram2dcontour": [
           {
            "colorbar": {
             "outlinewidth": 0,
             "ticks": ""
            },
            "colorscale": [
             [
              0,
              "#0d0887"
             ],
             [
              0.1111111111111111,
              "#46039f"
             ],
             [
              0.2222222222222222,
              "#7201a8"
             ],
             [
              0.3333333333333333,
              "#9c179e"
             ],
             [
              0.4444444444444444,
              "#bd3786"
             ],
             [
              0.5555555555555556,
              "#d8576b"
             ],
             [
              0.6666666666666666,
              "#ed7953"
             ],
             [
              0.7777777777777778,
              "#fb9f3a"
             ],
             [
              0.8888888888888888,
              "#fdca26"
             ],
             [
              1,
              "#f0f921"
             ]
            ],
            "type": "histogram2dcontour"
           }
          ],
          "mesh3d": [
           {
            "colorbar": {
             "outlinewidth": 0,
             "ticks": ""
            },
            "type": "mesh3d"
           }
          ],
          "parcoords": [
           {
            "line": {
             "colorbar": {
              "outlinewidth": 0,
              "ticks": ""
             }
            },
            "type": "parcoords"
           }
          ],
          "pie": [
           {
            "automargin": true,
            "type": "pie"
           }
          ],
          "scatter": [
           {
            "fillpattern": {
             "fillmode": "overlay",
             "size": 10,
             "solidity": 0.2
            },
            "type": "scatter"
           }
          ],
          "scatter3d": [
           {
            "line": {
             "colorbar": {
              "outlinewidth": 0,
              "ticks": ""
             }
            },
            "marker": {
             "colorbar": {
              "outlinewidth": 0,
              "ticks": ""
             }
            },
            "type": "scatter3d"
           }
          ],
          "scattercarpet": [
           {
            "marker": {
             "colorbar": {
              "outlinewidth": 0,
              "ticks": ""
             }
            },
            "type": "scattercarpet"
           }
          ],
          "scattergeo": [
           {
            "marker": {
             "colorbar": {
              "outlinewidth": 0,
              "ticks": ""
             }
            },
            "type": "scattergeo"
           }
          ],
          "scattergl": [
           {
            "marker": {
             "colorbar": {
              "outlinewidth": 0,
              "ticks": ""
             }
            },
            "type": "scattergl"
           }
          ],
          "scattermap": [
           {
            "marker": {
             "colorbar": {
              "outlinewidth": 0,
              "ticks": ""
             }
            },
            "type": "scattermap"
           }
          ],
          "scattermapbox": [
           {
            "marker": {
             "colorbar": {
              "outlinewidth": 0,
              "ticks": ""
             }
            },
            "type": "scattermapbox"
           }
          ],
          "scatterpolar": [
           {
            "marker": {
             "colorbar": {
              "outlinewidth": 0,
              "ticks": ""
             }
            },
            "type": "scatterpolar"
           }
          ],
          "scatterpolargl": [
           {
            "marker": {
             "colorbar": {
              "outlinewidth": 0,
              "ticks": ""
             }
            },
            "type": "scatterpolargl"
           }
          ],
          "scatterternary": [
           {
            "marker": {
             "colorbar": {
              "outlinewidth": 0,
              "ticks": ""
             }
            },
            "type": "scatterternary"
           }
          ],
          "surface": [
           {
            "colorbar": {
             "outlinewidth": 0,
             "ticks": ""
            },
            "colorscale": [
             [
              0,
              "#0d0887"
             ],
             [
              0.1111111111111111,
              "#46039f"
             ],
             [
              0.2222222222222222,
              "#7201a8"
             ],
             [
              0.3333333333333333,
              "#9c179e"
             ],
             [
              0.4444444444444444,
              "#bd3786"
             ],
             [
              0.5555555555555556,
              "#d8576b"
             ],
             [
              0.6666666666666666,
              "#ed7953"
             ],
             [
              0.7777777777777778,
              "#fb9f3a"
             ],
             [
              0.8888888888888888,
              "#fdca26"
             ],
             [
              1,
              "#f0f921"
             ]
            ],
            "type": "surface"
           }
          ],
          "table": [
           {
            "cells": {
             "fill": {
              "color": "#EBF0F8"
             },
             "line": {
              "color": "white"
             }
            },
            "header": {
             "fill": {
              "color": "#C8D4E3"
             },
             "line": {
              "color": "white"
             }
            },
            "type": "table"
           }
          ]
         },
         "layout": {
          "annotationdefaults": {
           "arrowcolor": "#2a3f5f",
           "arrowhead": 0,
           "arrowwidth": 1
          },
          "autotypenumbers": "strict",
          "coloraxis": {
           "colorbar": {
            "outlinewidth": 0,
            "ticks": ""
           }
          },
          "colorscale": {
           "diverging": [
            [
             0,
             "#8e0152"
            ],
            [
             0.1,
             "#c51b7d"
            ],
            [
             0.2,
             "#de77ae"
            ],
            [
             0.3,
             "#f1b6da"
            ],
            [
             0.4,
             "#fde0ef"
            ],
            [
             0.5,
             "#f7f7f7"
            ],
            [
             0.6,
             "#e6f5d0"
            ],
            [
             0.7,
             "#b8e186"
            ],
            [
             0.8,
             "#7fbc41"
            ],
            [
             0.9,
             "#4d9221"
            ],
            [
             1,
             "#276419"
            ]
           ],
           "sequential": [
            [
             0,
             "#0d0887"
            ],
            [
             0.1111111111111111,
             "#46039f"
            ],
            [
             0.2222222222222222,
             "#7201a8"
            ],
            [
             0.3333333333333333,
             "#9c179e"
            ],
            [
             0.4444444444444444,
             "#bd3786"
            ],
            [
             0.5555555555555556,
             "#d8576b"
            ],
            [
             0.6666666666666666,
             "#ed7953"
            ],
            [
             0.7777777777777778,
             "#fb9f3a"
            ],
            [
             0.8888888888888888,
             "#fdca26"
            ],
            [
             1,
             "#f0f921"
            ]
           ],
           "sequentialminus": [
            [
             0,
             "#0d0887"
            ],
            [
             0.1111111111111111,
             "#46039f"
            ],
            [
             0.2222222222222222,
             "#7201a8"
            ],
            [
             0.3333333333333333,
             "#9c179e"
            ],
            [
             0.4444444444444444,
             "#bd3786"
            ],
            [
             0.5555555555555556,
             "#d8576b"
            ],
            [
             0.6666666666666666,
             "#ed7953"
            ],
            [
             0.7777777777777778,
             "#fb9f3a"
            ],
            [
             0.8888888888888888,
             "#fdca26"
            ],
            [
             1,
             "#f0f921"
            ]
           ]
          },
          "colorway": [
           "#636efa",
           "#EF553B",
           "#00cc96",
           "#ab63fa",
           "#FFA15A",
           "#19d3f3",
           "#FF6692",
           "#B6E880",
           "#FF97FF",
           "#FECB52"
          ],
          "font": {
           "color": "#2a3f5f"
          },
          "geo": {
           "bgcolor": "white",
           "lakecolor": "white",
           "landcolor": "white",
           "showlakes": true,
           "showland": true,
           "subunitcolor": "#C8D4E3"
          },
          "hoverlabel": {
           "align": "left"
          },
          "hovermode": "closest",
          "mapbox": {
           "style": "light"
          },
          "paper_bgcolor": "white",
          "plot_bgcolor": "white",
          "polar": {
           "angularaxis": {
            "gridcolor": "#EBF0F8",
            "linecolor": "#EBF0F8",
            "ticks": ""
           },
           "bgcolor": "white",
           "radialaxis": {
            "gridcolor": "#EBF0F8",
            "linecolor": "#EBF0F8",
            "ticks": ""
           }
          },
          "scene": {
           "xaxis": {
            "backgroundcolor": "white",
            "gridcolor": "#DFE8F3",
            "gridwidth": 2,
            "linecolor": "#EBF0F8",
            "showbackground": true,
            "ticks": "",
            "zerolinecolor": "#EBF0F8"
           },
           "yaxis": {
            "backgroundcolor": "white",
            "gridcolor": "#DFE8F3",
            "gridwidth": 2,
            "linecolor": "#EBF0F8",
            "showbackground": true,
            "ticks": "",
            "zerolinecolor": "#EBF0F8"
           },
           "zaxis": {
            "backgroundcolor": "white",
            "gridcolor": "#DFE8F3",
            "gridwidth": 2,
            "linecolor": "#EBF0F8",
            "showbackground": true,
            "ticks": "",
            "zerolinecolor": "#EBF0F8"
           }
          },
          "shapedefaults": {
           "line": {
            "color": "#2a3f5f"
           }
          },
          "ternary": {
           "aaxis": {
            "gridcolor": "#DFE8F3",
            "linecolor": "#A2B1C6",
            "ticks": ""
           },
           "baxis": {
            "gridcolor": "#DFE8F3",
            "linecolor": "#A2B1C6",
            "ticks": ""
           },
           "bgcolor": "white",
           "caxis": {
            "gridcolor": "#DFE8F3",
            "linecolor": "#A2B1C6",
            "ticks": ""
           }
          },
          "title": {
           "x": 0.05
          },
          "xaxis": {
           "automargin": true,
           "gridcolor": "#EBF0F8",
           "linecolor": "#EBF0F8",
           "ticks": "",
           "title": {
            "standoff": 15
           },
           "zerolinecolor": "#EBF0F8",
           "zerolinewidth": 2
          },
          "yaxis": {
           "automargin": true,
           "gridcolor": "#EBF0F8",
           "linecolor": "#EBF0F8",
           "ticks": "",
           "title": {
            "standoff": 15
           },
           "zerolinecolor": "#EBF0F8",
           "zerolinewidth": 2
          }
         }
        },
        "title": {
         "text": "Helical path straightened along its axis"
        }
       }
      }
     },
     "metadata": {},
     "output_type": "display_data"
    }
   ],
   "source": [
    "x, y, z = points.T\n",
    "\n",
    "\n",
    "fig = go.Figure()\n",
    "\n",
    "rotated = turn_spiral_about_z_axis(points_straight)\n",
    "x,y,z = rotated.T\n",
    "fig.add_trace(go.Scatter3d(x=x, y=y, z=z, ))\n",
    "\n",
    "\n",
    "x, y, z = points_straight.T\n",
    "fig.add_trace(go.Scatter3d(x=x, y=y, z=z, ))\n",
    "\n",
    "\n",
    "#x, y, z = make_line(axis_origin + axis_direction * 500, axis_direction, length=1000).T\n",
    "#fig.add_trace(go.Scatter3d(x=x, y=y, z=z, ))\n",
    "\n",
    "\n",
    "#fig.update_layout(scene=dict(xaxis_title='x', yaxis_title='y', zaxis_title='z'))\n",
    "fig.update_layout(\n",
    "    scene=dict(\n",
    "        xaxis=dict(range=None, autorange=True),\n",
    "        yaxis=dict(range=None, autorange=True),\n",
    "        zaxis=dict(range=None, autorange=True)\n",
    "    )\n",
    ")\n",
    "fig.update_layout(\n",
    "    scene=dict(\n",
    "        aspectmode='data'   # ensures equal scaling for x, y, z\n",
    "    )\n",
    ")\n",
    "\n",
    "fig.update_layout(\n",
    "    template=\"plotly_white\",          # clean background\n",
    "    scene=dict(\n",
    "        aspectmode=\"data\",            # equal axes\n",
    "        xaxis=dict(showbackground=False, showgrid=True, zeroline=False),\n",
    "        yaxis=dict(showbackground=False, showgrid=True, zeroline=False),\n",
    "        zaxis=dict(showbackground=False, showgrid=True, zeroline=False),\n",
    "    ),\n",
    "    margin=dict(l=0, r=0, t=40, b=0),\n",
    "    font=dict(size=14, family=\"Arial\"),\n",
    ")\n",
    "\n",
    "fig.update_layout(\n",
    "    dragmode=\"turntable\",        # intuitive rotation\n",
    "    scene_camera=dict(eye=dict(x=4, y=1.8, z=1.2)),  # pleasant starting view\n",
    ")\n",
    "\n",
    "fig.update_traces(marker=dict(size=3, color='blue'))\n",
    "fig.update_layout(showlegend=False, title_text=\"Helical path straightened along its axis\")\n",
    "\n",
    "\n",
    "fig.show()  # fully interactive in browser/notebook\n",
    "fig.write_html(\"plot.html\")  # shareable file"
   ]
  },
  {
   "cell_type": "markdown",
   "metadata": {},
   "source": [
    "## Identifying the axis of the helix"
   ]
  },
  {
   "cell_type": "code",
   "execution_count": 7,
   "metadata": {},
   "outputs": [
    {
     "data": {
      "text/plain": [
       "(14.979325043640568, 198.20190735619482)"
      ]
     },
     "execution_count": 7,
     "metadata": {},
     "output_type": "execute_result"
    }
   ],
   "source": [
    "BC = points[1] - points[0]\n",
    "CD = points[2] - points[1]\n",
    "\n",
    "angle_BCD = angle(BC, CD)\n",
    "angle_BCD, point_line_distance(points_straight[2], [0,0,0], [0,0,1])"
   ]
  },
  {
   "cell_type": "code",
   "execution_count": 8,
   "metadata": {},
   "outputs": [
    {
     "data": {
      "text/plain": [
       "(1005, 22.355977504949607, 45, 1006.0189877227323)"
      ]
     },
     "execution_count": 8,
     "metadata": {},
     "output_type": "execute_result"
    }
   ],
   "source": [
    "## How many for desired length?\n",
    "\n",
    "length = 1005 # mm\n",
    "\n",
    "find_number_of_segments_for_length(points_straight, length)"
   ]
  },
  {
   "cell_type": "code",
   "execution_count": 9,
   "metadata": {},
   "outputs": [],
   "source": [
    "def full_helix_calculation(L, theta, tau, length = 1005, segments = 25, verbose = False, parameters = False):\n",
    "\n",
    "    if segments is None and length is None:\n",
    "        warnings.warn(\"Both segments and length are None. Defaulting to 25 segments.\")\n",
    "        segments = 25\n",
    "    elif segments is None:\n",
    "        warnings.warn(\"Number of segments not specified. Calculating from given length\")\n",
    "        segments = 25\n",
    "\n",
    "    M, inverse_M = transformation_matrix(L, theta, tau)\n",
    "    points = generate_points_on_helix(segments, np.array([L,0,0]), M)\n",
    "    axis_origin, axis_direction = find_helix_axis(points[0], M)\n",
    "    points_straight = transform_points(points.copy(), axis_origin, axis_direction)\n",
    "\n",
    "    if length is not None:\n",
    "        _, deltaz, number, actual_length = find_number_of_segments_for_length(points_straight, length)\n",
    "\n",
    "    # calculate helix with the number of segments\n",
    "    if segments is None:\n",
    "        generate_points_on_helix(segments, np.array([L,0,0]), M)\n",
    "        points_straight = transform_points(points.copy(), axis_origin, axis_direction)\n",
    "\n",
    "    helix_radius = point_line_distance(points_straight[0], np.array([0,0,0]), np.array([0,0,1]))\n",
    "\n",
    "    if parameters:\n",
    "        if verbose:\n",
    "            print(f\"Helix radius: r = {helix_radius:.2f} mm\")\n",
    "            print(f\"Delta z between points: dz = {deltaz:.2f} mm\")\n",
    "            print(f\"angle between joints: theta = {theta} degrees\")\n",
    "            print(f\"Helix parametrization:\\n x = r * cos(n * theta)\\n y = r * sin(n * theta)\\n z = n * dz\")\n",
    "            print(f\"n goes from 0 to N_segments - 1\")\n",
    "\n",
    "        return helix_radius, theta, deltaz\n",
    "    \n",
    "    if number is not None:\n",
    "        return points_straight, helix_radius, actual_length, number\n",
    "\n",
    "    return points_straight, helix_radius, actual_length\n"
   ]
  },
  {
   "cell_type": "code",
   "execution_count": 10,
   "metadata": {},
   "outputs": [
    {
     "data": {
      "text/plain": [
       "(array([[  23.36627808, -138.23840821,    0.        ],\n",
       "        [ -23.36627808, -138.23840821,   37.63068157],\n",
       "        [ -67.5026411 , -122.87894002,   75.26136314],\n",
       "        [-104.13888399,  -93.86657177,  112.89204472],\n",
       "        [-129.20440716,  -54.42482545,  150.52272629],\n",
       "        [-139.91421684,   -8.93601605,  188.15340786],\n",
       "        [-135.07836166,   37.54566109,  225.78408943],\n",
       "        [-115.23414646,   79.8556945 ,  263.41477101],\n",
       "        [ -82.58643309,  113.29307801,  301.04545258],\n",
       "        [ -40.76266142,  134.14263263,  338.67613415],\n",
       "        [   5.59019018,  140.08779472,  376.30681572],\n",
       "        [  51.3219239 ,  130.46800597,  413.93749729],\n",
       "        [  91.35135341,  106.35210711,  451.56817887],\n",
       "        [ 121.23086709,   70.41958053,  489.19886044],\n",
       "        [ 137.6405957 ,   26.66283691,  526.82954201],\n",
       "        [ 138.75727819,  -20.05637567,  564.46022358],\n",
       "        [ 124.4568416 ,  -64.54715357,  602.09090516],\n",
       "        [  96.32818662, -101.86619124,  639.72158673],\n",
       "        [  57.49664712, -127.86702478,  677.3522683 ],\n",
       "        [  12.2767389 , -139.66073943,  714.98294987],\n",
       "        [ -34.30721989, -135.93695273,  752.61363144],\n",
       "        [ -77.07935346, -117.10940921,  790.24431302],\n",
       "        [-111.28731232,  -85.27000981,  827.87499459],\n",
       "        [-133.1303    ,  -43.9563838 ,  865.50567616],\n",
       "        [-140.18137395,    2.24117198,  903.13635773]]),\n",
       " 140.19928835655975,\n",
       " 1016.0284024497236,\n",
       " 27)"
      ]
     },
     "execution_count": 10,
     "metadata": {},
     "output_type": "execute_result"
    }
   ],
   "source": [
    "full_helix_calculation(60, 15, 12, length=1005, parameters=False, verbose=True)"
   ]
  },
  {
   "cell_type": "code",
   "execution_count": 11,
   "metadata": {},
   "outputs": [
    {
     "data": {
      "application/vnd.plotly.v1+json": {
       "config": {
        "plotlyServerURL": "https://plot.ly"
       },
       "data": [
        {
         "type": "scatter3d",
         "x": {
          "bdata": "vD2ZB2XZMUDYPZkHZdkxwNH1kjGFG0nAHQNn5SJNUsDgBOtawqFUwLkcnQM8HFPAznbPNJQKTMAwYEJ3x0A5wEspgd5AlSRAkOREJxD1RUCIuJE9qFVRQHWLiWU8dFRAdYuJZTx0VMCIuJE9qFVRwJDkRCcQ9UXASymB3kCVJMAwYEJ3x0A5QM52zzSUCkxAuRydAzwcU0DgBOtawqFUQB0DZ+UiTVJA0fWSMYUbSUDYPZkHZdkxQLw9mQdl2THA",
          "dtype": "f8"
         },
         "y": {
          "bdata": "I9sMLZUqVMAk2wwtlSpUwCjpc7CvZlDA5GANt7glQ8DpXGBfEK4OwF/jhLY6Vz9AOvB9aBtVTkBo3t4sZapTQI7J8ixGflRAR59pd6F+UUBjgJOmlHVGQNt8Ld+f8SZA23wt35/xJsBjgJOmlHVGwEefaXehflHAjsnyLEZ+VMBo3t4sZapTwDrwfWgbVU7AX+OEtjpXP8DpXGBfEK4OQORgDbe4JUNAKOlzsK9mUEAk2wwtlSpUQCPbDC2VKlRA",
          "dtype": "f8"
         },
         "z": {
          "bdata": "AAAAAAAAAAB46JbwwxxIQHnolvDDHFhAWi5x9JIVYkB46JbwwxxoQJiivOz0I25AWi5x9JIVckBpC4RyKxl1QHbolvDDHHhAg8Wpblwge0CSorzs9CN+QNC/Z7XGk4BA0L9ntcaTgECSorzs9CN+QIPFqW5cIHtAduiW8MMceEBpC4RyKxl1QFoucfSSFXJAmKK87PQjbkB46JbwwxxoQFoucfSSFWJAeeiW8MMcWEB46JbwwxxIQAAAAAAAAAAA",
          "dtype": "f8"
         }
        }
       ],
       "layout": {
        "dragmode": "turntable",
        "scene": {
         "aspectmode": "data",
         "camera": {
          "eye": {
           "x": 4,
           "y": 1.8,
           "z": 1.2
          }
         }
        },
        "template": {
         "data": {
          "bar": [
           {
            "error_x": {
             "color": "#2a3f5f"
            },
            "error_y": {
             "color": "#2a3f5f"
            },
            "marker": {
             "line": {
              "color": "#E5ECF6",
              "width": 0.5
             },
             "pattern": {
              "fillmode": "overlay",
              "size": 10,
              "solidity": 0.2
             }
            },
            "type": "bar"
           }
          ],
          "barpolar": [
           {
            "marker": {
             "line": {
              "color": "#E5ECF6",
              "width": 0.5
             },
             "pattern": {
              "fillmode": "overlay",
              "size": 10,
              "solidity": 0.2
             }
            },
            "type": "barpolar"
           }
          ],
          "carpet": [
           {
            "aaxis": {
             "endlinecolor": "#2a3f5f",
             "gridcolor": "white",
             "linecolor": "white",
             "minorgridcolor": "white",
             "startlinecolor": "#2a3f5f"
            },
            "baxis": {
             "endlinecolor": "#2a3f5f",
             "gridcolor": "white",
             "linecolor": "white",
             "minorgridcolor": "white",
             "startlinecolor": "#2a3f5f"
            },
            "type": "carpet"
           }
          ],
          "choropleth": [
           {
            "colorbar": {
             "outlinewidth": 0,
             "ticks": ""
            },
            "type": "choropleth"
           }
          ],
          "contour": [
           {
            "colorbar": {
             "outlinewidth": 0,
             "ticks": ""
            },
            "colorscale": [
             [
              0,
              "#0d0887"
             ],
             [
              0.1111111111111111,
              "#46039f"
             ],
             [
              0.2222222222222222,
              "#7201a8"
             ],
             [
              0.3333333333333333,
              "#9c179e"
             ],
             [
              0.4444444444444444,
              "#bd3786"
             ],
             [
              0.5555555555555556,
              "#d8576b"
             ],
             [
              0.6666666666666666,
              "#ed7953"
             ],
             [
              0.7777777777777778,
              "#fb9f3a"
             ],
             [
              0.8888888888888888,
              "#fdca26"
             ],
             [
              1,
              "#f0f921"
             ]
            ],
            "type": "contour"
           }
          ],
          "contourcarpet": [
           {
            "colorbar": {
             "outlinewidth": 0,
             "ticks": ""
            },
            "type": "contourcarpet"
           }
          ],
          "heatmap": [
           {
            "colorbar": {
             "outlinewidth": 0,
             "ticks": ""
            },
            "colorscale": [
             [
              0,
              "#0d0887"
             ],
             [
              0.1111111111111111,
              "#46039f"
             ],
             [
              0.2222222222222222,
              "#7201a8"
             ],
             [
              0.3333333333333333,
              "#9c179e"
             ],
             [
              0.4444444444444444,
              "#bd3786"
             ],
             [
              0.5555555555555556,
              "#d8576b"
             ],
             [
              0.6666666666666666,
              "#ed7953"
             ],
             [
              0.7777777777777778,
              "#fb9f3a"
             ],
             [
              0.8888888888888888,
              "#fdca26"
             ],
             [
              1,
              "#f0f921"
             ]
            ],
            "type": "heatmap"
           }
          ],
          "histogram": [
           {
            "marker": {
             "pattern": {
              "fillmode": "overlay",
              "size": 10,
              "solidity": 0.2
             }
            },
            "type": "histogram"
           }
          ],
          "histogram2d": [
           {
            "colorbar": {
             "outlinewidth": 0,
             "ticks": ""
            },
            "colorscale": [
             [
              0,
              "#0d0887"
             ],
             [
              0.1111111111111111,
              "#46039f"
             ],
             [
              0.2222222222222222,
              "#7201a8"
             ],
             [
              0.3333333333333333,
              "#9c179e"
             ],
             [
              0.4444444444444444,
              "#bd3786"
             ],
             [
              0.5555555555555556,
              "#d8576b"
             ],
             [
              0.6666666666666666,
              "#ed7953"
             ],
             [
              0.7777777777777778,
              "#fb9f3a"
             ],
             [
              0.8888888888888888,
              "#fdca26"
             ],
             [
              1,
              "#f0f921"
             ]
            ],
            "type": "histogram2d"
           }
          ],
          "histogram2dcontour": [
           {
            "colorbar": {
             "outlinewidth": 0,
             "ticks": ""
            },
            "colorscale": [
             [
              0,
              "#0d0887"
             ],
             [
              0.1111111111111111,
              "#46039f"
             ],
             [
              0.2222222222222222,
              "#7201a8"
             ],
             [
              0.3333333333333333,
              "#9c179e"
             ],
             [
              0.4444444444444444,
              "#bd3786"
             ],
             [
              0.5555555555555556,
              "#d8576b"
             ],
             [
              0.6666666666666666,
              "#ed7953"
             ],
             [
              0.7777777777777778,
              "#fb9f3a"
             ],
             [
              0.8888888888888888,
              "#fdca26"
             ],
             [
              1,
              "#f0f921"
             ]
            ],
            "type": "histogram2dcontour"
           }
          ],
          "mesh3d": [
           {
            "colorbar": {
             "outlinewidth": 0,
             "ticks": ""
            },
            "type": "mesh3d"
           }
          ],
          "parcoords": [
           {
            "line": {
             "colorbar": {
              "outlinewidth": 0,
              "ticks": ""
             }
            },
            "type": "parcoords"
           }
          ],
          "pie": [
           {
            "automargin": true,
            "type": "pie"
           }
          ],
          "scatter": [
           {
            "fillpattern": {
             "fillmode": "overlay",
             "size": 10,
             "solidity": 0.2
            },
            "type": "scatter"
           }
          ],
          "scatter3d": [
           {
            "line": {
             "colorbar": {
              "outlinewidth": 0,
              "ticks": ""
             }
            },
            "marker": {
             "colorbar": {
              "outlinewidth": 0,
              "ticks": ""
             }
            },
            "type": "scatter3d"
           }
          ],
          "scattercarpet": [
           {
            "marker": {
             "colorbar": {
              "outlinewidth": 0,
              "ticks": ""
             }
            },
            "type": "scattercarpet"
           }
          ],
          "scattergeo": [
           {
            "marker": {
             "colorbar": {
              "outlinewidth": 0,
              "ticks": ""
             }
            },
            "type": "scattergeo"
           }
          ],
          "scattergl": [
           {
            "marker": {
             "colorbar": {
              "outlinewidth": 0,
              "ticks": ""
             }
            },
            "type": "scattergl"
           }
          ],
          "scattermap": [
           {
            "marker": {
             "colorbar": {
              "outlinewidth": 0,
              "ticks": ""
             }
            },
            "type": "scattermap"
           }
          ],
          "scattermapbox": [
           {
            "marker": {
             "colorbar": {
              "outlinewidth": 0,
              "ticks": ""
             }
            },
            "type": "scattermapbox"
           }
          ],
          "scatterpolar": [
           {
            "marker": {
             "colorbar": {
              "outlinewidth": 0,
              "ticks": ""
             }
            },
            "type": "scatterpolar"
           }
          ],
          "scatterpolargl": [
           {
            "marker": {
             "colorbar": {
              "outlinewidth": 0,
              "ticks": ""
             }
            },
            "type": "scatterpolargl"
           }
          ],
          "scatterternary": [
           {
            "marker": {
             "colorbar": {
              "outlinewidth": 0,
              "ticks": ""
             }
            },
            "type": "scatterternary"
           }
          ],
          "surface": [
           {
            "colorbar": {
             "outlinewidth": 0,
             "ticks": ""
            },
            "colorscale": [
             [
              0,
              "#0d0887"
             ],
             [
              0.1111111111111111,
              "#46039f"
             ],
             [
              0.2222222222222222,
              "#7201a8"
             ],
             [
              0.3333333333333333,
              "#9c179e"
             ],
             [
              0.4444444444444444,
              "#bd3786"
             ],
             [
              0.5555555555555556,
              "#d8576b"
             ],
             [
              0.6666666666666666,
              "#ed7953"
             ],
             [
              0.7777777777777778,
              "#fb9f3a"
             ],
             [
              0.8888888888888888,
              "#fdca26"
             ],
             [
              1,
              "#f0f921"
             ]
            ],
            "type": "surface"
           }
          ],
          "table": [
           {
            "cells": {
             "fill": {
              "color": "#EBF0F8"
             },
             "line": {
              "color": "white"
             }
            },
            "header": {
             "fill": {
              "color": "#C8D4E3"
             },
             "line": {
              "color": "white"
             }
            },
            "type": "table"
           }
          ]
         },
         "layout": {
          "annotationdefaults": {
           "arrowcolor": "#2a3f5f",
           "arrowhead": 0,
           "arrowwidth": 1
          },
          "autotypenumbers": "strict",
          "coloraxis": {
           "colorbar": {
            "outlinewidth": 0,
            "ticks": ""
           }
          },
          "colorscale": {
           "diverging": [
            [
             0,
             "#8e0152"
            ],
            [
             0.1,
             "#c51b7d"
            ],
            [
             0.2,
             "#de77ae"
            ],
            [
             0.3,
             "#f1b6da"
            ],
            [
             0.4,
             "#fde0ef"
            ],
            [
             0.5,
             "#f7f7f7"
            ],
            [
             0.6,
             "#e6f5d0"
            ],
            [
             0.7,
             "#b8e186"
            ],
            [
             0.8,
             "#7fbc41"
            ],
            [
             0.9,
             "#4d9221"
            ],
            [
             1,
             "#276419"
            ]
           ],
           "sequential": [
            [
             0,
             "#0d0887"
            ],
            [
             0.1111111111111111,
             "#46039f"
            ],
            [
             0.2222222222222222,
             "#7201a8"
            ],
            [
             0.3333333333333333,
             "#9c179e"
            ],
            [
             0.4444444444444444,
             "#bd3786"
            ],
            [
             0.5555555555555556,
             "#d8576b"
            ],
            [
             0.6666666666666666,
             "#ed7953"
            ],
            [
             0.7777777777777778,
             "#fb9f3a"
            ],
            [
             0.8888888888888888,
             "#fdca26"
            ],
            [
             1,
             "#f0f921"
            ]
           ],
           "sequentialminus": [
            [
             0,
             "#0d0887"
            ],
            [
             0.1111111111111111,
             "#46039f"
            ],
            [
             0.2222222222222222,
             "#7201a8"
            ],
            [
             0.3333333333333333,
             "#9c179e"
            ],
            [
             0.4444444444444444,
             "#bd3786"
            ],
            [
             0.5555555555555556,
             "#d8576b"
            ],
            [
             0.6666666666666666,
             "#ed7953"
            ],
            [
             0.7777777777777778,
             "#fb9f3a"
            ],
            [
             0.8888888888888888,
             "#fdca26"
            ],
            [
             1,
             "#f0f921"
            ]
           ]
          },
          "colorway": [
           "#636efa",
           "#EF553B",
           "#00cc96",
           "#ab63fa",
           "#FFA15A",
           "#19d3f3",
           "#FF6692",
           "#B6E880",
           "#FF97FF",
           "#FECB52"
          ],
          "font": {
           "color": "#2a3f5f"
          },
          "geo": {
           "bgcolor": "white",
           "lakecolor": "white",
           "landcolor": "#E5ECF6",
           "showlakes": true,
           "showland": true,
           "subunitcolor": "white"
          },
          "hoverlabel": {
           "align": "left"
          },
          "hovermode": "closest",
          "mapbox": {
           "style": "light"
          },
          "paper_bgcolor": "white",
          "plot_bgcolor": "#E5ECF6",
          "polar": {
           "angularaxis": {
            "gridcolor": "white",
            "linecolor": "white",
            "ticks": ""
           },
           "bgcolor": "#E5ECF6",
           "radialaxis": {
            "gridcolor": "white",
            "linecolor": "white",
            "ticks": ""
           }
          },
          "scene": {
           "xaxis": {
            "backgroundcolor": "#E5ECF6",
            "gridcolor": "white",
            "gridwidth": 2,
            "linecolor": "white",
            "showbackground": true,
            "ticks": "",
            "zerolinecolor": "white"
           },
           "yaxis": {
            "backgroundcolor": "#E5ECF6",
            "gridcolor": "white",
            "gridwidth": 2,
            "linecolor": "white",
            "showbackground": true,
            "ticks": "",
            "zerolinecolor": "white"
           },
           "zaxis": {
            "backgroundcolor": "#E5ECF6",
            "gridcolor": "white",
            "gridwidth": 2,
            "linecolor": "white",
            "showbackground": true,
            "ticks": "",
            "zerolinecolor": "white"
           }
          },
          "shapedefaults": {
           "line": {
            "color": "#2a3f5f"
           }
          },
          "ternary": {
           "aaxis": {
            "gridcolor": "white",
            "linecolor": "white",
            "ticks": ""
           },
           "baxis": {
            "gridcolor": "white",
            "linecolor": "white",
            "ticks": ""
           },
           "bgcolor": "#E5ECF6",
           "caxis": {
            "gridcolor": "white",
            "linecolor": "white",
            "ticks": ""
           }
          },
          "title": {
           "x": 0.05
          },
          "xaxis": {
           "automargin": true,
           "gridcolor": "white",
           "linecolor": "white",
           "ticks": "",
           "title": {
            "standoff": 15
           },
           "zerolinecolor": "white",
           "zerolinewidth": 2
          },
          "yaxis": {
           "automargin": true,
           "gridcolor": "white",
           "linecolor": "white",
           "ticks": "",
           "title": {
            "standoff": 15
           },
           "zerolinecolor": "white",
           "zerolinewidth": 2
          }
         }
        }
       }
      }
     },
     "metadata": {},
     "output_type": "display_data"
    }
   ],
   "source": [
    "def plot_points(points, saveto = None):\n",
    "    fig = go.Figure()\n",
    "\n",
    "    x,y,z = points.T\n",
    "    fig.add_trace(go.Scatter3d(x=x, y=y, z=z,))\n",
    "\n",
    "    fig.update_layout(\n",
    "    scene=dict(\n",
    "        aspectmode='data'   # ensures equal scaling for x, y, z\n",
    "    )\n",
    "    )    \n",
    "\n",
    "    fig.update_layout(\n",
    "    dragmode=\"turntable\",        # intuitive rotation\n",
    "    scene_camera=dict(eye=dict(x=4, y=1.8, z=1.2)),  # pleasant starting view\n",
    "    )\n",
    "\n",
    "    fig.show()\n",
    "\n",
    "    if saveto is not None:\n",
    "        fig.write_html(saveto)\n",
    "\n",
    "\n",
    "def plot_helix(L, theta, tau, segments = 45, saveto = None, double_helix = True):\n",
    "\n",
    "    points, _, _, _ = full_helix_calculation(L, theta, tau, segments = segments)\n",
    "\n",
    "\n",
    "    if double_helix:\n",
    "        points2 = points.copy()\n",
    "        points2 = turn_spiral_about_z_axis(points2)\n",
    "        points = np.vstack((points, points2[::-1]))\n",
    "\n",
    "    plot_points(points, saveto)\n",
    "\n",
    "\n",
    "plot_helix(60, 15, 20, segments = 12, saveto = \"helix.html\", double_helix = True)\n"
   ]
  }
 ],
 "metadata": {
  "kernelspec": {
   "display_name": "jonas",
   "language": "python",
   "name": "python3"
  },
  "language_info": {
   "codemirror_mode": {
    "name": "ipython",
    "version": 3
   },
   "file_extension": ".py",
   "mimetype": "text/x-python",
   "name": "python",
   "nbconvert_exporter": "python",
   "pygments_lexer": "ipython3",
   "version": "3.11.2"
  }
 },
 "nbformat": 4,
 "nbformat_minor": 2
}
