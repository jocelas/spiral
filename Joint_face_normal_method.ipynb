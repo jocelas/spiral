{
 "cells": [
  {
   "cell_type": "code",
   "execution_count": 1,
   "metadata": {},
   "outputs": [],
   "source": [
    "import numpy as np\n",
    "import matplotlib.pyplot as plt\n",
    "from helper_functions import *\n",
    "from plotting_helix import *\n",
    "import plotly.graph_objects as go\n",
    "import warnings"
   ]
  },
  {
   "cell_type": "code",
   "execution_count": 11,
   "metadata": {},
   "outputs": [
    {
     "data": {
      "text/plain": [
       "(4.613809390943878, 16.85980971978635)"
      ]
     },
     "execution_count": 11,
     "metadata": {},
     "output_type": "execute_result"
    }
   ],
   "source": [
    "find_allowed_twist_range(60,15,200)"
   ]
  },
  {
   "cell_type": "code",
   "execution_count": 3,
   "metadata": {},
   "outputs": [
    {
     "data": {
      "text/plain": [
       "(5.625, 14.25)"
      ]
     },
     "execution_count": 3,
     "metadata": {},
     "output_type": "execute_result"
    }
   ],
   "source": [
    "find_allowed_twist_range(50,15,200, eps_loose=1, eps_wide= 1)"
   ]
  },
  {
   "cell_type": "code",
   "execution_count": 15,
   "metadata": {},
   "outputs": [
    {
     "data": {
      "application/vnd.plotly.v1+json": {
       "config": {
        "plotlyServerURL": "https://plot.ly"
       },
       "data": [
        {
         "color": "blue",
         "i": {
          "bdata": "AAEBAgIDAwQEBQUGBgcHCAgJCQoKCwsMDA0NDg4PDxAQERESEhMTFA==",
          "dtype": "i1"
         },
         "j": {
          "bdata": "ARYCFwMYBBkFGgYbBxwIHQkeCh8LIAwhDSIOIw8kECURJhInEygUKQ==",
          "dtype": "i1"
         },
         "k": {
          "bdata": "FRUWFhcXGBgZGRoaGxscHB0dHh4fHyAgISEiIiMjJCQlJSYmJycoKA==",
          "dtype": "i1"
         },
         "name": "surface",
         "opacity": 0.6,
         "type": "mesh3d",
         "x": {
          "bdata": "cD7di60STcAamYB7NAVcwEb4C9AT9mTAen5MImq2aMAjQXd9BLFowCHSX8q15mTAdYtOvzjXW8Ce96zrFkJDwMVXNhLZGkRAGgqCgQ4zXED2JLadWAVlQJRiuguyu2hAcPG4I4GraECExy6fPtdkQCWiPoQbqVtALqb81ZLVQkDDWkYeFodEwFysKJrGYFzAMpr/IIQUZcBUa2Yz3MBowE4UcOc46mjA8g7iso+AEsCW1M1lTlJNwJj2T4jnT17AFO9TgAyrZMAsbe8AdgZnwGZtlLgT3mXAICV78iNfYcCMDlKLr3JUwFjNTXYUQCjAf+IKwj+yTUB4/cJdA3ZeQJ5TI2BDtmRAjMXWlx8IZ0BgoxkP79VlQE46eEJvTmFA5mXjzD9FVEBCD6VZ4KsmQBDc5mMNEk7AbxtOjfqbXsB4WrdUYcFkwMrFKzskDmbA",
          "dtype": "f8"
         },
         "y": {
          "bdata": "2t6zpyT9Z8DoCA/zZ+5kwH5sudA67lvAJmZgTlB4Q8AzqvFxseRDQFj8urglHFxA6e8HX7n9ZEBu2tbOEbloQJvxy4ZGrmhAOulOWP3eZEBnkitOLsBbQJRkG77XC0NAnZhqpvpQRMDSwPHO7klcwGWyy4nxDGXAn+Qs2Eq+aMCcnhNVtKhowArJU6F5z2TA+1x4aACSW8DWa6NDSJ9CwMWc7p/f9jVAxqgttxmZZ8An3kAwHOJlwCrMVHV2Z2HAXMA5NF6JVMBYfCKyIwopwMKbAoRLgk1AoujpBPpiXkDC4MsMq7BkQKy5+kJOB2dAIS0frQTaZUD2KAY2zFZhQE177rv6W1RASHA27/11J0DxN3oRK+JNwJ1nIY0DiV7AE3ereNW7ZMAEmkT/6QhnwJdPvt/S0WXAmkxVGg1GYcCgAwfFfi5UwP6jaEFchTrA",
          "dtype": "f8"
         },
         "z": {
          "bdata": "AAAAAAAAAAA+IUFAZINGQD4hQUBkg1ZA7tgwMIviYEA9IUFAZINmQIppUVA9JGxA7NgwMIvicEAQ/Ti497JzQDQhQUBkg3ZAWEVJyNBTeUB6aVFQPSR8QJ6NWdip9H5A4tgwMIvigED16jR0wUqCQAj9OLj3soNAHA89/C0bhUAvIUFAZIOGQEIzRYSa64dAVkVJyNBTiUBqV00MB7yKQHxpUVA9JIxAtCHqGvo9RUCT3GOGzsJVQJk2QlNAgmBA6X5SYxkjZkA5x2Jz8sNrQMSHucFlsnBA7KvBSdKCc0AR0MnRPlN2QDX00VmrI3lAWhja4Rf0e0B8POJphMR+QE8w9Xh4yoBAYkL5vK4ygkB0VP0A5ZqDQIdmAUUbA4VAm3gFiVFrhkCuignNh9OHQMCcDRG+O4lA1K4RVfSjikDpwBWZKgyMQJgLAPIceI1A",
          "dtype": "f8"
         }
        },
        {
         "color": "blue",
         "i": {
          "bdata": "AAEBAgIDAwQEBQUGBgcHCAgJCQoKCwsMDA0NDg4PDxAQERESEhMTFA==",
          "dtype": "i1"
         },
         "j": {
          "bdata": "ARYCFwMYBBkFGgYbBxwIHQkeCh8LIAwhDSIOIw8kECURJhInEygUKQ==",
          "dtype": "i1"
         },
         "k": {
          "bdata": "FRUWFhcXGBgZGRoaGxscHB0dHh4fHyAgISEiIiMjJCQlJSYmJycoKA==",
          "dtype": "i1"
         },
         "name": "surface",
         "opacity": 0.6,
         "type": "mesh3d",
         "x": {
          "bdata": "8g7iso+AEsCW1M1lTlJNwJj2T4jnT17AFO9TgAyrZMAsbe8AdgZnwGZtlLgT3mXAICV78iNfYcCMDlKLr3JUwFjNTXYUQCjAf+IKwj+yTUB4/cJdA3ZeQJ5TI2BDtmRAjMXWlx8IZ0BgoxkP79VlQE46eEJvTmFA5mXjzD9FVEBCD6VZ4KsmQBDc5mMNEk7AbxtOjfqbXsB4WrdUYcFkwMrFKzskDmbAOn1LSQTkREAgQUv1dboQwOBHCDd3zEzA8nqJtRqOWcDcB6d8qGdgwIjJ6X8uh2HAQJWstHbzX8BIkVK59fdXwAQFl/6Wp0jA2N/nu7AhE0C+qu/DjhJNQKTi2AhlqFlA2AeaOmtuYEBG8AifhoZhQGgAM/aE419AVQ9SE9HbV0DEW+l7f19IQOBuCH7UiBXAYoGWVoNYTcBqsp99kMJZwITaDXnCXl3A",
          "dtype": "f8"
         },
         "y": {
          "bdata": "xqgttxmZZ8An3kAwHOJlwCrMVHV2Z2HAXMA5NF6JVMBYfCKyIwopwMKbAoRLgk1AoujpBPpiXkDC4MsMq7BkQKy5+kJOB2dAIS0frQTaZUD2KAY2zFZhQE177rv6W1RASHA27/11J0DxN3oRK+JNwJ1nIY0DiV7AE3ereNW7ZMAEmkT/6QhnwJdPvt/S0WXAmkxVGg1GYcCgAwfFfi5UwP6jaEFchTrARFBfMtb8YcBStuyHeodhwMxcyiph+1/AVs0VPv0FWMBgtsGll8tIwGiY5goW7hFARsN/V4fvTEBBCgm5Q5tZQHK2uFMMa2BAqmBAMt2GYUDWqFiigutfQITY/f7m6VdArm4H7Y6DSEA4ssmrRVUUwJTGznGNNU3AXAAGoX61WcDBcEcwxXFgwCCCXcYqhmHAYuaisn3bX8BKyov6s81XwFh+BBIKaUrA",
          "dtype": "f8"
         },
         "z": {
          "bdata": "tCHqGvo9RUCT3GOGzsJVQJk2QlNAgmBA6X5SYxkjZkA5x2Jz8sNrQMSHucFlsnBA7KvBSdKCc0AR0MnRPlN2QDX00VmrI3lAWhja4Rf0e0B8POJphMR+QE8w9Xh4yoBAYkL5vK4ygkB0VP0A5ZqDQIdmAUUbA4VAm3gFiVFrhkCuignNh9OHQMCcDRG+O4lA1K4RVfSjikDpwBWZKgyMQJgLAPIceI1AcbUcZ7tFUECVKaMcp1lbQBrdYZ6sTWNAaiVyroXuaEC6bYK+Xo9uQAVbSecbGHJALn9Rb4jodEBTo1n39Lh3QHjHYX9hiXpAnetpB85ZfUDgB7lHHRWAQPAZvYtTfYFAAizBz4nlgkAVPsUTwE2EQCdQyVf2tYVAO2LNmyweh0BOdNHfYoaIQGGG1SOZ7olAdJjZZ89Wi0CJqt2rBb+MQCwANb30LI5A",
          "dtype": "f8"
         }
        },
        {
         "color": "blue",
         "i": {
          "bdata": "AAEBAgIDAwQEBQUGBgcHCAgJCQoKCwsMDA0NDg4PDxAQERESEhMTFA==",
          "dtype": "i1"
         },
         "j": {
          "bdata": "ARYCFwMYBBkFGgYbBxwIHQkeCh8LIAwhDSIOIw8kECURJhInEygUKQ==",
          "dtype": "i1"
         },
         "k": {
          "bdata": "FRUWFhcXGBgZGRoaGxscHB0dHh4fHyAgISEiIiMjJCQlJSYmJycoKA==",
          "dtype": "i1"
         },
         "name": "surface",
         "opacity": 0.6,
         "type": "mesh3d",
         "x": {
          "bdata": "On1LSQTkREAgQUv1dboQwOBHCDd3zEzA8nqJtRqOWcDcB6d8qGdgwIjJ6X8uh2HAQJWstHbzX8BIkVK59fdXwAQFl/6Wp0jA2N/nu7AhE0C+qu/DjhJNQKTi2AhlqFlA2AeaOmtuYEBG8AifhoZhQGgAM/aE419AVQ9SE9HbV0DEW+l7f19IQOBuCH7UiBXAYoGWVoNYTcBqsp99kMJZwITaDXnCXl3A1K3lbiauTUD8PcxsjtE5QOBqLJcZFBrAeNN49WnuQsBiEx88gbZPwMD+7QGm01PAgvhluj3FVMBqStqnJotSwNx1aFPO+ErA/CJ8M5F6OcAQ2fZmnoAbQAcBee8XF0NAyJyi4RbUT0BhNl6aotpTQNgLjxBbw1RAN3qWaa6AUkBQcsr25NVKQIg0xlJ1IzlAYM8UIALtHMAQAL3xrj9DwNZVnYcYA0nA",
          "dtype": "f8"
         },
         "y": {
          "bdata": "RFBfMtb8YcBStuyHeodhwMxcyiph+1/AVs0VPv0FWMBgtsGll8tIwGiY5goW7hFARsN/V4fvTEBBCgm5Q5tZQHK2uFMMa2BAqmBAMt2GYUDWqFiigutfQITY/f7m6VdArm4H7Y6DSEA4ssmrRVUUwJTGznGNNU3AXAAGoX61WcDBcEcwxXFgwCCCXcYqhmHAYuaisn3bX8BKyov6s81XwFh+BBIKaUrAusJqm8qQU8C8yjXDHtBTwNdafLAlxlTAnlkBalqQUsCmlxvZNgpLwLxRnKsTpjnA8Cd/BmDKGkBJAWLOwwJDQJk7C9ZQxU9AiBgASifXU0AB/P6ET8RUQHNA21HthVJAGB/jsF3nSkBc7IERB085QNDKwoHUNhzAWoagUmYrQ8A8pnNa0+JPwMpA/PEX3lPAxa1fXWDCVMCg4Z/waXtSwCaABdx7UEbA",
          "dtype": "f8"
         },
         "z": {
          "bdata": "cbUcZ7tFUECVKaMcp1lbQBrdYZ6sTWNAaiVyroXuaEC6bYK+Xo9uQAVbSecbGHJALn9Rb4jodEBTo1n39Lh3QHjHYX9hiXpAnetpB85ZfUDgB7lHHRWAQPAZvYtTfYFAAizBz4nlgkAVPsUTwE2EQCdQyVf2tYVAO2LNmyweh0BOdNHfYoaIQGGG1SOZ7olAdJjZZ89Wi0CJqt2rBb+MQCwANb30LI5Az23WCZGeTEBIRmukuWhZQHTrReI1VWJAxDNW8g72Z0AUfGYC6JZtQDJiO4ngm3FAWoZDEU1sdECAqkuZuTx3QKTOUyEmDXpAyfJbqZLdfEDrFmQx/61/QIcdttw1P4FAmS+6IGyngkCrQb5kog+EQL5TwqjYd4VA0mXG7A7ghkDkd8owRUiIQPeJznR7sIlAC5zSuLEYi0Agrtb854CMQFrQ7mAm7o1A",
          "dtype": "f8"
         }
        },
        {
         "color": "blue",
         "i": {
          "bdata": "AAEBAgIDAwQEBQUGBgcHCAgJCQoKCwsMDA0NDg4PDxAQERESEhMTFA==",
          "dtype": "i1"
         },
         "j": {
          "bdata": "ARYCFwMYBBkFGgYbBxwIHQkeCh8LIAwhDSIOIw8kECURJhInEygUKQ==",
          "dtype": "i1"
         },
         "k": {
          "bdata": "FRUWFhcXGBgZGRoaGxscHB0dHh4fHyAgISEiIiMjJCQlJSYmJycoKA==",
          "dtype": "i1"
         },
         "name": "surface",
         "opacity": 0.6,
         "type": "mesh3d",
         "x": {
          "bdata": "1K3lbiauTUD8PcxsjtE5QOBqLJcZFBrAeNN49WnuQsBiEx88gbZPwMD+7QGm01PAgvhluj3FVMBqStqnJotSwNx1aFPO+ErA/CJ8M5F6OcAQ2fZmnoAbQAcBee8XF0NAyJyi4RbUT0BhNl6aotpTQNgLjxBbw1RAN3qWaa6AUkBQcsr25NVKQIg0xlJ1IzlAYM8UIALtHMAQAL3xrj9DwNZVnYcYA0nA0Hf2snfxQ0BA9rW3Q1IxQJg2FaJ6KyBA4Kh2Rd4VA8A4kRlx9PsowKY4e+cLsTTABORR+YO7OcC8P9eYZNg6wIRmUyMx3DfAbOBTkZE7McDw2snHDuYfwGDgmgVvAQRAqHljLUwwKUDYebrN8sM0QEem1z1DxDlAeosAaKbVOkBLftGtYM43QJARUq/KJDFA0Ky06gF1H0AAmBK05+wEwPBnNLKBixbA",
          "dtype": "f8"
         },
         "y": {
          "bdata": "usJqm8qQU8C8yjXDHtBTwNdafLAlxlTAnlkBalqQUsCmlxvZNgpLwLxRnKsTpjnA8Cd/BmDKGkBJAWLOwwJDQJk7C9ZQxU9AiBgASifXU0AB/P6ET8RUQHNA21HthVJAGB/jsF3nSkBc7IERB085QNDKwoHUNhzAWoagUmYrQ8A8pnNa0+JPwMpA/PEX3lPAxa1fXWDCVMCg4Z/waXtSwCaABdx7UEbAiFlB/8aUNsCy0xIdj6c0wIyEUboYtznAfynblLfZOsBur0qbDuM3wCxerj3tRjHA4JFHbUMPIMDgWwiWqYsDQBAnERUkFilA5vyleIK6NECdPe965785QFrpwIkJ1zpAor4kfkzVN0DoEBG2MDAxQNC01hyNrR9A4MzBcC53BMCgdzKybEopwAbk4eNczTTA5IC7QJfIOcDE8gA0O9Q6wEywo8onHRfA",
          "dtype": "f8"
         },
         "z": {
          "bdata": "z23WCZGeTEBIRmukuWhZQHTrReI1VWJAxDNW8g72Z0AUfGYC6JZtQDJiO4ngm3FAWoZDEU1sdECAqkuZuTx3QKTOUyEmDXpAyfJbqZLdfEDrFmQx/61/QIcdttw1P4FAmS+6IGyngkCrQb5kog+EQL5TwqjYd4VA0mXG7A7ghkDkd8owRUiIQPeJznR7sIlAC5zSuLEYi0Agrtb854CMQFrQ7mAm7o1AXJKeZvmaNkCh3V+2ithQQEBugNY8GlxAb39Qe/etY0C/x2CL0E5pQA0QcZup725ALqzAVUFIckBS0MjdrRh1QHf00GUa6XdAmxjZ7Ya5ekC9POF184l9QHCw9P4vLYBAg8L4QmaVgUCW1PyGnP2CQKjmAMvSZYRAvPgEDwnOhUDPCglTPzaHQOIcDZd1nohA9i4R26sGikAKQRUf4m6LQA9ehhsV2YxA",
          "dtype": "f8"
         }
        },
        {
         "color": "blue",
         "i": {
          "bdata": "AAEBAgIDAwQEBQUGBgcHCAgJCQoKCwsMDA0NDg4PDxAQERESEhMTFA==",
          "dtype": "i1"
         },
         "j": {
          "bdata": "ARYCFwMYBBkFGgYbBxwIHQkeCh8LIAwhDSIOIw8kECURJhInEygUKQ==",
          "dtype": "i1"
         },
         "k": {
          "bdata": "FRUWFhcXGBgZGRoaGxscHB0dHh4fHyAgISEiIiMjJCQlJSYmJycoKA==",
          "dtype": "i1"
         },
         "name": "surface",
         "opacity": 0.6,
         "type": "mesh3d",
         "x": {
          "bdata": "0Hf2snfxQ0BA9rW3Q1IxQJg2FaJ6KyBA4Kh2Rd4VA8A4kRlx9PsowKY4e+cLsTTABORR+YO7OcC8P9eYZNg6wIRmUyMx3DfAbOBTkZE7McDw2snHDuYfwGDgmgVvAQRAqHljLUwwKUDYebrN8sM0QEem1z1DxDlAeosAaKbVOkBLftGtYM43QJARUq/KJDFA0Ky06gF1H0AAmBK05+wEwPBnNLKBixbArlnwmWodHsAyYEK/pbI5wIBVRxwMnjTASBm+pX7HKMCgsA+PNioCwGCjAGzaYyBAkgYqB+FoMUC4/Ujfe/c3QHLjiBKA3TpAtnFUmqipOUCEhPqC84o0QAipbgrrkihA4Cfr/Xg+AUAYGdR9JpwgwL7bemRpfzHA6c7mBPYEOMBkwj5V3d86wJGeWJWMoDnAFEuOMsJ3NMAopmzeOV4owHDRldJ1WBTA",
          "dtype": "f8"
         },
         "y": {
          "bdata": "iFlB/8aUNsCy0xIdj6c0wIyEUboYtznAfynblLfZOsBur0qbDuM3wCxerj3tRjHA4JFHbUMPIMDgWwiWqYsDQBAnERUkFilA5vyleIK6NECdPe965785QFrpwIkJ1zpAor4kfkzVN0DoEBG2MDAxQNC01hyNrR9A4MzBcC53BMCgdzKybEopwAbk4eNczTTA5IC7QJfIOcDE8gA0O9Q6wEywo8onHRfAgIqKg4VKB8AQR9H5rEcgQPaoAfyUXTFAHNhS+7PwN0ArSxZSRdw6QAoMewkrrjlAHCT154KUNEBAniGOOK0oQAC9G3BatAFAcKMp8AKAIMDsMMnVJ3QxwGxM0o08/jfADstfvrLeOsCaySlzHqU5wFiTN/BdgTTA2H+OIpZ4KMCglfJbksgAwGhdiQxFuCBAhlTcr6WKMUBSwYBCqAs4QFia0syhxkZA",
          "dtype": "f8"
         },
         "z": {
          "bdata": "XJKeZvmaNkCh3V+2ithQQEBugNY8GlxAb39Qe/etY0C/x2CL0E5pQA0QcZup725ALqzAVUFIckBS0MjdrRh1QHf00GUa6XdAmxjZ7Ya5ekC9POF184l9QHCw9P4vLYBAg8L4QmaVgUCW1PyGnP2CQKjmAMvSZYRAvPgEDwnOhUDPCglTPzaHQOIcDZd1nohA9i4R26sGikAKQRUf4m6LQA9ehhsV2YxAWJKeZvmaNsB5DoUnZqs2QD3UAaqL7FBA2mQiyj0uXEC8eiH197djQAjDMQXRWGlAVAtCFar5bkDOKamSQU1yQPJNsRquHXVAFXK5ohrud0A3lsEqh756QFy6ybLzjn1AQe9oHbAvgEBUAW1h5peBQGgTcaUcAINAfCV16VJohECPN3ktidCFQKJJfXG/OIdAtluBtfWgiEDKbYX5KwmKQOl0HIVlb4tA",
          "dtype": "f8"
         }
        },
        {
         "color": "blue",
         "i": {
          "bdata": "AAEBAgIDAwQEBQUGBgcHCAgJCQoKCwsMDA0NDg4PDxAQERESEhMTFA==",
          "dtype": "i1"
         },
         "j": {
          "bdata": "ARYCFwMYBBkFGgYbBxwIHQkeCh8LIAwhDSIOIw8kECURJhInEygUKQ==",
          "dtype": "i1"
         },
         "k": {
          "bdata": "FRUWFhcXGBgZGRoaGxscHB0dHh4fHyAgISEiIiMjJCQlJSYmJycoKA==",
          "dtype": "i1"
         },
         "name": "surface",
         "opacity": 0.6,
         "type": "mesh3d",
         "x": {
          "bdata": "rlnwmWodHsAyYEK/pbI5wIBVRxwMnjTASBm+pX7HKMCgsA+PNioCwGCjAGzaYyBAkgYqB+FoMUC4/Ujfe/c3QHLjiBKA3TpAtnFUmqipOUCEhPqC84o0QAipbgrrkihA4Cfr/Xg+AUAYGdR9JpwgwL7bemRpfzHA6c7mBPYEOMBkwj5V3d86wJGeWJWMoDnAFEuOMsJ3NMAopmzeOV4owHDRldJ1WBTAAoiuqXZZTsDyXfxmB8dUwNMp546RzFPAJAcdb8WYT8AksK00pcVCwBB2RGd1pxjAIhAOlmwoOkAbrfeIPz5LQFlkySnUn1JAPZkrFLjIVEBjTc5JZcVTQMFXYp7jek9A8TQk3smcQkBgmvONszoXQLaHvkYrfzrA8NZcDsdgS8Dn+ZNUCapSwDAa679PylTASaZEOyG+U8DAnOLt21xPwJNzhKjiUEjA",
          "dtype": "f8"
         },
         "y": {
          "bdata": "gIqKg4VKB8AQR9H5rEcgQPaoAfyUXTFAHNhS+7PwN0ArSxZSRdw6QAoMewkrrjlAHCT154KUNEBAniGOOK0oQAC9G3BatAFAcKMp8AKAIMDsMMnVJ3QxwGxM0o08/jfADstfvrLeOsCaySlzHqU5wFiTN/BdgTTA2H+OIpZ4KMCglfJbksgAwGhdiQxFuCBAhlTcr6WKMUBSwYBCqAs4QFia0syhxkZAhAFSku10PMDgtNFPy10ZwKoC+GkB/TlAgPQbee8sS0Di8YYssZpSQCQeot3ix1RAUJQTZv7IU0DBm/hE2YlPQBPjDlk6sUJAEG9cFBjxF0CIL//jz1M6wJwsHmeHT0vAjq77jPGkUsBwrVgKh8lUwDdhLDvGwVPAUhraf+RrT8D1dRPKU4hCwNAL5gpIhBbA0qVBsX6qOkA8i4N5/nFLQMQPoyQFVlVA",
          "dtype": "f8"
         },
         "z": {
          "bdata": "WJKeZvmaNsB5DoUnZqs2QD3UAaqL7FBA2mQiyj0uXEC8eiH197djQAjDMQXRWGlAVAtCFar5bkDOKamSQU1yQPJNsRquHXVAFXK5ohrud0A3lsEqh756QFy6ybLzjn1AQe9oHbAvgEBUAW1h5peBQGgTcaUcAINAfCV16VJohECPN3ktidCFQKJJfXG/OIdAtluBtfWgiEDKbYX5KwmKQOl0HIVlb4tAzG3WCZGeTMBIKFEhqyonwCrX7He5uEBAMfwW3A6eU0DOjDf8wN9eQLEOLI65EGVA/FY8npKxakChTybXNSlwQMRzLl+i+XJA55c25w7KdUAJvD5ve5p4QC/gRvfnantAVgRPf1Q7fkA/lKuD4IWAQFKmr8cW7oFAZ7izC01Wg0B6yrdPg76EQI3cu5O5JoZAoe6/1++Oh0C0AMQbJveIQJ4CtD9UWopA",
          "dtype": "f8"
         }
        },
        {
         "color": "blue",
         "i": {
          "bdata": "AAEBAgIDAwQEBQUGBgcHCAgJCQoKCwsMDA0NDg4PDxAQERESEhMTFA==",
          "dtype": "i1"
         },
         "j": {
          "bdata": "ARYCFwMYBBkFGgYbBxwIHQkeCh8LIAwhDSIOIw8kECURJhInEygUKQ==",
          "dtype": "i1"
         },
         "k": {
          "bdata": "FRUWFhcXGBgZGRoaGxscHB0dHh4fHyAgISEiIiMjJCQlJSYmJycoKA==",
          "dtype": "i1"
         },
         "name": "surface",
         "opacity": 0.6,
         "type": "mesh3d",
         "x": {
          "bdata": "AoiuqXZZTsDyXfxmB8dUwNMp546RzFPAJAcdb8WYT8AksK00pcVCwBB2RGd1pxjAIhAOlmwoOkAbrfeIPz5LQFlkySnUn1JAPZkrFLjIVEBjTc5JZcVTQMFXYp7jek9A8TQk3smcQkBgmvONszoXQLaHvkYrfzrA8NZcDsdgS8Dn+ZNUCapSwDAa679PylTASaZEOyG+U8DAnOLt21xPwJNzhKjiUEjASiegwbGvV8BqPSgBoQFgwKNIMkrBh2HAaSsIAtJgYMCK11KjsXNZwNiCNAQ9hkzAkJXHHE6mDMCl3aWwbDdJQJvozmDoL1hAuhAPZnMJYECM0jH9PohhQKZ599LnWWBAcVH78SlZWUCsM/J/4D9MQBC89daN1wdA3k36Mip/ScCd7/oetktYwOSnoX8yEWDAgitRmKeIYcCvrcb36VJgwD47dtVu+VzA",
          "dtype": "f8"
         },
         "y": {
          "bdata": "hAFSku10PMDgtNFPy10ZwKoC+GkB/TlAgPQbee8sS0Di8YYssZpSQCQeot3ix1RAUJQTZv7IU0DBm/hE2YlPQBPjDlk6sUJAEG9cFBjxF0CIL//jz1M6wJwsHmeHT0vAjq77jPGkUsBwrVgKh8lUwDdhLDvGwVPAUhraf+RrT8D1dRPKU4hCwNAL5gpIhBbA0qVBsX6qOkA8i4N5/nFLQMQPoyQFVlVA31g7IerQVcA8DRVtXqlMwCCmOa+hDQ/AnPCZiYITSUCS9giW9iFYQNwncJyMBWBAHjilxgKIYUB/f4lgX11gQFNajZxxZllA3rD3BhNjTEBAJlTs8T4KQG6yCUJPW0nABGkv5dI9WMC2jdhcVQ1gwC/7xe11iGHAhA5dWmtWYMBVSJun2ktZwNY2unmlHEzAgPvElSJwBcDM3K54/aJJQOhaoKuovldA",
          "dtype": "f8"
         },
         "z": {
          "bdata": "zG3WCZGeTMBIKFEhqyonwCrX7He5uEBAMfwW3A6eU0DOjDf8wN9eQLEOLI65EGVA/FY8npKxakChTybXNSlwQMRzLl+i+XJA55c25w7KdUAJvD5ve5p4QC/gRvfnantAVgRPf1Q7fkA/lKuD4IWAQFKmr8cW7oFAZ7izC01Wg0B6yrdPg76EQI3cu5O5JoZAoe6/1++Oh0C0AMQbJveIQJ4CtD9UWopAcbUcZ7tFUMBcIYhxC1kzwCAh+g69rTlA4xjfYyGtUUB/qf+D0+5cQAodENJCGGRAVGUg4hu5aUCZrTDy9FlvQPB6IAFnfXJAEp8oidNNdUA0wzARQB54QFvnOJms7npAgwtBIRm/fUDVl6TUwkeAQOmpqBj5r4FA/busXC8Yg0AQzrCgZYCEQCPgtOSb6IVAOPK4KNJQh0BLBL1sCLmIQMzSbeOFG4pA",
          "dtype": "f8"
         }
        },
        {
         "color": "blue",
         "i": {
          "bdata": "AAEBAgIDAwQEBQUGBgcHCAgJCQoKCwsMDA0NDg4PDxAQERESEhMTFA==",
          "dtype": "i1"
         },
         "j": {
          "bdata": "ARYCFwMYBBkFGgYbBxwIHQkeCh8LIAwhDSIOIw8kECURJhInEygUKQ==",
          "dtype": "i1"
         },
         "k": {
          "bdata": "FRUWFhcXGBgZGRoaGxscHB0dHh4fHyAgISEiIiMjJCQlJSYmJycoKA==",
          "dtype": "i1"
         },
         "name": "surface",
         "opacity": 0.6,
         "type": "mesh3d",
         "x": {
          "bdata": "SiegwbGvV8BqPSgBoQFgwKNIMkrBh2HAaSsIAtJgYMCK11KjsXNZwNiCNAQ9hkzAkJXHHE6mDMCl3aWwbDdJQJvozmDoL1hAuhAPZnMJYECM0jH9PohhQKZ599LnWWBAcVH78SlZWUCsM/J/4D9MQBC89daN1wdA3k36Mip/ScCd7/oetktYwOSnoX8yEWDAgitRmKeIYcCvrcb36VJgwD47dtVu+VzAVsVZXipvV8C4TRK8w29hwN7z7RIe5mXAE1ZRtrAEZ8BmK8fCvJ9kwMBrzjqnKV7AodidwjnyTMCQEVtCI2grQPae2QNFzVRAGIA9i06AYUAxx3kUDu5lQOXcHbrPAmdAaPEYNVSUZECkoUOjQgNeQCmFE0wCkkxANs6PJfr7LMBs6/ZQavpUwG7FFUzEkGHAGCqrs+P1ZcDwrpcO0wBnwNzqXMgS7WXA",
          "dtype": "f8"
         },
         "y": {
          "bdata": "31g7IerQVcA8DRVtXqlMwCCmOa+hDQ/AnPCZiYITSUCS9giW9iFYQNwncJyMBWBAHjilxgKIYUB/f4lgX11gQFNajZxxZllA3rD3BhNjTEBAJlTs8T4KQG6yCUJPW0nABGkv5dI9WMC2jdhcVQ1gwC/7xe11iGHAhA5dWmtWYMBVSJun2ktZwNY2unmlHEzAgPvElSJwBcDM3K54/aJJQOhaoKuovldA+QVGXyf6YsAWtLHtyzxewDCo23VIIk3ADCfsVCueKkCSQ033qLZUQMRsNMQLeGFA/B1nXxnqZUCs4kauwwNnQOBTGZULmmRABCVodXkWXkDQy4haIsJMQOxHe/ESMizA5i+rztrjVMDScrEOjIhhwEhV9TD88WXAoKQf2tQBZ8CSKn6klo5kwAZbKMoC8F3AEKC3pdlhTMBYQN6h2MUtQOboNEGzfFFA",
          "dtype": "f8"
         },
         "z": {
          "bdata": "cbUcZ7tFUMBcIYhxC1kzwCAh+g69rTlA4xjfYyGtUUB/qf+D0+5cQAodENJCGGRAVGUg4hu5aUCZrTDy9FlvQPB6IAFnfXJAEp8oidNNdUA0wzARQB54QFvnOJms7npAgwtBIRm/fUDVl6TUwkeAQOmpqBj5r4FA/busXC8Yg0AQzrCgZYCEQCPgtOSb6IVAOPK4KNJQh0BLBL1sCLmIQMzSbeOFG4pAtyHqGvo9RcAglag7txIIQJCq+7OPBEhA5GUe+vlDV0BAex8N1kJhQIzDLx2v42ZA1wtALYiEbEAPKqiesBJxQDJOsCYd43NAVnK4romzdkB4lsA29oN5QJ26yL5iVHxAxN7QRs8kf0B1gWznnfqAQImTcCvUYoJAnaV0bwrLg0Cwt3izQDOFQMPJfPd2m4ZA19uAO60DiEDr7YR/42uJQGDHoq5d0IpA",
          "dtype": "f8"
         }
        },
        {
         "color": "blue",
         "i": {
          "bdata": "AAEBAgIDAwQEBQUGBgcHCAgJCQoKCwsMDA0NDg4PDxAQERESEhMTFA==",
          "dtype": "i1"
         },
         "j": {
          "bdata": "ARYCFwMYBBkFGgYbBxwIHQkeCh8LIAwhDSIOIw8kECURJhInEygUKQ==",
          "dtype": "i1"
         },
         "k": {
          "bdata": "FRUWFhcXGBgZGRoaGxscHB0dHh4fHyAgISEiIiMjJCQlJSYmJycoKA==",
          "dtype": "i1"
         },
         "name": "surface",
         "opacity": 0.6,
         "type": "mesh3d",
         "x": {
          "bdata": "VsVZXipvV8C4TRK8w29hwN7z7RIe5mXAE1ZRtrAEZ8BmK8fCvJ9kwMBrzjqnKV7AodidwjnyTMCQEVtCI2grQPae2QNFzVRAGIA9i06AYUAxx3kUDu5lQOXcHbrPAmdAaPEYNVSUZECkoUOjQgNeQCmFE0wCkkxANs6PJfr7LMBs6/ZQavpUwG7FFUzEkGHAGCqrs+P1ZcDwrpcO0wBnwNzqXMgS7WXAdD7di60STcAcmYB7NAVcwEb4C9AT9mTAen5MImq2aMAjQXd9BLFowCDSX8q15mTAdItOvzjXW8Ca96zrFkJDwMhXNhLZGkRAGwqCgQ4zXED2JLadWAVlQJRiuguyu2hAcPG4I4GraECDxy6fPtdkQCSiPoQbqVtAK6b81ZLVQkDGWkYeFodEwF6sKJrGYFzAMpr/IIQUZcBUa2Yz3MBowE4UcOc46mjA",
          "dtype": "f8"
         },
         "y": {
          "bdata": "+QVGXyf6YsAWtLHtyzxewDCo23VIIk3ADCfsVCueKkCSQ033qLZUQMRsNMQLeGFA/B1nXxnqZUCs4kauwwNnQOBTGZULmmRABCVodXkWXkDQy4haIsJMQOxHe/ESMizA5i+rztrjVMDScrEOjIhhwEhV9TD88WXAoKQf2tQBZ8CSKn6klo5kwAZbKMoC8F3AEKC3pdlhTMBYQN6h2MUtQOboNEGzfFFA2t6zpyT9Z8DoCA/zZ+5kwH5sudA67lvAI2ZgTlB4Q8A2qvFxseRDQFr8urglHFxA6u8HX7n9ZEBu2tbOEbloQJvxy4ZGrmhAOulOWP3eZEBmkitOLsBbQJBkG77XC0NAoJhqpvpQRMDSwPHO7klcwGayy4nxDGXAn+Qs2Eq+aMCcnhNVtKhowArJU6F5z2TA+lx4aACSW8DUa6NDSJ9CwMuc7p/f9jVA",
          "dtype": "f8"
         },
         "z": {
          "bdata": "tyHqGvo9RcAglag7txIIQJCq+7OPBEhA5GUe+vlDV0BAex8N1kJhQIzDLx2v42ZA1wtALYiEbEAPKqiesBJxQDJOsCYd43NAVnK4romzdkB4lsA29oN5QJ26yL5iVHxAxN7QRs8kf0B1gWznnfqAQImTcCvUYoJAnaV0bwrLg0Cwt3izQDOFQMPJfPd2m4ZA19uAO60DiEDr7YR/42uJQGDHoq5d0IpAtzsYVvQ5Er08IUFAZINGQD0hQUBkg1ZA7dgwMIviYEA8IUFAZINmQIlpUVA9JGxA7NgwMIvicEAQ/Ti497JzQDQhQUBkg3ZAWEVJyNBTeUB6aVFQPSR8QJ6NWdip9H5A4tgwMIvigED16jR0wUqCQAj9OLj3soNAHA89/C0bhUAvIUFAZIOGQEIzRYSa64dAVkVJyNBTiUBqV00MB7yKQHxpUVA9JIxA",
          "dtype": "f8"
         }
        },
        {
         "line": {
          "color": "blue"
         },
         "mode": "lines",
         "type": "scatter3d",
         "x": {
          "bdata": "cD7di60STcAamYB7NAVcwEb4C9AT9mTAen5MImq2aMAjQXd9BLFowCHSX8q15mTAdYtOvzjXW8Ce96zrFkJDwMVXNhLZGkRAGgqCgQ4zXED2JLadWAVlQJRiuguyu2hAcPG4I4GraECExy6fPtdkQCWiPoQbqVtALqb81ZLVQkDDWkYeFodEwFysKJrGYFzAMpr/IIQUZcBUa2Yz3MBowE4UcOc46mjA",
          "dtype": "f8"
         },
         "y": {
          "bdata": "2t6zpyT9Z8DoCA/zZ+5kwH5sudA67lvAJmZgTlB4Q8AzqvFxseRDQFj8urglHFxA6e8HX7n9ZEBu2tbOEbloQJvxy4ZGrmhAOulOWP3eZEBnkitOLsBbQJRkG77XC0NAnZhqpvpQRMDSwPHO7klcwGWyy4nxDGXAn+Qs2Eq+aMCcnhNVtKhowArJU6F5z2TA+1x4aACSW8DWa6NDSJ9CwMWc7p/f9jVA",
          "dtype": "f8"
         },
         "z": {
          "bdata": "AAAAAAAAAAA+IUFAZINGQD4hQUBkg1ZA7tgwMIviYEA9IUFAZINmQIppUVA9JGxA7NgwMIvicEAQ/Ti497JzQDQhQUBkg3ZAWEVJyNBTeUB6aVFQPSR8QJ6NWdip9H5A4tgwMIvigED16jR0wUqCQAj9OLj3soNAHA89/C0bhUAvIUFAZIOGQEIzRYSa64dAVkVJyNBTiUBqV00MB7yKQHxpUVA9JIxA",
          "dtype": "f8"
         }
        },
        {
         "line": {
          "color": "blue"
         },
         "mode": "lines",
         "type": "scatter3d",
         "x": {
          "bdata": "8g7iso+AEsCW1M1lTlJNwJj2T4jnT17AFO9TgAyrZMAsbe8AdgZnwGZtlLgT3mXAICV78iNfYcCMDlKLr3JUwFjNTXYUQCjAf+IKwj+yTUB4/cJdA3ZeQJ5TI2BDtmRAjMXWlx8IZ0BgoxkP79VlQE46eEJvTmFA5mXjzD9FVEBCD6VZ4KsmQBDc5mMNEk7AbxtOjfqbXsB4WrdUYcFkwMrFKzskDmbA",
          "dtype": "f8"
         },
         "y": {
          "bdata": "xqgttxmZZ8An3kAwHOJlwCrMVHV2Z2HAXMA5NF6JVMBYfCKyIwopwMKbAoRLgk1AoujpBPpiXkDC4MsMq7BkQKy5+kJOB2dAIS0frQTaZUD2KAY2zFZhQE177rv6W1RASHA27/11J0DxN3oRK+JNwJ1nIY0DiV7AE3ereNW7ZMAEmkT/6QhnwJdPvt/S0WXAmkxVGg1GYcCgAwfFfi5UwP6jaEFchTrA",
          "dtype": "f8"
         },
         "z": {
          "bdata": "tCHqGvo9RUCT3GOGzsJVQJk2QlNAgmBA6X5SYxkjZkA5x2Jz8sNrQMSHucFlsnBA7KvBSdKCc0AR0MnRPlN2QDX00VmrI3lAWhja4Rf0e0B8POJphMR+QE8w9Xh4yoBAYkL5vK4ygkB0VP0A5ZqDQIdmAUUbA4VAm3gFiVFrhkCuignNh9OHQMCcDRG+O4lA1K4RVfSjikDpwBWZKgyMQJgLAPIceI1A",
          "dtype": "f8"
         }
        },
        {
         "line": {
          "color": "blue"
         },
         "mode": "lines",
         "type": "scatter3d",
         "x": {
          "bdata": "On1LSQTkREAgQUv1dboQwOBHCDd3zEzA8nqJtRqOWcDcB6d8qGdgwIjJ6X8uh2HAQJWstHbzX8BIkVK59fdXwAQFl/6Wp0jA2N/nu7AhE0C+qu/DjhJNQKTi2AhlqFlA2AeaOmtuYEBG8AifhoZhQGgAM/aE419AVQ9SE9HbV0DEW+l7f19IQOBuCH7UiBXAYoGWVoNYTcBqsp99kMJZwITaDXnCXl3A",
          "dtype": "f8"
         },
         "y": {
          "bdata": "RFBfMtb8YcBStuyHeodhwMxcyiph+1/AVs0VPv0FWMBgtsGll8tIwGiY5goW7hFARsN/V4fvTEBBCgm5Q5tZQHK2uFMMa2BAqmBAMt2GYUDWqFiigutfQITY/f7m6VdArm4H7Y6DSEA4ssmrRVUUwJTGznGNNU3AXAAGoX61WcDBcEcwxXFgwCCCXcYqhmHAYuaisn3bX8BKyov6s81XwFh+BBIKaUrA",
          "dtype": "f8"
         },
         "z": {
          "bdata": "cbUcZ7tFUECVKaMcp1lbQBrdYZ6sTWNAaiVyroXuaEC6bYK+Xo9uQAVbSecbGHJALn9Rb4jodEBTo1n39Lh3QHjHYX9hiXpAnetpB85ZfUDgB7lHHRWAQPAZvYtTfYFAAizBz4nlgkAVPsUTwE2EQCdQyVf2tYVAO2LNmyweh0BOdNHfYoaIQGGG1SOZ7olAdJjZZ89Wi0CJqt2rBb+MQCwANb30LI5A",
          "dtype": "f8"
         }
        },
        {
         "line": {
          "color": "blue"
         },
         "mode": "lines",
         "type": "scatter3d",
         "x": {
          "bdata": "1K3lbiauTUD8PcxsjtE5QOBqLJcZFBrAeNN49WnuQsBiEx88gbZPwMD+7QGm01PAgvhluj3FVMBqStqnJotSwNx1aFPO+ErA/CJ8M5F6OcAQ2fZmnoAbQAcBee8XF0NAyJyi4RbUT0BhNl6aotpTQNgLjxBbw1RAN3qWaa6AUkBQcsr25NVKQIg0xlJ1IzlAYM8UIALtHMAQAL3xrj9DwNZVnYcYA0nA",
          "dtype": "f8"
         },
         "y": {
          "bdata": "usJqm8qQU8C8yjXDHtBTwNdafLAlxlTAnlkBalqQUsCmlxvZNgpLwLxRnKsTpjnA8Cd/BmDKGkBJAWLOwwJDQJk7C9ZQxU9AiBgASifXU0AB/P6ET8RUQHNA21HthVJAGB/jsF3nSkBc7IERB085QNDKwoHUNhzAWoagUmYrQ8A8pnNa0+JPwMpA/PEX3lPAxa1fXWDCVMCg4Z/waXtSwCaABdx7UEbA",
          "dtype": "f8"
         },
         "z": {
          "bdata": "z23WCZGeTEBIRmukuWhZQHTrReI1VWJAxDNW8g72Z0AUfGYC6JZtQDJiO4ngm3FAWoZDEU1sdECAqkuZuTx3QKTOUyEmDXpAyfJbqZLdfEDrFmQx/61/QIcdttw1P4FAmS+6IGyngkCrQb5kog+EQL5TwqjYd4VA0mXG7A7ghkDkd8owRUiIQPeJznR7sIlAC5zSuLEYi0Agrtb854CMQFrQ7mAm7o1A",
          "dtype": "f8"
         }
        },
        {
         "line": {
          "color": "blue"
         },
         "mode": "lines",
         "type": "scatter3d",
         "x": {
          "bdata": "0Hf2snfxQ0BA9rW3Q1IxQJg2FaJ6KyBA4Kh2Rd4VA8A4kRlx9PsowKY4e+cLsTTABORR+YO7OcC8P9eYZNg6wIRmUyMx3DfAbOBTkZE7McDw2snHDuYfwGDgmgVvAQRAqHljLUwwKUDYebrN8sM0QEem1z1DxDlAeosAaKbVOkBLftGtYM43QJARUq/KJDFA0Ky06gF1H0AAmBK05+wEwPBnNLKBixbA",
          "dtype": "f8"
         },
         "y": {
          "bdata": "iFlB/8aUNsCy0xIdj6c0wIyEUboYtznAfynblLfZOsBur0qbDuM3wCxerj3tRjHA4JFHbUMPIMDgWwiWqYsDQBAnERUkFilA5vyleIK6NECdPe965785QFrpwIkJ1zpAor4kfkzVN0DoEBG2MDAxQNC01hyNrR9A4MzBcC53BMCgdzKybEopwAbk4eNczTTA5IC7QJfIOcDE8gA0O9Q6wEywo8onHRfA",
          "dtype": "f8"
         },
         "z": {
          "bdata": "XJKeZvmaNkCh3V+2ithQQEBugNY8GlxAb39Qe/etY0C/x2CL0E5pQA0QcZup725ALqzAVUFIckBS0MjdrRh1QHf00GUa6XdAmxjZ7Ya5ekC9POF184l9QHCw9P4vLYBAg8L4QmaVgUCW1PyGnP2CQKjmAMvSZYRAvPgEDwnOhUDPCglTPzaHQOIcDZd1nohA9i4R26sGikAKQRUf4m6LQA9ehhsV2YxA",
          "dtype": "f8"
         }
        },
        {
         "line": {
          "color": "blue"
         },
         "mode": "lines",
         "type": "scatter3d",
         "x": {
          "bdata": "rlnwmWodHsAyYEK/pbI5wIBVRxwMnjTASBm+pX7HKMCgsA+PNioCwGCjAGzaYyBAkgYqB+FoMUC4/Ujfe/c3QHLjiBKA3TpAtnFUmqipOUCEhPqC84o0QAipbgrrkihA4Cfr/Xg+AUAYGdR9JpwgwL7bemRpfzHA6c7mBPYEOMBkwj5V3d86wJGeWJWMoDnAFEuOMsJ3NMAopmzeOV4owHDRldJ1WBTA",
          "dtype": "f8"
         },
         "y": {
          "bdata": "gIqKg4VKB8AQR9H5rEcgQPaoAfyUXTFAHNhS+7PwN0ArSxZSRdw6QAoMewkrrjlAHCT154KUNEBAniGOOK0oQAC9G3BatAFAcKMp8AKAIMDsMMnVJ3QxwGxM0o08/jfADstfvrLeOsCaySlzHqU5wFiTN/BdgTTA2H+OIpZ4KMCglfJbksgAwGhdiQxFuCBAhlTcr6WKMUBSwYBCqAs4QFia0syhxkZA",
          "dtype": "f8"
         },
         "z": {
          "bdata": "WJKeZvmaNsB5DoUnZqs2QD3UAaqL7FBA2mQiyj0uXEC8eiH197djQAjDMQXRWGlAVAtCFar5bkDOKamSQU1yQPJNsRquHXVAFXK5ohrud0A3lsEqh756QFy6ybLzjn1AQe9oHbAvgEBUAW1h5peBQGgTcaUcAINAfCV16VJohECPN3ktidCFQKJJfXG/OIdAtluBtfWgiEDKbYX5KwmKQOl0HIVlb4tA",
          "dtype": "f8"
         }
        },
        {
         "line": {
          "color": "blue"
         },
         "mode": "lines",
         "type": "scatter3d",
         "x": {
          "bdata": "AoiuqXZZTsDyXfxmB8dUwNMp546RzFPAJAcdb8WYT8AksK00pcVCwBB2RGd1pxjAIhAOlmwoOkAbrfeIPz5LQFlkySnUn1JAPZkrFLjIVEBjTc5JZcVTQMFXYp7jek9A8TQk3smcQkBgmvONszoXQLaHvkYrfzrA8NZcDsdgS8Dn+ZNUCapSwDAa679PylTASaZEOyG+U8DAnOLt21xPwJNzhKjiUEjA",
          "dtype": "f8"
         },
         "y": {
          "bdata": "hAFSku10PMDgtNFPy10ZwKoC+GkB/TlAgPQbee8sS0Di8YYssZpSQCQeot3ix1RAUJQTZv7IU0DBm/hE2YlPQBPjDlk6sUJAEG9cFBjxF0CIL//jz1M6wJwsHmeHT0vAjq77jPGkUsBwrVgKh8lUwDdhLDvGwVPAUhraf+RrT8D1dRPKU4hCwNAL5gpIhBbA0qVBsX6qOkA8i4N5/nFLQMQPoyQFVlVA",
          "dtype": "f8"
         },
         "z": {
          "bdata": "zG3WCZGeTMBIKFEhqyonwCrX7He5uEBAMfwW3A6eU0DOjDf8wN9eQLEOLI65EGVA/FY8npKxakChTybXNSlwQMRzLl+i+XJA55c25w7KdUAJvD5ve5p4QC/gRvfnantAVgRPf1Q7fkA/lKuD4IWAQFKmr8cW7oFAZ7izC01Wg0B6yrdPg76EQI3cu5O5JoZAoe6/1++Oh0C0AMQbJveIQJ4CtD9UWopA",
          "dtype": "f8"
         }
        },
        {
         "line": {
          "color": "blue"
         },
         "mode": "lines",
         "type": "scatter3d",
         "x": {
          "bdata": "SiegwbGvV8BqPSgBoQFgwKNIMkrBh2HAaSsIAtJgYMCK11KjsXNZwNiCNAQ9hkzAkJXHHE6mDMCl3aWwbDdJQJvozmDoL1hAuhAPZnMJYECM0jH9PohhQKZ599LnWWBAcVH78SlZWUCsM/J/4D9MQBC89daN1wdA3k36Mip/ScCd7/oetktYwOSnoX8yEWDAgitRmKeIYcCvrcb36VJgwD47dtVu+VzA",
          "dtype": "f8"
         },
         "y": {
          "bdata": "31g7IerQVcA8DRVtXqlMwCCmOa+hDQ/AnPCZiYITSUCS9giW9iFYQNwncJyMBWBAHjilxgKIYUB/f4lgX11gQFNajZxxZllA3rD3BhNjTEBAJlTs8T4KQG6yCUJPW0nABGkv5dI9WMC2jdhcVQ1gwC/7xe11iGHAhA5dWmtWYMBVSJun2ktZwNY2unmlHEzAgPvElSJwBcDM3K54/aJJQOhaoKuovldA",
          "dtype": "f8"
         },
         "z": {
          "bdata": "cbUcZ7tFUMBcIYhxC1kzwCAh+g69rTlA4xjfYyGtUUB/qf+D0+5cQAodENJCGGRAVGUg4hu5aUCZrTDy9FlvQPB6IAFnfXJAEp8oidNNdUA0wzARQB54QFvnOJms7npAgwtBIRm/fUDVl6TUwkeAQOmpqBj5r4FA/busXC8Yg0AQzrCgZYCEQCPgtOSb6IVAOPK4KNJQh0BLBL1sCLmIQMzSbeOFG4pA",
          "dtype": "f8"
         }
        },
        {
         "line": {
          "color": "blue"
         },
         "mode": "lines",
         "type": "scatter3d",
         "x": {
          "bdata": "VsVZXipvV8C4TRK8w29hwN7z7RIe5mXAE1ZRtrAEZ8BmK8fCvJ9kwMBrzjqnKV7AodidwjnyTMCQEVtCI2grQPae2QNFzVRAGIA9i06AYUAxx3kUDu5lQOXcHbrPAmdAaPEYNVSUZECkoUOjQgNeQCmFE0wCkkxANs6PJfr7LMBs6/ZQavpUwG7FFUzEkGHAGCqrs+P1ZcDwrpcO0wBnwNzqXMgS7WXA",
          "dtype": "f8"
         },
         "y": {
          "bdata": "+QVGXyf6YsAWtLHtyzxewDCo23VIIk3ADCfsVCueKkCSQ033qLZUQMRsNMQLeGFA/B1nXxnqZUCs4kauwwNnQOBTGZULmmRABCVodXkWXkDQy4haIsJMQOxHe/ESMizA5i+rztrjVMDScrEOjIhhwEhV9TD88WXAoKQf2tQBZ8CSKn6klo5kwAZbKMoC8F3AEKC3pdlhTMBYQN6h2MUtQOboNEGzfFFA",
          "dtype": "f8"
         },
         "z": {
          "bdata": "tyHqGvo9RcAglag7txIIQJCq+7OPBEhA5GUe+vlDV0BAex8N1kJhQIzDLx2v42ZA1wtALYiEbEAPKqiesBJxQDJOsCYd43NAVnK4romzdkB4lsA29oN5QJ26yL5iVHxAxN7QRs8kf0B1gWznnfqAQImTcCvUYoJAnaV0bwrLg0Cwt3izQDOFQMPJfPd2m4ZA19uAO60DiEDr7YR/42uJQGDHoq5d0IpA",
          "dtype": "f8"
         }
        },
        {
         "line": {
          "color": "blue"
         },
         "mode": "lines",
         "type": "scatter3d",
         "x": {
          "bdata": "dD7di60STcAcmYB7NAVcwEb4C9AT9mTAen5MImq2aMAjQXd9BLFowCDSX8q15mTAdItOvzjXW8Ca96zrFkJDwMhXNhLZGkRAGwqCgQ4zXED2JLadWAVlQJRiuguyu2hAcPG4I4GraECDxy6fPtdkQCSiPoQbqVtAK6b81ZLVQkDGWkYeFodEwF6sKJrGYFzAMpr/IIQUZcBUa2Yz3MBowE4UcOc46mjA",
          "dtype": "f8"
         },
         "y": {
          "bdata": "2t6zpyT9Z8DoCA/zZ+5kwH5sudA67lvAI2ZgTlB4Q8A2qvFxseRDQFr8urglHFxA6u8HX7n9ZEBu2tbOEbloQJvxy4ZGrmhAOulOWP3eZEBmkitOLsBbQJBkG77XC0NAoJhqpvpQRMDSwPHO7klcwGayy4nxDGXAn+Qs2Eq+aMCcnhNVtKhowArJU6F5z2TA+lx4aACSW8DUa6NDSJ9CwMuc7p/f9jVA",
          "dtype": "f8"
         },
         "z": {
          "bdata": "tzsYVvQ5Er08IUFAZINGQD0hQUBkg1ZA7dgwMIviYEA8IUFAZINmQIlpUVA9JGxA7NgwMIvicEAQ/Ti497JzQDQhQUBkg3ZAWEVJyNBTeUB6aVFQPSR8QJ6NWdip9H5A4tgwMIvigED16jR0wUqCQAj9OLj3soNAHA89/C0bhUAvIUFAZIOGQEIzRYSa64dAVkVJyNBTiUBqV00MB7yKQHxpUVA9JIxA",
          "dtype": "f8"
         }
        },
        {
         "color": "red",
         "i": {
          "bdata": "AAEBAgIDAwQEBQUGBgcHCAgJCQoKCwsMDA0NDg4PDxAQERESEhMTFA==",
          "dtype": "i1"
         },
         "j": {
          "bdata": "ARYCFwMYBBkFGgYbBxwIHQkeCh8LIAwhDSIOIw8kECURJhInEygUKQ==",
          "dtype": "i1"
         },
         "k": {
          "bdata": "FRUWFhcXGBgZGRoaGxscHB0dHh4fHyAgISEiIiMjJCQlJSYmJycoKA==",
          "dtype": "i1"
         },
         "name": "surface",
         "opacity": 0.6,
         "type": "mesh3d",
         "x": {
          "bdata": "cD7di60STUAamYB7NAVcQEb4C9AT9mRAen5MImq2aEAjQXd9BLFoQCHSX8q15mRAdYtOvzjXW0Ce96zrFkJDQMVXNhLZGkTAGgqCgQ4zXMD2JLadWAVlwJRiuguyu2jAcPG4I4GraMCExy6fPtdkwCWiPoQbqVvALqb81ZLVQsDDWkYeFodEQFysKJrGYFxAMpr/IIQUZUBUa2Yz3MBoQE4UcOc46mhA8g7iso+AEkCW1M1lTlJNQJj2T4jnT15AFO9TgAyrZEAsbe8AdgZnQGZtlLgT3mVAICV78iNfYUCMDlKLr3JUQFjNTXYUQChAf+IKwj+yTcB4/cJdA3ZewJ5TI2BDtmTAjMXWlx8IZ8BgoxkP79VlwE46eEJvTmHA5mXjzD9FVMBCD6VZ4KsmwBDc5mMNEk5AbxtOjfqbXkB4WrdUYcFkQMrFKzskDmZA",
          "dtype": "f8"
         },
         "y": {
          "bdata": "2t6zpyT9Z0DoCA/zZ+5kQH5sudA67ltAJmZgTlB4Q0AzqvFxseRDwFj8urglHFzA6e8HX7n9ZMBu2tbOEblowJvxy4ZGrmjAOulOWP3eZMBnkitOLsBbwJRkG77XC0PAnZhqpvpQREDSwPHO7klcQGWyy4nxDGVAn+Qs2Eq+aECcnhNVtKhoQArJU6F5z2RA+1x4aACSW0DWa6NDSJ9CQMWc7p/f9jXAxqgttxmZZ0An3kAwHOJlQCrMVHV2Z2FAXMA5NF6JVEBYfCKyIwopQMKbAoRLgk3AoujpBPpiXsDC4MsMq7BkwKy5+kJOB2fAIS0frQTaZcD2KAY2zFZhwE177rv6W1TASHA27/11J8DxN3oRK+JNQJ1nIY0DiV5AE3ereNW7ZEAEmkT/6QhnQJdPvt/S0WVAmkxVGg1GYUCgAwfFfi5UQP6jaEFchTpA",
          "dtype": "f8"
         },
         "z": {
          "bdata": "AAAAAAAAAAA+IUFAZINGQD4hQUBkg1ZA7tgwMIviYEA9IUFAZINmQIppUVA9JGxA7NgwMIvicEAQ/Ti497JzQDQhQUBkg3ZAWEVJyNBTeUB6aVFQPSR8QJ6NWdip9H5A4tgwMIvigED16jR0wUqCQAj9OLj3soNAHA89/C0bhUAvIUFAZIOGQEIzRYSa64dAVkVJyNBTiUBqV00MB7yKQHxpUVA9JIxAtCHqGvo9RUCT3GOGzsJVQJk2QlNAgmBA6X5SYxkjZkA5x2Jz8sNrQMSHucFlsnBA7KvBSdKCc0AR0MnRPlN2QDX00VmrI3lAWhja4Rf0e0B8POJphMR+QE8w9Xh4yoBAYkL5vK4ygkB0VP0A5ZqDQIdmAUUbA4VAm3gFiVFrhkCuignNh9OHQMCcDRG+O4lA1K4RVfSjikDpwBWZKgyMQJgLAPIceI1A",
          "dtype": "f8"
         }
        },
        {
         "color": "red",
         "i": {
          "bdata": "AAEBAgIDAwQEBQUGBgcHCAgJCQoKCwsMDA0NDg4PDxAQERESEhMTFA==",
          "dtype": "i1"
         },
         "j": {
          "bdata": "ARYCFwMYBBkFGgYbBxwIHQkeCh8LIAwhDSIOIw8kECURJhInEygUKQ==",
          "dtype": "i1"
         },
         "k": {
          "bdata": "FRUWFhcXGBgZGRoaGxscHB0dHh4fHyAgISEiIiMjJCQlJSYmJycoKA==",
          "dtype": "i1"
         },
         "name": "surface",
         "opacity": 0.6,
         "type": "mesh3d",
         "x": {
          "bdata": "8g7iso+AEkCW1M1lTlJNQJj2T4jnT15AFO9TgAyrZEAsbe8AdgZnQGZtlLgT3mVAICV78iNfYUCMDlKLr3JUQFjNTXYUQChAf+IKwj+yTcB4/cJdA3ZewJ5TI2BDtmTAjMXWlx8IZ8BgoxkP79VlwE46eEJvTmHA5mXjzD9FVMBCD6VZ4KsmwBDc5mMNEk5AbxtOjfqbXkB4WrdUYcFkQMrFKzskDmZAOn1LSQTkRMAgQUv1dboQQOBHCDd3zExA8nqJtRqOWUDcB6d8qGdgQIjJ6X8uh2FAQJWstHbzX0BIkVK59fdXQAQFl/6Wp0hA2N/nu7AhE8C+qu/DjhJNwKTi2AhlqFnA2AeaOmtuYMBG8AifhoZhwGgAM/aE41/AVQ9SE9HbV8DEW+l7f19IwOBuCH7UiBVAYoGWVoNYTUBqsp99kMJZQITaDXnCXl1A",
          "dtype": "f8"
         },
         "y": {
          "bdata": "xqgttxmZZ0An3kAwHOJlQCrMVHV2Z2FAXMA5NF6JVEBYfCKyIwopQMKbAoRLgk3AoujpBPpiXsDC4MsMq7BkwKy5+kJOB2fAIS0frQTaZcD2KAY2zFZhwE177rv6W1TASHA27/11J8DxN3oRK+JNQJ1nIY0DiV5AE3ereNW7ZEAEmkT/6QhnQJdPvt/S0WVAmkxVGg1GYUCgAwfFfi5UQP6jaEFchTpARFBfMtb8YUBStuyHeodhQMxcyiph+19AVs0VPv0FWEBgtsGll8tIQGiY5goW7hHARsN/V4fvTMBBCgm5Q5tZwHK2uFMMa2DAqmBAMt2GYcDWqFiigutfwITY/f7m6VfArm4H7Y6DSMA4ssmrRVUUQJTGznGNNU1AXAAGoX61WUDBcEcwxXFgQCCCXcYqhmFAYuaisn3bX0BKyov6s81XQFh+BBIKaUpA",
          "dtype": "f8"
         },
         "z": {
          "bdata": "tCHqGvo9RUCT3GOGzsJVQJk2QlNAgmBA6X5SYxkjZkA5x2Jz8sNrQMSHucFlsnBA7KvBSdKCc0AR0MnRPlN2QDX00VmrI3lAWhja4Rf0e0B8POJphMR+QE8w9Xh4yoBAYkL5vK4ygkB0VP0A5ZqDQIdmAUUbA4VAm3gFiVFrhkCuignNh9OHQMCcDRG+O4lA1K4RVfSjikDpwBWZKgyMQJgLAPIceI1AcbUcZ7tFUECVKaMcp1lbQBrdYZ6sTWNAaiVyroXuaEC6bYK+Xo9uQAVbSecbGHJALn9Rb4jodEBTo1n39Lh3QHjHYX9hiXpAnetpB85ZfUDgB7lHHRWAQPAZvYtTfYFAAizBz4nlgkAVPsUTwE2EQCdQyVf2tYVAO2LNmyweh0BOdNHfYoaIQGGG1SOZ7olAdJjZZ89Wi0CJqt2rBb+MQCwANb30LI5A",
          "dtype": "f8"
         }
        },
        {
         "color": "red",
         "i": {
          "bdata": "AAEBAgIDAwQEBQUGBgcHCAgJCQoKCwsMDA0NDg4PDxAQERESEhMTFA==",
          "dtype": "i1"
         },
         "j": {
          "bdata": "ARYCFwMYBBkFGgYbBxwIHQkeCh8LIAwhDSIOIw8kECURJhInEygUKQ==",
          "dtype": "i1"
         },
         "k": {
          "bdata": "FRUWFhcXGBgZGRoaGxscHB0dHh4fHyAgISEiIiMjJCQlJSYmJycoKA==",
          "dtype": "i1"
         },
         "name": "surface",
         "opacity": 0.6,
         "type": "mesh3d",
         "x": {
          "bdata": "On1LSQTkRMAgQUv1dboQQOBHCDd3zExA8nqJtRqOWUDcB6d8qGdgQIjJ6X8uh2FAQJWstHbzX0BIkVK59fdXQAQFl/6Wp0hA2N/nu7AhE8C+qu/DjhJNwKTi2AhlqFnA2AeaOmtuYMBG8AifhoZhwGgAM/aE41/AVQ9SE9HbV8DEW+l7f19IwOBuCH7UiBVAYoGWVoNYTUBqsp99kMJZQITaDXnCXl1A1K3lbiauTcD8PcxsjtE5wOBqLJcZFBpAeNN49WnuQkBiEx88gbZPQMD+7QGm01NAgvhluj3FVEBqStqnJotSQNx1aFPO+EpA/CJ8M5F6OUAQ2fZmnoAbwAcBee8XF0PAyJyi4RbUT8BhNl6aotpTwNgLjxBbw1TAN3qWaa6AUsBQcsr25NVKwIg0xlJ1IznAYM8UIALtHEAQAL3xrj9DQNZVnYcYA0lA",
          "dtype": "f8"
         },
         "y": {
          "bdata": "RFBfMtb8YUBStuyHeodhQMxcyiph+19AVs0VPv0FWEBgtsGll8tIQGiY5goW7hHARsN/V4fvTMBBCgm5Q5tZwHK2uFMMa2DAqmBAMt2GYcDWqFiigutfwITY/f7m6VfArm4H7Y6DSMA4ssmrRVUUQJTGznGNNU1AXAAGoX61WUDBcEcwxXFgQCCCXcYqhmFAYuaisn3bX0BKyov6s81XQFh+BBIKaUpAusJqm8qQU0C8yjXDHtBTQNdafLAlxlRAnlkBalqQUkCmlxvZNgpLQLxRnKsTpjlA8Cd/BmDKGsBJAWLOwwJDwJk7C9ZQxU/AiBgASifXU8AB/P6ET8RUwHNA21HthVLAGB/jsF3nSsBc7IERB085wNDKwoHUNhxAWoagUmYrQ0A8pnNa0+JPQMpA/PEX3lNAxa1fXWDCVECg4Z/waXtSQCaABdx7UEZA",
          "dtype": "f8"
         },
         "z": {
          "bdata": "cbUcZ7tFUECVKaMcp1lbQBrdYZ6sTWNAaiVyroXuaEC6bYK+Xo9uQAVbSecbGHJALn9Rb4jodEBTo1n39Lh3QHjHYX9hiXpAnetpB85ZfUDgB7lHHRWAQPAZvYtTfYFAAizBz4nlgkAVPsUTwE2EQCdQyVf2tYVAO2LNmyweh0BOdNHfYoaIQGGG1SOZ7olAdJjZZ89Wi0CJqt2rBb+MQCwANb30LI5Az23WCZGeTEBIRmukuWhZQHTrReI1VWJAxDNW8g72Z0AUfGYC6JZtQDJiO4ngm3FAWoZDEU1sdECAqkuZuTx3QKTOUyEmDXpAyfJbqZLdfEDrFmQx/61/QIcdttw1P4FAmS+6IGyngkCrQb5kog+EQL5TwqjYd4VA0mXG7A7ghkDkd8owRUiIQPeJznR7sIlAC5zSuLEYi0Agrtb854CMQFrQ7mAm7o1A",
          "dtype": "f8"
         }
        },
        {
         "color": "red",
         "i": {
          "bdata": "AAEBAgIDAwQEBQUGBgcHCAgJCQoKCwsMDA0NDg4PDxAQERESEhMTFA==",
          "dtype": "i1"
         },
         "j": {
          "bdata": "ARYCFwMYBBkFGgYbBxwIHQkeCh8LIAwhDSIOIw8kECURJhInEygUKQ==",
          "dtype": "i1"
         },
         "k": {
          "bdata": "FRUWFhcXGBgZGRoaGxscHB0dHh4fHyAgISEiIiMjJCQlJSYmJycoKA==",
          "dtype": "i1"
         },
         "name": "surface",
         "opacity": 0.6,
         "type": "mesh3d",
         "x": {
          "bdata": "1K3lbiauTcD8PcxsjtE5wOBqLJcZFBpAeNN49WnuQkBiEx88gbZPQMD+7QGm01NAgvhluj3FVEBqStqnJotSQNx1aFPO+EpA/CJ8M5F6OUAQ2fZmnoAbwAcBee8XF0PAyJyi4RbUT8BhNl6aotpTwNgLjxBbw1TAN3qWaa6AUsBQcsr25NVKwIg0xlJ1IznAYM8UIALtHEAQAL3xrj9DQNZVnYcYA0lA0Hf2snfxQ8BA9rW3Q1IxwJg2FaJ6KyDA4Kh2Rd4VA0A4kRlx9PsoQKY4e+cLsTRABORR+YO7OUC8P9eYZNg6QIRmUyMx3DdAbOBTkZE7MUDw2snHDuYfQGDgmgVvAQTAqHljLUwwKcDYebrN8sM0wEem1z1DxDnAeosAaKbVOsBLftGtYM43wJARUq/KJDHA0Ky06gF1H8AAmBK05+wEQPBnNLKBixZA",
          "dtype": "f8"
         },
         "y": {
          "bdata": "usJqm8qQU0C8yjXDHtBTQNdafLAlxlRAnlkBalqQUkCmlxvZNgpLQLxRnKsTpjlA8Cd/BmDKGsBJAWLOwwJDwJk7C9ZQxU/AiBgASifXU8AB/P6ET8RUwHNA21HthVLAGB/jsF3nSsBc7IERB085wNDKwoHUNhxAWoagUmYrQ0A8pnNa0+JPQMpA/PEX3lNAxa1fXWDCVECg4Z/waXtSQCaABdx7UEZAiFlB/8aUNkCy0xIdj6c0QIyEUboYtzlAfynblLfZOkBur0qbDuM3QCxerj3tRjFA4JFHbUMPIEDgWwiWqYsDwBAnERUkFinA5vyleIK6NMCdPe965785wFrpwIkJ1zrAor4kfkzVN8DoEBG2MDAxwNC01hyNrR/A4MzBcC53BECgdzKybEopQAbk4eNczTRA5IC7QJfIOUDE8gA0O9Q6QEywo8onHRdA",
          "dtype": "f8"
         },
         "z": {
          "bdata": "z23WCZGeTEBIRmukuWhZQHTrReI1VWJAxDNW8g72Z0AUfGYC6JZtQDJiO4ngm3FAWoZDEU1sdECAqkuZuTx3QKTOUyEmDXpAyfJbqZLdfEDrFmQx/61/QIcdttw1P4FAmS+6IGyngkCrQb5kog+EQL5TwqjYd4VA0mXG7A7ghkDkd8owRUiIQPeJznR7sIlAC5zSuLEYi0Agrtb854CMQFrQ7mAm7o1AXJKeZvmaNkCh3V+2ithQQEBugNY8GlxAb39Qe/etY0C/x2CL0E5pQA0QcZup725ALqzAVUFIckBS0MjdrRh1QHf00GUa6XdAmxjZ7Ya5ekC9POF184l9QHCw9P4vLYBAg8L4QmaVgUCW1PyGnP2CQKjmAMvSZYRAvPgEDwnOhUDPCglTPzaHQOIcDZd1nohA9i4R26sGikAKQRUf4m6LQA9ehhsV2YxA",
          "dtype": "f8"
         }
        },
        {
         "color": "red",
         "i": {
          "bdata": "AAEBAgIDAwQEBQUGBgcHCAgJCQoKCwsMDA0NDg4PDxAQERESEhMTFA==",
          "dtype": "i1"
         },
         "j": {
          "bdata": "ARYCFwMYBBkFGgYbBxwIHQkeCh8LIAwhDSIOIw8kECURJhInEygUKQ==",
          "dtype": "i1"
         },
         "k": {
          "bdata": "FRUWFhcXGBgZGRoaGxscHB0dHh4fHyAgISEiIiMjJCQlJSYmJycoKA==",
          "dtype": "i1"
         },
         "name": "surface",
         "opacity": 0.6,
         "type": "mesh3d",
         "x": {
          "bdata": "0Hf2snfxQ8BA9rW3Q1IxwJg2FaJ6KyDA4Kh2Rd4VA0A4kRlx9PsoQKY4e+cLsTRABORR+YO7OUC8P9eYZNg6QIRmUyMx3DdAbOBTkZE7MUDw2snHDuYfQGDgmgVvAQTAqHljLUwwKcDYebrN8sM0wEem1z1DxDnAeosAaKbVOsBLftGtYM43wJARUq/KJDHA0Ky06gF1H8AAmBK05+wEQPBnNLKBixZArlnwmWodHkAyYEK/pbI5QIBVRxwMnjRASBm+pX7HKECgsA+PNioCQGCjAGzaYyDAkgYqB+FoMcC4/Ujfe/c3wHLjiBKA3TrAtnFUmqipOcCEhPqC84o0wAipbgrrkijA4Cfr/Xg+AcAYGdR9JpwgQL7bemRpfzFA6c7mBPYEOEBkwj5V3d86QJGeWJWMoDlAFEuOMsJ3NEAopmzeOV4oQHDRldJ1WBRA",
          "dtype": "f8"
         },
         "y": {
          "bdata": "iFlB/8aUNkCy0xIdj6c0QIyEUboYtzlAfynblLfZOkBur0qbDuM3QCxerj3tRjFA4JFHbUMPIEDgWwiWqYsDwBAnERUkFinA5vyleIK6NMCdPe965785wFrpwIkJ1zrAor4kfkzVN8DoEBG2MDAxwNC01hyNrR/A4MzBcC53BECgdzKybEopQAbk4eNczTRA5IC7QJfIOUDE8gA0O9Q6QEywo8onHRdAgIqKg4VKB0AQR9H5rEcgwPaoAfyUXTHAHNhS+7PwN8ArSxZSRdw6wAoMewkrrjnAHCT154KUNMBAniGOOK0owAC9G3BatAHAcKMp8AKAIEDsMMnVJ3QxQGxM0o08/jdADstfvrLeOkCaySlzHqU5QFiTN/BdgTRA2H+OIpZ4KECglfJbksgAQGhdiQxFuCDAhlTcr6WKMcBSwYBCqAs4wFia0syhxkbA",
          "dtype": "f8"
         },
         "z": {
          "bdata": "XJKeZvmaNkCh3V+2ithQQEBugNY8GlxAb39Qe/etY0C/x2CL0E5pQA0QcZup725ALqzAVUFIckBS0MjdrRh1QHf00GUa6XdAmxjZ7Ya5ekC9POF184l9QHCw9P4vLYBAg8L4QmaVgUCW1PyGnP2CQKjmAMvSZYRAvPgEDwnOhUDPCglTPzaHQOIcDZd1nohA9i4R26sGikAKQRUf4m6LQA9ehhsV2YxAWJKeZvmaNsB5DoUnZqs2QD3UAaqL7FBA2mQiyj0uXEC8eiH197djQAjDMQXRWGlAVAtCFar5bkDOKamSQU1yQPJNsRquHXVAFXK5ohrud0A3lsEqh756QFy6ybLzjn1AQe9oHbAvgEBUAW1h5peBQGgTcaUcAINAfCV16VJohECPN3ktidCFQKJJfXG/OIdAtluBtfWgiEDKbYX5KwmKQOl0HIVlb4tA",
          "dtype": "f8"
         }
        },
        {
         "color": "red",
         "i": {
          "bdata": "AAEBAgIDAwQEBQUGBgcHCAgJCQoKCwsMDA0NDg4PDxAQERESEhMTFA==",
          "dtype": "i1"
         },
         "j": {
          "bdata": "ARYCFwMYBBkFGgYbBxwIHQkeCh8LIAwhDSIOIw8kECURJhInEygUKQ==",
          "dtype": "i1"
         },
         "k": {
          "bdata": "FRUWFhcXGBgZGRoaGxscHB0dHh4fHyAgISEiIiMjJCQlJSYmJycoKA==",
          "dtype": "i1"
         },
         "name": "surface",
         "opacity": 0.6,
         "type": "mesh3d",
         "x": {
          "bdata": "rlnwmWodHkAyYEK/pbI5QIBVRxwMnjRASBm+pX7HKECgsA+PNioCQGCjAGzaYyDAkgYqB+FoMcC4/Ujfe/c3wHLjiBKA3TrAtnFUmqipOcCEhPqC84o0wAipbgrrkijA4Cfr/Xg+AcAYGdR9JpwgQL7bemRpfzFA6c7mBPYEOEBkwj5V3d86QJGeWJWMoDlAFEuOMsJ3NEAopmzeOV4oQHDRldJ1WBRAAoiuqXZZTkDyXfxmB8dUQNMp546RzFNAJAcdb8WYT0AksK00pcVCQBB2RGd1pxhAIhAOlmwoOsAbrfeIPz5LwFlkySnUn1LAPZkrFLjIVMBjTc5JZcVTwMFXYp7jek/A8TQk3smcQsBgmvONszoXwLaHvkYrfzpA8NZcDsdgS0Dn+ZNUCapSQDAa679PylRASaZEOyG+U0DAnOLt21xPQJNzhKjiUEhA",
          "dtype": "f8"
         },
         "y": {
          "bdata": "gIqKg4VKB0AQR9H5rEcgwPaoAfyUXTHAHNhS+7PwN8ArSxZSRdw6wAoMewkrrjnAHCT154KUNMBAniGOOK0owAC9G3BatAHAcKMp8AKAIEDsMMnVJ3QxQGxM0o08/jdADstfvrLeOkCaySlzHqU5QFiTN/BdgTRA2H+OIpZ4KECglfJbksgAQGhdiQxFuCDAhlTcr6WKMcBSwYBCqAs4wFia0syhxkbAhAFSku10PEDgtNFPy10ZQKoC+GkB/TnAgPQbee8sS8Di8YYssZpSwCQeot3ix1TAUJQTZv7IU8DBm/hE2YlPwBPjDlk6sULAEG9cFBjxF8CIL//jz1M6QJwsHmeHT0tAjq77jPGkUkBwrVgKh8lUQDdhLDvGwVNAUhraf+RrT0D1dRPKU4hCQNAL5gpIhBZA0qVBsX6qOsA8i4N5/nFLwMQPoyQFVlXA",
          "dtype": "f8"
         },
         "z": {
          "bdata": "WJKeZvmaNsB5DoUnZqs2QD3UAaqL7FBA2mQiyj0uXEC8eiH197djQAjDMQXRWGlAVAtCFar5bkDOKamSQU1yQPJNsRquHXVAFXK5ohrud0A3lsEqh756QFy6ybLzjn1AQe9oHbAvgEBUAW1h5peBQGgTcaUcAINAfCV16VJohECPN3ktidCFQKJJfXG/OIdAtluBtfWgiEDKbYX5KwmKQOl0HIVlb4tAzG3WCZGeTMBIKFEhqyonwCrX7He5uEBAMfwW3A6eU0DOjDf8wN9eQLEOLI65EGVA/FY8npKxakChTybXNSlwQMRzLl+i+XJA55c25w7KdUAJvD5ve5p4QC/gRvfnantAVgRPf1Q7fkA/lKuD4IWAQFKmr8cW7oFAZ7izC01Wg0B6yrdPg76EQI3cu5O5JoZAoe6/1++Oh0C0AMQbJveIQJ4CtD9UWopA",
          "dtype": "f8"
         }
        },
        {
         "color": "red",
         "i": {
          "bdata": "AAEBAgIDAwQEBQUGBgcHCAgJCQoKCwsMDA0NDg4PDxAQERESEhMTFA==",
          "dtype": "i1"
         },
         "j": {
          "bdata": "ARYCFwMYBBkFGgYbBxwIHQkeCh8LIAwhDSIOIw8kECURJhInEygUKQ==",
          "dtype": "i1"
         },
         "k": {
          "bdata": "FRUWFhcXGBgZGRoaGxscHB0dHh4fHyAgISEiIiMjJCQlJSYmJycoKA==",
          "dtype": "i1"
         },
         "name": "surface",
         "opacity": 0.6,
         "type": "mesh3d",
         "x": {
          "bdata": "AoiuqXZZTkDyXfxmB8dUQNMp546RzFNAJAcdb8WYT0AksK00pcVCQBB2RGd1pxhAIhAOlmwoOsAbrfeIPz5LwFlkySnUn1LAPZkrFLjIVMBjTc5JZcVTwMFXYp7jek/A8TQk3smcQsBgmvONszoXwLaHvkYrfzpA8NZcDsdgS0Dn+ZNUCapSQDAa679PylRASaZEOyG+U0DAnOLt21xPQJNzhKjiUEhASiegwbGvV0BqPSgBoQFgQKNIMkrBh2FAaSsIAtJgYECK11KjsXNZQNiCNAQ9hkxAkJXHHE6mDECl3aWwbDdJwJvozmDoL1jAuhAPZnMJYMCM0jH9PohhwKZ599LnWWDAcVH78SlZWcCsM/J/4D9MwBC89daN1wfA3k36Mip/SUCd7/oetktYQOSnoX8yEWBAgitRmKeIYUCvrcb36VJgQD47dtVu+VxA",
          "dtype": "f8"
         },
         "y": {
          "bdata": "hAFSku10PEDgtNFPy10ZQKoC+GkB/TnAgPQbee8sS8Di8YYssZpSwCQeot3ix1TAUJQTZv7IU8DBm/hE2YlPwBPjDlk6sULAEG9cFBjxF8CIL//jz1M6QJwsHmeHT0tAjq77jPGkUkBwrVgKh8lUQDdhLDvGwVNAUhraf+RrT0D1dRPKU4hCQNAL5gpIhBZA0qVBsX6qOsA8i4N5/nFLwMQPoyQFVlXA31g7IerQVUA8DRVtXqlMQCCmOa+hDQ9AnPCZiYITScCS9giW9iFYwNwncJyMBWDAHjilxgKIYcB/f4lgX11gwFNajZxxZlnA3rD3BhNjTMBAJlTs8T4KwG6yCUJPW0lABGkv5dI9WEC2jdhcVQ1gQC/7xe11iGFAhA5dWmtWYEBVSJun2ktZQNY2unmlHExAgPvElSJwBUDM3K54/aJJwOhaoKuovlfA",
          "dtype": "f8"
         },
         "z": {
          "bdata": "zG3WCZGeTMBIKFEhqyonwCrX7He5uEBAMfwW3A6eU0DOjDf8wN9eQLEOLI65EGVA/FY8npKxakChTybXNSlwQMRzLl+i+XJA55c25w7KdUAJvD5ve5p4QC/gRvfnantAVgRPf1Q7fkA/lKuD4IWAQFKmr8cW7oFAZ7izC01Wg0B6yrdPg76EQI3cu5O5JoZAoe6/1++Oh0C0AMQbJveIQJ4CtD9UWopAcbUcZ7tFUMBcIYhxC1kzwCAh+g69rTlA4xjfYyGtUUB/qf+D0+5cQAodENJCGGRAVGUg4hu5aUCZrTDy9FlvQPB6IAFnfXJAEp8oidNNdUA0wzARQB54QFvnOJms7npAgwtBIRm/fUDVl6TUwkeAQOmpqBj5r4FA/busXC8Yg0AQzrCgZYCEQCPgtOSb6IVAOPK4KNJQh0BLBL1sCLmIQMzSbeOFG4pA",
          "dtype": "f8"
         }
        },
        {
         "color": "red",
         "i": {
          "bdata": "AAEBAgIDAwQEBQUGBgcHCAgJCQoKCwsMDA0NDg4PDxAQERESEhMTFA==",
          "dtype": "i1"
         },
         "j": {
          "bdata": "ARYCFwMYBBkFGgYbBxwIHQkeCh8LIAwhDSIOIw8kECURJhInEygUKQ==",
          "dtype": "i1"
         },
         "k": {
          "bdata": "FRUWFhcXGBgZGRoaGxscHB0dHh4fHyAgISEiIiMjJCQlJSYmJycoKA==",
          "dtype": "i1"
         },
         "name": "surface",
         "opacity": 0.6,
         "type": "mesh3d",
         "x": {
          "bdata": "SiegwbGvV0BqPSgBoQFgQKNIMkrBh2FAaSsIAtJgYECK11KjsXNZQNiCNAQ9hkxAkJXHHE6mDECl3aWwbDdJwJvozmDoL1jAuhAPZnMJYMCM0jH9PohhwKZ599LnWWDAcVH78SlZWcCsM/J/4D9MwBC89daN1wfA3k36Mip/SUCd7/oetktYQOSnoX8yEWBAgitRmKeIYUCvrcb36VJgQD47dtVu+VxAVsVZXipvV0C4TRK8w29hQN7z7RIe5mVAE1ZRtrAEZ0BmK8fCvJ9kQMBrzjqnKV5AodidwjnyTECQEVtCI2grwPae2QNFzVTAGIA9i06AYcAxx3kUDu5lwOXcHbrPAmfAaPEYNVSUZMCkoUOjQgNewCmFE0wCkkzANs6PJfr7LEBs6/ZQavpUQG7FFUzEkGFAGCqrs+P1ZUDwrpcO0wBnQNzqXMgS7WVA",
          "dtype": "f8"
         },
         "y": {
          "bdata": "31g7IerQVUA8DRVtXqlMQCCmOa+hDQ9AnPCZiYITScCS9giW9iFYwNwncJyMBWDAHjilxgKIYcB/f4lgX11gwFNajZxxZlnA3rD3BhNjTMBAJlTs8T4KwG6yCUJPW0lABGkv5dI9WEC2jdhcVQ1gQC/7xe11iGFAhA5dWmtWYEBVSJun2ktZQNY2unmlHExAgPvElSJwBUDM3K54/aJJwOhaoKuovlfA+QVGXyf6YkAWtLHtyzxeQDCo23VIIk1ADCfsVCueKsCSQ033qLZUwMRsNMQLeGHA/B1nXxnqZcCs4kauwwNnwOBTGZULmmTABCVodXkWXsDQy4haIsJMwOxHe/ESMixA5i+rztrjVEDScrEOjIhhQEhV9TD88WVAoKQf2tQBZ0CSKn6klo5kQAZbKMoC8F1AEKC3pdlhTEBYQN6h2MUtwOboNEGzfFHA",
          "dtype": "f8"
         },
         "z": {
          "bdata": "cbUcZ7tFUMBcIYhxC1kzwCAh+g69rTlA4xjfYyGtUUB/qf+D0+5cQAodENJCGGRAVGUg4hu5aUCZrTDy9FlvQPB6IAFnfXJAEp8oidNNdUA0wzARQB54QFvnOJms7npAgwtBIRm/fUDVl6TUwkeAQOmpqBj5r4FA/busXC8Yg0AQzrCgZYCEQCPgtOSb6IVAOPK4KNJQh0BLBL1sCLmIQMzSbeOFG4pAtyHqGvo9RcAglag7txIIQJCq+7OPBEhA5GUe+vlDV0BAex8N1kJhQIzDLx2v42ZA1wtALYiEbEAPKqiesBJxQDJOsCYd43NAVnK4romzdkB4lsA29oN5QJ26yL5iVHxAxN7QRs8kf0B1gWznnfqAQImTcCvUYoJAnaV0bwrLg0Cwt3izQDOFQMPJfPd2m4ZA19uAO60DiEDr7YR/42uJQGDHoq5d0IpA",
          "dtype": "f8"
         }
        },
        {
         "color": "red",
         "i": {
          "bdata": "AAEBAgIDAwQEBQUGBgcHCAgJCQoKCwsMDA0NDg4PDxAQERESEhMTFA==",
          "dtype": "i1"
         },
         "j": {
          "bdata": "ARYCFwMYBBkFGgYbBxwIHQkeCh8LIAwhDSIOIw8kECURJhInEygUKQ==",
          "dtype": "i1"
         },
         "k": {
          "bdata": "FRUWFhcXGBgZGRoaGxscHB0dHh4fHyAgISEiIiMjJCQlJSYmJycoKA==",
          "dtype": "i1"
         },
         "name": "surface",
         "opacity": 0.6,
         "type": "mesh3d",
         "x": {
          "bdata": "VsVZXipvV0C4TRK8w29hQN7z7RIe5mVAE1ZRtrAEZ0BmK8fCvJ9kQMBrzjqnKV5AodidwjnyTECQEVtCI2grwPae2QNFzVTAGIA9i06AYcAxx3kUDu5lwOXcHbrPAmfAaPEYNVSUZMCkoUOjQgNewCmFE0wCkkzANs6PJfr7LEBs6/ZQavpUQG7FFUzEkGFAGCqrs+P1ZUDwrpcO0wBnQNzqXMgS7WVAdD7di60STUAcmYB7NAVcQEb4C9AT9mRAen5MImq2aEAjQXd9BLFoQCDSX8q15mRAdItOvzjXW0Ca96zrFkJDQMhXNhLZGkTAGwqCgQ4zXMD2JLadWAVlwJRiuguyu2jAcPG4I4GraMCDxy6fPtdkwCSiPoQbqVvAK6b81ZLVQsDGWkYeFodEQF6sKJrGYFxAMpr/IIQUZUBUa2Yz3MBoQE4UcOc46mhA",
          "dtype": "f8"
         },
         "y": {
          "bdata": "+QVGXyf6YkAWtLHtyzxeQDCo23VIIk1ADCfsVCueKsCSQ033qLZUwMRsNMQLeGHA/B1nXxnqZcCs4kauwwNnwOBTGZULmmTABCVodXkWXsDQy4haIsJMwOxHe/ESMixA5i+rztrjVEDScrEOjIhhQEhV9TD88WVAoKQf2tQBZ0CSKn6klo5kQAZbKMoC8F1AEKC3pdlhTEBYQN6h2MUtwOboNEGzfFHA2t6zpyT9Z0DoCA/zZ+5kQH5sudA67ltAI2ZgTlB4Q0A2qvFxseRDwFr8urglHFzA6u8HX7n9ZMBu2tbOEblowJvxy4ZGrmjAOulOWP3eZMBmkitOLsBbwJBkG77XC0PAoJhqpvpQREDSwPHO7klcQGayy4nxDGVAn+Qs2Eq+aECcnhNVtKhoQArJU6F5z2RA+lx4aACSW0DUa6NDSJ9CQMuc7p/f9jXA",
          "dtype": "f8"
         },
         "z": {
          "bdata": "tyHqGvo9RcAglag7txIIQJCq+7OPBEhA5GUe+vlDV0BAex8N1kJhQIzDLx2v42ZA1wtALYiEbEAPKqiesBJxQDJOsCYd43NAVnK4romzdkB4lsA29oN5QJ26yL5iVHxAxN7QRs8kf0B1gWznnfqAQImTcCvUYoJAnaV0bwrLg0Cwt3izQDOFQMPJfPd2m4ZA19uAO60DiEDr7YR/42uJQGDHoq5d0IpAtzsYVvQ5Er08IUFAZINGQD0hQUBkg1ZA7dgwMIviYEA8IUFAZINmQIlpUVA9JGxA7NgwMIvicEAQ/Ti497JzQDQhQUBkg3ZAWEVJyNBTeUB6aVFQPSR8QJ6NWdip9H5A4tgwMIvigED16jR0wUqCQAj9OLj3soNAHA89/C0bhUAvIUFAZIOGQEIzRYSa64dAVkVJyNBTiUBqV00MB7yKQHxpUVA9JIxA",
          "dtype": "f8"
         }
        },
        {
         "line": {
          "color": "red"
         },
         "mode": "lines",
         "type": "scatter3d",
         "x": {
          "bdata": "cD7di60STUAamYB7NAVcQEb4C9AT9mRAen5MImq2aEAjQXd9BLFoQCHSX8q15mRAdYtOvzjXW0Ce96zrFkJDQMVXNhLZGkTAGgqCgQ4zXMD2JLadWAVlwJRiuguyu2jAcPG4I4GraMCExy6fPtdkwCWiPoQbqVvALqb81ZLVQsDDWkYeFodEQFysKJrGYFxAMpr/IIQUZUBUa2Yz3MBoQE4UcOc46mhA",
          "dtype": "f8"
         },
         "y": {
          "bdata": "2t6zpyT9Z0DoCA/zZ+5kQH5sudA67ltAJmZgTlB4Q0AzqvFxseRDwFj8urglHFzA6e8HX7n9ZMBu2tbOEblowJvxy4ZGrmjAOulOWP3eZMBnkitOLsBbwJRkG77XC0PAnZhqpvpQREDSwPHO7klcQGWyy4nxDGVAn+Qs2Eq+aECcnhNVtKhoQArJU6F5z2RA+1x4aACSW0DWa6NDSJ9CQMWc7p/f9jXA",
          "dtype": "f8"
         },
         "z": {
          "bdata": "AAAAAAAAAAA+IUFAZINGQD4hQUBkg1ZA7tgwMIviYEA9IUFAZINmQIppUVA9JGxA7NgwMIvicEAQ/Ti497JzQDQhQUBkg3ZAWEVJyNBTeUB6aVFQPSR8QJ6NWdip9H5A4tgwMIvigED16jR0wUqCQAj9OLj3soNAHA89/C0bhUAvIUFAZIOGQEIzRYSa64dAVkVJyNBTiUBqV00MB7yKQHxpUVA9JIxA",
          "dtype": "f8"
         }
        },
        {
         "line": {
          "color": "red"
         },
         "mode": "lines",
         "type": "scatter3d",
         "x": {
          "bdata": "8g7iso+AEkCW1M1lTlJNQJj2T4jnT15AFO9TgAyrZEAsbe8AdgZnQGZtlLgT3mVAICV78iNfYUCMDlKLr3JUQFjNTXYUQChAf+IKwj+yTcB4/cJdA3ZewJ5TI2BDtmTAjMXWlx8IZ8BgoxkP79VlwE46eEJvTmHA5mXjzD9FVMBCD6VZ4KsmwBDc5mMNEk5AbxtOjfqbXkB4WrdUYcFkQMrFKzskDmZA",
          "dtype": "f8"
         },
         "y": {
          "bdata": "xqgttxmZZ0An3kAwHOJlQCrMVHV2Z2FAXMA5NF6JVEBYfCKyIwopQMKbAoRLgk3AoujpBPpiXsDC4MsMq7BkwKy5+kJOB2fAIS0frQTaZcD2KAY2zFZhwE177rv6W1TASHA27/11J8DxN3oRK+JNQJ1nIY0DiV5AE3ereNW7ZEAEmkT/6QhnQJdPvt/S0WVAmkxVGg1GYUCgAwfFfi5UQP6jaEFchTpA",
          "dtype": "f8"
         },
         "z": {
          "bdata": "tCHqGvo9RUCT3GOGzsJVQJk2QlNAgmBA6X5SYxkjZkA5x2Jz8sNrQMSHucFlsnBA7KvBSdKCc0AR0MnRPlN2QDX00VmrI3lAWhja4Rf0e0B8POJphMR+QE8w9Xh4yoBAYkL5vK4ygkB0VP0A5ZqDQIdmAUUbA4VAm3gFiVFrhkCuignNh9OHQMCcDRG+O4lA1K4RVfSjikDpwBWZKgyMQJgLAPIceI1A",
          "dtype": "f8"
         }
        },
        {
         "line": {
          "color": "red"
         },
         "mode": "lines",
         "type": "scatter3d",
         "x": {
          "bdata": "On1LSQTkRMAgQUv1dboQQOBHCDd3zExA8nqJtRqOWUDcB6d8qGdgQIjJ6X8uh2FAQJWstHbzX0BIkVK59fdXQAQFl/6Wp0hA2N/nu7AhE8C+qu/DjhJNwKTi2AhlqFnA2AeaOmtuYMBG8AifhoZhwGgAM/aE41/AVQ9SE9HbV8DEW+l7f19IwOBuCH7UiBVAYoGWVoNYTUBqsp99kMJZQITaDXnCXl1A",
          "dtype": "f8"
         },
         "y": {
          "bdata": "RFBfMtb8YUBStuyHeodhQMxcyiph+19AVs0VPv0FWEBgtsGll8tIQGiY5goW7hHARsN/V4fvTMBBCgm5Q5tZwHK2uFMMa2DAqmBAMt2GYcDWqFiigutfwITY/f7m6VfArm4H7Y6DSMA4ssmrRVUUQJTGznGNNU1AXAAGoX61WUDBcEcwxXFgQCCCXcYqhmFAYuaisn3bX0BKyov6s81XQFh+BBIKaUpA",
          "dtype": "f8"
         },
         "z": {
          "bdata": "cbUcZ7tFUECVKaMcp1lbQBrdYZ6sTWNAaiVyroXuaEC6bYK+Xo9uQAVbSecbGHJALn9Rb4jodEBTo1n39Lh3QHjHYX9hiXpAnetpB85ZfUDgB7lHHRWAQPAZvYtTfYFAAizBz4nlgkAVPsUTwE2EQCdQyVf2tYVAO2LNmyweh0BOdNHfYoaIQGGG1SOZ7olAdJjZZ89Wi0CJqt2rBb+MQCwANb30LI5A",
          "dtype": "f8"
         }
        },
        {
         "line": {
          "color": "red"
         },
         "mode": "lines",
         "type": "scatter3d",
         "x": {
          "bdata": "1K3lbiauTcD8PcxsjtE5wOBqLJcZFBpAeNN49WnuQkBiEx88gbZPQMD+7QGm01NAgvhluj3FVEBqStqnJotSQNx1aFPO+EpA/CJ8M5F6OUAQ2fZmnoAbwAcBee8XF0PAyJyi4RbUT8BhNl6aotpTwNgLjxBbw1TAN3qWaa6AUsBQcsr25NVKwIg0xlJ1IznAYM8UIALtHEAQAL3xrj9DQNZVnYcYA0lA",
          "dtype": "f8"
         },
         "y": {
          "bdata": "usJqm8qQU0C8yjXDHtBTQNdafLAlxlRAnlkBalqQUkCmlxvZNgpLQLxRnKsTpjlA8Cd/BmDKGsBJAWLOwwJDwJk7C9ZQxU/AiBgASifXU8AB/P6ET8RUwHNA21HthVLAGB/jsF3nSsBc7IERB085wNDKwoHUNhxAWoagUmYrQ0A8pnNa0+JPQMpA/PEX3lNAxa1fXWDCVECg4Z/waXtSQCaABdx7UEZA",
          "dtype": "f8"
         },
         "z": {
          "bdata": "z23WCZGeTEBIRmukuWhZQHTrReI1VWJAxDNW8g72Z0AUfGYC6JZtQDJiO4ngm3FAWoZDEU1sdECAqkuZuTx3QKTOUyEmDXpAyfJbqZLdfEDrFmQx/61/QIcdttw1P4FAmS+6IGyngkCrQb5kog+EQL5TwqjYd4VA0mXG7A7ghkDkd8owRUiIQPeJznR7sIlAC5zSuLEYi0Agrtb854CMQFrQ7mAm7o1A",
          "dtype": "f8"
         }
        },
        {
         "line": {
          "color": "red"
         },
         "mode": "lines",
         "type": "scatter3d",
         "x": {
          "bdata": "0Hf2snfxQ8BA9rW3Q1IxwJg2FaJ6KyDA4Kh2Rd4VA0A4kRlx9PsoQKY4e+cLsTRABORR+YO7OUC8P9eYZNg6QIRmUyMx3DdAbOBTkZE7MUDw2snHDuYfQGDgmgVvAQTAqHljLUwwKcDYebrN8sM0wEem1z1DxDnAeosAaKbVOsBLftGtYM43wJARUq/KJDHA0Ky06gF1H8AAmBK05+wEQPBnNLKBixZA",
          "dtype": "f8"
         },
         "y": {
          "bdata": "iFlB/8aUNkCy0xIdj6c0QIyEUboYtzlAfynblLfZOkBur0qbDuM3QCxerj3tRjFA4JFHbUMPIEDgWwiWqYsDwBAnERUkFinA5vyleIK6NMCdPe965785wFrpwIkJ1zrAor4kfkzVN8DoEBG2MDAxwNC01hyNrR/A4MzBcC53BECgdzKybEopQAbk4eNczTRA5IC7QJfIOUDE8gA0O9Q6QEywo8onHRdA",
          "dtype": "f8"
         },
         "z": {
          "bdata": "XJKeZvmaNkCh3V+2ithQQEBugNY8GlxAb39Qe/etY0C/x2CL0E5pQA0QcZup725ALqzAVUFIckBS0MjdrRh1QHf00GUa6XdAmxjZ7Ya5ekC9POF184l9QHCw9P4vLYBAg8L4QmaVgUCW1PyGnP2CQKjmAMvSZYRAvPgEDwnOhUDPCglTPzaHQOIcDZd1nohA9i4R26sGikAKQRUf4m6LQA9ehhsV2YxA",
          "dtype": "f8"
         }
        },
        {
         "line": {
          "color": "red"
         },
         "mode": "lines",
         "type": "scatter3d",
         "x": {
          "bdata": "rlnwmWodHkAyYEK/pbI5QIBVRxwMnjRASBm+pX7HKECgsA+PNioCQGCjAGzaYyDAkgYqB+FoMcC4/Ujfe/c3wHLjiBKA3TrAtnFUmqipOcCEhPqC84o0wAipbgrrkijA4Cfr/Xg+AcAYGdR9JpwgQL7bemRpfzFA6c7mBPYEOEBkwj5V3d86QJGeWJWMoDlAFEuOMsJ3NEAopmzeOV4oQHDRldJ1WBRA",
          "dtype": "f8"
         },
         "y": {
          "bdata": "gIqKg4VKB0AQR9H5rEcgwPaoAfyUXTHAHNhS+7PwN8ArSxZSRdw6wAoMewkrrjnAHCT154KUNMBAniGOOK0owAC9G3BatAHAcKMp8AKAIEDsMMnVJ3QxQGxM0o08/jdADstfvrLeOkCaySlzHqU5QFiTN/BdgTRA2H+OIpZ4KECglfJbksgAQGhdiQxFuCDAhlTcr6WKMcBSwYBCqAs4wFia0syhxkbA",
          "dtype": "f8"
         },
         "z": {
          "bdata": "WJKeZvmaNsB5DoUnZqs2QD3UAaqL7FBA2mQiyj0uXEC8eiH197djQAjDMQXRWGlAVAtCFar5bkDOKamSQU1yQPJNsRquHXVAFXK5ohrud0A3lsEqh756QFy6ybLzjn1AQe9oHbAvgEBUAW1h5peBQGgTcaUcAINAfCV16VJohECPN3ktidCFQKJJfXG/OIdAtluBtfWgiEDKbYX5KwmKQOl0HIVlb4tA",
          "dtype": "f8"
         }
        },
        {
         "line": {
          "color": "red"
         },
         "mode": "lines",
         "type": "scatter3d",
         "x": {
          "bdata": "AoiuqXZZTkDyXfxmB8dUQNMp546RzFNAJAcdb8WYT0AksK00pcVCQBB2RGd1pxhAIhAOlmwoOsAbrfeIPz5LwFlkySnUn1LAPZkrFLjIVMBjTc5JZcVTwMFXYp7jek/A8TQk3smcQsBgmvONszoXwLaHvkYrfzpA8NZcDsdgS0Dn+ZNUCapSQDAa679PylRASaZEOyG+U0DAnOLt21xPQJNzhKjiUEhA",
          "dtype": "f8"
         },
         "y": {
          "bdata": "hAFSku10PEDgtNFPy10ZQKoC+GkB/TnAgPQbee8sS8Di8YYssZpSwCQeot3ix1TAUJQTZv7IU8DBm/hE2YlPwBPjDlk6sULAEG9cFBjxF8CIL//jz1M6QJwsHmeHT0tAjq77jPGkUkBwrVgKh8lUQDdhLDvGwVNAUhraf+RrT0D1dRPKU4hCQNAL5gpIhBZA0qVBsX6qOsA8i4N5/nFLwMQPoyQFVlXA",
          "dtype": "f8"
         },
         "z": {
          "bdata": "zG3WCZGeTMBIKFEhqyonwCrX7He5uEBAMfwW3A6eU0DOjDf8wN9eQLEOLI65EGVA/FY8npKxakChTybXNSlwQMRzLl+i+XJA55c25w7KdUAJvD5ve5p4QC/gRvfnantAVgRPf1Q7fkA/lKuD4IWAQFKmr8cW7oFAZ7izC01Wg0B6yrdPg76EQI3cu5O5JoZAoe6/1++Oh0C0AMQbJveIQJ4CtD9UWopA",
          "dtype": "f8"
         }
        },
        {
         "line": {
          "color": "red"
         },
         "mode": "lines",
         "type": "scatter3d",
         "x": {
          "bdata": "SiegwbGvV0BqPSgBoQFgQKNIMkrBh2FAaSsIAtJgYECK11KjsXNZQNiCNAQ9hkxAkJXHHE6mDECl3aWwbDdJwJvozmDoL1jAuhAPZnMJYMCM0jH9PohhwKZ599LnWWDAcVH78SlZWcCsM/J/4D9MwBC89daN1wfA3k36Mip/SUCd7/oetktYQOSnoX8yEWBAgitRmKeIYUCvrcb36VJgQD47dtVu+VxA",
          "dtype": "f8"
         },
         "y": {
          "bdata": "31g7IerQVUA8DRVtXqlMQCCmOa+hDQ9AnPCZiYITScCS9giW9iFYwNwncJyMBWDAHjilxgKIYcB/f4lgX11gwFNajZxxZlnA3rD3BhNjTMBAJlTs8T4KwG6yCUJPW0lABGkv5dI9WEC2jdhcVQ1gQC/7xe11iGFAhA5dWmtWYEBVSJun2ktZQNY2unmlHExAgPvElSJwBUDM3K54/aJJwOhaoKuovlfA",
          "dtype": "f8"
         },
         "z": {
          "bdata": "cbUcZ7tFUMBcIYhxC1kzwCAh+g69rTlA4xjfYyGtUUB/qf+D0+5cQAodENJCGGRAVGUg4hu5aUCZrTDy9FlvQPB6IAFnfXJAEp8oidNNdUA0wzARQB54QFvnOJms7npAgwtBIRm/fUDVl6TUwkeAQOmpqBj5r4FA/busXC8Yg0AQzrCgZYCEQCPgtOSb6IVAOPK4KNJQh0BLBL1sCLmIQMzSbeOFG4pA",
          "dtype": "f8"
         }
        },
        {
         "line": {
          "color": "red"
         },
         "mode": "lines",
         "type": "scatter3d",
         "x": {
          "bdata": "VsVZXipvV0C4TRK8w29hQN7z7RIe5mVAE1ZRtrAEZ0BmK8fCvJ9kQMBrzjqnKV5AodidwjnyTECQEVtCI2grwPae2QNFzVTAGIA9i06AYcAxx3kUDu5lwOXcHbrPAmfAaPEYNVSUZMCkoUOjQgNewCmFE0wCkkzANs6PJfr7LEBs6/ZQavpUQG7FFUzEkGFAGCqrs+P1ZUDwrpcO0wBnQNzqXMgS7WVA",
          "dtype": "f8"
         },
         "y": {
          "bdata": "+QVGXyf6YkAWtLHtyzxeQDCo23VIIk1ADCfsVCueKsCSQ033qLZUwMRsNMQLeGHA/B1nXxnqZcCs4kauwwNnwOBTGZULmmTABCVodXkWXsDQy4haIsJMwOxHe/ESMixA5i+rztrjVEDScrEOjIhhQEhV9TD88WVAoKQf2tQBZ0CSKn6klo5kQAZbKMoC8F1AEKC3pdlhTEBYQN6h2MUtwOboNEGzfFHA",
          "dtype": "f8"
         },
         "z": {
          "bdata": "tyHqGvo9RcAglag7txIIQJCq+7OPBEhA5GUe+vlDV0BAex8N1kJhQIzDLx2v42ZA1wtALYiEbEAPKqiesBJxQDJOsCYd43NAVnK4romzdkB4lsA29oN5QJ26yL5iVHxAxN7QRs8kf0B1gWznnfqAQImTcCvUYoJAnaV0bwrLg0Cwt3izQDOFQMPJfPd2m4ZA19uAO60DiEDr7YR/42uJQGDHoq5d0IpA",
          "dtype": "f8"
         }
        },
        {
         "line": {
          "color": "red"
         },
         "mode": "lines",
         "type": "scatter3d",
         "x": {
          "bdata": "dD7di60STUAcmYB7NAVcQEb4C9AT9mRAen5MImq2aEAjQXd9BLFoQCDSX8q15mRAdItOvzjXW0Ca96zrFkJDQMhXNhLZGkTAGwqCgQ4zXMD2JLadWAVlwJRiuguyu2jAcPG4I4GraMCDxy6fPtdkwCSiPoQbqVvAK6b81ZLVQsDGWkYeFodEQF6sKJrGYFxAMpr/IIQUZUBUa2Yz3MBoQE4UcOc46mhA",
          "dtype": "f8"
         },
         "y": {
          "bdata": "2t6zpyT9Z0DoCA/zZ+5kQH5sudA67ltAI2ZgTlB4Q0A2qvFxseRDwFr8urglHFzA6u8HX7n9ZMBu2tbOEblowJvxy4ZGrmjAOulOWP3eZMBmkitOLsBbwJBkG77XC0PAoJhqpvpQREDSwPHO7klcQGayy4nxDGVAn+Qs2Eq+aECcnhNVtKhoQArJU6F5z2RA+lx4aACSW0DUa6NDSJ9CQMuc7p/f9jXA",
          "dtype": "f8"
         },
         "z": {
          "bdata": "tzsYVvQ5Er08IUFAZINGQD0hQUBkg1ZA7dgwMIviYEA8IUFAZINmQIlpUVA9JGxA7NgwMIvicEAQ/Ti497JzQDQhQUBkg3ZAWEVJyNBTeUB6aVFQPSR8QJ6NWdip9H5A4tgwMIvigED16jR0wUqCQAj9OLj3soNAHA89/C0bhUAvIUFAZIOGQEIzRYSa64dAVkVJyNBTiUBqV00MB7yKQHxpUVA9JIxA",
          "dtype": "f8"
         }
        }
       ],
       "layout": {
        "dragmode": "turntable",
        "scene": {
         "aspectmode": "data",
         "camera": {
          "eye": {
           "x": 0,
           "y": 1.8,
           "z": 1.2
          }
         }
        },
        "template": {
         "data": {
          "bar": [
           {
            "error_x": {
             "color": "#2a3f5f"
            },
            "error_y": {
             "color": "#2a3f5f"
            },
            "marker": {
             "line": {
              "color": "#E5ECF6",
              "width": 0.5
             },
             "pattern": {
              "fillmode": "overlay",
              "size": 10,
              "solidity": 0.2
             }
            },
            "type": "bar"
           }
          ],
          "barpolar": [
           {
            "marker": {
             "line": {
              "color": "#E5ECF6",
              "width": 0.5
             },
             "pattern": {
              "fillmode": "overlay",
              "size": 10,
              "solidity": 0.2
             }
            },
            "type": "barpolar"
           }
          ],
          "carpet": [
           {
            "aaxis": {
             "endlinecolor": "#2a3f5f",
             "gridcolor": "white",
             "linecolor": "white",
             "minorgridcolor": "white",
             "startlinecolor": "#2a3f5f"
            },
            "baxis": {
             "endlinecolor": "#2a3f5f",
             "gridcolor": "white",
             "linecolor": "white",
             "minorgridcolor": "white",
             "startlinecolor": "#2a3f5f"
            },
            "type": "carpet"
           }
          ],
          "choropleth": [
           {
            "colorbar": {
             "outlinewidth": 0,
             "ticks": ""
            },
            "type": "choropleth"
           }
          ],
          "contour": [
           {
            "colorbar": {
             "outlinewidth": 0,
             "ticks": ""
            },
            "colorscale": [
             [
              0,
              "#0d0887"
             ],
             [
              0.1111111111111111,
              "#46039f"
             ],
             [
              0.2222222222222222,
              "#7201a8"
             ],
             [
              0.3333333333333333,
              "#9c179e"
             ],
             [
              0.4444444444444444,
              "#bd3786"
             ],
             [
              0.5555555555555556,
              "#d8576b"
             ],
             [
              0.6666666666666666,
              "#ed7953"
             ],
             [
              0.7777777777777778,
              "#fb9f3a"
             ],
             [
              0.8888888888888888,
              "#fdca26"
             ],
             [
              1,
              "#f0f921"
             ]
            ],
            "type": "contour"
           }
          ],
          "contourcarpet": [
           {
            "colorbar": {
             "outlinewidth": 0,
             "ticks": ""
            },
            "type": "contourcarpet"
           }
          ],
          "heatmap": [
           {
            "colorbar": {
             "outlinewidth": 0,
             "ticks": ""
            },
            "colorscale": [
             [
              0,
              "#0d0887"
             ],
             [
              0.1111111111111111,
              "#46039f"
             ],
             [
              0.2222222222222222,
              "#7201a8"
             ],
             [
              0.3333333333333333,
              "#9c179e"
             ],
             [
              0.4444444444444444,
              "#bd3786"
             ],
             [
              0.5555555555555556,
              "#d8576b"
             ],
             [
              0.6666666666666666,
              "#ed7953"
             ],
             [
              0.7777777777777778,
              "#fb9f3a"
             ],
             [
              0.8888888888888888,
              "#fdca26"
             ],
             [
              1,
              "#f0f921"
             ]
            ],
            "type": "heatmap"
           }
          ],
          "histogram": [
           {
            "marker": {
             "pattern": {
              "fillmode": "overlay",
              "size": 10,
              "solidity": 0.2
             }
            },
            "type": "histogram"
           }
          ],
          "histogram2d": [
           {
            "colorbar": {
             "outlinewidth": 0,
             "ticks": ""
            },
            "colorscale": [
             [
              0,
              "#0d0887"
             ],
             [
              0.1111111111111111,
              "#46039f"
             ],
             [
              0.2222222222222222,
              "#7201a8"
             ],
             [
              0.3333333333333333,
              "#9c179e"
             ],
             [
              0.4444444444444444,
              "#bd3786"
             ],
             [
              0.5555555555555556,
              "#d8576b"
             ],
             [
              0.6666666666666666,
              "#ed7953"
             ],
             [
              0.7777777777777778,
              "#fb9f3a"
             ],
             [
              0.8888888888888888,
              "#fdca26"
             ],
             [
              1,
              "#f0f921"
             ]
            ],
            "type": "histogram2d"
           }
          ],
          "histogram2dcontour": [
           {
            "colorbar": {
             "outlinewidth": 0,
             "ticks": ""
            },
            "colorscale": [
             [
              0,
              "#0d0887"
             ],
             [
              0.1111111111111111,
              "#46039f"
             ],
             [
              0.2222222222222222,
              "#7201a8"
             ],
             [
              0.3333333333333333,
              "#9c179e"
             ],
             [
              0.4444444444444444,
              "#bd3786"
             ],
             [
              0.5555555555555556,
              "#d8576b"
             ],
             [
              0.6666666666666666,
              "#ed7953"
             ],
             [
              0.7777777777777778,
              "#fb9f3a"
             ],
             [
              0.8888888888888888,
              "#fdca26"
             ],
             [
              1,
              "#f0f921"
             ]
            ],
            "type": "histogram2dcontour"
           }
          ],
          "mesh3d": [
           {
            "colorbar": {
             "outlinewidth": 0,
             "ticks": ""
            },
            "type": "mesh3d"
           }
          ],
          "parcoords": [
           {
            "line": {
             "colorbar": {
              "outlinewidth": 0,
              "ticks": ""
             }
            },
            "type": "parcoords"
           }
          ],
          "pie": [
           {
            "automargin": true,
            "type": "pie"
           }
          ],
          "scatter": [
           {
            "fillpattern": {
             "fillmode": "overlay",
             "size": 10,
             "solidity": 0.2
            },
            "type": "scatter"
           }
          ],
          "scatter3d": [
           {
            "line": {
             "colorbar": {
              "outlinewidth": 0,
              "ticks": ""
             }
            },
            "marker": {
             "colorbar": {
              "outlinewidth": 0,
              "ticks": ""
             }
            },
            "type": "scatter3d"
           }
          ],
          "scattercarpet": [
           {
            "marker": {
             "colorbar": {
              "outlinewidth": 0,
              "ticks": ""
             }
            },
            "type": "scattercarpet"
           }
          ],
          "scattergeo": [
           {
            "marker": {
             "colorbar": {
              "outlinewidth": 0,
              "ticks": ""
             }
            },
            "type": "scattergeo"
           }
          ],
          "scattergl": [
           {
            "marker": {
             "colorbar": {
              "outlinewidth": 0,
              "ticks": ""
             }
            },
            "type": "scattergl"
           }
          ],
          "scattermap": [
           {
            "marker": {
             "colorbar": {
              "outlinewidth": 0,
              "ticks": ""
             }
            },
            "type": "scattermap"
           }
          ],
          "scattermapbox": [
           {
            "marker": {
             "colorbar": {
              "outlinewidth": 0,
              "ticks": ""
             }
            },
            "type": "scattermapbox"
           }
          ],
          "scatterpolar": [
           {
            "marker": {
             "colorbar": {
              "outlinewidth": 0,
              "ticks": ""
             }
            },
            "type": "scatterpolar"
           }
          ],
          "scatterpolargl": [
           {
            "marker": {
             "colorbar": {
              "outlinewidth": 0,
              "ticks": ""
             }
            },
            "type": "scatterpolargl"
           }
          ],
          "scatterternary": [
           {
            "marker": {
             "colorbar": {
              "outlinewidth": 0,
              "ticks": ""
             }
            },
            "type": "scatterternary"
           }
          ],
          "surface": [
           {
            "colorbar": {
             "outlinewidth": 0,
             "ticks": ""
            },
            "colorscale": [
             [
              0,
              "#0d0887"
             ],
             [
              0.1111111111111111,
              "#46039f"
             ],
             [
              0.2222222222222222,
              "#7201a8"
             ],
             [
              0.3333333333333333,
              "#9c179e"
             ],
             [
              0.4444444444444444,
              "#bd3786"
             ],
             [
              0.5555555555555556,
              "#d8576b"
             ],
             [
              0.6666666666666666,
              "#ed7953"
             ],
             [
              0.7777777777777778,
              "#fb9f3a"
             ],
             [
              0.8888888888888888,
              "#fdca26"
             ],
             [
              1,
              "#f0f921"
             ]
            ],
            "type": "surface"
           }
          ],
          "table": [
           {
            "cells": {
             "fill": {
              "color": "#EBF0F8"
             },
             "line": {
              "color": "white"
             }
            },
            "header": {
             "fill": {
              "color": "#C8D4E3"
             },
             "line": {
              "color": "white"
             }
            },
            "type": "table"
           }
          ]
         },
         "layout": {
          "annotationdefaults": {
           "arrowcolor": "#2a3f5f",
           "arrowhead": 0,
           "arrowwidth": 1
          },
          "autotypenumbers": "strict",
          "coloraxis": {
           "colorbar": {
            "outlinewidth": 0,
            "ticks": ""
           }
          },
          "colorscale": {
           "diverging": [
            [
             0,
             "#8e0152"
            ],
            [
             0.1,
             "#c51b7d"
            ],
            [
             0.2,
             "#de77ae"
            ],
            [
             0.3,
             "#f1b6da"
            ],
            [
             0.4,
             "#fde0ef"
            ],
            [
             0.5,
             "#f7f7f7"
            ],
            [
             0.6,
             "#e6f5d0"
            ],
            [
             0.7,
             "#b8e186"
            ],
            [
             0.8,
             "#7fbc41"
            ],
            [
             0.9,
             "#4d9221"
            ],
            [
             1,
             "#276419"
            ]
           ],
           "sequential": [
            [
             0,
             "#0d0887"
            ],
            [
             0.1111111111111111,
             "#46039f"
            ],
            [
             0.2222222222222222,
             "#7201a8"
            ],
            [
             0.3333333333333333,
             "#9c179e"
            ],
            [
             0.4444444444444444,
             "#bd3786"
            ],
            [
             0.5555555555555556,
             "#d8576b"
            ],
            [
             0.6666666666666666,
             "#ed7953"
            ],
            [
             0.7777777777777778,
             "#fb9f3a"
            ],
            [
             0.8888888888888888,
             "#fdca26"
            ],
            [
             1,
             "#f0f921"
            ]
           ],
           "sequentialminus": [
            [
             0,
             "#0d0887"
            ],
            [
             0.1111111111111111,
             "#46039f"
            ],
            [
             0.2222222222222222,
             "#7201a8"
            ],
            [
             0.3333333333333333,
             "#9c179e"
            ],
            [
             0.4444444444444444,
             "#bd3786"
            ],
            [
             0.5555555555555556,
             "#d8576b"
            ],
            [
             0.6666666666666666,
             "#ed7953"
            ],
            [
             0.7777777777777778,
             "#fb9f3a"
            ],
            [
             0.8888888888888888,
             "#fdca26"
            ],
            [
             1,
             "#f0f921"
            ]
           ]
          },
          "colorway": [
           "#636efa",
           "#EF553B",
           "#00cc96",
           "#ab63fa",
           "#FFA15A",
           "#19d3f3",
           "#FF6692",
           "#B6E880",
           "#FF97FF",
           "#FECB52"
          ],
          "font": {
           "color": "#2a3f5f"
          },
          "geo": {
           "bgcolor": "white",
           "lakecolor": "white",
           "landcolor": "#E5ECF6",
           "showlakes": true,
           "showland": true,
           "subunitcolor": "white"
          },
          "hoverlabel": {
           "align": "left"
          },
          "hovermode": "closest",
          "mapbox": {
           "style": "light"
          },
          "paper_bgcolor": "white",
          "plot_bgcolor": "#E5ECF6",
          "polar": {
           "angularaxis": {
            "gridcolor": "white",
            "linecolor": "white",
            "ticks": ""
           },
           "bgcolor": "#E5ECF6",
           "radialaxis": {
            "gridcolor": "white",
            "linecolor": "white",
            "ticks": ""
           }
          },
          "scene": {
           "xaxis": {
            "backgroundcolor": "#E5ECF6",
            "gridcolor": "white",
            "gridwidth": 2,
            "linecolor": "white",
            "showbackground": true,
            "ticks": "",
            "zerolinecolor": "white"
           },
           "yaxis": {
            "backgroundcolor": "#E5ECF6",
            "gridcolor": "white",
            "gridwidth": 2,
            "linecolor": "white",
            "showbackground": true,
            "ticks": "",
            "zerolinecolor": "white"
           },
           "zaxis": {
            "backgroundcolor": "#E5ECF6",
            "gridcolor": "white",
            "gridwidth": 2,
            "linecolor": "white",
            "showbackground": true,
            "ticks": "",
            "zerolinecolor": "white"
           }
          },
          "shapedefaults": {
           "line": {
            "color": "#2a3f5f"
           }
          },
          "ternary": {
           "aaxis": {
            "gridcolor": "white",
            "linecolor": "white",
            "ticks": ""
           },
           "baxis": {
            "gridcolor": "white",
            "linecolor": "white",
            "ticks": ""
           },
           "bgcolor": "#E5ECF6",
           "caxis": {
            "gridcolor": "white",
            "linecolor": "white",
            "ticks": ""
           }
          },
          "title": {
           "x": 0.05
          },
          "xaxis": {
           "automargin": true,
           "gridcolor": "white",
           "linecolor": "white",
           "ticks": "",
           "title": {
            "standoff": 15
           },
           "zerolinecolor": "white",
           "zerolinewidth": 2
          },
          "yaxis": {
           "automargin": true,
           "gridcolor": "white",
           "linecolor": "white",
           "ticks": "",
           "title": {
            "standoff": 15
           },
           "zerolinecolor": "white",
           "zerolinewidth": 2
          }
         }
        }
       }
      }
     },
     "metadata": {},
     "output_type": "display_data"
    }
   ],
   "source": [
    "plot_helix(60,15,16.86,20,200)"
   ]
  },
  {
   "cell_type": "code",
   "execution_count": 18,
   "metadata": {},
   "outputs": [
    {
     "name": "stdout",
     "output_type": "stream",
     "text": [
      "[3.25000000e+01 2.10000000e+01 9.58299543e+02 2.08306181e+00\n",
      " 1.29649967e+02 3.64996704e+00 4.56333116e+01 9.91934197e-02]\n"
     ]
    }
   ],
   "source": [
    "(f\"{list_possible_helices(50,15,63,1000, tau_increment=0.5)[-1]}\")"
   ]
  },
  {
   "cell_type": "code",
   "execution_count": 23,
   "metadata": {},
   "outputs": [
    {
     "data": {
      "application/vnd.plotly.v1+json": {
       "config": {
        "plotlyServerURL": "https://plot.ly"
       },
       "data": [
        {
         "color": "blue",
         "i": {
          "bdata": "AAEBAgIDAwQEBQUGBgcHCAgJCQoKCwsMDA0NDg4PDxAQERESEhMTFBQV",
          "dtype": "i1"
         },
         "j": {
          "bdata": "ARcCGAMZBBoFGwYcBx0IHgkfCiALIQwiDSMOJA8lECYRJxIoEykUKhUr",
          "dtype": "i1"
         },
         "k": {
          "bdata": "FhYXFxgYGRkaGhsbHBwdHR4eHx8gICEhIiIjIyQkJSUmJicnKCgpKSoq",
          "dtype": "i1"
         },
         "name": "surface",
         "opacity": 0.6,
         "type": "mesh3d",
         "x": {
          "bdata": "nn+4Udm/PMBCF1uIXy1KwN52KfV2RFDArZwIuZCoSsAy7Ht97oM1wDSQtQdpYDJAyNB+3eCtSUBv2i52ykFQQMPV4y9gH0tAjWAKIYQQN0DwOsxH/ckwwMztIq0pKknAMKG76HE8UMAC1KhlupFLwMbDTURPmTjAHHD/LJ5hLkB0Z5CdT6JIQHFMwS1uNFBAwvuojoz/S0AJ+29XDx46QHeNWGpDKivAlfYWwdE/RMB0F7baSpQiwCeAKekxnUHAOjiuu8OzTMAsIltMXP9MwH+sRHqOY0LACONV416y+78W5BIJuvtAQHXmz88nckxAwg8/Fkg2TUCYyvwVW/5CQJBJ9RmuIApAvWnEindXQMBzzcrz3itMwHfgdLNmaE3AAAQYfQiWQ8BzrxSv8DETwDrg0dsKYT9A+ZAItfTgS0AdNRLnr5VNQBZ5W8F9KkRAMQQFomJQGUDiw8OvIKY0wA==",
          "dtype": "f8"
         },
         "y": {
          "bdata": "mgzYfQ/ATMBa6M+aGVNDwH3LI2f7Yeq/uqFdhrinQkAs+02PKbVOQJ9gROSTNk9A/nDOjE37Q0Dy/mQFZ8gDQCuutHpG+UHA1LDItNxsTsCJPjYZnG9PwJz6wrY4oETApbJeY4d6EMBYpRck4EdBQNitE6GPH05A2vZ4jXmjT0BIYkn9v0FFQA0qK+IlDhdA2yoYq6KTQMBHPtUIT81NwPwusLoj0k/AovJ4SKX2SMCpvqE6mitPwO1eDajAq0jA24f0z8OAM8D/uKWFZqsxQDR7RlVRGUhAXuonhhdNTkCKJagx+RtJQMXKJsd/8zRAxcvP08cxMMC2qekeEKBHwPSq6tj8RE7AjK8aMRGIScDfV8oqymI2wOh7XGr/ai1AutUj0OwiR0C+olCA6DdOQOa7D+L270lAFpsjnGbON0A6RD9WmW0qwIosePr7oUbAUm+0otwlTsCag5r5+GJKwA==",
          "dtype": "f8"
         },
         "z": {
          "bdata": "AAAAAAAAAAADia5aENFGQASJrloQ0VZAw+YCRMwcYUAFia5aENFmQEQrWnFUhWxAw+YCRMwccUDjt1hP7vZzQAKJrloQ0XZAI1oEZjKreUBFK1pxVIV8QGP8r3x2X39AwuYCRMwcgUBRz61J3YmCQOC3WE/u9oNAb6ADVf9jhUD/iK5aENGGQI9xWWAhPohAH1oEZjKriUCuQq9rQxiLQD0rWnFUhYxAzxMFd2XyjUDpniMeoa4gQGBMfpBf0UpAsmqW9TfRWECa13YR4BxiQNx5Iigk0WdAHBzOPmiFbUAv37wq1pxxQE+wEjb4dnRAboFoQRpRd0CPUr5MPCt6QLEjFFheBX1AzvRpY4Dff0D44l830VyBQIfLCj3iyYJAFrS1QvM2hEClnGBIBKSFQDWFC04VEYdAxW22UyZ+iEBVVmFZN+uJQOQ+DF9IWItAcye3ZFnFjEBKon37HzWOQA==",
          "dtype": "f8"
         }
        },
        {
         "color": "blue",
         "i": {
          "bdata": "AAEBAgIDAwQEBQUGBgcHCAgJCQoKCwsMDA0NDg4PDxAQERESEhMTFBQV",
          "dtype": "i1"
         },
         "j": {
          "bdata": "ARcCGAMZBBoFGwYcBx0IHgkfCiALIQwiDSMOJA8lECYRJxIoEykUKhUr",
          "dtype": "i1"
         },
         "k": {
          "bdata": "FhYXFxgYGRkaGhsbHBwdHR4eHx8gICEhIiIjIyQkJSUmJicnKCgpKSoq",
          "dtype": "i1"
         },
         "name": "surface",
         "opacity": 0.6,
         "type": "mesh3d",
         "x": {
          "bdata": "dBe22kqUIsAngCnpMZ1BwDo4rrvDs0zALCJbTFz/TMB/rER6jmNCwAjjVeNesvu/FuQSCbr7QEB15s/PJ3JMQMIPPxZINk1AmMr8FVv+QkCQSfUZriAKQL1pxIp3V0DAc83K894rTMB34HSzZmhNwAAEGH0IlkPAc68Ur/AxE8A64NHbCmE/QPmQCLX04EtAHTUS56+VTUAWeVvBfSpEQDEEBaJiUBlA4sPDryCmNMB2SOUZyngjQAaJZmeIUyzAlDvqckI8Q8B+wdiF+CdIwKhosihU/kPACcP/fxegMMCL/f7lxvkpQLsovY/O20JAQppp/sUhSEBUW8iRt1REQNqbQB8SxTFAZkR1ZcCbJ8CSMLAlQXhCwBCbpwycF0jAZ5N9gMOnRMAiajIIIecywJWx7IHYOSVAcjqykaoRQkDkhj5cfAlIQPSZaU5q90RA227bjRQGNEAIQN3HvnIFwA==",
          "dtype": "f8"
         },
         "y": {
          "bdata": "qb6hOporT8DtXg2owKtIwNuH9M/DgDPA/7ilhWarMUA0e0ZVURlIQF7qJ4YXTU5AiiWoMfkbSUDFyibHf/M0QMXLz9PHMTDAtqnpHhCgR8D0qurY/EROwIyvGjERiEnA31fKKspiNsDoe1xq/2otQLrVI9DsIkdAvqJQgOg3TkDmuw/i9u9JQBabI5xmzjdAOkQ/VpltKsCKLHj6+6FGwFJvtKLcJU7AmoOa+fhiSsCh9CGaMG1KwFr77KKbGkfAt6yDM99APcDg67lT5sf0vyDMemjpJDtAXMNYdKmwRkCt/B9MpEZHQKZJJU7/Nz5A2NxYEwEuBEDncLE3UR86wD3qFiHheEbAVp+Mj9luR8DYMAXgJyo/wFiTZt+99A3AeAwq3G0VOUBYJA86Zz1GQNlSVtE0k0dAFy3WjZgLQEBYAFQYR9sTQBSU2AlrBzjA/vrfhUX+RcByJZybYbREwA==",
          "dtype": "f8"
         },
         "z": {
          "bdata": "6Z4jHqGuIEBgTH6QX9FKQLJqlvU30VhAmtd2EeAcYkDceSIoJNFnQBwczj5ohW1AL9+8KtaccUBPsBI2+HZ0QG6BaEEaUXdAj1K+TDwrekCxIxRYXgV9QM70aWOA339A+OJfN9FcgUCHywo94smCQBa0tULzNoRApZxgSASkhUA1hQtOFRGHQMVttlMmfohAVVZhWTfriUDkPgxfSFiLQHMnt2RZxYxASqJ9+x81jkBWOZrZ+44pQIBCy55l8kxAwuW8/LrhWUAiFQqVIaViQGW3tatlWWhApFlhwqkNbkDzfYbs9uBxQBNP3PcYu3RAMiAyAzuVd0BT8YcOXW96QHXC3Rl/SX1AycmZktARgEBaskSY4X6BQOma753y64JAeIOaowNZhEAHbEWpFMaFQJdU8K4lM4dAJz2btDagiEC3JUa6Rw2KQEYO8b9YeotA1fabxWnnjEC0fGtmoViOQA==",
          "dtype": "f8"
         }
        },
        {
         "color": "blue",
         "i": {
          "bdata": "AAEBAgIDAwQEBQUGBgcHCAgJCQoKCwsMDA0NDg4PDxAQERESEhMTFBQV",
          "dtype": "i1"
         },
         "j": {
          "bdata": "ARcCGAMZBBoFGwYcBx0IHgkfCiALIQwiDSMOJA8lECYRJxIoEykUKhUr",
          "dtype": "i1"
         },
         "k": {
          "bdata": "FhYXFxgYGRkaGhsbHBwdHR4eHx8gICEhIiIjIyQkJSUmJicnKCgpKSoq",
          "dtype": "i1"
         },
         "name": "surface",
         "opacity": 0.6,
         "type": "mesh3d",
         "x": {
          "bdata": "dkjlGcp4I0AGiWZniFMswJQ76nJCPEPAfsHYhfgnSMCoaLIoVP5DwAnD/38XoDDAi/3+5cb5KUC7KL2PzttCQEKaaf7FIUhAVFvIkbdUREDam0AfEsUxQGZEdWXAmyfAkjCwJUF4QsAQm6cMnBdIwGeTfYDDp0TAImoyCCHnMsCVseyB2DklQHI6spGqEUJA5IY+XHwJSED0mWlOavdEQNtu240UBjRACEDdx75yBcDsgswsy2wzQGACEA1ie+8/K0T/aMwgMcB/QqMApMw8wPppx64npD3A9wJ5Sk1WM8DwqtMr2y/8v3gnsdnneTBA8h1mMr+EPEAMCOpfS9Y9QJKa1uKe7zNA0OJYo7FOBEDsoHgFnKAvwNdZumUqODzAfL9ml4cDPsDqX7qeqYU0wIAV2DMfggrAirsUiTVILkDXSPww8uY7QG4A2eXUKz5ACA+61FQYNUAUSe/Dsv0TQA==",
          "dtype": "f8"
         },
         "y": {
          "bdata": "ofQhmjBtSsBa++yimxpHwLesgzPfQD3A4Ou5U+bH9L8gzHpo6SQ7QFzDWHSpsEZArfwfTKRGR0CmSSVO/zc+QNjcWBMBLgRA53CxN1EfOsA96hYh4XhGwFafjI/ZbkfA2DAF4CcqP8BYk2bfvfQNwHgMKtxtFTlAWCQPOmc9RkDZUlbRNJNHQBct1o2YC0BAWABUGEfbE0AUlNgJawc4wP7634VF/kXAciWcm2G0RMAQT4RSD71AwF58BIC7tj7Ax4xTPG2DOcDK/AVzOnAlwGo9YW4hNiBAJDa9r/XhN0DJFXy6060+QCV5zC9t8DlA/tIbZhDkJkB0I4FCj2gdwKy2t4aSYjfAOUQxDuGfPsBLCpWtKVk6wJwoVycjVCjAXK38NwZgGkDW2qpgV982QIihCcbljD5ALwaefpG9OkBQew03NsApQFiHAWAnUxfAKEt8z1lYNsBV+T+C+yY1wA==",
          "dtype": "f8"
         },
         "z": {
          "bdata": "Vjma2fuOKUCAQsueZfJMQMLlvPy64VlAIhUKlSGlYkBlt7WrZVloQKRZYcKpDW5A832G7PbgcUATT9z3GLt0QDIgMgM7lXdAU/GHDl1vekB1wt0Zf0l9QMnJmZLQEYBAWrJEmOF+gUDpmu+d8uuCQHiDmqMDWYRAB2xFqRTGhUCXVPCuJTOHQCc9m7Q2oIhAtyVGukcNikBGDvG/WHqLQNX2m8Vp54xAtHxrZqFYjkBna0+qzXkmQOX8x7ocNUxA9UK7ihaDWUC7Qwlcz3ViQP7ltHITKmhAPYhgiVfebUBAFQbQTclxQGDmW9tvo3RAf7ex5pF9d0CgiAfys1d6QMFZXf3VMX1AcJVZBPwFgEAAfgQKDXOBQI9mrw8e4IJAHk9aFS9NhECtNwUbQLqFQD0gsCBRJ4dAzQhbJmKUiEBd8QUscwGKQO3ZsDGEbotAe8JbN5XbjEB8Ua6tTEyOQA==",
          "dtype": "f8"
         }
        },
        {
         "color": "blue",
         "i": {
          "bdata": "AAEBAgIDAwQEBQUGBgcHCAgJCQoKCwsMDA0NDg4PDxAQERESEhMTFBQV",
          "dtype": "i1"
         },
         "j": {
          "bdata": "ARcCGAMZBBoFGwYcBx0IHgkfCiALIQwiDSMOJA8lECYRJxIoEykUKhUr",
          "dtype": "i1"
         },
         "k": {
          "bdata": "FhYXFxgYGRkaGhsbHBwdHR4eHx8gICEhIiIjIyQkJSUmJicnKCgpKSoq",
          "dtype": "i1"
         },
         "name": "surface",
         "opacity": 0.6,
         "type": "mesh3d",
         "x": {
          "bdata": "7ILMLMtsM0BgAhANYnvvPytE/2jMIDHAf0KjAKTMPMD6aceuJ6Q9wPcCeUpNVjPA8KrTK9sv/L94J7HZ53kwQPIdZjK/hDxADAjqX0vWPUCSmtbinu8zQNDiWKOxTgRA7KB4BZygL8DXWbplKjg8wHy/ZpeHAz7A6l+6nqmFNMCAFdgzH4IKwIq7FIk1SC5A10j8MPLmO0BuANnl1Cs+QAgPutRUGDVAFEnvw7L9E0AS9YyB43wuQCgykXjAAAlAYDxm+DjnCsA8wqahWSwhwOrEEyO9KSXA9t32WOYxIcCw07bGRQsLwDhk/wVo3AhAOjk3grjaIEA/pTEO4SclQBfj5FOCgCFAcDirIVkRDUAwcDH8gM0GwPI8YDFShiDAhKC5yYoiJcDEg27dPcwhwNABBGKlEg/AcPHQddq6BEBeRXmONC8gQGMRPTa7GSVAaFDtggwVIkDgY5GgEErzvw==",
          "dtype": "f8"
         },
         "y": {
          "bdata": "EE+EUg+9QMBefASAu7Y+wMeMUzxtgznAyvwFczpwJcBqPWFuITYgQCQ2va/14TdAyRV8utOtPkAlecwvbfA5QP7SG2YQ5CZAdCOBQo9oHcCstreGkmI3wDlEMQ7hnz7ASwqVrSlZOsCcKFcnI1QowFyt/DcGYBpA1tqqYFffNkCIoQnG5Yw+QC8Gnn6RvTpAUHsNNzbAKUBYhwFgJ1MXwChLfM9ZWDbAVfk/gvsmNcDaM4Z6xY4qwNBo+mEIOCTADEcecdsQJMCwW8GvJbwYwABYyg0nBIO/gJFP0bSsGEAG5J/Y0w0kQOn5vEXVOiRAgFo9l+SYGUBAPoKfp8DRP7zPi2aeyxfAZJjCe1PgI8A4Gx7he2EkwLCOPmxucRrAwBYMhSFz4b8INqW6nuYWQCp/+sWOryNAk5/r6MiEJECcUFaXn0UbQKBZ3vsQA+o/zHBXcdv9FcBQQUlTbLH3vw==",
          "dtype": "f8"
         },
         "z": {
          "bdata": "Z2tPqs15JkDl/Me6HDVMQPVCu4oWg1lAu0MJXM91YkD+5bRyEypoQD2IYIlX3m1AQBUG0E3JcUBg5lvbb6N0QH+3seaRfXdAoIgH8rNXekDBWV391TF9QHCVWQT8BYBAAH4ECg1zgUCPZq8PHuCCQB5PWhUvTYRArTcFG0C6hUA9ILAgUSeHQM0IWyZilIhAXfEFLHMBikDt2bAxhG6LQHvCWzeV24xAfFGurUxMjkDaNO12tcARQCR/+2gW8khAFATVYZPhV0BLJJbHDaVhQI3GQd5RWWdAzGjt9JUNbUCHhcwF7WBxQKdWIhEPO3RAxid4HDEVd0Dn+M0nU+95QAnKIzN1yXxAJ5t5Ppejf0Aktuek3D6BQLOekqrtq4JAQoc9sP4YhEDRb+i1D4aFQGFYk7sg84ZA8UA+wTFgiECBKenGQs2JQBASlMxTOotAn/o+0mSnjEA57vLh5hWOQA==",
          "dtype": "f8"
         }
        },
        {
         "color": "blue",
         "i": {
          "bdata": "AAEBAgIDAwQEBQUGBgcHCAgJCQoKCwsMDA0NDg4PDxAQERESEhMTFBQV",
          "dtype": "i1"
         },
         "j": {
          "bdata": "ARcCGAMZBBoFGwYcBx0IHgkfCiALIQwiDSMOJA8lECYRJxIoEykUKhUr",
          "dtype": "i1"
         },
         "k": {
          "bdata": "FhYXFxgYGRkaGhsbHBwdHR4eHx8gICEhIiIjIyQkJSUmJicnKCgpKSoq",
          "dtype": "i1"
         },
         "name": "surface",
         "opacity": 0.6,
         "type": "mesh3d",
         "x": {
          "bdata": "EvWMgeN8LkAoMpF4wAAJQGA8Zvg45wrAPMKmoVksIcDqxBMjvSklwPbd9ljmMSHAsNO2xkULC8A4ZP8FaNwIQDo5N4K42iBAP6UxDuEnJUAX4+RTgoAhQHA4qyFZEQ1AMHAx/IDNBsDyPGAxUoYgwISgucmKIiXAxINu3T3MIcDQAQRipRIPwHDx0HXaugRAXkV5jjQvIEBjET02uxklQGhQ7YIMFSJA4GORoBBK87+QsRYrZTrrv1aQ6CQoeyHAOIKC5J3tDMBw964ZH/IGQG+7ojRBjCBAYYZyFwYjJUDkG/wXF8chQHCzgZVB7w5A6D5xObjfBMCoRTJFUzUgwJOWfBF0GiXAwqbH/xkQIsBQxVHP53UQwCBc6wXjyQJAtjSep3a3H0A3LN0Qag4lQBZnJdwkViJAvDSNNHpxEUCIgo4997AAwKqduDQQ/x7AuMQnEOr+JMCB0jGlb2MywA==",
          "dtype": "f8"
         },
         "y": {
          "bdata": "2jOGesWOKsDQaPphCDgkwAxHHnHbECTAsFvBryW8GMAAWMoNJwSDv4CRT9G0rBhABuSf2NMNJEDp+bxF1TokQIBaPZfkmBlAQD6Cn6fA0T+8z4tmnssXwGSYwntT4CPAOBse4XthJMCwjj5sbnEawMAWDIUhc+G/CDalup7mFkAqf/rFjq8jQJOf6+jIhCRAnFBWl59FG0CgWd77EAPqP8xwV3Hb/RXAUEFJU2yx97/wF9gN8ln7vxzYQf5V2xdAWYmBSZXjI0ARZ+wn6l4kQGwkcZGSYhpA4AwYTTLb4D9MGEh2mvYWwEh87T8KsyPAi0RmxnKCJMCo42ruETcbwMAEzzxga+m/mIlcsBgOFkAc7PZOQn8jQK5wO2acoiRAaP1NJRgHHEDAdKVKsPvwP6zZ2OP2IRXAhgNx+UVII8B7Mxi+Yb8kwEgh7QSD0hzAMKxF2uU+9b/+WryFIs0gQA==",
          "dtype": "f8"
         },
         "z": {
          "bdata": "2jTtdrXAEUAkf/toFvJIQBQE1WGT4VdASySWxw2lYUCNxkHeUVlnQMxo7fSVDW1Ah4XMBe1gcUCnViIRDzt0QMYneBwxFXdA5/jNJ1PveUAJyiMzdcl8QCebeT6Xo39AJLbnpNw+gUCznpKq7auCQEKHPbD+GIRA0W/otQ+GhUBhWJO7IPOGQPFAPsExYIhAgSnpxkLNiUAQEpTMUzqLQJ/6PtJkp4xAOe7y4eYVjkDXNO12tcARwOOSYUwKsERA9A2IU43AVUA7qW/AipRgQH1LG9fOSGZAvO3G7RL9a0D/RzmCq9hwQB8Zj43NsnNAPurkmO+MdkBfuzqkEWd5QIGMkK8zQXxAn13mulUbf0BgFx7ju/qAQO//yOjMZ4JAfuhz7t3Ug0AN0R707kGFQJ25yfn/roZALaJ0/xAciEC9ih8FIomJQExzygoz9opA21t1EERjjEBlORcM5M6NQA==",
          "dtype": "f8"
         }
        },
        {
         "color": "blue",
         "i": {
          "bdata": "AAEBAgIDAwQEBQUGBgcHCAgJCQoKCwsMDA0NDg4PDxAQERESEhMTFBQV",
          "dtype": "i1"
         },
         "j": {
          "bdata": "ARcCGAMZBBoFGwYcBx0IHgkfCiALIQwiDSMOJA8lECYRJxIoEykUKhUr",
          "dtype": "i1"
         },
         "k": {
          "bdata": "FhYXFxgYGRkaGhsbHBwdHR4eHx8gICEhIiIjIyQkJSUmJicnKCgpKSoq",
          "dtype": "i1"
         },
         "name": "surface",
         "opacity": 0.6,
         "type": "mesh3d",
         "x": {
          "bdata": "kLEWK2U6679WkOgkKHshwDiCguSd7QzAcPeuGR/yBkBvu6I0QYwgQGGGchcGIyVA5Bv8FxfHIUBws4GVQe8OQOg+cTm43wTAqEUyRVM1IMCTlnwRdBolwMKmx/8ZECLAUMVRz+d1EMAgXOsF48kCQLY0nqd2tx9ANyzdEGoOJUAWZyXcJFYiQLw0jTR6cRFAiIKOPfewAMCqnbg0EP8ewLjEJxDq/iTAgdIxpW9jMsBMseIcGFQ1wHBnUv/MDz3AAqMwQuDEMcAAr5VJhEfKPz6xO9c6GjJAPlKRo0sxPUDcWYIkL049QKgbRW0IZjJAoMHUWbRY4j9bqe/vrXcxwMaOgyqm8DzA2ZBAL8CHPcA+KSFtKgQzwKBZ1eUioPW/0jTHCkLSMEB57sD2Pqs8QFShSKl2vD1A/n/oQyyfM0AQ74LVLggBQD4rT1gSKjDAP/ObcCFhPMD0Igl5X0FDwA==",
          "dtype": "f8"
         },
         "y": {
          "bdata": "8BfYDfJZ+78c2EH+VdsXQFmJgUmV4yNAEWfsJ+peJEBsJHGRkmIaQOAMGE0y2+A/TBhIdpr2FsBIfO0/CrMjwItEZsZygiTAqONq7hE3G8DABM88YGvpv5iJXLAYDhZAHOz2TkJ/I0CucDtmnKIkQGj9TSUYBxxAwHSlSrD78D+s2djj9iEVwIYDcflFSCPAezMYvmG/JMBIIe0Eg9IcwDCsRdrlPvW//lq8hSLNIEBUPw3OrboQwAIeEWze+CNAYJGfvTsSOUD8+xLolro+QHRJOO/g1DhAQhWNoZcxI0BYBX4DOn4iwH0Omk7rnDjA/NBbUGW5PsCKPTcYQUg5wJ4o54q2qiTAjsmudYsAIUBT6JE3jyM4QGCaGesmsz5AV6TRb3m3OUDorF3XbyAmQBwn2P0iAB/AtQcQazumN8DYHgW/3Kc+wN6gJa53IjrAVPqCGYaSJ8D4U9ydqPIOQA==",
          "dtype": "f8"
         },
         "z": {
          "bdata": "1zTtdrXAEcDjkmFMCrBEQPQNiFONwFVAO6lvwIqUYEB9SxvXzkhmQLztxu0S/WtA/0c5gqvYcEAfGY+NzbJzQD7q5JjvjHZAX7s6pBFneUCBjJCvM0F8QJ9d5rpVG39AYBce47v6gEDv/8jozGeCQH7oc+7d1INADdEe9O5BhUCducn5/66GQC2idP8QHIhAvYofBSKJiUBMc8oKM/aKQNtbdRBEY4xAZTkXDOTOjUBka0+qzXkmwCEVlfoDbUFAFM+hKgofVECWE/lXkodfQAwsqEINeGVAS85TWVEsa0BGuP+3SnBwQGaJVcNsSnNAhVqrzo4kdkCmKwHasP54QMn8VuXS2HtA582s8PSyfkCETwF+i8aAQBM4rIOcM4JAoiBXia2gg0AxCQKPvg2FQMHxrJTPeoZAUdpXmuDnh0DhwgKg8VSJQG+rraUCwopA/5NYqxMvjEAi1ltAfpiNQA==",
          "dtype": "f8"
         }
        },
        {
         "color": "blue",
         "i": {
          "bdata": "AAEBAgIDAwQEBQUGBgcHCAgJCQoKCwsMDA0NDg4PDxAQERESEhMTFBQV",
          "dtype": "i1"
         },
         "j": {
          "bdata": "ARcCGAMZBBoFGwYcBx0IHgkfCiALIQwiDSMOJA8lECYRJxIoEykUKhUr",
          "dtype": "i1"
         },
         "k": {
          "bdata": "FhYXFxgYGRkaGhsbHBwdHR4eHx8gICEhIiIjIyQkJSUmJicnKCgpKSoq",
          "dtype": "i1"
         },
         "name": "surface",
         "opacity": 0.6,
         "type": "mesh3d",
         "x": {
          "bdata": "TLHiHBhUNcBwZ1L/zA89wAKjMELgxDHAAK+VSYRHyj8+sTvXOhoyQD5SkaNLMT1A3FmCJC9OPUCoG0VtCGYyQKDB1Fm0WOI/W6nv7613McDGjoMqpvA8wNmQQC/Ahz3APikhbSoEM8CgWdXlIqD1v9I0xwpC0jBAee7A9j6rPEBUoUipdrw9QP5/6EMsnzNAEO+C1S4IAUA+K09YEiowwD/zm3AhYTzA9CIJeV9BQ8BoDp1KuU1CwO2dL54yKkjAUUW29IyZQ8AFVi8BoqguwBEtF2JAnCxAVFa/PcBHQ0CE6bnpcyhIQLb5qL+e80NAYLNix1h8MEAqURtECkMqwPEkVb6t50LA1vHjsbwiSMDEGtgFaUpEwA14z9+qoTHAqxM/HIPlJ0AvWoHEf4RCQMeGLucNGUhAtGdWg92dREBUkZ0TF8QyQFFVt3EOhCXAGgqDnUYeQsBWw7sEGhRKwA==",
          "dtype": "f8"
         },
         "y": {
          "bdata": "VD8Nzq26EMACHhFs3vgjQGCRn707EjlA/PsS6Ja6PkB0STjv4NQ4QEIVjaGXMSNAWAV+Azp+IsB9DppO65w4wPzQW1BluT7Aij03GEFIOcCeKOeKtqokwI7JrnWLACFAU+iRN48jOEBgmhnrJrM+QFek0W95tzlA6Kxd128gJkAcJ9j9IgAfwLUHEGs7pjfA2B4Fv9ynPsDeoCWudyI6wFT6ghmGkifA+FPcnajyDkDob7XhUYozwAAxNHwBBrM/n5GWLvBEPEB878rQxupGQLLQrE8BFUdA5choCI0iPUAAgJsrWGfyPzY9JqhbRDvAWGdbsi23RsDOzolZgEFHwDh+H7NEGj7A4EpJBgX+AsDdln7MSz86QD1bv8LYf0ZAT3Ds1SxqR0AADAG4CQ0/QGgnTdA+xQxA56GAhOs1OcB5VDIa0URGwH6MXxUAj0fAcGvfL7T6P8CacRmO0OkpwA==",
          "dtype": "f8"
         },
         "z": {
          "bdata": "ZGtPqs15JsAhFZX6A21BQBTPoSoKH1RAlhP5V5KHX0AMLKhCDXhlQEvOU1lRLGtARrj/t0pwcEBmiVXDbEpzQIVaq86OJHZApisB2rD+eEDJ/Fbl0th7QOfNrPD0sn5AhE8BfovGgEATOKyDnDOCQKIgV4mtoINAMQkCj74NhUDB8ayUz3qGQFHaV5rg54dA4cICoPFUiUBvq62lAsKKQP+TWKsTL4xAItZbQH6YjUBXOZrZ+44pwIbPkRa7r0BARiyguGXAU0DIcPfl7ShfQKVapwm7SGVA5PxSIP/8akCTT3+boVhwQLMg1abDMnNA0vEqsuUMdkDzwoC9B+d4QBWU1sgpwXtAM2Us1EubfkAqG8HvtrqAQLkDbPXHJ4JASOwW+9iUg0DX1MEA6gGFQGe9bAb7boZA96UXDAzch0CHjsIRHUmJQBZ3bRcutopApV8YHT8jjEDqqp6HKYyNQA==",
          "dtype": "f8"
         }
        },
        {
         "color": "blue",
         "i": {
          "bdata": "AAEBAgIDAwQEBQUGBgcHCAgJCQoKCwsMDA0NDg4PDxAQERESEhMTFBQV",
          "dtype": "i1"
         },
         "j": {
          "bdata": "ARcCGAMZBBoFGwYcBx0IHgkfCiALIQwiDSMOJA8lECYRJxIoEykUKhUr",
          "dtype": "i1"
         },
         "k": {
          "bdata": "FhYXFxgYGRkaGhsbHBwdHR4eHx8gICEhIiIjIyQkJSUmJicnKCgpKSoq",
          "dtype": "i1"
         },
         "name": "surface",
         "opacity": 0.6,
         "type": "mesh3d",
         "x": {
          "bdata": "aA6dSrlNQsDtnS+eMipIwFFFtvSMmUPABVYvAaKoLsARLRdiQJwsQFRWvz3AR0NAhOm56XMoSEC2+ai/nvNDQGCzYsdYfDBAKlEbRApDKsDxJFW+redCwNbx47G8IkjAxBrYBWlKRMANeM/fqqExwKsTPxyD5SdAL1qBxH+EQkDHhi7nDRlIQLRnVoPdnURAVJGdExfEMkBRVbdxDoQlwBoKg51GHkLAVsO7BBoUSsBYTrQS3MRDwJxEvFysw0zAmn247qfwTMA11tKgxDtCwBAVQ985dfW/rC+K6v0kQUAEmuIWQoNMQH6Sw2bKKE1AbrGrH1jXQkAwW2mA4AIHQNy//VJugUDAQ20+ESg+TMD+lcvpIVxNwGvGa9PSb0PAJtNm562jEcCqGkpuULY/QJ2wcqdp9EtAuiZ4B6aKTUBisBmsGwVEQOMOU1UFwxdAdLfV1o1kPsAnc4sil3hKwA==",
          "dtype": "f8"
         },
         "y": {
          "bdata": "6G+14VGKM8AAMTR8AQazP5+Rli7wRDxAfO/K0MbqRkCy0KxPARVHQOXIaAiNIj1AAICbK1hn8j82PSaoW0Q7wFhnW7Itt0bAzs6JWYBBR8A4fh+zRBo+wOBKSQYF/gLA3ZZ+zEs/OkA9W7/C2H9GQE9w7NUsakdAAAwBuAkNP0BoJ03QPsUMQOehgITrNTnAeVQyGtFERsB+jF8VAI9HwHBr3y+0+j/AmnEZjtDpKcA0To1fdExEwF89UrkdIjPAS87VNNMKMkAhVkgGejdIQKTkFlxbTk5AcB35Zt7/SEDRAazXr5U0QAGBT2zrkTDAlp73aDi/R8AgX45PhEdOwLe9QV0EbUnAX7jdzd8FNsBc2F3TlCwuQGw1NpQPQ0dAxk89LbM7TkCBf0F3/NVJQAftbxdxcjdA5h62JV0wK8CizlvwE8NGwHBRXubpKk7AxOocdLU6SsBaG46F3xlBwA==",
          "dtype": "f8"
         },
         "z": {
          "bdata": "Vzma2fuOKcCGz5EWu69AQEYsoLhlwFNAyHD35e0oX0ClWqcJu0hlQOT8UiD//GpAk09/m6FYcECzINWmwzJzQNLxKrLlDHZA88KAvQfneEAVlNbIKcF7QDNlLNRLm35AKhvB77a6gEC5A2z1xyeCQEjsFvvYlINA19TBAOoBhUBnvWwG+26GQPelFwwM3IdAh47CER1JiUAWd20XLraKQKVfGB0/I4xA6qqehymMjUDsniMeoa4gwKbF3iTB0EJAVqfGv+jQVEDs9Y52uBxgQC6YOo380GVAbDrmo0CFa0BX7khdwpxwQHe/nmjkdnNAlpD0cwZRdkC3YUp/KCt5QNkyoIpKBXxA9wP2lWzffkCM6qVQx9yAQBvTUFbYSYJAqrv7W+m2g0A5pKZh+iOFQMmMUWcLkYZAWXX8bBz+h0DpXadyLWuJQHhGUng+2IpABy/9fU9FjEBUhYzyqq+NQA==",
          "dtype": "f8"
         }
        },
        {
         "color": "blue",
         "i": {
          "bdata": "AAEBAgIDAwQEBQUGBgcHCAgJCQoKCwsMDA0NDg4PDxAQERESEhMTFBQV",
          "dtype": "i1"
         },
         "j": {
          "bdata": "ARcCGAMZBBoFGwYcBx0IHgkfCiALIQwiDSMOJA8lECYRJxIoEykUKhUr",
          "dtype": "i1"
         },
         "k": {
          "bdata": "FhYXFxgYGRkaGhsbHBwdHR4eHx8gICEhIiIjIyQkJSUmJicnKCgpKSoq",
          "dtype": "i1"
         },
         "name": "surface",
         "opacity": 0.6,
         "type": "mesh3d",
         "x": {
          "bdata": "WE60EtzEQ8CcRLxcrMNMwJp9uO6n8EzANdbSoMQ7QsAQFUPfOXX1v6wviur9JEFABJriFkKDTEB+ksNmyihNQG6xqx9Y10JAMFtpgOACB0Dcv/1SboFAwENtPhEoPkzA/pXL6SFcTcBrxmvT0m9DwCbTZuetoxHAqhpKblC2P0CdsHKnafRLQLomeAemik1AYrAZrBsFREDjDlNVBcMXQHS31daNZD7AJ3OLIpd4SsCgf7hR2b88wEMXW4hfLUrA3nYp9XZEUMCtnAi5kKhKwDDse33ugzXANpC1B2lgMkDI0H7d4K1JQG/aLnbKQVBAwtXjL2AfS0CLYAohhBA3QPE6zEf9yTDAzO0irSkqScAwobvocTxQwALUqGW6kUvAxMNNRE+ZOMAgcP8snmEuQHRnkJ1PokhAcUzBLW40UEDB+6iOjP9LQAf7b1cPHjpAe41YakMqK8CW9hbB0T9EwA==",
          "dtype": "f8"
         },
         "y": {
          "bdata": "NE6NX3RMRMBfPVK5HSIzwEvO1TTTCjJAIVZIBno3SECk5BZcW05OQHAd+Wbe/0hA0QGs16+VNEABgU9s65EwwJae92g4v0fAIF+OT4RHTsC3vUFdBG1JwF+43c3fBTbAXNhd05QsLkBsNTaUD0NHQMZPPS2zO05AgX9Bd/zVSUAH7W8XcXI3QOYetiVdMCvAos5b8BPDRsBwUV7m6SpOwMTqHHS1OkrAWhuOhd8ZQcCaDNh9D8BMwFroz5oZU0PAPMsjZ/th6r+6oV2GuKdCQCz7TY8ptU5AnmBE5JM2T0D+cM6MTftDQOL+ZAVnyANALK60ekb5QcDVsMi03GxOwIg+Nhmcb0/AmvrCtjigRMCesl5jh3oQwFilFyTgR0FA2K0ToY8fTkDa9niNeaNPQEhiSf2/QUVABSor4iUOF0DcKhiropNAwEg+1QhPzU3A/C6wuiPST8Ci8nhIpfZIwA==",
          "dtype": "f8"
         },
         "z": {
          "bdata": "7J4jHqGuIMCmxd4kwdBCQFanxr/o0FRA7PWOdrgcYEAumDqN/NBlQGw65qNAhWtAV+5IXcKccEB3v55o5HZzQJaQ9HMGUXZAt2FKfygreUDZMqCKSgV8QPcD9pVs335AjOqlUMfcgEAb01BW2EmCQKq7+1vptoNAOaSmYfojhUDJjFFnC5GGQFl1/Gwc/odA6V2nci1riUB4RlJ4PtiKQAcv/X1PRYxAVIWM8qqvjUAvpgvVqqDsvAOJrloQ0UZABImuWhDRVkDD5gJEzBxhQAWJrloQ0WZARCtacVSFbEDD5gJEzBxxQOO3WE/u9nNAAomuWhDRdkAjWgRmMqt5QEUrWnFUhXxAY/yvfHZff0DC5gJEzByBQFHPrUndiYJA4LdYT+72g0BvoANV/2OFQP+IrloQ0YZAj3FZYCE+iEAfWgRmMquJQK5Cr2tDGItAPStacVSFjEDPEwV3ZfKNQA==",
          "dtype": "f8"
         }
        },
        {
         "line": {
          "color": "blue"
         },
         "mode": "lines",
         "type": "scatter3d",
         "x": {
          "bdata": "nn+4Udm/PMBCF1uIXy1KwN52KfV2RFDArZwIuZCoSsAy7Ht97oM1wDSQtQdpYDJAyNB+3eCtSUBv2i52ykFQQMPV4y9gH0tAjWAKIYQQN0DwOsxH/ckwwMztIq0pKknAMKG76HE8UMAC1KhlupFLwMbDTURPmTjAHHD/LJ5hLkB0Z5CdT6JIQHFMwS1uNFBAwvuojoz/S0AJ+29XDx46QHeNWGpDKivAlfYWwdE/RMA=",
          "dtype": "f8"
         },
         "y": {
          "bdata": "mgzYfQ/ATMBa6M+aGVNDwH3LI2f7Yeq/uqFdhrinQkAs+02PKbVOQJ9gROSTNk9A/nDOjE37Q0Dy/mQFZ8gDQCuutHpG+UHA1LDItNxsTsCJPjYZnG9PwJz6wrY4oETApbJeY4d6EMBYpRck4EdBQNitE6GPH05A2vZ4jXmjT0BIYkn9v0FFQA0qK+IlDhdA2yoYq6KTQMBHPtUIT81NwPwusLoj0k/AovJ4SKX2SMA=",
          "dtype": "f8"
         },
         "z": {
          "bdata": "AAAAAAAAAAADia5aENFGQASJrloQ0VZAw+YCRMwcYUAFia5aENFmQEQrWnFUhWxAw+YCRMwccUDjt1hP7vZzQAKJrloQ0XZAI1oEZjKreUBFK1pxVIV8QGP8r3x2X39AwuYCRMwcgUBRz61J3YmCQOC3WE/u9oNAb6ADVf9jhUD/iK5aENGGQI9xWWAhPohAH1oEZjKriUCuQq9rQxiLQD0rWnFUhYxAzxMFd2XyjUA=",
          "dtype": "f8"
         }
        },
        {
         "line": {
          "color": "blue"
         },
         "mode": "lines",
         "type": "scatter3d",
         "x": {
          "bdata": "dBe22kqUIsAngCnpMZ1BwDo4rrvDs0zALCJbTFz/TMB/rER6jmNCwAjjVeNesvu/FuQSCbr7QEB15s/PJ3JMQMIPPxZINk1AmMr8FVv+QkCQSfUZriAKQL1pxIp3V0DAc83K894rTMB34HSzZmhNwAAEGH0IlkPAc68Ur/AxE8A64NHbCmE/QPmQCLX04EtAHTUS56+VTUAWeVvBfSpEQDEEBaJiUBlA4sPDryCmNMA=",
          "dtype": "f8"
         },
         "y": {
          "bdata": "qb6hOporT8DtXg2owKtIwNuH9M/DgDPA/7ilhWarMUA0e0ZVURlIQF7qJ4YXTU5AiiWoMfkbSUDFyibHf/M0QMXLz9PHMTDAtqnpHhCgR8D0qurY/EROwIyvGjERiEnA31fKKspiNsDoe1xq/2otQLrVI9DsIkdAvqJQgOg3TkDmuw/i9u9JQBabI5xmzjdAOkQ/VpltKsCKLHj6+6FGwFJvtKLcJU7AmoOa+fhiSsA=",
          "dtype": "f8"
         },
         "z": {
          "bdata": "6Z4jHqGuIEBgTH6QX9FKQLJqlvU30VhAmtd2EeAcYkDceSIoJNFnQBwczj5ohW1AL9+8KtaccUBPsBI2+HZ0QG6BaEEaUXdAj1K+TDwrekCxIxRYXgV9QM70aWOA339A+OJfN9FcgUCHywo94smCQBa0tULzNoRApZxgSASkhUA1hQtOFRGHQMVttlMmfohAVVZhWTfriUDkPgxfSFiLQHMnt2RZxYxASqJ9+x81jkA=",
          "dtype": "f8"
         }
        },
        {
         "line": {
          "color": "blue"
         },
         "mode": "lines",
         "type": "scatter3d",
         "x": {
          "bdata": "dkjlGcp4I0AGiWZniFMswJQ76nJCPEPAfsHYhfgnSMCoaLIoVP5DwAnD/38XoDDAi/3+5cb5KUC7KL2PzttCQEKaaf7FIUhAVFvIkbdUREDam0AfEsUxQGZEdWXAmyfAkjCwJUF4QsAQm6cMnBdIwGeTfYDDp0TAImoyCCHnMsCVseyB2DklQHI6spGqEUJA5IY+XHwJSED0mWlOavdEQNtu240UBjRACEDdx75yBcA=",
          "dtype": "f8"
         },
         "y": {
          "bdata": "ofQhmjBtSsBa++yimxpHwLesgzPfQD3A4Ou5U+bH9L8gzHpo6SQ7QFzDWHSpsEZArfwfTKRGR0CmSSVO/zc+QNjcWBMBLgRA53CxN1EfOsA96hYh4XhGwFafjI/ZbkfA2DAF4CcqP8BYk2bfvfQNwHgMKtxtFTlAWCQPOmc9RkDZUlbRNJNHQBct1o2YC0BAWABUGEfbE0AUlNgJawc4wP7634VF/kXAciWcm2G0RMA=",
          "dtype": "f8"
         },
         "z": {
          "bdata": "Vjma2fuOKUCAQsueZfJMQMLlvPy64VlAIhUKlSGlYkBlt7WrZVloQKRZYcKpDW5A832G7PbgcUATT9z3GLt0QDIgMgM7lXdAU/GHDl1vekB1wt0Zf0l9QMnJmZLQEYBAWrJEmOF+gUDpmu+d8uuCQHiDmqMDWYRAB2xFqRTGhUCXVPCuJTOHQCc9m7Q2oIhAtyVGukcNikBGDvG/WHqLQNX2m8Vp54xAtHxrZqFYjkA=",
          "dtype": "f8"
         }
        },
        {
         "line": {
          "color": "blue"
         },
         "mode": "lines",
         "type": "scatter3d",
         "x": {
          "bdata": "7ILMLMtsM0BgAhANYnvvPytE/2jMIDHAf0KjAKTMPMD6aceuJ6Q9wPcCeUpNVjPA8KrTK9sv/L94J7HZ53kwQPIdZjK/hDxADAjqX0vWPUCSmtbinu8zQNDiWKOxTgRA7KB4BZygL8DXWbplKjg8wHy/ZpeHAz7A6l+6nqmFNMCAFdgzH4IKwIq7FIk1SC5A10j8MPLmO0BuANnl1Cs+QAgPutRUGDVAFEnvw7L9E0A=",
          "dtype": "f8"
         },
         "y": {
          "bdata": "EE+EUg+9QMBefASAu7Y+wMeMUzxtgznAyvwFczpwJcBqPWFuITYgQCQ2va/14TdAyRV8utOtPkAlecwvbfA5QP7SG2YQ5CZAdCOBQo9oHcCstreGkmI3wDlEMQ7hnz7ASwqVrSlZOsCcKFcnI1QowFyt/DcGYBpA1tqqYFffNkCIoQnG5Yw+QC8Gnn6RvTpAUHsNNzbAKUBYhwFgJ1MXwChLfM9ZWDbAVfk/gvsmNcA=",
          "dtype": "f8"
         },
         "z": {
          "bdata": "Z2tPqs15JkDl/Me6HDVMQPVCu4oWg1lAu0MJXM91YkD+5bRyEypoQD2IYIlX3m1AQBUG0E3JcUBg5lvbb6N0QH+3seaRfXdAoIgH8rNXekDBWV391TF9QHCVWQT8BYBAAH4ECg1zgUCPZq8PHuCCQB5PWhUvTYRArTcFG0C6hUA9ILAgUSeHQM0IWyZilIhAXfEFLHMBikDt2bAxhG6LQHvCWzeV24xAfFGurUxMjkA=",
          "dtype": "f8"
         }
        },
        {
         "line": {
          "color": "blue"
         },
         "mode": "lines",
         "type": "scatter3d",
         "x": {
          "bdata": "EvWMgeN8LkAoMpF4wAAJQGA8Zvg45wrAPMKmoVksIcDqxBMjvSklwPbd9ljmMSHAsNO2xkULC8A4ZP8FaNwIQDo5N4K42iBAP6UxDuEnJUAX4+RTgoAhQHA4qyFZEQ1AMHAx/IDNBsDyPGAxUoYgwISgucmKIiXAxINu3T3MIcDQAQRipRIPwHDx0HXaugRAXkV5jjQvIEBjET02uxklQGhQ7YIMFSJA4GORoBBK878=",
          "dtype": "f8"
         },
         "y": {
          "bdata": "2jOGesWOKsDQaPphCDgkwAxHHnHbECTAsFvBryW8GMAAWMoNJwSDv4CRT9G0rBhABuSf2NMNJEDp+bxF1TokQIBaPZfkmBlAQD6Cn6fA0T+8z4tmnssXwGSYwntT4CPAOBse4XthJMCwjj5sbnEawMAWDIUhc+G/CDalup7mFkAqf/rFjq8jQJOf6+jIhCRAnFBWl59FG0CgWd77EAPqP8xwV3Hb/RXAUEFJU2yx978=",
          "dtype": "f8"
         },
         "z": {
          "bdata": "2jTtdrXAEUAkf/toFvJIQBQE1WGT4VdASySWxw2lYUCNxkHeUVlnQMxo7fSVDW1Ah4XMBe1gcUCnViIRDzt0QMYneBwxFXdA5/jNJ1PveUAJyiMzdcl8QCebeT6Xo39AJLbnpNw+gUCznpKq7auCQEKHPbD+GIRA0W/otQ+GhUBhWJO7IPOGQPFAPsExYIhAgSnpxkLNiUAQEpTMUzqLQJ/6PtJkp4xAOe7y4eYVjkA=",
          "dtype": "f8"
         }
        },
        {
         "line": {
          "color": "blue"
         },
         "mode": "lines",
         "type": "scatter3d",
         "x": {
          "bdata": "kLEWK2U6679WkOgkKHshwDiCguSd7QzAcPeuGR/yBkBvu6I0QYwgQGGGchcGIyVA5Bv8FxfHIUBws4GVQe8OQOg+cTm43wTAqEUyRVM1IMCTlnwRdBolwMKmx/8ZECLAUMVRz+d1EMAgXOsF48kCQLY0nqd2tx9ANyzdEGoOJUAWZyXcJFYiQLw0jTR6cRFAiIKOPfewAMCqnbg0EP8ewLjEJxDq/iTAgdIxpW9jMsA=",
          "dtype": "f8"
         },
         "y": {
          "bdata": "8BfYDfJZ+78c2EH+VdsXQFmJgUmV4yNAEWfsJ+peJEBsJHGRkmIaQOAMGE0y2+A/TBhIdpr2FsBIfO0/CrMjwItEZsZygiTAqONq7hE3G8DABM88YGvpv5iJXLAYDhZAHOz2TkJ/I0CucDtmnKIkQGj9TSUYBxxAwHSlSrD78D+s2djj9iEVwIYDcflFSCPAezMYvmG/JMBIIe0Eg9IcwDCsRdrlPvW//lq8hSLNIEA=",
          "dtype": "f8"
         },
         "z": {
          "bdata": "1zTtdrXAEcDjkmFMCrBEQPQNiFONwFVAO6lvwIqUYEB9SxvXzkhmQLztxu0S/WtA/0c5gqvYcEAfGY+NzbJzQD7q5JjvjHZAX7s6pBFneUCBjJCvM0F8QJ9d5rpVG39AYBce47v6gEDv/8jozGeCQH7oc+7d1INADdEe9O5BhUCducn5/66GQC2idP8QHIhAvYofBSKJiUBMc8oKM/aKQNtbdRBEY4xAZTkXDOTOjUA=",
          "dtype": "f8"
         }
        },
        {
         "line": {
          "color": "blue"
         },
         "mode": "lines",
         "type": "scatter3d",
         "x": {
          "bdata": "TLHiHBhUNcBwZ1L/zA89wAKjMELgxDHAAK+VSYRHyj8+sTvXOhoyQD5SkaNLMT1A3FmCJC9OPUCoG0VtCGYyQKDB1Fm0WOI/W6nv7613McDGjoMqpvA8wNmQQC/Ahz3APikhbSoEM8CgWdXlIqD1v9I0xwpC0jBAee7A9j6rPEBUoUipdrw9QP5/6EMsnzNAEO+C1S4IAUA+K09YEiowwD/zm3AhYTzA9CIJeV9BQ8A=",
          "dtype": "f8"
         },
         "y": {
          "bdata": "VD8Nzq26EMACHhFs3vgjQGCRn707EjlA/PsS6Ja6PkB0STjv4NQ4QEIVjaGXMSNAWAV+Azp+IsB9DppO65w4wPzQW1BluT7Aij03GEFIOcCeKOeKtqokwI7JrnWLACFAU+iRN48jOEBgmhnrJrM+QFek0W95tzlA6Kxd128gJkAcJ9j9IgAfwLUHEGs7pjfA2B4Fv9ynPsDeoCWudyI6wFT6ghmGkifA+FPcnajyDkA=",
          "dtype": "f8"
         },
         "z": {
          "bdata": "ZGtPqs15JsAhFZX6A21BQBTPoSoKH1RAlhP5V5KHX0AMLKhCDXhlQEvOU1lRLGtARrj/t0pwcEBmiVXDbEpzQIVaq86OJHZApisB2rD+eEDJ/Fbl0th7QOfNrPD0sn5AhE8BfovGgEATOKyDnDOCQKIgV4mtoINAMQkCj74NhUDB8ayUz3qGQFHaV5rg54dA4cICoPFUiUBvq62lAsKKQP+TWKsTL4xAItZbQH6YjUA=",
          "dtype": "f8"
         }
        },
        {
         "line": {
          "color": "blue"
         },
         "mode": "lines",
         "type": "scatter3d",
         "x": {
          "bdata": "aA6dSrlNQsDtnS+eMipIwFFFtvSMmUPABVYvAaKoLsARLRdiQJwsQFRWvz3AR0NAhOm56XMoSEC2+ai/nvNDQGCzYsdYfDBAKlEbRApDKsDxJFW+redCwNbx47G8IkjAxBrYBWlKRMANeM/fqqExwKsTPxyD5SdAL1qBxH+EQkDHhi7nDRlIQLRnVoPdnURAVJGdExfEMkBRVbdxDoQlwBoKg51GHkLAVsO7BBoUSsA=",
          "dtype": "f8"
         },
         "y": {
          "bdata": "6G+14VGKM8AAMTR8AQazP5+Rli7wRDxAfO/K0MbqRkCy0KxPARVHQOXIaAiNIj1AAICbK1hn8j82PSaoW0Q7wFhnW7Itt0bAzs6JWYBBR8A4fh+zRBo+wOBKSQYF/gLA3ZZ+zEs/OkA9W7/C2H9GQE9w7NUsakdAAAwBuAkNP0BoJ03QPsUMQOehgITrNTnAeVQyGtFERsB+jF8VAI9HwHBr3y+0+j/AmnEZjtDpKcA=",
          "dtype": "f8"
         },
         "z": {
          "bdata": "Vzma2fuOKcCGz5EWu69AQEYsoLhlwFNAyHD35e0oX0ClWqcJu0hlQOT8UiD//GpAk09/m6FYcECzINWmwzJzQNLxKrLlDHZA88KAvQfneEAVlNbIKcF7QDNlLNRLm35AKhvB77a6gEC5A2z1xyeCQEjsFvvYlINA19TBAOoBhUBnvWwG+26GQPelFwwM3IdAh47CER1JiUAWd20XLraKQKVfGB0/I4xA6qqehymMjUA=",
          "dtype": "f8"
         }
        },
        {
         "line": {
          "color": "blue"
         },
         "mode": "lines",
         "type": "scatter3d",
         "x": {
          "bdata": "WE60EtzEQ8CcRLxcrMNMwJp9uO6n8EzANdbSoMQ7QsAQFUPfOXX1v6wviur9JEFABJriFkKDTEB+ksNmyihNQG6xqx9Y10JAMFtpgOACB0Dcv/1SboFAwENtPhEoPkzA/pXL6SFcTcBrxmvT0m9DwCbTZuetoxHAqhpKblC2P0CdsHKnafRLQLomeAemik1AYrAZrBsFREDjDlNVBcMXQHS31daNZD7AJ3OLIpd4SsA=",
          "dtype": "f8"
         },
         "y": {
          "bdata": "NE6NX3RMRMBfPVK5HSIzwEvO1TTTCjJAIVZIBno3SECk5BZcW05OQHAd+Wbe/0hA0QGs16+VNEABgU9s65EwwJae92g4v0fAIF+OT4RHTsC3vUFdBG1JwF+43c3fBTbAXNhd05QsLkBsNTaUD0NHQMZPPS2zO05AgX9Bd/zVSUAH7W8XcXI3QOYetiVdMCvAos5b8BPDRsBwUV7m6SpOwMTqHHS1OkrAWhuOhd8ZQcA=",
          "dtype": "f8"
         },
         "z": {
          "bdata": "7J4jHqGuIMCmxd4kwdBCQFanxr/o0FRA7PWOdrgcYEAumDqN/NBlQGw65qNAhWtAV+5IXcKccEB3v55o5HZzQJaQ9HMGUXZAt2FKfygreUDZMqCKSgV8QPcD9pVs335AjOqlUMfcgEAb01BW2EmCQKq7+1vptoNAOaSmYfojhUDJjFFnC5GGQFl1/Gwc/odA6V2nci1riUB4RlJ4PtiKQAcv/X1PRYxAVIWM8qqvjUA=",
          "dtype": "f8"
         }
        },
        {
         "line": {
          "color": "blue"
         },
         "mode": "lines",
         "type": "scatter3d",
         "x": {
          "bdata": "oH+4Udm/PMBDF1uIXy1KwN52KfV2RFDArZwIuZCoSsAw7Ht97oM1wDaQtQdpYDJAyNB+3eCtSUBv2i52ykFQQMLV4y9gH0tAi2AKIYQQN0DxOsxH/ckwwMztIq0pKknAMKG76HE8UMAC1KhlupFLwMTDTURPmTjAIHD/LJ5hLkB0Z5CdT6JIQHFMwS1uNFBAwfuojoz/S0AH+29XDx46QHuNWGpDKivAlvYWwdE/RMA=",
          "dtype": "f8"
         },
         "y": {
          "bdata": "mgzYfQ/ATMBa6M+aGVNDwDzLI2f7Yeq/uqFdhrinQkAs+02PKbVOQJ5gROSTNk9A/nDOjE37Q0Di/mQFZ8gDQCyutHpG+UHA1bDItNxsTsCIPjYZnG9PwJr6wrY4oETAnrJeY4d6EMBYpRck4EdBQNitE6GPH05A2vZ4jXmjT0BIYkn9v0FFQAUqK+IlDhdA3CoYq6KTQMBIPtUIT81NwPwusLoj0k/AovJ4SKX2SMA=",
          "dtype": "f8"
         },
         "z": {
          "bdata": "L6YL1aqg7LwDia5aENFGQASJrloQ0VZAw+YCRMwcYUAFia5aENFmQEQrWnFUhWxAw+YCRMwccUDjt1hP7vZzQAKJrloQ0XZAI1oEZjKreUBFK1pxVIV8QGP8r3x2X39AwuYCRMwcgUBRz61J3YmCQOC3WE/u9oNAb6ADVf9jhUD/iK5aENGGQI9xWWAhPohAH1oEZjKriUCuQq9rQxiLQD0rWnFUhYxAzxMFd2XyjUA=",
          "dtype": "f8"
         }
        },
        {
         "color": "red",
         "i": {
          "bdata": "AAEBAgIDAwQEBQUGBgcHCAgJCQoKCwsMDA0NDg4PDxAQERESEhMTFBQV",
          "dtype": "i1"
         },
         "j": {
          "bdata": "ARcCGAMZBBoFGwYcBx0IHgkfCiALIQwiDSMOJA8lECYRJxIoEykUKhUr",
          "dtype": "i1"
         },
         "k": {
          "bdata": "FhYXFxgYGRkaGhsbHBwdHR4eHx8gICEhIiIjIyQkJSUmJicnKCgpKSoq",
          "dtype": "i1"
         },
         "name": "surface",
         "opacity": 0.6,
         "type": "mesh3d",
         "x": {
          "bdata": "nn+4Udm/PEBCF1uIXy1KQN52KfV2RFBArZwIuZCoSkAy7Ht97oM1QDSQtQdpYDLAyNB+3eCtScBv2i52ykFQwMPV4y9gH0vAjWAKIYQQN8DwOsxH/ckwQMztIq0pKklAMKG76HE8UEAC1KhlupFLQMbDTURPmThAHHD/LJ5hLsB0Z5CdT6JIwHFMwS1uNFDAwvuojoz/S8AJ+29XDx46wHeNWGpDKitAlfYWwdE/REB0F7baSpQiQCeAKekxnUFAOjiuu8OzTEAsIltMXP9MQH+sRHqOY0JACONV416y+z8W5BIJuvtAwHXmz88nckzAwg8/Fkg2TcCYyvwVW/5CwJBJ9RmuIArAvWnEindXQEBzzcrz3itMQHfgdLNmaE1AAAQYfQiWQ0BzrxSv8DETQDrg0dsKYT/A+ZAItfTgS8AdNRLnr5VNwBZ5W8F9KkTAMQQFomJQGcDiw8OvIKY0QA==",
          "dtype": "f8"
         },
         "y": {
          "bdata": "mgzYfQ/ATEBa6M+aGVNDQH3LI2f7Yeo/uqFdhrinQsAs+02PKbVOwJ9gROSTNk/A/nDOjE37Q8Dy/mQFZ8gDwCuutHpG+UFA1LDItNxsTkCJPjYZnG9PQJz6wrY4oERApbJeY4d6EEBYpRck4EdBwNitE6GPH07A2vZ4jXmjT8BIYkn9v0FFwA0qK+IlDhfA2yoYq6KTQEBHPtUIT81NQPwusLoj0k9AovJ4SKX2SECpvqE6mitPQO1eDajAq0hA24f0z8OAM0D/uKWFZqsxwDR7RlVRGUjAXuonhhdNTsCKJagx+RtJwMXKJsd/8zTAxcvP08cxMEC2qekeEKBHQPSq6tj8RE5AjK8aMRGISUDfV8oqymI2QOh7XGr/ai3AutUj0OwiR8C+olCA6DdOwOa7D+L270nAFpsjnGbON8A6RD9WmW0qQIosePr7oUZAUm+0otwlTkCag5r5+GJKQA==",
          "dtype": "f8"
         },
         "z": {
          "bdata": "AAAAAAAAAAADia5aENFGQASJrloQ0VZAw+YCRMwcYUAFia5aENFmQEQrWnFUhWxAw+YCRMwccUDjt1hP7vZzQAKJrloQ0XZAI1oEZjKreUBFK1pxVIV8QGP8r3x2X39AwuYCRMwcgUBRz61J3YmCQOC3WE/u9oNAb6ADVf9jhUD/iK5aENGGQI9xWWAhPohAH1oEZjKriUCuQq9rQxiLQD0rWnFUhYxAzxMFd2XyjUDpniMeoa4gQGBMfpBf0UpAsmqW9TfRWECa13YR4BxiQNx5Iigk0WdAHBzOPmiFbUAv37wq1pxxQE+wEjb4dnRAboFoQRpRd0CPUr5MPCt6QLEjFFheBX1AzvRpY4Dff0D44l830VyBQIfLCj3iyYJAFrS1QvM2hEClnGBIBKSFQDWFC04VEYdAxW22UyZ+iEBVVmFZN+uJQOQ+DF9IWItAcye3ZFnFjEBKon37HzWOQA==",
          "dtype": "f8"
         }
        },
        {
         "color": "red",
         "i": {
          "bdata": "AAEBAgIDAwQEBQUGBgcHCAgJCQoKCwsMDA0NDg4PDxAQERESEhMTFBQV",
          "dtype": "i1"
         },
         "j": {
          "bdata": "ARcCGAMZBBoFGwYcBx0IHgkfCiALIQwiDSMOJA8lECYRJxIoEykUKhUr",
          "dtype": "i1"
         },
         "k": {
          "bdata": "FhYXFxgYGRkaGhsbHBwdHR4eHx8gICEhIiIjIyQkJSUmJicnKCgpKSoq",
          "dtype": "i1"
         },
         "name": "surface",
         "opacity": 0.6,
         "type": "mesh3d",
         "x": {
          "bdata": "dBe22kqUIkAngCnpMZ1BQDo4rrvDs0xALCJbTFz/TEB/rER6jmNCQAjjVeNesvs/FuQSCbr7QMB15s/PJ3JMwMIPPxZINk3AmMr8FVv+QsCQSfUZriAKwL1pxIp3V0BAc83K894rTEB34HSzZmhNQAAEGH0IlkNAc68Ur/AxE0A64NHbCmE/wPmQCLX04EvAHTUS56+VTcAWeVvBfSpEwDEEBaJiUBnA4sPDryCmNEB2SOUZyngjwAaJZmeIUyxAlDvqckI8Q0B+wdiF+CdIQKhosihU/kNACcP/fxegMECL/f7lxvkpwLsovY/O20LAQppp/sUhSMBUW8iRt1REwNqbQB8SxTHAZkR1ZcCbJ0CSMLAlQXhCQBCbpwycF0hAZ5N9gMOnREAiajIIIecyQJWx7IHYOSXAcjqykaoRQsDkhj5cfAlIwPSZaU5q90TA227bjRQGNMAIQN3HvnIFQA==",
          "dtype": "f8"
         },
         "y": {
          "bdata": "qb6hOporT0DtXg2owKtIQNuH9M/DgDNA/7ilhWarMcA0e0ZVURlIwF7qJ4YXTU7AiiWoMfkbScDFyibHf/M0wMXLz9PHMTBAtqnpHhCgR0D0qurY/EROQIyvGjERiElA31fKKspiNkDoe1xq/2otwLrVI9DsIkfAvqJQgOg3TsDmuw/i9u9JwBabI5xmzjfAOkQ/VpltKkCKLHj6+6FGQFJvtKLcJU5AmoOa+fhiSkCh9CGaMG1KQFr77KKbGkdAt6yDM99APUDg67lT5sf0PyDMemjpJDvAXMNYdKmwRsCt/B9MpEZHwKZJJU7/Nz7A2NxYEwEuBMDncLE3UR86QD3qFiHheEZAVp+Mj9luR0DYMAXgJyo/QFiTZt+99A1AeAwq3G0VOcBYJA86Zz1GwNlSVtE0k0fAFy3WjZgLQMBYAFQYR9sTwBSU2AlrBzhA/vrfhUX+RUByJZybYbREQA==",
          "dtype": "f8"
         },
         "z": {
          "bdata": "6Z4jHqGuIEBgTH6QX9FKQLJqlvU30VhAmtd2EeAcYkDceSIoJNFnQBwczj5ohW1AL9+8KtaccUBPsBI2+HZ0QG6BaEEaUXdAj1K+TDwrekCxIxRYXgV9QM70aWOA339A+OJfN9FcgUCHywo94smCQBa0tULzNoRApZxgSASkhUA1hQtOFRGHQMVttlMmfohAVVZhWTfriUDkPgxfSFiLQHMnt2RZxYxASqJ9+x81jkBWOZrZ+44pQIBCy55l8kxAwuW8/LrhWUAiFQqVIaViQGW3tatlWWhApFlhwqkNbkDzfYbs9uBxQBNP3PcYu3RAMiAyAzuVd0BT8YcOXW96QHXC3Rl/SX1AycmZktARgEBaskSY4X6BQOma753y64JAeIOaowNZhEAHbEWpFMaFQJdU8K4lM4dAJz2btDagiEC3JUa6Rw2KQEYO8b9YeotA1fabxWnnjEC0fGtmoViOQA==",
          "dtype": "f8"
         }
        },
        {
         "color": "red",
         "i": {
          "bdata": "AAEBAgIDAwQEBQUGBgcHCAgJCQoKCwsMDA0NDg4PDxAQERESEhMTFBQV",
          "dtype": "i1"
         },
         "j": {
          "bdata": "ARcCGAMZBBoFGwYcBx0IHgkfCiALIQwiDSMOJA8lECYRJxIoEykUKhUr",
          "dtype": "i1"
         },
         "k": {
          "bdata": "FhYXFxgYGRkaGhsbHBwdHR4eHx8gICEhIiIjIyQkJSUmJicnKCgpKSoq",
          "dtype": "i1"
         },
         "name": "surface",
         "opacity": 0.6,
         "type": "mesh3d",
         "x": {
          "bdata": "dkjlGcp4I8AGiWZniFMsQJQ76nJCPENAfsHYhfgnSECoaLIoVP5DQAnD/38XoDBAi/3+5cb5KcC7KL2PzttCwEKaaf7FIUjAVFvIkbdURMDam0AfEsUxwGZEdWXAmydAkjCwJUF4QkAQm6cMnBdIQGeTfYDDp0RAImoyCCHnMkCVseyB2DklwHI6spGqEULA5IY+XHwJSMD0mWlOavdEwNtu240UBjTACEDdx75yBUDsgswsy2wzwGACEA1ie++/K0T/aMwgMUB/QqMApMw8QPppx64npD1A9wJ5Sk1WM0DwqtMr2y/8P3gnsdnneTDA8h1mMr+EPMAMCOpfS9Y9wJKa1uKe7zPA0OJYo7FOBMDsoHgFnKAvQNdZumUqODxAfL9ml4cDPkDqX7qeqYU0QIAV2DMfggpAirsUiTVILsDXSPww8uY7wG4A2eXUKz7ACA+61FQYNcAUSe/Dsv0TwA==",
          "dtype": "f8"
         },
         "y": {
          "bdata": "ofQhmjBtSkBa++yimxpHQLesgzPfQD1A4Ou5U+bH9D8gzHpo6SQ7wFzDWHSpsEbArfwfTKRGR8CmSSVO/zc+wNjcWBMBLgTA53CxN1EfOkA96hYh4XhGQFafjI/ZbkdA2DAF4CcqP0BYk2bfvfQNQHgMKtxtFTnAWCQPOmc9RsDZUlbRNJNHwBct1o2YC0DAWABUGEfbE8AUlNgJawc4QP7634VF/kVAciWcm2G0REAQT4RSD71AQF58BIC7tj5Ax4xTPG2DOUDK/AVzOnAlQGo9YW4hNiDAJDa9r/XhN8DJFXy6060+wCV5zC9t8DnA/tIbZhDkJsB0I4FCj2gdQKy2t4aSYjdAOUQxDuGfPkBLCpWtKVk6QJwoVycjVChAXK38NwZgGsDW2qpgV982wIihCcbljD7ALwaefpG9OsBQew03NsApwFiHAWAnUxdAKEt8z1lYNkBV+T+C+yY1QA==",
          "dtype": "f8"
         },
         "z": {
          "bdata": "Vjma2fuOKUCAQsueZfJMQMLlvPy64VlAIhUKlSGlYkBlt7WrZVloQKRZYcKpDW5A832G7PbgcUATT9z3GLt0QDIgMgM7lXdAU/GHDl1vekB1wt0Zf0l9QMnJmZLQEYBAWrJEmOF+gUDpmu+d8uuCQHiDmqMDWYRAB2xFqRTGhUCXVPCuJTOHQCc9m7Q2oIhAtyVGukcNikBGDvG/WHqLQNX2m8Vp54xAtHxrZqFYjkBna0+qzXkmQOX8x7ocNUxA9UK7ihaDWUC7Qwlcz3ViQP7ltHITKmhAPYhgiVfebUBAFQbQTclxQGDmW9tvo3RAf7ex5pF9d0CgiAfys1d6QMFZXf3VMX1AcJVZBPwFgEAAfgQKDXOBQI9mrw8e4IJAHk9aFS9NhECtNwUbQLqFQD0gsCBRJ4dAzQhbJmKUiEBd8QUscwGKQO3ZsDGEbotAe8JbN5XbjEB8Ua6tTEyOQA==",
          "dtype": "f8"
         }
        },
        {
         "color": "red",
         "i": {
          "bdata": "AAEBAgIDAwQEBQUGBgcHCAgJCQoKCwsMDA0NDg4PDxAQERESEhMTFBQV",
          "dtype": "i1"
         },
         "j": {
          "bdata": "ARcCGAMZBBoFGwYcBx0IHgkfCiALIQwiDSMOJA8lECYRJxIoEykUKhUr",
          "dtype": "i1"
         },
         "k": {
          "bdata": "FhYXFxgYGRkaGhsbHBwdHR4eHx8gICEhIiIjIyQkJSUmJicnKCgpKSoq",
          "dtype": "i1"
         },
         "name": "surface",
         "opacity": 0.6,
         "type": "mesh3d",
         "x": {
          "bdata": "7ILMLMtsM8BgAhANYnvvvytE/2jMIDFAf0KjAKTMPED6aceuJ6Q9QPcCeUpNVjNA8KrTK9sv/D94J7HZ53kwwPIdZjK/hDzADAjqX0vWPcCSmtbinu8zwNDiWKOxTgTA7KB4BZygL0DXWbplKjg8QHy/ZpeHAz5A6l+6nqmFNECAFdgzH4IKQIq7FIk1SC7A10j8MPLmO8BuANnl1Cs+wAgPutRUGDXAFEnvw7L9E8AS9YyB43wuwCgykXjAAAnAYDxm+DjnCkA8wqahWSwhQOrEEyO9KSVA9t32WOYxIUCw07bGRQsLQDhk/wVo3AjAOjk3grjaIMA/pTEO4SclwBfj5FOCgCHAcDirIVkRDcAwcDH8gM0GQPI8YDFShiBAhKC5yYoiJUDEg27dPcwhQNABBGKlEg9AcPHQddq6BMBeRXmONC8gwGMRPTa7GSXAaFDtggwVIsDgY5GgEErzPw==",
          "dtype": "f8"
         },
         "y": {
          "bdata": "EE+EUg+9QEBefASAu7Y+QMeMUzxtgzlAyvwFczpwJUBqPWFuITYgwCQ2va/14TfAyRV8utOtPsAlecwvbfA5wP7SG2YQ5CbAdCOBQo9oHUCstreGkmI3QDlEMQ7hnz5ASwqVrSlZOkCcKFcnI1QoQFyt/DcGYBrA1tqqYFffNsCIoQnG5Yw+wC8Gnn6RvTrAUHsNNzbAKcBYhwFgJ1MXQChLfM9ZWDZAVfk/gvsmNUDaM4Z6xY4qQNBo+mEIOCRADEcecdsQJECwW8GvJbwYQABYyg0nBIM/gJFP0bSsGMAG5J/Y0w0kwOn5vEXVOiTAgFo9l+SYGcBAPoKfp8DRv7zPi2aeyxdAZJjCe1PgI0A4Gx7he2EkQLCOPmxucRpAwBYMhSFz4T8INqW6nuYWwCp/+sWOryPAk5/r6MiEJMCcUFaXn0UbwKBZ3vsQA+q/zHBXcdv9FUBQQUlTbLH3Pw==",
          "dtype": "f8"
         },
         "z": {
          "bdata": "Z2tPqs15JkDl/Me6HDVMQPVCu4oWg1lAu0MJXM91YkD+5bRyEypoQD2IYIlX3m1AQBUG0E3JcUBg5lvbb6N0QH+3seaRfXdAoIgH8rNXekDBWV391TF9QHCVWQT8BYBAAH4ECg1zgUCPZq8PHuCCQB5PWhUvTYRArTcFG0C6hUA9ILAgUSeHQM0IWyZilIhAXfEFLHMBikDt2bAxhG6LQHvCWzeV24xAfFGurUxMjkDaNO12tcARQCR/+2gW8khAFATVYZPhV0BLJJbHDaVhQI3GQd5RWWdAzGjt9JUNbUCHhcwF7WBxQKdWIhEPO3RAxid4HDEVd0Dn+M0nU+95QAnKIzN1yXxAJ5t5Ppejf0Aktuek3D6BQLOekqrtq4JAQoc9sP4YhEDRb+i1D4aFQGFYk7sg84ZA8UA+wTFgiECBKenGQs2JQBASlMxTOotAn/o+0mSnjEA57vLh5hWOQA==",
          "dtype": "f8"
         }
        },
        {
         "color": "red",
         "i": {
          "bdata": "AAEBAgIDAwQEBQUGBgcHCAgJCQoKCwsMDA0NDg4PDxAQERESEhMTFBQV",
          "dtype": "i1"
         },
         "j": {
          "bdata": "ARcCGAMZBBoFGwYcBx0IHgkfCiALIQwiDSMOJA8lECYRJxIoEykUKhUr",
          "dtype": "i1"
         },
         "k": {
          "bdata": "FhYXFxgYGRkaGhsbHBwdHR4eHx8gICEhIiIjIyQkJSUmJicnKCgpKSoq",
          "dtype": "i1"
         },
         "name": "surface",
         "opacity": 0.6,
         "type": "mesh3d",
         "x": {
          "bdata": "EvWMgeN8LsAoMpF4wAAJwGA8Zvg45wpAPMKmoVksIUDqxBMjvSklQPbd9ljmMSFAsNO2xkULC0A4ZP8FaNwIwDo5N4K42iDAP6UxDuEnJcAX4+RTgoAhwHA4qyFZEQ3AMHAx/IDNBkDyPGAxUoYgQISgucmKIiVAxINu3T3MIUDQAQRipRIPQHDx0HXaugTAXkV5jjQvIMBjET02uxklwGhQ7YIMFSLA4GORoBBK8z+QsRYrZTrrP1aQ6CQoeyFAOIKC5J3tDEBw964ZH/IGwG+7ojRBjCDAYYZyFwYjJcDkG/wXF8chwHCzgZVB7w7A6D5xObjfBECoRTJFUzUgQJOWfBF0GiVAwqbH/xkQIkBQxVHP53UQQCBc6wXjyQLAtjSep3a3H8A3LN0Qag4lwBZnJdwkViLAvDSNNHpxEcCIgo4997AAQKqduDQQ/x5AuMQnEOr+JECB0jGlb2MyQA==",
          "dtype": "f8"
         },
         "y": {
          "bdata": "2jOGesWOKkDQaPphCDgkQAxHHnHbECRAsFvBryW8GEAAWMoNJwSDP4CRT9G0rBjABuSf2NMNJMDp+bxF1TokwIBaPZfkmBnAQD6Cn6fA0b+8z4tmnssXQGSYwntT4CNAOBse4XthJECwjj5sbnEaQMAWDIUhc+E/CDalup7mFsAqf/rFjq8jwJOf6+jIhCTAnFBWl59FG8CgWd77EAPqv8xwV3Hb/RVAUEFJU2yx9z/wF9gN8ln7PxzYQf5V2xfAWYmBSZXjI8ARZ+wn6l4kwGwkcZGSYhrA4AwYTTLb4L9MGEh2mvYWQEh87T8KsyNAi0RmxnKCJECo42ruETcbQMAEzzxga+k/mIlcsBgOFsAc7PZOQn8jwK5wO2acoiTAaP1NJRgHHMDAdKVKsPvwv6zZ2OP2IRVAhgNx+UVII0B7Mxi+Yb8kQEgh7QSD0hxAMKxF2uU+9T/+WryFIs0gwA==",
          "dtype": "f8"
         },
         "z": {
          "bdata": "2jTtdrXAEUAkf/toFvJIQBQE1WGT4VdASySWxw2lYUCNxkHeUVlnQMxo7fSVDW1Ah4XMBe1gcUCnViIRDzt0QMYneBwxFXdA5/jNJ1PveUAJyiMzdcl8QCebeT6Xo39AJLbnpNw+gUCznpKq7auCQEKHPbD+GIRA0W/otQ+GhUBhWJO7IPOGQPFAPsExYIhAgSnpxkLNiUAQEpTMUzqLQJ/6PtJkp4xAOe7y4eYVjkDXNO12tcARwOOSYUwKsERA9A2IU43AVUA7qW/AipRgQH1LG9fOSGZAvO3G7RL9a0D/RzmCq9hwQB8Zj43NsnNAPurkmO+MdkBfuzqkEWd5QIGMkK8zQXxAn13mulUbf0BgFx7ju/qAQO//yOjMZ4JAfuhz7t3Ug0AN0R707kGFQJ25yfn/roZALaJ0/xAciEC9ih8FIomJQExzygoz9opA21t1EERjjEBlORcM5M6NQA==",
          "dtype": "f8"
         }
        },
        {
         "color": "red",
         "i": {
          "bdata": "AAEBAgIDAwQEBQUGBgcHCAgJCQoKCwsMDA0NDg4PDxAQERESEhMTFBQV",
          "dtype": "i1"
         },
         "j": {
          "bdata": "ARcCGAMZBBoFGwYcBx0IHgkfCiALIQwiDSMOJA8lECYRJxIoEykUKhUr",
          "dtype": "i1"
         },
         "k": {
          "bdata": "FhYXFxgYGRkaGhsbHBwdHR4eHx8gICEhIiIjIyQkJSUmJicnKCgpKSoq",
          "dtype": "i1"
         },
         "name": "surface",
         "opacity": 0.6,
         "type": "mesh3d",
         "x": {
          "bdata": "kLEWK2U66z9WkOgkKHshQDiCguSd7QxAcPeuGR/yBsBvu6I0QYwgwGGGchcGIyXA5Bv8FxfHIcBws4GVQe8OwOg+cTm43wRAqEUyRVM1IECTlnwRdBolQMKmx/8ZECJAUMVRz+d1EEAgXOsF48kCwLY0nqd2tx/ANyzdEGoOJcAWZyXcJFYiwLw0jTR6cRHAiIKOPfewAECqnbg0EP8eQLjEJxDq/iRAgdIxpW9jMkBMseIcGFQ1QHBnUv/MDz1AAqMwQuDEMUAAr5VJhEfKvz6xO9c6GjLAPlKRo0sxPcDcWYIkL049wKgbRW0IZjLAoMHUWbRY4r9bqe/vrXcxQMaOgyqm8DxA2ZBAL8CHPUA+KSFtKgQzQKBZ1eUioPU/0jTHCkLSMMB57sD2Pqs8wFShSKl2vD3A/n/oQyyfM8AQ74LVLggBwD4rT1gSKjBAP/ObcCFhPED0Igl5X0FDQA==",
          "dtype": "f8"
         },
         "y": {
          "bdata": "8BfYDfJZ+z8c2EH+VdsXwFmJgUmV4yPAEWfsJ+peJMBsJHGRkmIawOAMGE0y2+C/TBhIdpr2FkBIfO0/CrMjQItEZsZygiRAqONq7hE3G0DABM88YGvpP5iJXLAYDhbAHOz2TkJ/I8CucDtmnKIkwGj9TSUYBxzAwHSlSrD78L+s2djj9iEVQIYDcflFSCNAezMYvmG/JEBIIe0Eg9IcQDCsRdrlPvU//lq8hSLNIMBUPw3OrboQQAIeEWze+CPAYJGfvTsSOcD8+xLolro+wHRJOO/g1DjAQhWNoZcxI8BYBX4DOn4iQH0Omk7rnDhA/NBbUGW5PkCKPTcYQUg5QJ4o54q2qiRAjsmudYsAIcBT6JE3jyM4wGCaGesmsz7AV6TRb3m3OcDorF3XbyAmwBwn2P0iAB9AtQcQazumN0DYHgW/3Kc+QN6gJa53IjpAVPqCGYaSJ0D4U9ydqPIOwA==",
          "dtype": "f8"
         },
         "z": {
          "bdata": "1zTtdrXAEcDjkmFMCrBEQPQNiFONwFVAO6lvwIqUYEB9SxvXzkhmQLztxu0S/WtA/0c5gqvYcEAfGY+NzbJzQD7q5JjvjHZAX7s6pBFneUCBjJCvM0F8QJ9d5rpVG39AYBce47v6gEDv/8jozGeCQH7oc+7d1INADdEe9O5BhUCducn5/66GQC2idP8QHIhAvYofBSKJiUBMc8oKM/aKQNtbdRBEY4xAZTkXDOTOjUBka0+qzXkmwCEVlfoDbUFAFM+hKgofVECWE/lXkodfQAwsqEINeGVAS85TWVEsa0BGuP+3SnBwQGaJVcNsSnNAhVqrzo4kdkCmKwHasP54QMn8VuXS2HtA582s8PSyfkCETwF+i8aAQBM4rIOcM4JAoiBXia2gg0AxCQKPvg2FQMHxrJTPeoZAUdpXmuDnh0DhwgKg8VSJQG+rraUCwopA/5NYqxMvjEAi1ltAfpiNQA==",
          "dtype": "f8"
         }
        },
        {
         "color": "red",
         "i": {
          "bdata": "AAEBAgIDAwQEBQUGBgcHCAgJCQoKCwsMDA0NDg4PDxAQERESEhMTFBQV",
          "dtype": "i1"
         },
         "j": {
          "bdata": "ARcCGAMZBBoFGwYcBx0IHgkfCiALIQwiDSMOJA8lECYRJxIoEykUKhUr",
          "dtype": "i1"
         },
         "k": {
          "bdata": "FhYXFxgYGRkaGhsbHBwdHR4eHx8gICEhIiIjIyQkJSUmJicnKCgpKSoq",
          "dtype": "i1"
         },
         "name": "surface",
         "opacity": 0.6,
         "type": "mesh3d",
         "x": {
          "bdata": "TLHiHBhUNUBwZ1L/zA89QAKjMELgxDFAAK+VSYRHyr8+sTvXOhoywD5SkaNLMT3A3FmCJC9OPcCoG0VtCGYywKDB1Fm0WOK/W6nv7613MUDGjoMqpvA8QNmQQC/Ahz1APikhbSoEM0CgWdXlIqD1P9I0xwpC0jDAee7A9j6rPMBUoUipdrw9wP5/6EMsnzPAEO+C1S4IAcA+K09YEiowQD/zm3AhYTxA9CIJeV9BQ0BoDp1KuU1CQO2dL54yKkhAUUW29IyZQ0AFVi8BoqguQBEtF2JAnCzAVFa/PcBHQ8CE6bnpcyhIwLb5qL+e80PAYLNix1h8MMAqURtECkMqQPEkVb6t50JA1vHjsbwiSEDEGtgFaUpEQA14z9+qoTFAqxM/HIPlJ8AvWoHEf4RCwMeGLucNGUjAtGdWg92dRMBUkZ0TF8QywFFVt3EOhCVAGgqDnUYeQkBWw7sEGhRKQA==",
          "dtype": "f8"
         },
         "y": {
          "bdata": "VD8Nzq26EEACHhFs3vgjwGCRn707EjnA/PsS6Ja6PsB0STjv4NQ4wEIVjaGXMSPAWAV+Azp+IkB9DppO65w4QPzQW1BluT5Aij03GEFIOUCeKOeKtqokQI7JrnWLACHAU+iRN48jOMBgmhnrJrM+wFek0W95tznA6Kxd128gJsAcJ9j9IgAfQLUHEGs7pjdA2B4Fv9ynPkDeoCWudyI6QFT6ghmGkidA+FPcnajyDsDob7XhUYozQAAxNHwBBrO/n5GWLvBEPMB878rQxupGwLLQrE8BFUfA5choCI0iPcAAgJsrWGfyvzY9JqhbRDtAWGdbsi23RkDOzolZgEFHQDh+H7NEGj5A4EpJBgX+AkDdln7MSz86wD1bv8LYf0bAT3Ds1SxqR8AADAG4CQ0/wGgnTdA+xQzA56GAhOs1OUB5VDIa0URGQH6MXxUAj0dAcGvfL7T6P0CacRmO0OkpQA==",
          "dtype": "f8"
         },
         "z": {
          "bdata": "ZGtPqs15JsAhFZX6A21BQBTPoSoKH1RAlhP5V5KHX0AMLKhCDXhlQEvOU1lRLGtARrj/t0pwcEBmiVXDbEpzQIVaq86OJHZApisB2rD+eEDJ/Fbl0th7QOfNrPD0sn5AhE8BfovGgEATOKyDnDOCQKIgV4mtoINAMQkCj74NhUDB8ayUz3qGQFHaV5rg54dA4cICoPFUiUBvq62lAsKKQP+TWKsTL4xAItZbQH6YjUBXOZrZ+44pwIbPkRa7r0BARiyguGXAU0DIcPfl7ShfQKVapwm7SGVA5PxSIP/8akCTT3+boVhwQLMg1abDMnNA0vEqsuUMdkDzwoC9B+d4QBWU1sgpwXtAM2Us1EubfkAqG8HvtrqAQLkDbPXHJ4JASOwW+9iUg0DX1MEA6gGFQGe9bAb7boZA96UXDAzch0CHjsIRHUmJQBZ3bRcutopApV8YHT8jjEDqqp6HKYyNQA==",
          "dtype": "f8"
         }
        },
        {
         "color": "red",
         "i": {
          "bdata": "AAEBAgIDAwQEBQUGBgcHCAgJCQoKCwsMDA0NDg4PDxAQERESEhMTFBQV",
          "dtype": "i1"
         },
         "j": {
          "bdata": "ARcCGAMZBBoFGwYcBx0IHgkfCiALIQwiDSMOJA8lECYRJxIoEykUKhUr",
          "dtype": "i1"
         },
         "k": {
          "bdata": "FhYXFxgYGRkaGhsbHBwdHR4eHx8gICEhIiIjIyQkJSUmJicnKCgpKSoq",
          "dtype": "i1"
         },
         "name": "surface",
         "opacity": 0.6,
         "type": "mesh3d",
         "x": {
          "bdata": "aA6dSrlNQkDtnS+eMipIQFFFtvSMmUNABVYvAaKoLkARLRdiQJwswFRWvz3AR0PAhOm56XMoSMC2+ai/nvNDwGCzYsdYfDDAKlEbRApDKkDxJFW+redCQNbx47G8IkhAxBrYBWlKREANeM/fqqExQKsTPxyD5SfAL1qBxH+EQsDHhi7nDRlIwLRnVoPdnUTAVJGdExfEMsBRVbdxDoQlQBoKg51GHkJAVsO7BBoUSkBYTrQS3MRDQJxEvFysw0xAmn247qfwTEA11tKgxDtCQBAVQ985dfU/rC+K6v0kQcAEmuIWQoNMwH6Sw2bKKE3AbrGrH1jXQsAwW2mA4AIHwNy//VJugUBAQ20+ESg+TED+lcvpIVxNQGvGa9PSb0NAJtNm562jEUCqGkpuULY/wJ2wcqdp9EvAuiZ4B6aKTcBisBmsGwVEwOMOU1UFwxfAdLfV1o1kPkAnc4sil3hKQA==",
          "dtype": "f8"
         },
         "y": {
          "bdata": "6G+14VGKM0AAMTR8AQazv5+Rli7wRDzAfO/K0MbqRsCy0KxPARVHwOXIaAiNIj3AAICbK1hn8r82PSaoW0Q7QFhnW7Itt0ZAzs6JWYBBR0A4fh+zRBo+QOBKSQYF/gJA3ZZ+zEs/OsA9W7/C2H9GwE9w7NUsakfAAAwBuAkNP8BoJ03QPsUMwOehgITrNTlAeVQyGtFERkB+jF8VAI9HQHBr3y+0+j9AmnEZjtDpKUA0To1fdExEQF89UrkdIjNAS87VNNMKMsAhVkgGejdIwKTkFlxbTk7AcB35Zt7/SMDRAazXr5U0wAGBT2zrkTBAlp73aDi/R0AgX45PhEdOQLe9QV0EbUlAX7jdzd8FNkBc2F3TlCwuwGw1NpQPQ0fAxk89LbM7TsCBf0F3/NVJwAftbxdxcjfA5h62JV0wK0CizlvwE8NGQHBRXubpKk5AxOocdLU6SkBaG46F3xlBQA==",
          "dtype": "f8"
         },
         "z": {
          "bdata": "Vzma2fuOKcCGz5EWu69AQEYsoLhlwFNAyHD35e0oX0ClWqcJu0hlQOT8UiD//GpAk09/m6FYcECzINWmwzJzQNLxKrLlDHZA88KAvQfneEAVlNbIKcF7QDNlLNRLm35AKhvB77a6gEC5A2z1xyeCQEjsFvvYlINA19TBAOoBhUBnvWwG+26GQPelFwwM3IdAh47CER1JiUAWd20XLraKQKVfGB0/I4xA6qqehymMjUDsniMeoa4gwKbF3iTB0EJAVqfGv+jQVEDs9Y52uBxgQC6YOo380GVAbDrmo0CFa0BX7khdwpxwQHe/nmjkdnNAlpD0cwZRdkC3YUp/KCt5QNkyoIpKBXxA9wP2lWzffkCM6qVQx9yAQBvTUFbYSYJAqrv7W+m2g0A5pKZh+iOFQMmMUWcLkYZAWXX8bBz+h0DpXadyLWuJQHhGUng+2IpABy/9fU9FjEBUhYzyqq+NQA==",
          "dtype": "f8"
         }
        },
        {
         "color": "red",
         "i": {
          "bdata": "AAEBAgIDAwQEBQUGBgcHCAgJCQoKCwsMDA0NDg4PDxAQERESEhMTFBQV",
          "dtype": "i1"
         },
         "j": {
          "bdata": "ARcCGAMZBBoFGwYcBx0IHgkfCiALIQwiDSMOJA8lECYRJxIoEykUKhUr",
          "dtype": "i1"
         },
         "k": {
          "bdata": "FhYXFxgYGRkaGhsbHBwdHR4eHx8gICEhIiIjIyQkJSUmJicnKCgpKSoq",
          "dtype": "i1"
         },
         "name": "surface",
         "opacity": 0.6,
         "type": "mesh3d",
         "x": {
          "bdata": "WE60EtzEQ0CcRLxcrMNMQJp9uO6n8ExANdbSoMQ7QkAQFUPfOXX1P6wviur9JEHABJriFkKDTMB+ksNmyihNwG6xqx9Y10LAMFtpgOACB8Dcv/1SboFAQENtPhEoPkxA/pXL6SFcTUBrxmvT0m9DQCbTZuetoxFAqhpKblC2P8CdsHKnafRLwLomeAemik3AYrAZrBsFRMDjDlNVBcMXwHS31daNZD5AJ3OLIpd4SkCgf7hR2b88QEMXW4hfLUpA3nYp9XZEUECtnAi5kKhKQDDse33ugzVANpC1B2lgMsDI0H7d4K1JwG/aLnbKQVDAwtXjL2AfS8CLYAohhBA3wPE6zEf9yTBAzO0irSkqSUAwobvocTxQQALUqGW6kUtAxMNNRE+ZOEAgcP8snmEuwHRnkJ1PokjAcUzBLW40UMDB+6iOjP9LwAf7b1cPHjrAe41YakMqK0CW9hbB0T9EQA==",
          "dtype": "f8"
         },
         "y": {
          "bdata": "NE6NX3RMREBfPVK5HSIzQEvO1TTTCjLAIVZIBno3SMCk5BZcW05OwHAd+Wbe/0jA0QGs16+VNMABgU9s65EwQJae92g4v0dAIF+OT4RHTkC3vUFdBG1JQF+43c3fBTZAXNhd05QsLsBsNTaUD0NHwMZPPS2zO07AgX9Bd/zVScAH7W8XcXI3wOYetiVdMCtAos5b8BPDRkBwUV7m6SpOQMTqHHS1OkpAWhuOhd8ZQUCaDNh9D8BMQFroz5oZU0NAPMsjZ/th6j+6oV2GuKdCwCz7TY8ptU7AnmBE5JM2T8D+cM6MTftDwOL+ZAVnyAPALK60ekb5QUDVsMi03GxOQIg+Nhmcb09AmvrCtjigRECesl5jh3oQQFilFyTgR0HA2K0ToY8fTsDa9niNeaNPwEhiSf2/QUXABSor4iUOF8DcKhiropNAQEg+1QhPzU1A/C6wuiPST0Ci8nhIpfZIQA==",
          "dtype": "f8"
         },
         "z": {
          "bdata": "7J4jHqGuIMCmxd4kwdBCQFanxr/o0FRA7PWOdrgcYEAumDqN/NBlQGw65qNAhWtAV+5IXcKccEB3v55o5HZzQJaQ9HMGUXZAt2FKfygreUDZMqCKSgV8QPcD9pVs335AjOqlUMfcgEAb01BW2EmCQKq7+1vptoNAOaSmYfojhUDJjFFnC5GGQFl1/Gwc/odA6V2nci1riUB4RlJ4PtiKQAcv/X1PRYxAVIWM8qqvjUAvpgvVqqDsvAOJrloQ0UZABImuWhDRVkDD5gJEzBxhQAWJrloQ0WZARCtacVSFbEDD5gJEzBxxQOO3WE/u9nNAAomuWhDRdkAjWgRmMqt5QEUrWnFUhXxAY/yvfHZff0DC5gJEzByBQFHPrUndiYJA4LdYT+72g0BvoANV/2OFQP+IrloQ0YZAj3FZYCE+iEAfWgRmMquJQK5Cr2tDGItAPStacVSFjEDPEwV3ZfKNQA==",
          "dtype": "f8"
         }
        },
        {
         "line": {
          "color": "red"
         },
         "mode": "lines",
         "type": "scatter3d",
         "x": {
          "bdata": "nn+4Udm/PEBCF1uIXy1KQN52KfV2RFBArZwIuZCoSkAy7Ht97oM1QDSQtQdpYDLAyNB+3eCtScBv2i52ykFQwMPV4y9gH0vAjWAKIYQQN8DwOsxH/ckwQMztIq0pKklAMKG76HE8UEAC1KhlupFLQMbDTURPmThAHHD/LJ5hLsB0Z5CdT6JIwHFMwS1uNFDAwvuojoz/S8AJ+29XDx46wHeNWGpDKitAlfYWwdE/REA=",
          "dtype": "f8"
         },
         "y": {
          "bdata": "mgzYfQ/ATEBa6M+aGVNDQH3LI2f7Yeo/uqFdhrinQsAs+02PKbVOwJ9gROSTNk/A/nDOjE37Q8Dy/mQFZ8gDwCuutHpG+UFA1LDItNxsTkCJPjYZnG9PQJz6wrY4oERApbJeY4d6EEBYpRck4EdBwNitE6GPH07A2vZ4jXmjT8BIYkn9v0FFwA0qK+IlDhfA2yoYq6KTQEBHPtUIT81NQPwusLoj0k9AovJ4SKX2SEA=",
          "dtype": "f8"
         },
         "z": {
          "bdata": "AAAAAAAAAAADia5aENFGQASJrloQ0VZAw+YCRMwcYUAFia5aENFmQEQrWnFUhWxAw+YCRMwccUDjt1hP7vZzQAKJrloQ0XZAI1oEZjKreUBFK1pxVIV8QGP8r3x2X39AwuYCRMwcgUBRz61J3YmCQOC3WE/u9oNAb6ADVf9jhUD/iK5aENGGQI9xWWAhPohAH1oEZjKriUCuQq9rQxiLQD0rWnFUhYxAzxMFd2XyjUA=",
          "dtype": "f8"
         }
        },
        {
         "line": {
          "color": "red"
         },
         "mode": "lines",
         "type": "scatter3d",
         "x": {
          "bdata": "dBe22kqUIkAngCnpMZ1BQDo4rrvDs0xALCJbTFz/TEB/rER6jmNCQAjjVeNesvs/FuQSCbr7QMB15s/PJ3JMwMIPPxZINk3AmMr8FVv+QsCQSfUZriAKwL1pxIp3V0BAc83K894rTEB34HSzZmhNQAAEGH0IlkNAc68Ur/AxE0A64NHbCmE/wPmQCLX04EvAHTUS56+VTcAWeVvBfSpEwDEEBaJiUBnA4sPDryCmNEA=",
          "dtype": "f8"
         },
         "y": {
          "bdata": "qb6hOporT0DtXg2owKtIQNuH9M/DgDNA/7ilhWarMcA0e0ZVURlIwF7qJ4YXTU7AiiWoMfkbScDFyibHf/M0wMXLz9PHMTBAtqnpHhCgR0D0qurY/EROQIyvGjERiElA31fKKspiNkDoe1xq/2otwLrVI9DsIkfAvqJQgOg3TsDmuw/i9u9JwBabI5xmzjfAOkQ/VpltKkCKLHj6+6FGQFJvtKLcJU5AmoOa+fhiSkA=",
          "dtype": "f8"
         },
         "z": {
          "bdata": "6Z4jHqGuIEBgTH6QX9FKQLJqlvU30VhAmtd2EeAcYkDceSIoJNFnQBwczj5ohW1AL9+8KtaccUBPsBI2+HZ0QG6BaEEaUXdAj1K+TDwrekCxIxRYXgV9QM70aWOA339A+OJfN9FcgUCHywo94smCQBa0tULzNoRApZxgSASkhUA1hQtOFRGHQMVttlMmfohAVVZhWTfriUDkPgxfSFiLQHMnt2RZxYxASqJ9+x81jkA=",
          "dtype": "f8"
         }
        },
        {
         "line": {
          "color": "red"
         },
         "mode": "lines",
         "type": "scatter3d",
         "x": {
          "bdata": "dkjlGcp4I8AGiWZniFMsQJQ76nJCPENAfsHYhfgnSECoaLIoVP5DQAnD/38XoDBAi/3+5cb5KcC7KL2PzttCwEKaaf7FIUjAVFvIkbdURMDam0AfEsUxwGZEdWXAmydAkjCwJUF4QkAQm6cMnBdIQGeTfYDDp0RAImoyCCHnMkCVseyB2DklwHI6spGqEULA5IY+XHwJSMD0mWlOavdEwNtu240UBjTACEDdx75yBUA=",
          "dtype": "f8"
         },
         "y": {
          "bdata": "ofQhmjBtSkBa++yimxpHQLesgzPfQD1A4Ou5U+bH9D8gzHpo6SQ7wFzDWHSpsEbArfwfTKRGR8CmSSVO/zc+wNjcWBMBLgTA53CxN1EfOkA96hYh4XhGQFafjI/ZbkdA2DAF4CcqP0BYk2bfvfQNQHgMKtxtFTnAWCQPOmc9RsDZUlbRNJNHwBct1o2YC0DAWABUGEfbE8AUlNgJawc4QP7634VF/kVAciWcm2G0REA=",
          "dtype": "f8"
         },
         "z": {
          "bdata": "Vjma2fuOKUCAQsueZfJMQMLlvPy64VlAIhUKlSGlYkBlt7WrZVloQKRZYcKpDW5A832G7PbgcUATT9z3GLt0QDIgMgM7lXdAU/GHDl1vekB1wt0Zf0l9QMnJmZLQEYBAWrJEmOF+gUDpmu+d8uuCQHiDmqMDWYRAB2xFqRTGhUCXVPCuJTOHQCc9m7Q2oIhAtyVGukcNikBGDvG/WHqLQNX2m8Vp54xAtHxrZqFYjkA=",
          "dtype": "f8"
         }
        },
        {
         "line": {
          "color": "red"
         },
         "mode": "lines",
         "type": "scatter3d",
         "x": {
          "bdata": "7ILMLMtsM8BgAhANYnvvvytE/2jMIDFAf0KjAKTMPED6aceuJ6Q9QPcCeUpNVjNA8KrTK9sv/D94J7HZ53kwwPIdZjK/hDzADAjqX0vWPcCSmtbinu8zwNDiWKOxTgTA7KB4BZygL0DXWbplKjg8QHy/ZpeHAz5A6l+6nqmFNECAFdgzH4IKQIq7FIk1SC7A10j8MPLmO8BuANnl1Cs+wAgPutRUGDXAFEnvw7L9E8A=",
          "dtype": "f8"
         },
         "y": {
          "bdata": "EE+EUg+9QEBefASAu7Y+QMeMUzxtgzlAyvwFczpwJUBqPWFuITYgwCQ2va/14TfAyRV8utOtPsAlecwvbfA5wP7SG2YQ5CbAdCOBQo9oHUCstreGkmI3QDlEMQ7hnz5ASwqVrSlZOkCcKFcnI1QoQFyt/DcGYBrA1tqqYFffNsCIoQnG5Yw+wC8Gnn6RvTrAUHsNNzbAKcBYhwFgJ1MXQChLfM9ZWDZAVfk/gvsmNUA=",
          "dtype": "f8"
         },
         "z": {
          "bdata": "Z2tPqs15JkDl/Me6HDVMQPVCu4oWg1lAu0MJXM91YkD+5bRyEypoQD2IYIlX3m1AQBUG0E3JcUBg5lvbb6N0QH+3seaRfXdAoIgH8rNXekDBWV391TF9QHCVWQT8BYBAAH4ECg1zgUCPZq8PHuCCQB5PWhUvTYRArTcFG0C6hUA9ILAgUSeHQM0IWyZilIhAXfEFLHMBikDt2bAxhG6LQHvCWzeV24xAfFGurUxMjkA=",
          "dtype": "f8"
         }
        },
        {
         "line": {
          "color": "red"
         },
         "mode": "lines",
         "type": "scatter3d",
         "x": {
          "bdata": "EvWMgeN8LsAoMpF4wAAJwGA8Zvg45wpAPMKmoVksIUDqxBMjvSklQPbd9ljmMSFAsNO2xkULC0A4ZP8FaNwIwDo5N4K42iDAP6UxDuEnJcAX4+RTgoAhwHA4qyFZEQ3AMHAx/IDNBkDyPGAxUoYgQISgucmKIiVAxINu3T3MIUDQAQRipRIPQHDx0HXaugTAXkV5jjQvIMBjET02uxklwGhQ7YIMFSLA4GORoBBK8z8=",
          "dtype": "f8"
         },
         "y": {
          "bdata": "2jOGesWOKkDQaPphCDgkQAxHHnHbECRAsFvBryW8GEAAWMoNJwSDP4CRT9G0rBjABuSf2NMNJMDp+bxF1TokwIBaPZfkmBnAQD6Cn6fA0b+8z4tmnssXQGSYwntT4CNAOBse4XthJECwjj5sbnEaQMAWDIUhc+E/CDalup7mFsAqf/rFjq8jwJOf6+jIhCTAnFBWl59FG8CgWd77EAPqv8xwV3Hb/RVAUEFJU2yx9z8=",
          "dtype": "f8"
         },
         "z": {
          "bdata": "2jTtdrXAEUAkf/toFvJIQBQE1WGT4VdASySWxw2lYUCNxkHeUVlnQMxo7fSVDW1Ah4XMBe1gcUCnViIRDzt0QMYneBwxFXdA5/jNJ1PveUAJyiMzdcl8QCebeT6Xo39AJLbnpNw+gUCznpKq7auCQEKHPbD+GIRA0W/otQ+GhUBhWJO7IPOGQPFAPsExYIhAgSnpxkLNiUAQEpTMUzqLQJ/6PtJkp4xAOe7y4eYVjkA=",
          "dtype": "f8"
         }
        },
        {
         "line": {
          "color": "red"
         },
         "mode": "lines",
         "type": "scatter3d",
         "x": {
          "bdata": "kLEWK2U66z9WkOgkKHshQDiCguSd7QxAcPeuGR/yBsBvu6I0QYwgwGGGchcGIyXA5Bv8FxfHIcBws4GVQe8OwOg+cTm43wRAqEUyRVM1IECTlnwRdBolQMKmx/8ZECJAUMVRz+d1EEAgXOsF48kCwLY0nqd2tx/ANyzdEGoOJcAWZyXcJFYiwLw0jTR6cRHAiIKOPfewAECqnbg0EP8eQLjEJxDq/iRAgdIxpW9jMkA=",
          "dtype": "f8"
         },
         "y": {
          "bdata": "8BfYDfJZ+z8c2EH+VdsXwFmJgUmV4yPAEWfsJ+peJMBsJHGRkmIawOAMGE0y2+C/TBhIdpr2FkBIfO0/CrMjQItEZsZygiRAqONq7hE3G0DABM88YGvpP5iJXLAYDhbAHOz2TkJ/I8CucDtmnKIkwGj9TSUYBxzAwHSlSrD78L+s2djj9iEVQIYDcflFSCNAezMYvmG/JEBIIe0Eg9IcQDCsRdrlPvU//lq8hSLNIMA=",
          "dtype": "f8"
         },
         "z": {
          "bdata": "1zTtdrXAEcDjkmFMCrBEQPQNiFONwFVAO6lvwIqUYEB9SxvXzkhmQLztxu0S/WtA/0c5gqvYcEAfGY+NzbJzQD7q5JjvjHZAX7s6pBFneUCBjJCvM0F8QJ9d5rpVG39AYBce47v6gEDv/8jozGeCQH7oc+7d1INADdEe9O5BhUCducn5/66GQC2idP8QHIhAvYofBSKJiUBMc8oKM/aKQNtbdRBEY4xAZTkXDOTOjUA=",
          "dtype": "f8"
         }
        },
        {
         "line": {
          "color": "red"
         },
         "mode": "lines",
         "type": "scatter3d",
         "x": {
          "bdata": "TLHiHBhUNUBwZ1L/zA89QAKjMELgxDFAAK+VSYRHyr8+sTvXOhoywD5SkaNLMT3A3FmCJC9OPcCoG0VtCGYywKDB1Fm0WOK/W6nv7613MUDGjoMqpvA8QNmQQC/Ahz1APikhbSoEM0CgWdXlIqD1P9I0xwpC0jDAee7A9j6rPMBUoUipdrw9wP5/6EMsnzPAEO+C1S4IAcA+K09YEiowQD/zm3AhYTxA9CIJeV9BQ0A=",
          "dtype": "f8"
         },
         "y": {
          "bdata": "VD8Nzq26EEACHhFs3vgjwGCRn707EjnA/PsS6Ja6PsB0STjv4NQ4wEIVjaGXMSPAWAV+Azp+IkB9DppO65w4QPzQW1BluT5Aij03GEFIOUCeKOeKtqokQI7JrnWLACHAU+iRN48jOMBgmhnrJrM+wFek0W95tznA6Kxd128gJsAcJ9j9IgAfQLUHEGs7pjdA2B4Fv9ynPkDeoCWudyI6QFT6ghmGkidA+FPcnajyDsA=",
          "dtype": "f8"
         },
         "z": {
          "bdata": "ZGtPqs15JsAhFZX6A21BQBTPoSoKH1RAlhP5V5KHX0AMLKhCDXhlQEvOU1lRLGtARrj/t0pwcEBmiVXDbEpzQIVaq86OJHZApisB2rD+eEDJ/Fbl0th7QOfNrPD0sn5AhE8BfovGgEATOKyDnDOCQKIgV4mtoINAMQkCj74NhUDB8ayUz3qGQFHaV5rg54dA4cICoPFUiUBvq62lAsKKQP+TWKsTL4xAItZbQH6YjUA=",
          "dtype": "f8"
         }
        },
        {
         "line": {
          "color": "red"
         },
         "mode": "lines",
         "type": "scatter3d",
         "x": {
          "bdata": "aA6dSrlNQkDtnS+eMipIQFFFtvSMmUNABVYvAaKoLkARLRdiQJwswFRWvz3AR0PAhOm56XMoSMC2+ai/nvNDwGCzYsdYfDDAKlEbRApDKkDxJFW+redCQNbx47G8IkhAxBrYBWlKREANeM/fqqExQKsTPxyD5SfAL1qBxH+EQsDHhi7nDRlIwLRnVoPdnUTAVJGdExfEMsBRVbdxDoQlQBoKg51GHkJAVsO7BBoUSkA=",
          "dtype": "f8"
         },
         "y": {
          "bdata": "6G+14VGKM0AAMTR8AQazv5+Rli7wRDzAfO/K0MbqRsCy0KxPARVHwOXIaAiNIj3AAICbK1hn8r82PSaoW0Q7QFhnW7Itt0ZAzs6JWYBBR0A4fh+zRBo+QOBKSQYF/gJA3ZZ+zEs/OsA9W7/C2H9GwE9w7NUsakfAAAwBuAkNP8BoJ03QPsUMwOehgITrNTlAeVQyGtFERkB+jF8VAI9HQHBr3y+0+j9AmnEZjtDpKUA=",
          "dtype": "f8"
         },
         "z": {
          "bdata": "Vzma2fuOKcCGz5EWu69AQEYsoLhlwFNAyHD35e0oX0ClWqcJu0hlQOT8UiD//GpAk09/m6FYcECzINWmwzJzQNLxKrLlDHZA88KAvQfneEAVlNbIKcF7QDNlLNRLm35AKhvB77a6gEC5A2z1xyeCQEjsFvvYlINA19TBAOoBhUBnvWwG+26GQPelFwwM3IdAh47CER1JiUAWd20XLraKQKVfGB0/I4xA6qqehymMjUA=",
          "dtype": "f8"
         }
        },
        {
         "line": {
          "color": "red"
         },
         "mode": "lines",
         "type": "scatter3d",
         "x": {
          "bdata": "WE60EtzEQ0CcRLxcrMNMQJp9uO6n8ExANdbSoMQ7QkAQFUPfOXX1P6wviur9JEHABJriFkKDTMB+ksNmyihNwG6xqx9Y10LAMFtpgOACB8Dcv/1SboFAQENtPhEoPkxA/pXL6SFcTUBrxmvT0m9DQCbTZuetoxFAqhpKblC2P8CdsHKnafRLwLomeAemik3AYrAZrBsFRMDjDlNVBcMXwHS31daNZD5AJ3OLIpd4SkA=",
          "dtype": "f8"
         },
         "y": {
          "bdata": "NE6NX3RMREBfPVK5HSIzQEvO1TTTCjLAIVZIBno3SMCk5BZcW05OwHAd+Wbe/0jA0QGs16+VNMABgU9s65EwQJae92g4v0dAIF+OT4RHTkC3vUFdBG1JQF+43c3fBTZAXNhd05QsLsBsNTaUD0NHwMZPPS2zO07AgX9Bd/zVScAH7W8XcXI3wOYetiVdMCtAos5b8BPDRkBwUV7m6SpOQMTqHHS1OkpAWhuOhd8ZQUA=",
          "dtype": "f8"
         },
         "z": {
          "bdata": "7J4jHqGuIMCmxd4kwdBCQFanxr/o0FRA7PWOdrgcYEAumDqN/NBlQGw65qNAhWtAV+5IXcKccEB3v55o5HZzQJaQ9HMGUXZAt2FKfygreUDZMqCKSgV8QPcD9pVs335AjOqlUMfcgEAb01BW2EmCQKq7+1vptoNAOaSmYfojhUDJjFFnC5GGQFl1/Gwc/odA6V2nci1riUB4RlJ4PtiKQAcv/X1PRYxAVIWM8qqvjUA=",
          "dtype": "f8"
         }
        },
        {
         "line": {
          "color": "red"
         },
         "mode": "lines",
         "type": "scatter3d",
         "x": {
          "bdata": "oH+4Udm/PEBDF1uIXy1KQN52KfV2RFBArZwIuZCoSkAw7Ht97oM1QDaQtQdpYDLAyNB+3eCtScBv2i52ykFQwMLV4y9gH0vAi2AKIYQQN8DxOsxH/ckwQMztIq0pKklAMKG76HE8UEAC1KhlupFLQMTDTURPmThAIHD/LJ5hLsB0Z5CdT6JIwHFMwS1uNFDAwfuojoz/S8AH+29XDx46wHuNWGpDKitAlvYWwdE/REA=",
          "dtype": "f8"
         },
         "y": {
          "bdata": "mgzYfQ/ATEBa6M+aGVNDQDzLI2f7Yeo/uqFdhrinQsAs+02PKbVOwJ5gROSTNk/A/nDOjE37Q8Di/mQFZ8gDwCyutHpG+UFA1bDItNxsTkCIPjYZnG9PQJr6wrY4oERAnrJeY4d6EEBYpRck4EdBwNitE6GPH07A2vZ4jXmjT8BIYkn9v0FFwAUqK+IlDhfA3CoYq6KTQEBIPtUIT81NQPwusLoj0k9AovJ4SKX2SEA=",
          "dtype": "f8"
         },
         "z": {
          "bdata": "L6YL1aqg7LwDia5aENFGQASJrloQ0VZAw+YCRMwcYUAFia5aENFmQEQrWnFUhWxAw+YCRMwccUDjt1hP7vZzQAKJrloQ0XZAI1oEZjKreUBFK1pxVIV8QGP8r3x2X39AwuYCRMwcgUBRz61J3YmCQOC3WE/u9oNAb6ADVf9jhUD/iK5aENGGQI9xWWAhPohAH1oEZjKriUCuQq9rQxiLQD0rWnFUhYxAzxMFd2XyjUA=",
          "dtype": "f8"
         }
        }
       ],
       "layout": {
        "dragmode": "turntable",
        "scene": {
         "aspectmode": "data",
         "camera": {
          "eye": {
           "x": 0,
           "y": 1.8,
           "z": 1.2
          }
         }
        },
        "template": {
         "data": {
          "bar": [
           {
            "error_x": {
             "color": "#2a3f5f"
            },
            "error_y": {
             "color": "#2a3f5f"
            },
            "marker": {
             "line": {
              "color": "#E5ECF6",
              "width": 0.5
             },
             "pattern": {
              "fillmode": "overlay",
              "size": 10,
              "solidity": 0.2
             }
            },
            "type": "bar"
           }
          ],
          "barpolar": [
           {
            "marker": {
             "line": {
              "color": "#E5ECF6",
              "width": 0.5
             },
             "pattern": {
              "fillmode": "overlay",
              "size": 10,
              "solidity": 0.2
             }
            },
            "type": "barpolar"
           }
          ],
          "carpet": [
           {
            "aaxis": {
             "endlinecolor": "#2a3f5f",
             "gridcolor": "white",
             "linecolor": "white",
             "minorgridcolor": "white",
             "startlinecolor": "#2a3f5f"
            },
            "baxis": {
             "endlinecolor": "#2a3f5f",
             "gridcolor": "white",
             "linecolor": "white",
             "minorgridcolor": "white",
             "startlinecolor": "#2a3f5f"
            },
            "type": "carpet"
           }
          ],
          "choropleth": [
           {
            "colorbar": {
             "outlinewidth": 0,
             "ticks": ""
            },
            "type": "choropleth"
           }
          ],
          "contour": [
           {
            "colorbar": {
             "outlinewidth": 0,
             "ticks": ""
            },
            "colorscale": [
             [
              0,
              "#0d0887"
             ],
             [
              0.1111111111111111,
              "#46039f"
             ],
             [
              0.2222222222222222,
              "#7201a8"
             ],
             [
              0.3333333333333333,
              "#9c179e"
             ],
             [
              0.4444444444444444,
              "#bd3786"
             ],
             [
              0.5555555555555556,
              "#d8576b"
             ],
             [
              0.6666666666666666,
              "#ed7953"
             ],
             [
              0.7777777777777778,
              "#fb9f3a"
             ],
             [
              0.8888888888888888,
              "#fdca26"
             ],
             [
              1,
              "#f0f921"
             ]
            ],
            "type": "contour"
           }
          ],
          "contourcarpet": [
           {
            "colorbar": {
             "outlinewidth": 0,
             "ticks": ""
            },
            "type": "contourcarpet"
           }
          ],
          "heatmap": [
           {
            "colorbar": {
             "outlinewidth": 0,
             "ticks": ""
            },
            "colorscale": [
             [
              0,
              "#0d0887"
             ],
             [
              0.1111111111111111,
              "#46039f"
             ],
             [
              0.2222222222222222,
              "#7201a8"
             ],
             [
              0.3333333333333333,
              "#9c179e"
             ],
             [
              0.4444444444444444,
              "#bd3786"
             ],
             [
              0.5555555555555556,
              "#d8576b"
             ],
             [
              0.6666666666666666,
              "#ed7953"
             ],
             [
              0.7777777777777778,
              "#fb9f3a"
             ],
             [
              0.8888888888888888,
              "#fdca26"
             ],
             [
              1,
              "#f0f921"
             ]
            ],
            "type": "heatmap"
           }
          ],
          "histogram": [
           {
            "marker": {
             "pattern": {
              "fillmode": "overlay",
              "size": 10,
              "solidity": 0.2
             }
            },
            "type": "histogram"
           }
          ],
          "histogram2d": [
           {
            "colorbar": {
             "outlinewidth": 0,
             "ticks": ""
            },
            "colorscale": [
             [
              0,
              "#0d0887"
             ],
             [
              0.1111111111111111,
              "#46039f"
             ],
             [
              0.2222222222222222,
              "#7201a8"
             ],
             [
              0.3333333333333333,
              "#9c179e"
             ],
             [
              0.4444444444444444,
              "#bd3786"
             ],
             [
              0.5555555555555556,
              "#d8576b"
             ],
             [
              0.6666666666666666,
              "#ed7953"
             ],
             [
              0.7777777777777778,
              "#fb9f3a"
             ],
             [
              0.8888888888888888,
              "#fdca26"
             ],
             [
              1,
              "#f0f921"
             ]
            ],
            "type": "histogram2d"
           }
          ],
          "histogram2dcontour": [
           {
            "colorbar": {
             "outlinewidth": 0,
             "ticks": ""
            },
            "colorscale": [
             [
              0,
              "#0d0887"
             ],
             [
              0.1111111111111111,
              "#46039f"
             ],
             [
              0.2222222222222222,
              "#7201a8"
             ],
             [
              0.3333333333333333,
              "#9c179e"
             ],
             [
              0.4444444444444444,
              "#bd3786"
             ],
             [
              0.5555555555555556,
              "#d8576b"
             ],
             [
              0.6666666666666666,
              "#ed7953"
             ],
             [
              0.7777777777777778,
              "#fb9f3a"
             ],
             [
              0.8888888888888888,
              "#fdca26"
             ],
             [
              1,
              "#f0f921"
             ]
            ],
            "type": "histogram2dcontour"
           }
          ],
          "mesh3d": [
           {
            "colorbar": {
             "outlinewidth": 0,
             "ticks": ""
            },
            "type": "mesh3d"
           }
          ],
          "parcoords": [
           {
            "line": {
             "colorbar": {
              "outlinewidth": 0,
              "ticks": ""
             }
            },
            "type": "parcoords"
           }
          ],
          "pie": [
           {
            "automargin": true,
            "type": "pie"
           }
          ],
          "scatter": [
           {
            "fillpattern": {
             "fillmode": "overlay",
             "size": 10,
             "solidity": 0.2
            },
            "type": "scatter"
           }
          ],
          "scatter3d": [
           {
            "line": {
             "colorbar": {
              "outlinewidth": 0,
              "ticks": ""
             }
            },
            "marker": {
             "colorbar": {
              "outlinewidth": 0,
              "ticks": ""
             }
            },
            "type": "scatter3d"
           }
          ],
          "scattercarpet": [
           {
            "marker": {
             "colorbar": {
              "outlinewidth": 0,
              "ticks": ""
             }
            },
            "type": "scattercarpet"
           }
          ],
          "scattergeo": [
           {
            "marker": {
             "colorbar": {
              "outlinewidth": 0,
              "ticks": ""
             }
            },
            "type": "scattergeo"
           }
          ],
          "scattergl": [
           {
            "marker": {
             "colorbar": {
              "outlinewidth": 0,
              "ticks": ""
             }
            },
            "type": "scattergl"
           }
          ],
          "scattermap": [
           {
            "marker": {
             "colorbar": {
              "outlinewidth": 0,
              "ticks": ""
             }
            },
            "type": "scattermap"
           }
          ],
          "scattermapbox": [
           {
            "marker": {
             "colorbar": {
              "outlinewidth": 0,
              "ticks": ""
             }
            },
            "type": "scattermapbox"
           }
          ],
          "scatterpolar": [
           {
            "marker": {
             "colorbar": {
              "outlinewidth": 0,
              "ticks": ""
             }
            },
            "type": "scatterpolar"
           }
          ],
          "scatterpolargl": [
           {
            "marker": {
             "colorbar": {
              "outlinewidth": 0,
              "ticks": ""
             }
            },
            "type": "scatterpolargl"
           }
          ],
          "scatterternary": [
           {
            "marker": {
             "colorbar": {
              "outlinewidth": 0,
              "ticks": ""
             }
            },
            "type": "scatterternary"
           }
          ],
          "surface": [
           {
            "colorbar": {
             "outlinewidth": 0,
             "ticks": ""
            },
            "colorscale": [
             [
              0,
              "#0d0887"
             ],
             [
              0.1111111111111111,
              "#46039f"
             ],
             [
              0.2222222222222222,
              "#7201a8"
             ],
             [
              0.3333333333333333,
              "#9c179e"
             ],
             [
              0.4444444444444444,
              "#bd3786"
             ],
             [
              0.5555555555555556,
              "#d8576b"
             ],
             [
              0.6666666666666666,
              "#ed7953"
             ],
             [
              0.7777777777777778,
              "#fb9f3a"
             ],
             [
              0.8888888888888888,
              "#fdca26"
             ],
             [
              1,
              "#f0f921"
             ]
            ],
            "type": "surface"
           }
          ],
          "table": [
           {
            "cells": {
             "fill": {
              "color": "#EBF0F8"
             },
             "line": {
              "color": "white"
             }
            },
            "header": {
             "fill": {
              "color": "#C8D4E3"
             },
             "line": {
              "color": "white"
             }
            },
            "type": "table"
           }
          ]
         },
         "layout": {
          "annotationdefaults": {
           "arrowcolor": "#2a3f5f",
           "arrowhead": 0,
           "arrowwidth": 1
          },
          "autotypenumbers": "strict",
          "coloraxis": {
           "colorbar": {
            "outlinewidth": 0,
            "ticks": ""
           }
          },
          "colorscale": {
           "diverging": [
            [
             0,
             "#8e0152"
            ],
            [
             0.1,
             "#c51b7d"
            ],
            [
             0.2,
             "#de77ae"
            ],
            [
             0.3,
             "#f1b6da"
            ],
            [
             0.4,
             "#fde0ef"
            ],
            [
             0.5,
             "#f7f7f7"
            ],
            [
             0.6,
             "#e6f5d0"
            ],
            [
             0.7,
             "#b8e186"
            ],
            [
             0.8,
             "#7fbc41"
            ],
            [
             0.9,
             "#4d9221"
            ],
            [
             1,
             "#276419"
            ]
           ],
           "sequential": [
            [
             0,
             "#0d0887"
            ],
            [
             0.1111111111111111,
             "#46039f"
            ],
            [
             0.2222222222222222,
             "#7201a8"
            ],
            [
             0.3333333333333333,
             "#9c179e"
            ],
            [
             0.4444444444444444,
             "#bd3786"
            ],
            [
             0.5555555555555556,
             "#d8576b"
            ],
            [
             0.6666666666666666,
             "#ed7953"
            ],
            [
             0.7777777777777778,
             "#fb9f3a"
            ],
            [
             0.8888888888888888,
             "#fdca26"
            ],
            [
             1,
             "#f0f921"
            ]
           ],
           "sequentialminus": [
            [
             0,
             "#0d0887"
            ],
            [
             0.1111111111111111,
             "#46039f"
            ],
            [
             0.2222222222222222,
             "#7201a8"
            ],
            [
             0.3333333333333333,
             "#9c179e"
            ],
            [
             0.4444444444444444,
             "#bd3786"
            ],
            [
             0.5555555555555556,
             "#d8576b"
            ],
            [
             0.6666666666666666,
             "#ed7953"
            ],
            [
             0.7777777777777778,
             "#fb9f3a"
            ],
            [
             0.8888888888888888,
             "#fdca26"
            ],
            [
             1,
             "#f0f921"
            ]
           ]
          },
          "colorway": [
           "#636efa",
           "#EF553B",
           "#00cc96",
           "#ab63fa",
           "#FFA15A",
           "#19d3f3",
           "#FF6692",
           "#B6E880",
           "#FF97FF",
           "#FECB52"
          ],
          "font": {
           "color": "#2a3f5f"
          },
          "geo": {
           "bgcolor": "white",
           "lakecolor": "white",
           "landcolor": "#E5ECF6",
           "showlakes": true,
           "showland": true,
           "subunitcolor": "white"
          },
          "hoverlabel": {
           "align": "left"
          },
          "hovermode": "closest",
          "mapbox": {
           "style": "light"
          },
          "paper_bgcolor": "white",
          "plot_bgcolor": "#E5ECF6",
          "polar": {
           "angularaxis": {
            "gridcolor": "white",
            "linecolor": "white",
            "ticks": ""
           },
           "bgcolor": "#E5ECF6",
           "radialaxis": {
            "gridcolor": "white",
            "linecolor": "white",
            "ticks": ""
           }
          },
          "scene": {
           "xaxis": {
            "backgroundcolor": "#E5ECF6",
            "gridcolor": "white",
            "gridwidth": 2,
            "linecolor": "white",
            "showbackground": true,
            "ticks": "",
            "zerolinecolor": "white"
           },
           "yaxis": {
            "backgroundcolor": "#E5ECF6",
            "gridcolor": "white",
            "gridwidth": 2,
            "linecolor": "white",
            "showbackground": true,
            "ticks": "",
            "zerolinecolor": "white"
           },
           "zaxis": {
            "backgroundcolor": "#E5ECF6",
            "gridcolor": "white",
            "gridwidth": 2,
            "linecolor": "white",
            "showbackground": true,
            "ticks": "",
            "zerolinecolor": "white"
           }
          },
          "shapedefaults": {
           "line": {
            "color": "#2a3f5f"
           }
          },
          "ternary": {
           "aaxis": {
            "gridcolor": "white",
            "linecolor": "white",
            "ticks": ""
           },
           "baxis": {
            "gridcolor": "white",
            "linecolor": "white",
            "ticks": ""
           },
           "bgcolor": "#E5ECF6",
           "caxis": {
            "gridcolor": "white",
            "linecolor": "white",
            "ticks": ""
           }
          },
          "title": {
           "x": 0.05
          },
          "xaxis": {
           "automargin": true,
           "gridcolor": "white",
           "linecolor": "white",
           "ticks": "",
           "title": {
            "standoff": 15
           },
           "zerolinecolor": "white",
           "zerolinewidth": 2
          },
          "yaxis": {
           "automargin": true,
           "gridcolor": "white",
           "linecolor": "white",
           "ticks": "",
           "title": {
            "standoff": 15
           },
           "zerolinecolor": "white",
           "zerolinewidth": 2
          }
         }
        }
       }
      }
     },
     "metadata": {},
     "output_type": "display_data"
    },
    {
     "data": {
      "text/plain": [
       "1003.2"
      ]
     },
     "execution_count": 23,
     "metadata": {},
     "output_type": "execute_result"
    }
   ],
   "source": [
    "plot_helix(L = 50, theta = 15, tau = 32.5, segments = 21, pipe_diameter = 25.4*2.5)"
   ]
  },
  {
   "cell_type": "code",
   "execution_count": 27,
   "metadata": {},
   "outputs": [
    {
     "data": {
      "text/plain": [
       "(4.1261509486607135, 18.286687111367986)"
      ]
     },
     "execution_count": 27,
     "metadata": {},
     "output_type": "execute_result"
    }
   ],
   "source": [
    "find_allowed_twist_range(21.6,15,63.5)"
   ]
  },
  {
   "cell_type": "code",
   "execution_count": 29,
   "metadata": {},
   "outputs": [
    {
     "data": {
      "application/vnd.plotly.v1+json": {
       "config": {
        "plotlyServerURL": "https://plot.ly"
       },
       "data": [
        {
         "color": "blue",
         "i": {
          "bdata": "AAEBAgIDAwQEBQUGBgcHCAgJCQoKCwsMDA0NDg4PDxAQERESEhMTFA==",
          "dtype": "i1"
         },
         "j": {
          "bdata": "ARYCFwMYBBkFGgYbBxwIHQkeCh8LIAwhDSIOIw8kECURJhInEygUKQ==",
          "dtype": "i1"
         },
         "k": {
          "bdata": "FRUWFhcXGBgZGRoaGxscHB0dHh4fHyAgISEiIiMjJCQlJSYmJycoKA==",
          "dtype": "i1"
         },
         "name": "surface",
         "opacity": 0.6,
         "type": "mesh3d",
         "x": {
          "bdata": "TZ6JNrejM8CaWw8gjsRCwD50HEo1mkvAWAGPbnmZT8Bk6Ad8BQ9OwPKdoKr6P0fANtJi7KW7OMAY/O3pBOX1P2Bfb6LhOjtAuEcQZuIoSEB2I7K/ZXhOQGgBRoLacE9AaE/mo7XmSkCuEAb/oqVBQPy9rUBOMyVA4gKWxRjnL8Bvsi5Ki9pDwMTmYeaSQEzAzs6BdA+zT8AbPmP/V5dNwDgOWO83akjAbNtUqKSq/r/8/iBChg40wB2vG17PXUTADSYK2JwiS8ATihn6/CVNwOIA8VOdDUrAdoQP61tkQsAkFkiswwcuwKUjbJs5xSJAx1WH2AQSQEC41j/nuqFIQCDEgPVU4ExAoAMLYWQPTEDcUxBLh1NGQKEmhXf7WzlAsM5uk4Hy+T8ZRKpdbWY2wNj6/zqDP0XA0w180YKSS8Ak/v+3eBBNwOHU7gUruknA",
          "dtype": "f8"
         },
         "y": {
          "bdata": "hqq3ksH/TcAa24utTJlJwMgvKWCCWD/Azvhc6VcAGMCD6/1Bi2U0QHUtf18JnEVANqAwDMk7TUBuWokB97tPQEIHE3NhrExAv6pjD1yWREAUMgqZXckxQPqLCmb5byHAoycmMhbZQMCMrGBvSmJKwA2jleXFS0/AsBoFWye5TsB8iFbrIMRIwJRgmF7u7zzAxplNNKMqCsBap76NBPg2QLbJdYfOAURAhEZ0hHrnTcAekw/UnmZLwCXK3tgC5UTA5Cx5jexzNcAmzUb9RyUFQPLQLgqoRjpAvgsDEOOmRkCSCwy8KTJMQDonPuVrzExAUOKgtKBaSEBbo4ASX0g/QOKCbrH2vyBABU1dmyYAMMCmWGDqNMlCwNqSjmKAR0rAX6+t+8QqTcDN2kRJc/FKwED23uxR/0PA/lFJPAIYM8BHL+v4E50UQGgZqtNTfDZA",
          "dtype": "f8"
         },
         "z": {
          "bdata": "AAAAAAAAAABSHEWTHQgxQFIcRZMdCEFAe6rnXCyMSUBRHEWTHQhRQGVjFvgkSlVAearnXCyMWUCN8bjBM85dQFEcRZMdCGFA2r+tRSEpY0BlYxb4JEplQO8Gf6ooa2dAeqrnXCyMaUAFTlAPMK1rQJDxuMEzzm1AGZUhdDfvb0BRHEWTHQhxQBZueWyfGHJA27+tRSEpc0CgEeIeozl0QGRjFvgkSnVArkh76YcaKUA/mCepkGg9QElaNh5XOEdAcujY52W8T0BNu71YOiBUQGACj71BYlhAdUlgIkmkXEBEyJhDKHNgQM9rAfYrlGJAVw9qqC+1ZEDistJaM9ZmQGxWOw0392hA9/mjvzoYa0CCnQxyPjltQA5BdSRCWm9ATPJu66K9cEAQRKPEJM5xQNWV152m3nJAmucLdyjvc0BfOUBQqv90QKo9Yjf5EnZA",
          "dtype": "f8"
         }
        },
        {
         "color": "blue",
         "i": {
          "bdata": "AAEBAgIDAwQEBQUGBgcHCAgJCQoKCwsMDA0NDg4PDxAQERESEhMTFA==",
          "dtype": "i1"
         },
         "j": {
          "bdata": "ARYCFwMYBBkFGgYbBxwIHQkeCh8LIAwhDSIOIw8kECURJhInEygUKQ==",
          "dtype": "i1"
         },
         "k": {
          "bdata": "FRUWFhcXGBgZGRoaGxscHB0dHh4fHyAgISEiIiMjJCQlJSYmJycoKA==",
          "dtype": "i1"
         },
         "name": "surface",
         "opacity": 0.6,
         "type": "mesh3d",
         "x": {
          "bdata": "bNtUqKSq/r/8/iBChg40wB2vG17PXUTADSYK2JwiS8ATihn6/CVNwOIA8VOdDUrAdoQP61tkQsAkFkiswwcuwKUjbJs5xSJAx1WH2AQSQEC41j/nuqFIQCDEgPVU4ExAoAMLYWQPTEDcUxBLh1NGQKEmhXf7WzlAsM5uk4Hy+T8ZRKpdbWY2wNj6/zqDP0XA0w180YKSS8Ak/v+3eBBNwOHU7gUruknAOv2R9qQwK0DgMmDxK4//v8hig7AbHTTAxGv9XW5dQcAQGMueOaFFwHw8rQWYGkbA2WAOVkS0QsD6TAzziw04wJjjGAeu7RnANoQEXw5zKECkQFrlAso8QG8Dm7FuJ0RAXY2X16RhRkDo/5A5ta9EQJ+9CPVYuz5AsrPeSvpoLUAgbs9x6jAPwG5jYSDL0TXAgjhHiET1QcCKw7YM8ttFwD0EutJxN0TA",
          "dtype": "f8"
         },
         "y": {
          "bdata": "hEZ0hHrnTcAekw/UnmZLwCXK3tgC5UTA5Cx5jexzNcAmzUb9RyUFQPLQLgqoRjpAvgsDEOOmRkCSCwy8KTJMQDonPuVrzExAUOKgtKBaSEBbo4ASX0g/QOKCbrH2vyBABU1dmyYAMMCmWGDqNMlCwNqSjmKAR0rAX6+t+8QqTcDN2kRJc/FKwED23uxR/0PA/lFJPAIYM8BHL+v4E50UQGgZqtNTfDZAUprj95kTR8CB3HeJf15GwEwtxdpYAUTAOL25j09FPMB+/QGrGycnwAA6SadRlhxAM3tAJxKeOEAneNsHDONCQOBD8YKxJ0ZANTF4MFmKRUD41CtiliZBQMMZ88O1gjNAYP1rkV/O9D8QpcxgQSMxwCGaiMNCSUDA+olgAzYmRcBw2Fl3S05GwFENpEGfjUPAjHO4XWG/OsBoaxfq9WYjwAAJyRIJBBRA",
          "dtype": "f8"
         },
         "z": {
          "bdata": "rkh76YcaKUA/mCepkGg9QElaNh5XOEdAcujY52W8T0BNu71YOiBUQGACj71BYlhAdUlgIkmkXEBEyJhDKHNgQM9rAfYrlGJAVw9qqC+1ZEDistJaM9ZmQGxWOw0392hA9/mjvzoYa0CCnQxyPjltQA5BdSRCWm9ATPJu66K9cEAQRKPEJM5xQNWV152m3nJAmucLdyjvc0BfOUBQqv90QKo9Yjf5EnZAtKtAHwI7M0C+q7UeO/9BQOg5WOhJg0pACWT9WKyDUUAcq869s8VVQDDynyK7B1pARTlxh8JJXkAsQCH25EVhQLfjiajoZmNAP4fyWuyHZUDKKlsN8KhnQFTOw7/zyWlA33Escvfqa0BqFZUk+wtuQHvcfmt/FnBAQC6zRAEncUAEgOcdgzdyQMnRG/cESHNAjiNQ0IZYdEBTdYSpCGl1QCBuChrVfXZA",
          "dtype": "f8"
         }
        },
        {
         "color": "blue",
         "i": {
          "bdata": "AAEBAgIDAwQEBQUGBgcHCAgJCQoKCwsMDA0NDg4PDxAQERESEhMTFA==",
          "dtype": "i1"
         },
         "j": {
          "bdata": "ARYCFwMYBBkFGgYbBxwIHQkeCh8LIAwhDSIOIw8kECURJhInEygUKQ==",
          "dtype": "i1"
         },
         "k": {
          "bdata": "FRUWFhcXGBgZGRoaGxscHB0dHh4fHyAgISEiIiMjJCQlJSYmJycoKA==",
          "dtype": "i1"
         },
         "name": "surface",
         "opacity": 0.6,
         "type": "mesh3d",
         "x": {
          "bdata": "Ov2R9qQwK0DgMmDxK4//v8hig7AbHTTAxGv9XW5dQcAQGMueOaFFwHw8rQWYGkbA2WAOVkS0QsD6TAzziw04wJjjGAeu7RnANoQEXw5zKECkQFrlAso8QG8Dm7FuJ0RAXY2X16RhRkDo/5A5ta9EQJ+9CPVYuz5AsrPeSvpoLUAgbs9x6jAPwG5jYSDL0TXAgjhHiET1QcCKw7YM8ttFwD0EutJxN0TAnYEeaC2jM0B2meO5xoIgQLBAT0QK9gfAbKgplgpxK8CylHZFswo2wBivwzr4fzrARDNI3FBQOsDkj3UpF4Q1wIDxQnwX5SnAAP6nzuPgAMBeW5sB9jEiQHVAej/otTJAX2rNOWELOUCsaE40Ov06QO9D1yMzNDhAVqQ1LUItMUD0pKDgtI4cQPRn43LbmBDAjk9G6+RrLcARobT9rbE2wN/tEWBI7DTA",
          "dtype": "f8"
         },
         "y": {
          "bdata": "Uprj95kTR8CB3HeJf15GwEwtxdpYAUTAOL25j09FPMB+/QGrGycnwAA6SadRlhxAM3tAJxKeOEAneNsHDONCQOBD8YKxJ0ZANTF4MFmKRUD41CtiliZBQMMZ88O1gjNAYP1rkV/O9D8QpcxgQSMxwCGaiMNCSUDA+olgAzYmRcBw2Fl3S05GwFENpEGfjUPAjHO4XWG/OsBoaxfq9WYjwAAJyRIJBBRAzCbfovNrOcCap6KuUbc5wGpYGAGU1zrA2liabI9DN8BIkROVmjcvwMQu42oK3xTASEv7DYVZGEA4vokQaFMwQIv3zdn4szdASurEsxjtOkC/lM45LG45QFiBm2FPejNAvq/ROCU5JEAAnS/pMG3wv3onFhhS+CfAdsD6VMnXNMDECeBaSgw6wAIDJQYlsDrA4wsH/KGmNsD+yoj1w0ktwHgBru4pARHA",
          "dtype": "f8"
         },
         "z": {
          "bdata": "tKtAHwI7M0C+q7UeO/9BQOg5WOhJg0pACWT9WKyDUUAcq869s8VVQDDynyK7B1pARTlxh8JJXkAsQCH25EVhQLfjiajoZmNAP4fyWuyHZUDKKlsN8KhnQFTOw7/zyWlA33Escvfqa0BqFZUk+wtuQHvcfmt/FnBAQC6zRAEncUAEgOcdgzdyQMnRG/cESHNAjiNQ0IZYdEBTdYSpCGl1QCBuChrVfXZA2piQiDjpMEA+EURgetpAQGif5imJXklAyZbE+UvxUEDc3ZVeUzNVQPAkZ8NadVlABGw4KGK3XUCM2YTGtPxgQBZ97Xi4HWNAnyBWK7w+ZUAqxL7dv19nQLRnJ5DDgGlAPwuQQseha0DKrvj0ysJtQFVSYafO429A8PrkLGkCcUC0TBkG6xJyQHmeTd9sI3NAPvCBuO4zdEADQraRcER1QPNsn4C4WHZA",
          "dtype": "f8"
         }
        },
        {
         "color": "blue",
         "i": {
          "bdata": "AAEBAgIDAwQEBQUGBgcHCAgJCQoKCwsMDA0NDg4PDxAQERESEhMTFA==",
          "dtype": "i1"
         },
         "j": {
          "bdata": "ARYCFwMYBBkFGgYbBxwIHQkeCh8LIAwhDSIOIw8kECURJhInEygUKQ==",
          "dtype": "i1"
         },
         "k": {
          "bdata": "FRUWFhcXGBgZGRoaGxscHB0dHh4fHyAgISEiIiMjJCQlJSYmJycoKA==",
          "dtype": "i1"
         },
         "name": "surface",
         "opacity": 0.6,
         "type": "mesh3d",
         "x": {
          "bdata": "nYEeaC2jM0B2meO5xoIgQLBAT0QK9gfAbKgplgpxK8CylHZFswo2wBivwzr4fzrARDNI3FBQOsDkj3UpF4Q1wIDxQnwX5SnAAP6nzuPgAMBeW5sB9jEiQHVAej/otTJAX2rNOWELOUCsaE40Ov06QO9D1yMzNDhAVqQ1LUItMUD0pKDgtI4cQPRn43LbmBDAjk9G6+RrLcARobT9rbE2wN/tEWBI7DTAnhidHTjEKkBIZAIHWF0XQKCSf+UZ5wRAgMUlPpUs8b9UgOUlNkkSwOTjJmDfEh3AXMFbORFiIcBKuBt9zS4hwIAeV/VA8RvA2LwImUKfEMCA7qpAGBzjv5Ctck3QhghAgAF6IyHEGEBUHQRl23YgQOLDyrX5qCFAehlQ44qFH0CkldmC6DIWQEjmkFmi+AFAED23n6k197/QVaB60pITwAiYHzRjbADA",
          "dtype": "f8"
         },
         "y": {
          "bdata": "zCbfovNrOcCap6KuUbc5wGpYGAGU1zrA2liabI9DN8BIkROVmjcvwMQu42oK3xTASEv7DYVZGEA4vokQaFMwQIv3zdn4szdASurEsxjtOkC/lM45LG45QFiBm2FPejNAvq/ROCU5JEAAnS/pMG3wv3onFhhS+CfAdsD6VMnXNMDECeBaSgw6wAIDJQYlsDrA4wsH/KGmNsD+yoj1w0ktwHgBru4pARHAkH2wEBpCHcDMnRnjI4sawOzRmxQd5CDASCjn4tWMIcCcUe06VUQewGRm/PsPIRTAUCj/uMXa+b+IAk6aVqsAQAxbe3wYrBVA8nb7GzE2H0DDJ8b8+6MhQPqm9sNslSBAqKw+M6s9GUCAWPVJGcgJQID39O+1ftu/QJSBTcoGEMBEuBWgoIYbwBEIrzXBGSHARyx9J/lwIcAM6mIiXnMdwKD1GptoXu6/",
          "dtype": "f8"
         },
         "z": {
          "bdata": "2piQiDjpMEA+EURgetpAQGif5imJXklAyZbE+UvxUEDc3ZVeUzNVQPAkZ8NadVlABGw4KGK3XUCM2YTGtPxgQBZ97Xi4HWNAnyBWK7w+ZUAqxL7dv19nQLRnJ5DDgGlAPwuQQseha0DKrvj0ysJtQFVSYafO429A8PrkLGkCcUC0TBkG6xJyQHmeTd9sI3NAPvCBuO4zdEADQraRcER1QPNsn4C4WHZAeB0Mqvi2GkCQ24gnA543QPH7Zl0QU0RAG4oJJx/XTEAhDFb4lq1SQDVTJ12e71ZASZr4waUxW0Bd4ckmrXNfQDmUzUXa2mFAwjc2+N37Y0BN256q4RxmQNd+B13lPWhAYiJwD+leakDtxdjB7H9sQHhpQXTwoG5AgQZVE/pgcEBFWInse3FxQAqqvcX9gXJAz/vxnn+Sc0CUTSZ4AaN0QNqTvtoAtXVA",
          "dtype": "f8"
         }
        },
        {
         "color": "blue",
         "i": {
          "bdata": "AAEBAgIDAwQEBQUGBgcHCAgJCQoKCwsMDA0NDg4PDxAQERESEhMTFA==",
          "dtype": "i1"
         },
         "j": {
          "bdata": "ARYCFwMYBBkFGgYbBxwIHQkeCh8LIAwhDSIOIw8kECURJhInEygUKQ==",
          "dtype": "i1"
         },
         "k": {
          "bdata": "FRUWFhcXGBgZGRoaGxscHB0dHh4fHyAgISEiIiMjJCQlJSYmJycoKA==",
          "dtype": "i1"
         },
         "name": "surface",
         "opacity": 0.6,
         "type": "mesh3d",
         "x": {
          "bdata": "nhidHTjEKkBIZAIHWF0XQKCSf+UZ5wRAgMUlPpUs8b9UgOUlNkkSwOTjJmDfEh3AXMFbORFiIcBKuBt9zS4hwIAeV/VA8RvA2LwImUKfEMCA7qpAGBzjv5Ctck3QhghAgAF6IyHEGEBUHQRl23YgQOLDyrX5qCFAehlQ44qFH0CkldmC6DIWQEjmkFmi+AFAED23n6k197/QVaB60pITwAiYHzRjbADAEM6yKMrtAcBjvnKR0isgwDQ9aL67pxfA6GdWBA2lBcDg/6TL10HvP8QieuWw8xFAflgQG7zZHECiKFxUslghQFBamcBFOiFAeF0KndotHED8NtKJ5vYQQKBuaQOqNuY/IC7Xb5/LB8AAe26sqXwYwKQtdFRzZCDAz+QIIB+rIcCKziYaMLIfwDQpxRUVgBbA2GRJWf24AsAAIQERXKz1P6yf11rWYx1A",
          "dtype": "f8"
         },
         "y": {
          "bdata": "kH2wEBpCHcDMnRnjI4sawOzRmxQd5CDASCjn4tWMIcCcUe06VUQewGRm/PsPIRTAUCj/uMXa+b+IAk6aVqsAQAxbe3wYrBVA8nb7GzE2H0DDJ8b8+6MhQPqm9sNslSBAqKw+M6s9GUCAWPVJGcgJQID39O+1ftu/QJSBTcoGEMBEuBWgoIYbwBEIrzXBGSHARyx9J/lwIcAM6mIiXnMdwKD1GptoXu6/QDm9xQ9507/Ijhudn5gMQFwKsg7uSBpAxr7mrCLVIEDe1SP9m5IhQB63fFxcdx5A5K1PqqByFEAwNIfjAGL7P/CD80QK0/+/1Ou6qBFdFcBwggO95QYfwH0lpfdYoCHAMRWdk2+mIMAk5O8UBoMZwNCjmFAqgQrAgANnCMxG1T+Yp+PZilsPQKy2i1mvRxtAVIJLVtYMIUBS65CX33ghQJJa8SP5uipA",
          "dtype": "f8"
         },
         "z": {
          "bdata": "eB0Mqvi2GkCQ24gnA543QPH7Zl0QU0RAG4oJJx/XTEAhDFb4lq1SQDVTJ12e71ZASZr4waUxW0Bd4ckmrXNfQDmUzUXa2mFAwjc2+N37Y0BN256q4RxmQNd+B13lPWhAYiJwD+leakDtxdjB7H9sQHhpQXTwoG5AgQZVE/pgcEBFWInse3FxQAqqvcX9gXJAz/vxnn+Sc0CUTSZ4AaN0QNqTvtoAtXVAcx0Mqvi2GsAqugL+b+QkQGZ5RpJVejtA3MrFkjlBRkADWWhcSMVOQJZzBZOrpFNAqbrW97LmV0C+AahcuihcQGmkvOBgNWBA8kclk2RWYkB+641FaHdkQAeP9vdrmGZAkzJfqm+5aEAe1sdcc9pqQKh5MA93+2xAMR2ZwXocb0Bd4AA6v55wQCIyNRNBr3FA54Np7MK/ckCs1Z3FRNBzQO4ybhVJ33RA",
          "dtype": "f8"
         }
        },
        {
         "color": "blue",
         "i": {
          "bdata": "AAEBAgIDAwQEBQUGBgcHCAgJCQoKCwsMDA0NDg4PDxAQERESEhMTFA==",
          "dtype": "i1"
         },
         "j": {
          "bdata": "ARYCFwMYBBkFGgYbBxwIHQkeCh8LIAwhDSIOIw8kECURJhInEygUKQ==",
          "dtype": "i1"
         },
         "k": {
          "bdata": "FRUWFhcXGBgZGRoaGxscHB0dHh4fHyAgISEiIiMjJCQlJSYmJycoKA==",
          "dtype": "i1"
         },
         "name": "surface",
         "opacity": 0.6,
         "type": "mesh3d",
         "x": {
          "bdata": "EM6yKMrtAcBjvnKR0isgwDQ9aL67pxfA6GdWBA2lBcDg/6TL10HvP8QieuWw8xFAflgQG7zZHECiKFxUslghQFBamcBFOiFAeF0KndotHED8NtKJ5vYQQKBuaQOqNuY/IC7Xb5/LB8AAe26sqXwYwKQtdFRzZCDAz+QIIB+rIcCKziYaMLIfwDQpxRUVgBbA2GRJWf24AsAAIQERXKz1P6yf11rWYx1Ax1cRkMHsM8BEjw5/IgI7wFYoIw7alTjAz/gViYraMcBIXnOg4vgfwGgmlTirJQpA0SwFrwDqK0C/1FLFGzM2QOi3wUE5jTpAEZt4xRdAOkCotR/OO1k1QMrZVM0haSlAINSiOu5d/T8Io3nzV7YiwGkrLOty6DLAH7fhB2olOcBLncoaMfo6wKXRe1OgFDjAzPVGM672MMBgmw/yon4bwNjqq8CrCQdA",
          "dtype": "f8"
         },
         "y": {
          "bdata": "QDm9xQ9507/Ijhudn5gMQFwKsg7uSBpAxr7mrCLVIEDe1SP9m5IhQB63fFxcdx5A5K1PqqByFEAwNIfjAGL7P/CD80QK0/+/1Ou6qBFdFcBwggO95QYfwH0lpfdYoCHAMRWdk2+mIMAk5O8UBoMZwNCjmFAqgQrAgANnCMxG1T+Yp+PZilsPQKy2i1mvRxtAVIJLVtYMIUBS65CX33ghQJJa8SP5uipAKH/l7x2vHsAApfVjb5vBP67Qdw0CXSZA+6d4SyBENEA+Nzgdgcw5QL6eaVtpzzpAPuoCGHkfN0ACQqGtPMQuQOS0/glcyhNAkFT6o6hrGcDm8JNvS4swwGwB80Jr1TfAdyKIjD3yOsCH54+5HFY5wEACwQNDSTPAjtlU4kO2I8CA3A6vANP0P4ztuvk6dihA8taCvkwENUAA0mCjjx46QJDmvpBj/j9A",
          "dtype": "f8"
         },
         "z": {
          "bdata": "cx0Mqvi2GsAqugL+b+QkQGZ5RpJVejtA3MrFkjlBRkADWWhcSMVOQJZzBZOrpFNAqbrW97LmV0C+AahcuihcQGmkvOBgNWBA8kclk2RWYkB+641FaHdkQAeP9vdrmGZAkzJfqm+5aEAe1sdcc9pqQKh5MA93+2xAMR2ZwXocb0Bd4AA6v55wQCIyNRNBr3FA54Np7MK/ckCs1Z3FRNBzQO4ybhVJ33RA2JiQiDjpMMCAioWAmdHWP3syR/ljYzFAZidGxsA1QUCMteiPz7lJQNqhxSzvHlFA7uiWkfZgVUADMGj2/aJZQBh3OVsF5V1AFV8FYIYTYUCgAm4SijRjQCqm1sSNVWVAtUk/d5F2Z0BB7acplZdpQMuQENyYuGtAUzR5jpzZbUDc1+FAoPpvQLM9pfnRDXFAeI/Z0lMeckA94Q2s1S5zQNVZjW+RO3RA",
          "dtype": "f8"
         }
        },
        {
         "color": "blue",
         "i": {
          "bdata": "AAEBAgIDAwQEBQUGBgcHCAgJCQoKCwsMDA0NDg4PDxAQERESEhMTFA==",
          "dtype": "i1"
         },
         "j": {
          "bdata": "ARYCFwMYBBkFGgYbBxwIHQkeCh8LIAwhDSIOIw8kECURJhInEygUKQ==",
          "dtype": "i1"
         },
         "k": {
          "bdata": "FRUWFhcXGBgZGRoaGxscHB0dHh4fHyAgISEiIiMjJCQlJSYmJycoKA==",
          "dtype": "i1"
         },
         "name": "surface",
         "opacity": 0.6,
         "type": "mesh3d",
         "x": {
          "bdata": "x1cRkMHsM8BEjw5/IgI7wFYoIw7alTjAz/gViYraMcBIXnOg4vgfwGgmlTirJQpA0SwFrwDqK0C/1FLFGzM2QOi3wUE5jTpAEZt4xRdAOkCotR/OO1k1QMrZVM0haSlAINSiOu5d/T8Io3nzV7YiwGkrLOty6DLAH7fhB2olOcBLncoaMfo6wKXRe1OgFDjAzPVGM672MMBgmw/yon4bwNjqq8CrCQdAELPFIr1kP8Dqie2QVQlFwIBGrzUlVUbAoROp1v+2Q8DQyPZnr0g7wOAWDVKLtiTAE/VIA5TFIEDUCy5/nag5QCyq10qhN0NANtd7hsM8RkAkquugNlxFQBtpABtVvUBAzq5PWtpeMkAARAT236+lPxCRaPkQSzLAwwPBhx+2QMAe/QWd81hFwCJQFWkFPkbA2xV9qi89Q8Bj8laqYLo5wGHglahAuyrA",
          "dtype": "f8"
         },
         "y": {
          "bdata": "KH/l7x2vHsAApfVjb5vBP67Qdw0CXSZA+6d4SyBENEA+Nzgdgcw5QL6eaVtpzzpAPuoCGHkfN0ACQqGtPMQuQOS0/glcyhNAkFT6o6hrGcDm8JNvS4swwGwB80Jr1TfAdyKIjD3yOsCH54+5HFY5wEACwQNDSTPAjtlU4kO2I8CA3A6vANP0P4ztuvk6dihA8taCvkwENUAA0mCjjx46QJDmvpBj/j9ANC8zt8L3OcCpyRkUW60uwDjrLgz30wlA+NFzY9I6NUBxat+xVcFBQFC7P7qqyEVAQmy2V6n+RUBPnoUP21lCQAuO2Nh0+zZAHCE05WPwFECiwj1bPdwqwAFbD0/KvT3AA/zuwo1rRMAaGrH9DmRGwEMxDR/+b0TAzp5zcf3NPcCPEhrYmgUrwPAO1jI6mhRA+//5K9XoNkBIgVxgolNCQPLblsoqHEdA",
          "dtype": "f8"
         },
         "z": {
          "bdata": "2JiQiDjpMMCAioWAmdHWP3syR/ljYzFAZidGxsA1QUCMteiPz7lJQNqhxSzvHlFA7uiWkfZgVUADMGj2/aJZQBh3OVsF5V1AFV8FYIYTYUCgAm4SijRjQCqm1sSNVWVAtUk/d5F2Z0BB7acplZdpQMuQENyYuGtAUzR5jpzZbUDc1+FAoPpvQLM9pfnRDXFAeI/Z0lMeckA94Q2s1S5zQNVZjW+RO3RAtatAHwI7M8Cg7RFuseP+v/D6x/jEMy5A5IzUBwARQEALG3fRDpVIQJrUjM2OjFBArRteMpbOVEDCYi+XnRBZQNepAPykUl1AdfhoMFbKYEAAnNHiWetiQIo/OpVdDGVAFeOiR2EtZ0Cghgv6ZE5pQCoqdKxob2tAss3cXmyQbUA8cUURcLFvQGMK1+E56XBAKFwLu7v5cUDtrT+UPQpzQKdYItZ0FnRA",
          "dtype": "f8"
         }
        },
        {
         "color": "blue",
         "i": {
          "bdata": "AAEBAgIDAwQEBQUGBgcHCAgJCQoKCwsMDA0NDg4PDxAQERESEhMTFA==",
          "dtype": "i1"
         },
         "j": {
          "bdata": "ARYCFwMYBBkFGgYbBxwIHQkeCh8LIAwhDSIOIw8kECURJhInEygUKQ==",
          "dtype": "i1"
         },
         "k": {
          "bdata": "FRUWFhcXGBgZGRoaGxscHB0dHh4fHyAgISEiIiMjJCQlJSYmJycoKA==",
          "dtype": "i1"
         },
         "name": "surface",
         "opacity": 0.6,
         "type": "mesh3d",
         "x": {
          "bdata": "ELPFIr1kP8Dqie2QVQlFwIBGrzUlVUbAoROp1v+2Q8DQyPZnr0g7wOAWDVKLtiTAE/VIA5TFIEDUCy5/nag5QCyq10qhN0NANtd7hsM8RkAkquugNlxFQBtpABtVvUBAzq5PWtpeMkAARAT236+lPxCRaPkQSzLAwwPBhx+2QMAe/QWd81hFwCJQFWkFPkbA2xV9qi89Q8Bj8laqYLo5wGHglahAuyrAVRmvlORHP8CxCzatfx1HwGpDZKX9YEzAmJVhKkKrTMB0GjUzSe9HwOVV9lb0Aj7A9Q0/L3OTG8BIXVqzh24xQCaVxOPrWUNApqh/IGGYSkDxbUHjoi1NQOuur7vNpUpAvQAI0mpyQ0BxV5cwFK0xQDe9MsffjhrAr/vh0qHKPcDEGx6ReNxHwLjlkksWpUzAyA4ba4toTMCOx1AwdDFHwDM291vK5EDA",
          "dtype": "f8"
         },
         "y": {
          "bdata": "NC8zt8L3OcCpyRkUW60uwDjrLgz30wlA+NFzY9I6NUBxat+xVcFBQFC7P7qqyEVAQmy2V6n+RUBPnoUP21lCQAuO2Nh0+zZAHCE05WPwFECiwj1bPdwqwAFbD0/KvT3AA/zuwo1rRMAaGrH9DmRGwEMxDR/+b0TAzp5zcf3NPcCPEhrYmgUrwPAO1jI6mhRA+//5K9XoNkBIgVxgolNCQPLblsoqHEdADNm0ChNRR8CsFdOFZM5BwLGPT1E+IivAjt2aO3K2JUD5ts11P7BAQNrYXv8mBklAaEsHEVn5TEBC2D4mnthLQOIxcDCQ1kVALAPMsngBOEDASwYXh2XAPxlNfdyhxTfAkOfZwcLARcAszm3gwM5LwK6J6YQm/UzAW/XHkvQWScCDeJJJG8tAwKp/9XVGNybAeJQJHZmiKkD2Kc+vXrRBQAwFqqabsUhA",
          "dtype": "f8"
         },
         "z": {
          "bdata": "tatAHwI7M8Cg7RFuseP+v/D6x/jEMy5A5IzUBwARQEALG3fRDpVIQJrUjM2OjFBArRteMpbOVEDCYi+XnRBZQNepAPykUl1AdfhoMFbKYEAAnNHiWetiQIo/OpVdDGVAFeOiR2EtZ0Cghgv6ZE5pQCoqdKxob2tAss3cXmyQbUA8cUURcLFvQGMK1+E56XBAKFwLu7v5cUDtrT+UPQpzQKdYItZ0FnRAskh76YcaKcCOgYr1qZ4SQLS8pxDIrzVAg2z20fJbQ0Cq+pibAeBLQGnEnTIIMlJAfQtvlw90VkCRUkD8FrZaQKaZEWEe+F5AXHDx4hKdYUDoE1qVFr5jQHG3wkca32VA/For+h0AaECI/pOsISFqQBKi/F4lQmxAmkVlESljbkCS9OZhFkJwQFdGGzuYUnFAHJhPFBpjckDh6YPtm3NzQB6JyrhQgXRA",
          "dtype": "f8"
         }
        },
        {
         "color": "blue",
         "i": {
          "bdata": "AAEBAgIDAwQEBQUGBgcHCAgJCQoKCwsMDA0NDg4PDxAQERESEhMTFA==",
          "dtype": "i1"
         },
         "j": {
          "bdata": "ARYCFwMYBBkFGgYbBxwIHQkeCh8LIAwhDSIOIw8kECURJhInEygUKQ==",
          "dtype": "i1"
         },
         "k": {
          "bdata": "FRUWFhcXGBgZGRoaGxscHB0dHh4fHyAgISEiIiMjJCQlJSYmJycoKA==",
          "dtype": "i1"
         },
         "name": "surface",
         "opacity": 0.6,
         "type": "mesh3d",
         "x": {
          "bdata": "VRmvlORHP8CxCzatfx1HwGpDZKX9YEzAmJVhKkKrTMB0GjUzSe9HwOVV9lb0Aj7A9Q0/L3OTG8BIXVqzh24xQCaVxOPrWUNApqh/IGGYSkDxbUHjoi1NQOuur7vNpUpAvQAI0mpyQ0BxV5cwFK0xQDe9MsffjhrAr/vh0qHKPcDEGx6ReNxHwLjlkksWpUzAyA4ba4toTMCOx1AwdDFHwDM291vK5EDATp6JNrejM8CaWw8gjsRCwD50HEo1mkvAWAGPbnmZT8Bj6Ad8BQ9OwPKdoKr6P0fANdJi7KW7OMA0/O3pBOX1P2Jfb6LhOjtAuUcQZuIoSEB2I7K/ZXhOQGgBRoLacE9AaE/mo7XmSkCuEAb/oqVBQPm9rUBOMyVA5gKWxRjnL8Bwsi5Ki9pDwMTmYeaSQEzAzs6BdA+zT8AaPmP/V5dNwDgOWO83akjA",
          "dtype": "f8"
         },
         "y": {
          "bdata": "DNm0ChNRR8CsFdOFZM5BwLGPT1E+IivAjt2aO3K2JUD5ts11P7BAQNrYXv8mBklAaEsHEVn5TEBC2D4mnthLQOIxcDCQ1kVALAPMsngBOEDASwYXh2XAPxlNfdyhxTfAkOfZwcLARcAszm3gwM5LwK6J6YQm/UzAW/XHkvQWScCDeJJJG8tAwKp/9XVGNybAeJQJHZmiKkD2Kc+vXrRBQAwFqqabsUhAhqq3ksH/TcAa24utTJlJwMcvKWCCWD/AyPhc6VcAGMCE6/1Bi2U0QHYtf18JnEVANqAwDMk7TUBuWokB97tPQEEHE3NhrExAvqpjD1yWREASMgqZXckxQPyLCmb5byHApCcmMhbZQMCNrGBvSmJKwA2jleXFS0/AsBoFWye5TsB8iFbrIMRIwJJgmF7u7zzAuJlNNKMqCsBcp76NBPg2QLbJdYfOAURA",
          "dtype": "f8"
         },
         "z": {
          "bdata": "skh76YcaKcCOgYr1qZ4SQLS8pxDIrzVAg2z20fJbQ0Cq+pibAeBLQGnEnTIIMlJAfQtvlw90VkCRUkD8FrZaQKaZEWEe+F5AXHDx4hKdYUDoE1qVFr5jQHG3wkca32VA/For+h0AaECI/pOsISFqQBKi/F4lQmxAmkVlESljbkCS9OZhFkJwQFdGGzuYUnFAHJhPFBpjckDh6YPtm3NzQB6JyrhQgXRAyzKvJiqK9bxRHEWTHQgxQFEcRZMdCEFAeqrnXCyMSUBRHEWTHQhRQGVjFvgkSlVAearnXCyMWUCN8bjBM85dQFEcRZMdCGFA2r+tRSEpY0BlYxb4JEplQO8Gf6ooa2dAeqrnXCyMaUAFTlAPMK1rQJDxuMEzzm1AGZUhdDfvb0BRHEWTHQhxQBZueWyfGHJA27+tRSEpc0CgEeIeozl0QGRjFvgkSnVA",
          "dtype": "f8"
         }
        },
        {
         "line": {
          "color": "blue"
         },
         "mode": "lines",
         "type": "scatter3d",
         "x": {
          "bdata": "TZ6JNrejM8CaWw8gjsRCwD50HEo1mkvAWAGPbnmZT8Bk6Ad8BQ9OwPKdoKr6P0fANtJi7KW7OMAY/O3pBOX1P2Bfb6LhOjtAuEcQZuIoSEB2I7K/ZXhOQGgBRoLacE9AaE/mo7XmSkCuEAb/oqVBQPy9rUBOMyVA4gKWxRjnL8Bvsi5Ki9pDwMTmYeaSQEzAzs6BdA+zT8AbPmP/V5dNwDgOWO83akjA",
          "dtype": "f8"
         },
         "y": {
          "bdata": "hqq3ksH/TcAa24utTJlJwMgvKWCCWD/Azvhc6VcAGMCD6/1Bi2U0QHUtf18JnEVANqAwDMk7TUBuWokB97tPQEIHE3NhrExAv6pjD1yWREAUMgqZXckxQPqLCmb5byHAoycmMhbZQMCMrGBvSmJKwA2jleXFS0/AsBoFWye5TsB8iFbrIMRIwJRgmF7u7zzAxplNNKMqCsBap76NBPg2QLbJdYfOAURA",
          "dtype": "f8"
         },
         "z": {
          "bdata": "AAAAAAAAAABSHEWTHQgxQFIcRZMdCEFAe6rnXCyMSUBRHEWTHQhRQGVjFvgkSlVAearnXCyMWUCN8bjBM85dQFEcRZMdCGFA2r+tRSEpY0BlYxb4JEplQO8Gf6ooa2dAeqrnXCyMaUAFTlAPMK1rQJDxuMEzzm1AGZUhdDfvb0BRHEWTHQhxQBZueWyfGHJA27+tRSEpc0CgEeIeozl0QGRjFvgkSnVA",
          "dtype": "f8"
         }
        },
        {
         "line": {
          "color": "blue"
         },
         "mode": "lines",
         "type": "scatter3d",
         "x": {
          "bdata": "bNtUqKSq/r/8/iBChg40wB2vG17PXUTADSYK2JwiS8ATihn6/CVNwOIA8VOdDUrAdoQP61tkQsAkFkiswwcuwKUjbJs5xSJAx1WH2AQSQEC41j/nuqFIQCDEgPVU4ExAoAMLYWQPTEDcUxBLh1NGQKEmhXf7WzlAsM5uk4Hy+T8ZRKpdbWY2wNj6/zqDP0XA0w180YKSS8Ak/v+3eBBNwOHU7gUruknA",
          "dtype": "f8"
         },
         "y": {
          "bdata": "hEZ0hHrnTcAekw/UnmZLwCXK3tgC5UTA5Cx5jexzNcAmzUb9RyUFQPLQLgqoRjpAvgsDEOOmRkCSCwy8KTJMQDonPuVrzExAUOKgtKBaSEBbo4ASX0g/QOKCbrH2vyBABU1dmyYAMMCmWGDqNMlCwNqSjmKAR0rAX6+t+8QqTcDN2kRJc/FKwED23uxR/0PA/lFJPAIYM8BHL+v4E50UQGgZqtNTfDZA",
          "dtype": "f8"
         },
         "z": {
          "bdata": "rkh76YcaKUA/mCepkGg9QElaNh5XOEdAcujY52W8T0BNu71YOiBUQGACj71BYlhAdUlgIkmkXEBEyJhDKHNgQM9rAfYrlGJAVw9qqC+1ZEDistJaM9ZmQGxWOw0392hA9/mjvzoYa0CCnQxyPjltQA5BdSRCWm9ATPJu66K9cEAQRKPEJM5xQNWV152m3nJAmucLdyjvc0BfOUBQqv90QKo9Yjf5EnZA",
          "dtype": "f8"
         }
        },
        {
         "line": {
          "color": "blue"
         },
         "mode": "lines",
         "type": "scatter3d",
         "x": {
          "bdata": "Ov2R9qQwK0DgMmDxK4//v8hig7AbHTTAxGv9XW5dQcAQGMueOaFFwHw8rQWYGkbA2WAOVkS0QsD6TAzziw04wJjjGAeu7RnANoQEXw5zKECkQFrlAso8QG8Dm7FuJ0RAXY2X16RhRkDo/5A5ta9EQJ+9CPVYuz5AsrPeSvpoLUAgbs9x6jAPwG5jYSDL0TXAgjhHiET1QcCKw7YM8ttFwD0EutJxN0TA",
          "dtype": "f8"
         },
         "y": {
          "bdata": "Uprj95kTR8CB3HeJf15GwEwtxdpYAUTAOL25j09FPMB+/QGrGycnwAA6SadRlhxAM3tAJxKeOEAneNsHDONCQOBD8YKxJ0ZANTF4MFmKRUD41CtiliZBQMMZ88O1gjNAYP1rkV/O9D8QpcxgQSMxwCGaiMNCSUDA+olgAzYmRcBw2Fl3S05GwFENpEGfjUPAjHO4XWG/OsBoaxfq9WYjwAAJyRIJBBRA",
          "dtype": "f8"
         },
         "z": {
          "bdata": "tKtAHwI7M0C+q7UeO/9BQOg5WOhJg0pACWT9WKyDUUAcq869s8VVQDDynyK7B1pARTlxh8JJXkAsQCH25EVhQLfjiajoZmNAP4fyWuyHZUDKKlsN8KhnQFTOw7/zyWlA33Escvfqa0BqFZUk+wtuQHvcfmt/FnBAQC6zRAEncUAEgOcdgzdyQMnRG/cESHNAjiNQ0IZYdEBTdYSpCGl1QCBuChrVfXZA",
          "dtype": "f8"
         }
        },
        {
         "line": {
          "color": "blue"
         },
         "mode": "lines",
         "type": "scatter3d",
         "x": {
          "bdata": "nYEeaC2jM0B2meO5xoIgQLBAT0QK9gfAbKgplgpxK8CylHZFswo2wBivwzr4fzrARDNI3FBQOsDkj3UpF4Q1wIDxQnwX5SnAAP6nzuPgAMBeW5sB9jEiQHVAej/otTJAX2rNOWELOUCsaE40Ov06QO9D1yMzNDhAVqQ1LUItMUD0pKDgtI4cQPRn43LbmBDAjk9G6+RrLcARobT9rbE2wN/tEWBI7DTA",
          "dtype": "f8"
         },
         "y": {
          "bdata": "zCbfovNrOcCap6KuUbc5wGpYGAGU1zrA2liabI9DN8BIkROVmjcvwMQu42oK3xTASEv7DYVZGEA4vokQaFMwQIv3zdn4szdASurEsxjtOkC/lM45LG45QFiBm2FPejNAvq/ROCU5JEAAnS/pMG3wv3onFhhS+CfAdsD6VMnXNMDECeBaSgw6wAIDJQYlsDrA4wsH/KGmNsD+yoj1w0ktwHgBru4pARHA",
          "dtype": "f8"
         },
         "z": {
          "bdata": "2piQiDjpMEA+EURgetpAQGif5imJXklAyZbE+UvxUEDc3ZVeUzNVQPAkZ8NadVlABGw4KGK3XUCM2YTGtPxgQBZ97Xi4HWNAnyBWK7w+ZUAqxL7dv19nQLRnJ5DDgGlAPwuQQseha0DKrvj0ysJtQFVSYafO429A8PrkLGkCcUC0TBkG6xJyQHmeTd9sI3NAPvCBuO4zdEADQraRcER1QPNsn4C4WHZA",
          "dtype": "f8"
         }
        },
        {
         "line": {
          "color": "blue"
         },
         "mode": "lines",
         "type": "scatter3d",
         "x": {
          "bdata": "nhidHTjEKkBIZAIHWF0XQKCSf+UZ5wRAgMUlPpUs8b9UgOUlNkkSwOTjJmDfEh3AXMFbORFiIcBKuBt9zS4hwIAeV/VA8RvA2LwImUKfEMCA7qpAGBzjv5Ctck3QhghAgAF6IyHEGEBUHQRl23YgQOLDyrX5qCFAehlQ44qFH0CkldmC6DIWQEjmkFmi+AFAED23n6k197/QVaB60pITwAiYHzRjbADA",
          "dtype": "f8"
         },
         "y": {
          "bdata": "kH2wEBpCHcDMnRnjI4sawOzRmxQd5CDASCjn4tWMIcCcUe06VUQewGRm/PsPIRTAUCj/uMXa+b+IAk6aVqsAQAxbe3wYrBVA8nb7GzE2H0DDJ8b8+6MhQPqm9sNslSBAqKw+M6s9GUCAWPVJGcgJQID39O+1ftu/QJSBTcoGEMBEuBWgoIYbwBEIrzXBGSHARyx9J/lwIcAM6mIiXnMdwKD1GptoXu6/",
          "dtype": "f8"
         },
         "z": {
          "bdata": "eB0Mqvi2GkCQ24gnA543QPH7Zl0QU0RAG4oJJx/XTEAhDFb4lq1SQDVTJ12e71ZASZr4waUxW0Bd4ckmrXNfQDmUzUXa2mFAwjc2+N37Y0BN256q4RxmQNd+B13lPWhAYiJwD+leakDtxdjB7H9sQHhpQXTwoG5AgQZVE/pgcEBFWInse3FxQAqqvcX9gXJAz/vxnn+Sc0CUTSZ4AaN0QNqTvtoAtXVA",
          "dtype": "f8"
         }
        },
        {
         "line": {
          "color": "blue"
         },
         "mode": "lines",
         "type": "scatter3d",
         "x": {
          "bdata": "EM6yKMrtAcBjvnKR0isgwDQ9aL67pxfA6GdWBA2lBcDg/6TL10HvP8QieuWw8xFAflgQG7zZHECiKFxUslghQFBamcBFOiFAeF0KndotHED8NtKJ5vYQQKBuaQOqNuY/IC7Xb5/LB8AAe26sqXwYwKQtdFRzZCDAz+QIIB+rIcCKziYaMLIfwDQpxRUVgBbA2GRJWf24AsAAIQERXKz1P6yf11rWYx1A",
          "dtype": "f8"
         },
         "y": {
          "bdata": "QDm9xQ9507/Ijhudn5gMQFwKsg7uSBpAxr7mrCLVIEDe1SP9m5IhQB63fFxcdx5A5K1PqqByFEAwNIfjAGL7P/CD80QK0/+/1Ou6qBFdFcBwggO95QYfwH0lpfdYoCHAMRWdk2+mIMAk5O8UBoMZwNCjmFAqgQrAgANnCMxG1T+Yp+PZilsPQKy2i1mvRxtAVIJLVtYMIUBS65CX33ghQJJa8SP5uipA",
          "dtype": "f8"
         },
         "z": {
          "bdata": "cx0Mqvi2GsAqugL+b+QkQGZ5RpJVejtA3MrFkjlBRkADWWhcSMVOQJZzBZOrpFNAqbrW97LmV0C+AahcuihcQGmkvOBgNWBA8kclk2RWYkB+641FaHdkQAeP9vdrmGZAkzJfqm+5aEAe1sdcc9pqQKh5MA93+2xAMR2ZwXocb0Bd4AA6v55wQCIyNRNBr3FA54Np7MK/ckCs1Z3FRNBzQO4ybhVJ33RA",
          "dtype": "f8"
         }
        },
        {
         "line": {
          "color": "blue"
         },
         "mode": "lines",
         "type": "scatter3d",
         "x": {
          "bdata": "x1cRkMHsM8BEjw5/IgI7wFYoIw7alTjAz/gViYraMcBIXnOg4vgfwGgmlTirJQpA0SwFrwDqK0C/1FLFGzM2QOi3wUE5jTpAEZt4xRdAOkCotR/OO1k1QMrZVM0haSlAINSiOu5d/T8Io3nzV7YiwGkrLOty6DLAH7fhB2olOcBLncoaMfo6wKXRe1OgFDjAzPVGM672MMBgmw/yon4bwNjqq8CrCQdA",
          "dtype": "f8"
         },
         "y": {
          "bdata": "KH/l7x2vHsAApfVjb5vBP67Qdw0CXSZA+6d4SyBENEA+Nzgdgcw5QL6eaVtpzzpAPuoCGHkfN0ACQqGtPMQuQOS0/glcyhNAkFT6o6hrGcDm8JNvS4swwGwB80Jr1TfAdyKIjD3yOsCH54+5HFY5wEACwQNDSTPAjtlU4kO2I8CA3A6vANP0P4ztuvk6dihA8taCvkwENUAA0mCjjx46QJDmvpBj/j9A",
          "dtype": "f8"
         },
         "z": {
          "bdata": "2JiQiDjpMMCAioWAmdHWP3syR/ljYzFAZidGxsA1QUCMteiPz7lJQNqhxSzvHlFA7uiWkfZgVUADMGj2/aJZQBh3OVsF5V1AFV8FYIYTYUCgAm4SijRjQCqm1sSNVWVAtUk/d5F2Z0BB7acplZdpQMuQENyYuGtAUzR5jpzZbUDc1+FAoPpvQLM9pfnRDXFAeI/Z0lMeckA94Q2s1S5zQNVZjW+RO3RA",
          "dtype": "f8"
         }
        },
        {
         "line": {
          "color": "blue"
         },
         "mode": "lines",
         "type": "scatter3d",
         "x": {
          "bdata": "ELPFIr1kP8Dqie2QVQlFwIBGrzUlVUbAoROp1v+2Q8DQyPZnr0g7wOAWDVKLtiTAE/VIA5TFIEDUCy5/nag5QCyq10qhN0NANtd7hsM8RkAkquugNlxFQBtpABtVvUBAzq5PWtpeMkAARAT236+lPxCRaPkQSzLAwwPBhx+2QMAe/QWd81hFwCJQFWkFPkbA2xV9qi89Q8Bj8laqYLo5wGHglahAuyrA",
          "dtype": "f8"
         },
         "y": {
          "bdata": "NC8zt8L3OcCpyRkUW60uwDjrLgz30wlA+NFzY9I6NUBxat+xVcFBQFC7P7qqyEVAQmy2V6n+RUBPnoUP21lCQAuO2Nh0+zZAHCE05WPwFECiwj1bPdwqwAFbD0/KvT3AA/zuwo1rRMAaGrH9DmRGwEMxDR/+b0TAzp5zcf3NPcCPEhrYmgUrwPAO1jI6mhRA+//5K9XoNkBIgVxgolNCQPLblsoqHEdA",
          "dtype": "f8"
         },
         "z": {
          "bdata": "tatAHwI7M8Cg7RFuseP+v/D6x/jEMy5A5IzUBwARQEALG3fRDpVIQJrUjM2OjFBArRteMpbOVEDCYi+XnRBZQNepAPykUl1AdfhoMFbKYEAAnNHiWetiQIo/OpVdDGVAFeOiR2EtZ0Cghgv6ZE5pQCoqdKxob2tAss3cXmyQbUA8cUURcLFvQGMK1+E56XBAKFwLu7v5cUDtrT+UPQpzQKdYItZ0FnRA",
          "dtype": "f8"
         }
        },
        {
         "line": {
          "color": "blue"
         },
         "mode": "lines",
         "type": "scatter3d",
         "x": {
          "bdata": "VRmvlORHP8CxCzatfx1HwGpDZKX9YEzAmJVhKkKrTMB0GjUzSe9HwOVV9lb0Aj7A9Q0/L3OTG8BIXVqzh24xQCaVxOPrWUNApqh/IGGYSkDxbUHjoi1NQOuur7vNpUpAvQAI0mpyQ0BxV5cwFK0xQDe9MsffjhrAr/vh0qHKPcDEGx6ReNxHwLjlkksWpUzAyA4ba4toTMCOx1AwdDFHwDM291vK5EDA",
          "dtype": "f8"
         },
         "y": {
          "bdata": "DNm0ChNRR8CsFdOFZM5BwLGPT1E+IivAjt2aO3K2JUD5ts11P7BAQNrYXv8mBklAaEsHEVn5TEBC2D4mnthLQOIxcDCQ1kVALAPMsngBOEDASwYXh2XAPxlNfdyhxTfAkOfZwcLARcAszm3gwM5LwK6J6YQm/UzAW/XHkvQWScCDeJJJG8tAwKp/9XVGNybAeJQJHZmiKkD2Kc+vXrRBQAwFqqabsUhA",
          "dtype": "f8"
         },
         "z": {
          "bdata": "skh76YcaKcCOgYr1qZ4SQLS8pxDIrzVAg2z20fJbQ0Cq+pibAeBLQGnEnTIIMlJAfQtvlw90VkCRUkD8FrZaQKaZEWEe+F5AXHDx4hKdYUDoE1qVFr5jQHG3wkca32VA/For+h0AaECI/pOsISFqQBKi/F4lQmxAmkVlESljbkCS9OZhFkJwQFdGGzuYUnFAHJhPFBpjckDh6YPtm3NzQB6JyrhQgXRA",
          "dtype": "f8"
         }
        },
        {
         "line": {
          "color": "blue"
         },
         "mode": "lines",
         "type": "scatter3d",
         "x": {
          "bdata": "Tp6JNrejM8CaWw8gjsRCwD50HEo1mkvAWAGPbnmZT8Bj6Ad8BQ9OwPKdoKr6P0fANdJi7KW7OMA0/O3pBOX1P2Jfb6LhOjtAuUcQZuIoSEB2I7K/ZXhOQGgBRoLacE9AaE/mo7XmSkCuEAb/oqVBQPm9rUBOMyVA5gKWxRjnL8Bwsi5Ki9pDwMTmYeaSQEzAzs6BdA+zT8AaPmP/V5dNwDgOWO83akjA",
          "dtype": "f8"
         },
         "y": {
          "bdata": "hqq3ksH/TcAa24utTJlJwMcvKWCCWD/AyPhc6VcAGMCE6/1Bi2U0QHYtf18JnEVANqAwDMk7TUBuWokB97tPQEEHE3NhrExAvqpjD1yWREASMgqZXckxQPyLCmb5byHApCcmMhbZQMCNrGBvSmJKwA2jleXFS0/AsBoFWye5TsB8iFbrIMRIwJJgmF7u7zzAuJlNNKMqCsBcp76NBPg2QLbJdYfOAURA",
          "dtype": "f8"
         },
         "z": {
          "bdata": "yzKvJiqK9bxRHEWTHQgxQFEcRZMdCEFAeqrnXCyMSUBRHEWTHQhRQGVjFvgkSlVAearnXCyMWUCN8bjBM85dQFEcRZMdCGFA2r+tRSEpY0BlYxb4JEplQO8Gf6ooa2dAeqrnXCyMaUAFTlAPMK1rQJDxuMEzzm1AGZUhdDfvb0BRHEWTHQhxQBZueWyfGHJA27+tRSEpc0CgEeIeozl0QGRjFvgkSnVA",
          "dtype": "f8"
         }
        },
        {
         "color": "red",
         "i": {
          "bdata": "AAEBAgIDAwQEBQUGBgcHCAgJCQoKCwsMDA0NDg4PDxAQERESEhMTFA==",
          "dtype": "i1"
         },
         "j": {
          "bdata": "ARYCFwMYBBkFGgYbBxwIHQkeCh8LIAwhDSIOIw8kECURJhInEygUKQ==",
          "dtype": "i1"
         },
         "k": {
          "bdata": "FRUWFhcXGBgZGRoaGxscHB0dHh4fHyAgISEiIiMjJCQlJSYmJycoKA==",
          "dtype": "i1"
         },
         "name": "surface",
         "opacity": 0.6,
         "type": "mesh3d",
         "x": {
          "bdata": "TZ6JNrejM0CaWw8gjsRCQD50HEo1mktAWAGPbnmZT0Bk6Ad8BQ9OQPKdoKr6P0dANtJi7KW7OEAY/O3pBOX1v2Bfb6LhOjvAuEcQZuIoSMB2I7K/ZXhOwGgBRoLacE/AaE/mo7XmSsCuEAb/oqVBwPy9rUBOMyXA4gKWxRjnL0Bvsi5Ki9pDQMTmYeaSQExAzs6BdA+zT0AbPmP/V5dNQDgOWO83akhAbNtUqKSq/j/8/iBChg40QB2vG17PXURADSYK2JwiS0ATihn6/CVNQOIA8VOdDUpAdoQP61tkQkAkFkiswwcuQKUjbJs5xSLAx1WH2AQSQMC41j/nuqFIwCDEgPVU4EzAoAMLYWQPTMDcUxBLh1NGwKEmhXf7WznAsM5uk4Hy+b8ZRKpdbWY2QNj6/zqDP0VA0w180YKSS0Ak/v+3eBBNQOHU7gUruklA",
          "dtype": "f8"
         },
         "y": {
          "bdata": "hqq3ksH/TUAa24utTJlJQMgvKWCCWD9Azvhc6VcAGECD6/1Bi2U0wHUtf18JnEXANqAwDMk7TcBuWokB97tPwEIHE3NhrEzAv6pjD1yWRMAUMgqZXckxwPqLCmb5byFAoycmMhbZQECMrGBvSmJKQA2jleXFS09AsBoFWye5TkB8iFbrIMRIQJRgmF7u7zxAxplNNKMqCkBap76NBPg2wLbJdYfOAUTAhEZ0hHrnTUAekw/UnmZLQCXK3tgC5URA5Cx5jexzNUAmzUb9RyUFwPLQLgqoRjrAvgsDEOOmRsCSCwy8KTJMwDonPuVrzEzAUOKgtKBaSMBbo4ASX0g/wOKCbrH2vyDABU1dmyYAMECmWGDqNMlCQNqSjmKAR0pAX6+t+8QqTUDN2kRJc/FKQED23uxR/0NA/lFJPAIYM0BHL+v4E50UwGgZqtNTfDbA",
          "dtype": "f8"
         },
         "z": {
          "bdata": "AAAAAAAAAABSHEWTHQgxQFIcRZMdCEFAe6rnXCyMSUBRHEWTHQhRQGVjFvgkSlVAearnXCyMWUCN8bjBM85dQFEcRZMdCGFA2r+tRSEpY0BlYxb4JEplQO8Gf6ooa2dAeqrnXCyMaUAFTlAPMK1rQJDxuMEzzm1AGZUhdDfvb0BRHEWTHQhxQBZueWyfGHJA27+tRSEpc0CgEeIeozl0QGRjFvgkSnVArkh76YcaKUA/mCepkGg9QElaNh5XOEdAcujY52W8T0BNu71YOiBUQGACj71BYlhAdUlgIkmkXEBEyJhDKHNgQM9rAfYrlGJAVw9qqC+1ZEDistJaM9ZmQGxWOw0392hA9/mjvzoYa0CCnQxyPjltQA5BdSRCWm9ATPJu66K9cEAQRKPEJM5xQNWV152m3nJAmucLdyjvc0BfOUBQqv90QKo9Yjf5EnZA",
          "dtype": "f8"
         }
        },
        {
         "color": "red",
         "i": {
          "bdata": "AAEBAgIDAwQEBQUGBgcHCAgJCQoKCwsMDA0NDg4PDxAQERESEhMTFA==",
          "dtype": "i1"
         },
         "j": {
          "bdata": "ARYCFwMYBBkFGgYbBxwIHQkeCh8LIAwhDSIOIw8kECURJhInEygUKQ==",
          "dtype": "i1"
         },
         "k": {
          "bdata": "FRUWFhcXGBgZGRoaGxscHB0dHh4fHyAgISEiIiMjJCQlJSYmJycoKA==",
          "dtype": "i1"
         },
         "name": "surface",
         "opacity": 0.6,
         "type": "mesh3d",
         "x": {
          "bdata": "bNtUqKSq/j/8/iBChg40QB2vG17PXURADSYK2JwiS0ATihn6/CVNQOIA8VOdDUpAdoQP61tkQkAkFkiswwcuQKUjbJs5xSLAx1WH2AQSQMC41j/nuqFIwCDEgPVU4EzAoAMLYWQPTMDcUxBLh1NGwKEmhXf7WznAsM5uk4Hy+b8ZRKpdbWY2QNj6/zqDP0VA0w180YKSS0Ak/v+3eBBNQOHU7gUruklAOv2R9qQwK8DgMmDxK4//P8hig7AbHTRAxGv9XW5dQUAQGMueOaFFQHw8rQWYGkZA2WAOVkS0QkD6TAzziw04QJjjGAeu7RlANoQEXw5zKMCkQFrlAso8wG8Dm7FuJ0TAXY2X16RhRsDo/5A5ta9EwJ+9CPVYuz7AsrPeSvpoLcAgbs9x6jAPQG5jYSDL0TVAgjhHiET1QUCKw7YM8ttFQD0EutJxN0RA",
          "dtype": "f8"
         },
         "y": {
          "bdata": "hEZ0hHrnTUAekw/UnmZLQCXK3tgC5URA5Cx5jexzNUAmzUb9RyUFwPLQLgqoRjrAvgsDEOOmRsCSCwy8KTJMwDonPuVrzEzAUOKgtKBaSMBbo4ASX0g/wOKCbrH2vyDABU1dmyYAMECmWGDqNMlCQNqSjmKAR0pAX6+t+8QqTUDN2kRJc/FKQED23uxR/0NA/lFJPAIYM0BHL+v4E50UwGgZqtNTfDbAUprj95kTR0CB3HeJf15GQEwtxdpYAURAOL25j09FPEB+/QGrGycnQAA6SadRlhzAM3tAJxKeOMAneNsHDONCwOBD8YKxJ0bANTF4MFmKRcD41CtiliZBwMMZ88O1gjPAYP1rkV/O9L8QpcxgQSMxQCGaiMNCSUBA+olgAzYmRUBw2Fl3S05GQFENpEGfjUNAjHO4XWG/OkBoaxfq9WYjQAAJyRIJBBTA",
          "dtype": "f8"
         },
         "z": {
          "bdata": "rkh76YcaKUA/mCepkGg9QElaNh5XOEdAcujY52W8T0BNu71YOiBUQGACj71BYlhAdUlgIkmkXEBEyJhDKHNgQM9rAfYrlGJAVw9qqC+1ZEDistJaM9ZmQGxWOw0392hA9/mjvzoYa0CCnQxyPjltQA5BdSRCWm9ATPJu66K9cEAQRKPEJM5xQNWV152m3nJAmucLdyjvc0BfOUBQqv90QKo9Yjf5EnZAtKtAHwI7M0C+q7UeO/9BQOg5WOhJg0pACWT9WKyDUUAcq869s8VVQDDynyK7B1pARTlxh8JJXkAsQCH25EVhQLfjiajoZmNAP4fyWuyHZUDKKlsN8KhnQFTOw7/zyWlA33Escvfqa0BqFZUk+wtuQHvcfmt/FnBAQC6zRAEncUAEgOcdgzdyQMnRG/cESHNAjiNQ0IZYdEBTdYSpCGl1QCBuChrVfXZA",
          "dtype": "f8"
         }
        },
        {
         "color": "red",
         "i": {
          "bdata": "AAEBAgIDAwQEBQUGBgcHCAgJCQoKCwsMDA0NDg4PDxAQERESEhMTFA==",
          "dtype": "i1"
         },
         "j": {
          "bdata": "ARYCFwMYBBkFGgYbBxwIHQkeCh8LIAwhDSIOIw8kECURJhInEygUKQ==",
          "dtype": "i1"
         },
         "k": {
          "bdata": "FRUWFhcXGBgZGRoaGxscHB0dHh4fHyAgISEiIiMjJCQlJSYmJycoKA==",
          "dtype": "i1"
         },
         "name": "surface",
         "opacity": 0.6,
         "type": "mesh3d",
         "x": {
          "bdata": "Ov2R9qQwK8DgMmDxK4//P8hig7AbHTRAxGv9XW5dQUAQGMueOaFFQHw8rQWYGkZA2WAOVkS0QkD6TAzziw04QJjjGAeu7RlANoQEXw5zKMCkQFrlAso8wG8Dm7FuJ0TAXY2X16RhRsDo/5A5ta9EwJ+9CPVYuz7AsrPeSvpoLcAgbs9x6jAPQG5jYSDL0TVAgjhHiET1QUCKw7YM8ttFQD0EutJxN0RAnYEeaC2jM8B2meO5xoIgwLBAT0QK9gdAbKgplgpxK0CylHZFswo2QBivwzr4fzpARDNI3FBQOkDkj3UpF4Q1QIDxQnwX5SlAAP6nzuPgAEBeW5sB9jEiwHVAej/otTLAX2rNOWELOcCsaE40Ov06wO9D1yMzNDjAVqQ1LUItMcD0pKDgtI4cwPRn43LbmBBAjk9G6+RrLUARobT9rbE2QN/tEWBI7DRA",
          "dtype": "f8"
         },
         "y": {
          "bdata": "Uprj95kTR0CB3HeJf15GQEwtxdpYAURAOL25j09FPEB+/QGrGycnQAA6SadRlhzAM3tAJxKeOMAneNsHDONCwOBD8YKxJ0bANTF4MFmKRcD41CtiliZBwMMZ88O1gjPAYP1rkV/O9L8QpcxgQSMxQCGaiMNCSUBA+olgAzYmRUBw2Fl3S05GQFENpEGfjUNAjHO4XWG/OkBoaxfq9WYjQAAJyRIJBBTAzCbfovNrOUCap6KuUbc5QGpYGAGU1zpA2liabI9DN0BIkROVmjcvQMQu42oK3xRASEv7DYVZGMA4vokQaFMwwIv3zdn4szfASurEsxjtOsC/lM45LG45wFiBm2FPejPAvq/ROCU5JMAAnS/pMG3wP3onFhhS+CdAdsD6VMnXNEDECeBaSgw6QAIDJQYlsDpA4wsH/KGmNkD+yoj1w0ktQHgBru4pARFA",
          "dtype": "f8"
         },
         "z": {
          "bdata": "tKtAHwI7M0C+q7UeO/9BQOg5WOhJg0pACWT9WKyDUUAcq869s8VVQDDynyK7B1pARTlxh8JJXkAsQCH25EVhQLfjiajoZmNAP4fyWuyHZUDKKlsN8KhnQFTOw7/zyWlA33Escvfqa0BqFZUk+wtuQHvcfmt/FnBAQC6zRAEncUAEgOcdgzdyQMnRG/cESHNAjiNQ0IZYdEBTdYSpCGl1QCBuChrVfXZA2piQiDjpMEA+EURgetpAQGif5imJXklAyZbE+UvxUEDc3ZVeUzNVQPAkZ8NadVlABGw4KGK3XUCM2YTGtPxgQBZ97Xi4HWNAnyBWK7w+ZUAqxL7dv19nQLRnJ5DDgGlAPwuQQseha0DKrvj0ysJtQFVSYafO429A8PrkLGkCcUC0TBkG6xJyQHmeTd9sI3NAPvCBuO4zdEADQraRcER1QPNsn4C4WHZA",
          "dtype": "f8"
         }
        },
        {
         "color": "red",
         "i": {
          "bdata": "AAEBAgIDAwQEBQUGBgcHCAgJCQoKCwsMDA0NDg4PDxAQERESEhMTFA==",
          "dtype": "i1"
         },
         "j": {
          "bdata": "ARYCFwMYBBkFGgYbBxwIHQkeCh8LIAwhDSIOIw8kECURJhInEygUKQ==",
          "dtype": "i1"
         },
         "k": {
          "bdata": "FRUWFhcXGBgZGRoaGxscHB0dHh4fHyAgISEiIiMjJCQlJSYmJycoKA==",
          "dtype": "i1"
         },
         "name": "surface",
         "opacity": 0.6,
         "type": "mesh3d",
         "x": {
          "bdata": "nYEeaC2jM8B2meO5xoIgwLBAT0QK9gdAbKgplgpxK0CylHZFswo2QBivwzr4fzpARDNI3FBQOkDkj3UpF4Q1QIDxQnwX5SlAAP6nzuPgAEBeW5sB9jEiwHVAej/otTLAX2rNOWELOcCsaE40Ov06wO9D1yMzNDjAVqQ1LUItMcD0pKDgtI4cwPRn43LbmBBAjk9G6+RrLUARobT9rbE2QN/tEWBI7DRAnhidHTjEKsBIZAIHWF0XwKCSf+UZ5wTAgMUlPpUs8T9UgOUlNkkSQOTjJmDfEh1AXMFbORFiIUBKuBt9zS4hQIAeV/VA8RtA2LwImUKfEECA7qpAGBzjP5Ctck3QhgjAgAF6IyHEGMBUHQRl23YgwOLDyrX5qCHAehlQ44qFH8CkldmC6DIWwEjmkFmi+AHAED23n6k19z/QVaB60pITQAiYHzRjbABA",
          "dtype": "f8"
         },
         "y": {
          "bdata": "zCbfovNrOUCap6KuUbc5QGpYGAGU1zpA2liabI9DN0BIkROVmjcvQMQu42oK3xRASEv7DYVZGMA4vokQaFMwwIv3zdn4szfASurEsxjtOsC/lM45LG45wFiBm2FPejPAvq/ROCU5JMAAnS/pMG3wP3onFhhS+CdAdsD6VMnXNEDECeBaSgw6QAIDJQYlsDpA4wsH/KGmNkD+yoj1w0ktQHgBru4pARFAkH2wEBpCHUDMnRnjI4saQOzRmxQd5CBASCjn4tWMIUCcUe06VUQeQGRm/PsPIRRAUCj/uMXa+T+IAk6aVqsAwAxbe3wYrBXA8nb7GzE2H8DDJ8b8+6MhwPqm9sNslSDAqKw+M6s9GcCAWPVJGcgJwID39O+1fts/QJSBTcoGEEBEuBWgoIYbQBEIrzXBGSFARyx9J/lwIUAM6mIiXnMdQKD1GptoXu4/",
          "dtype": "f8"
         },
         "z": {
          "bdata": "2piQiDjpMEA+EURgetpAQGif5imJXklAyZbE+UvxUEDc3ZVeUzNVQPAkZ8NadVlABGw4KGK3XUCM2YTGtPxgQBZ97Xi4HWNAnyBWK7w+ZUAqxL7dv19nQLRnJ5DDgGlAPwuQQseha0DKrvj0ysJtQFVSYafO429A8PrkLGkCcUC0TBkG6xJyQHmeTd9sI3NAPvCBuO4zdEADQraRcER1QPNsn4C4WHZAeB0Mqvi2GkCQ24gnA543QPH7Zl0QU0RAG4oJJx/XTEAhDFb4lq1SQDVTJ12e71ZASZr4waUxW0Bd4ckmrXNfQDmUzUXa2mFAwjc2+N37Y0BN256q4RxmQNd+B13lPWhAYiJwD+leakDtxdjB7H9sQHhpQXTwoG5AgQZVE/pgcEBFWInse3FxQAqqvcX9gXJAz/vxnn+Sc0CUTSZ4AaN0QNqTvtoAtXVA",
          "dtype": "f8"
         }
        },
        {
         "color": "red",
         "i": {
          "bdata": "AAEBAgIDAwQEBQUGBgcHCAgJCQoKCwsMDA0NDg4PDxAQERESEhMTFA==",
          "dtype": "i1"
         },
         "j": {
          "bdata": "ARYCFwMYBBkFGgYbBxwIHQkeCh8LIAwhDSIOIw8kECURJhInEygUKQ==",
          "dtype": "i1"
         },
         "k": {
          "bdata": "FRUWFhcXGBgZGRoaGxscHB0dHh4fHyAgISEiIiMjJCQlJSYmJycoKA==",
          "dtype": "i1"
         },
         "name": "surface",
         "opacity": 0.6,
         "type": "mesh3d",
         "x": {
          "bdata": "nhidHTjEKsBIZAIHWF0XwKCSf+UZ5wTAgMUlPpUs8T9UgOUlNkkSQOTjJmDfEh1AXMFbORFiIUBKuBt9zS4hQIAeV/VA8RtA2LwImUKfEECA7qpAGBzjP5Ctck3QhgjAgAF6IyHEGMBUHQRl23YgwOLDyrX5qCHAehlQ44qFH8CkldmC6DIWwEjmkFmi+AHAED23n6k19z/QVaB60pITQAiYHzRjbABAEM6yKMrtAUBjvnKR0isgQDQ9aL67pxdA6GdWBA2lBUDg/6TL10Hvv8QieuWw8xHAflgQG7zZHMCiKFxUslghwFBamcBFOiHAeF0KndotHMD8NtKJ5vYQwKBuaQOqNua/IC7Xb5/LB0AAe26sqXwYQKQtdFRzZCBAz+QIIB+rIUCKziYaMLIfQDQpxRUVgBZA2GRJWf24AkAAIQERXKz1v6yf11rWYx3A",
          "dtype": "f8"
         },
         "y": {
          "bdata": "kH2wEBpCHUDMnRnjI4saQOzRmxQd5CBASCjn4tWMIUCcUe06VUQeQGRm/PsPIRRAUCj/uMXa+T+IAk6aVqsAwAxbe3wYrBXA8nb7GzE2H8DDJ8b8+6MhwPqm9sNslSDAqKw+M6s9GcCAWPVJGcgJwID39O+1fts/QJSBTcoGEEBEuBWgoIYbQBEIrzXBGSFARyx9J/lwIUAM6mIiXnMdQKD1GptoXu4/QDm9xQ950z/Ijhudn5gMwFwKsg7uSBrAxr7mrCLVIMDe1SP9m5IhwB63fFxcdx7A5K1PqqByFMAwNIfjAGL7v/CD80QK0/8/1Ou6qBFdFUBwggO95QYfQH0lpfdYoCFAMRWdk2+mIEAk5O8UBoMZQNCjmFAqgQpAgANnCMxG1b+Yp+PZilsPwKy2i1mvRxvAVIJLVtYMIcBS65CX33ghwJJa8SP5uirA",
          "dtype": "f8"
         },
         "z": {
          "bdata": "eB0Mqvi2GkCQ24gnA543QPH7Zl0QU0RAG4oJJx/XTEAhDFb4lq1SQDVTJ12e71ZASZr4waUxW0Bd4ckmrXNfQDmUzUXa2mFAwjc2+N37Y0BN256q4RxmQNd+B13lPWhAYiJwD+leakDtxdjB7H9sQHhpQXTwoG5AgQZVE/pgcEBFWInse3FxQAqqvcX9gXJAz/vxnn+Sc0CUTSZ4AaN0QNqTvtoAtXVAcx0Mqvi2GsAqugL+b+QkQGZ5RpJVejtA3MrFkjlBRkADWWhcSMVOQJZzBZOrpFNAqbrW97LmV0C+AahcuihcQGmkvOBgNWBA8kclk2RWYkB+641FaHdkQAeP9vdrmGZAkzJfqm+5aEAe1sdcc9pqQKh5MA93+2xAMR2ZwXocb0Bd4AA6v55wQCIyNRNBr3FA54Np7MK/ckCs1Z3FRNBzQO4ybhVJ33RA",
          "dtype": "f8"
         }
        },
        {
         "color": "red",
         "i": {
          "bdata": "AAEBAgIDAwQEBQUGBgcHCAgJCQoKCwsMDA0NDg4PDxAQERESEhMTFA==",
          "dtype": "i1"
         },
         "j": {
          "bdata": "ARYCFwMYBBkFGgYbBxwIHQkeCh8LIAwhDSIOIw8kECURJhInEygUKQ==",
          "dtype": "i1"
         },
         "k": {
          "bdata": "FRUWFhcXGBgZGRoaGxscHB0dHh4fHyAgISEiIiMjJCQlJSYmJycoKA==",
          "dtype": "i1"
         },
         "name": "surface",
         "opacity": 0.6,
         "type": "mesh3d",
         "x": {
          "bdata": "EM6yKMrtAUBjvnKR0isgQDQ9aL67pxdA6GdWBA2lBUDg/6TL10Hvv8QieuWw8xHAflgQG7zZHMCiKFxUslghwFBamcBFOiHAeF0KndotHMD8NtKJ5vYQwKBuaQOqNua/IC7Xb5/LB0AAe26sqXwYQKQtdFRzZCBAz+QIIB+rIUCKziYaMLIfQDQpxRUVgBZA2GRJWf24AkAAIQERXKz1v6yf11rWYx3Ax1cRkMHsM0BEjw5/IgI7QFYoIw7alThAz/gViYraMUBIXnOg4vgfQGgmlTirJQrA0SwFrwDqK8C/1FLFGzM2wOi3wUE5jTrAEZt4xRdAOsCotR/OO1k1wMrZVM0haSnAINSiOu5d/b8Io3nzV7YiQGkrLOty6DJAH7fhB2olOUBLncoaMfo6QKXRe1OgFDhAzPVGM672MEBgmw/yon4bQNjqq8CrCQfA",
          "dtype": "f8"
         },
         "y": {
          "bdata": "QDm9xQ950z/Ijhudn5gMwFwKsg7uSBrAxr7mrCLVIMDe1SP9m5IhwB63fFxcdx7A5K1PqqByFMAwNIfjAGL7v/CD80QK0/8/1Ou6qBFdFUBwggO95QYfQH0lpfdYoCFAMRWdk2+mIEAk5O8UBoMZQNCjmFAqgQpAgANnCMxG1b+Yp+PZilsPwKy2i1mvRxvAVIJLVtYMIcBS65CX33ghwJJa8SP5uirAKH/l7x2vHkAApfVjb5vBv67Qdw0CXSbA+6d4SyBENMA+Nzgdgcw5wL6eaVtpzzrAPuoCGHkfN8ACQqGtPMQuwOS0/glcyhPAkFT6o6hrGUDm8JNvS4swQGwB80Jr1TdAdyKIjD3yOkCH54+5HFY5QEACwQNDSTNAjtlU4kO2I0CA3A6vANP0v4ztuvk6dijA8taCvkwENcAA0mCjjx46wJDmvpBj/j/A",
          "dtype": "f8"
         },
         "z": {
          "bdata": "cx0Mqvi2GsAqugL+b+QkQGZ5RpJVejtA3MrFkjlBRkADWWhcSMVOQJZzBZOrpFNAqbrW97LmV0C+AahcuihcQGmkvOBgNWBA8kclk2RWYkB+641FaHdkQAeP9vdrmGZAkzJfqm+5aEAe1sdcc9pqQKh5MA93+2xAMR2ZwXocb0Bd4AA6v55wQCIyNRNBr3FA54Np7MK/ckCs1Z3FRNBzQO4ybhVJ33RA2JiQiDjpMMCAioWAmdHWP3syR/ljYzFAZidGxsA1QUCMteiPz7lJQNqhxSzvHlFA7uiWkfZgVUADMGj2/aJZQBh3OVsF5V1AFV8FYIYTYUCgAm4SijRjQCqm1sSNVWVAtUk/d5F2Z0BB7acplZdpQMuQENyYuGtAUzR5jpzZbUDc1+FAoPpvQLM9pfnRDXFAeI/Z0lMeckA94Q2s1S5zQNVZjW+RO3RA",
          "dtype": "f8"
         }
        },
        {
         "color": "red",
         "i": {
          "bdata": "AAEBAgIDAwQEBQUGBgcHCAgJCQoKCwsMDA0NDg4PDxAQERESEhMTFA==",
          "dtype": "i1"
         },
         "j": {
          "bdata": "ARYCFwMYBBkFGgYbBxwIHQkeCh8LIAwhDSIOIw8kECURJhInEygUKQ==",
          "dtype": "i1"
         },
         "k": {
          "bdata": "FRUWFhcXGBgZGRoaGxscHB0dHh4fHyAgISEiIiMjJCQlJSYmJycoKA==",
          "dtype": "i1"
         },
         "name": "surface",
         "opacity": 0.6,
         "type": "mesh3d",
         "x": {
          "bdata": "x1cRkMHsM0BEjw5/IgI7QFYoIw7alThAz/gViYraMUBIXnOg4vgfQGgmlTirJQrA0SwFrwDqK8C/1FLFGzM2wOi3wUE5jTrAEZt4xRdAOsCotR/OO1k1wMrZVM0haSnAINSiOu5d/b8Io3nzV7YiQGkrLOty6DJAH7fhB2olOUBLncoaMfo6QKXRe1OgFDhAzPVGM672MEBgmw/yon4bQNjqq8CrCQfAELPFIr1kP0Dqie2QVQlFQIBGrzUlVUZAoROp1v+2Q0DQyPZnr0g7QOAWDVKLtiRAE/VIA5TFIMDUCy5/nag5wCyq10qhN0PANtd7hsM8RsAkquugNlxFwBtpABtVvUDAzq5PWtpeMsAARAT236+lvxCRaPkQSzJAwwPBhx+2QEAe/QWd81hFQCJQFWkFPkZA2xV9qi89Q0Bj8laqYLo5QGHglahAuypA",
          "dtype": "f8"
         },
         "y": {
          "bdata": "KH/l7x2vHkAApfVjb5vBv67Qdw0CXSbA+6d4SyBENMA+Nzgdgcw5wL6eaVtpzzrAPuoCGHkfN8ACQqGtPMQuwOS0/glcyhPAkFT6o6hrGUDm8JNvS4swQGwB80Jr1TdAdyKIjD3yOkCH54+5HFY5QEACwQNDSTNAjtlU4kO2I0CA3A6vANP0v4ztuvk6dijA8taCvkwENcAA0mCjjx46wJDmvpBj/j/ANC8zt8L3OUCpyRkUW60uQDjrLgz30wnA+NFzY9I6NcBxat+xVcFBwFC7P7qqyEXAQmy2V6n+RcBPnoUP21lCwAuO2Nh0+zbAHCE05WPwFMCiwj1bPdwqQAFbD0/KvT1AA/zuwo1rREAaGrH9DmRGQEMxDR/+b0RAzp5zcf3NPUCPEhrYmgUrQPAO1jI6mhTA+//5K9XoNsBIgVxgolNCwPLblsoqHEfA",
          "dtype": "f8"
         },
         "z": {
          "bdata": "2JiQiDjpMMCAioWAmdHWP3syR/ljYzFAZidGxsA1QUCMteiPz7lJQNqhxSzvHlFA7uiWkfZgVUADMGj2/aJZQBh3OVsF5V1AFV8FYIYTYUCgAm4SijRjQCqm1sSNVWVAtUk/d5F2Z0BB7acplZdpQMuQENyYuGtAUzR5jpzZbUDc1+FAoPpvQLM9pfnRDXFAeI/Z0lMeckA94Q2s1S5zQNVZjW+RO3RAtatAHwI7M8Cg7RFuseP+v/D6x/jEMy5A5IzUBwARQEALG3fRDpVIQJrUjM2OjFBArRteMpbOVEDCYi+XnRBZQNepAPykUl1AdfhoMFbKYEAAnNHiWetiQIo/OpVdDGVAFeOiR2EtZ0Cghgv6ZE5pQCoqdKxob2tAss3cXmyQbUA8cUURcLFvQGMK1+E56XBAKFwLu7v5cUDtrT+UPQpzQKdYItZ0FnRA",
          "dtype": "f8"
         }
        },
        {
         "color": "red",
         "i": {
          "bdata": "AAEBAgIDAwQEBQUGBgcHCAgJCQoKCwsMDA0NDg4PDxAQERESEhMTFA==",
          "dtype": "i1"
         },
         "j": {
          "bdata": "ARYCFwMYBBkFGgYbBxwIHQkeCh8LIAwhDSIOIw8kECURJhInEygUKQ==",
          "dtype": "i1"
         },
         "k": {
          "bdata": "FRUWFhcXGBgZGRoaGxscHB0dHh4fHyAgISEiIiMjJCQlJSYmJycoKA==",
          "dtype": "i1"
         },
         "name": "surface",
         "opacity": 0.6,
         "type": "mesh3d",
         "x": {
          "bdata": "ELPFIr1kP0Dqie2QVQlFQIBGrzUlVUZAoROp1v+2Q0DQyPZnr0g7QOAWDVKLtiRAE/VIA5TFIMDUCy5/nag5wCyq10qhN0PANtd7hsM8RsAkquugNlxFwBtpABtVvUDAzq5PWtpeMsAARAT236+lvxCRaPkQSzJAwwPBhx+2QEAe/QWd81hFQCJQFWkFPkZA2xV9qi89Q0Bj8laqYLo5QGHglahAuypAVRmvlORHP0CxCzatfx1HQGpDZKX9YExAmJVhKkKrTEB0GjUzSe9HQOVV9lb0Aj5A9Q0/L3OTG0BIXVqzh24xwCaVxOPrWUPApqh/IGGYSsDxbUHjoi1NwOuur7vNpUrAvQAI0mpyQ8BxV5cwFK0xwDe9MsffjhpAr/vh0qHKPUDEGx6ReNxHQLjlkksWpUxAyA4ba4toTECOx1AwdDFHQDM291vK5EBA",
          "dtype": "f8"
         },
         "y": {
          "bdata": "NC8zt8L3OUCpyRkUW60uQDjrLgz30wnA+NFzY9I6NcBxat+xVcFBwFC7P7qqyEXAQmy2V6n+RcBPnoUP21lCwAuO2Nh0+zbAHCE05WPwFMCiwj1bPdwqQAFbD0/KvT1AA/zuwo1rREAaGrH9DmRGQEMxDR/+b0RAzp5zcf3NPUCPEhrYmgUrQPAO1jI6mhTA+//5K9XoNsBIgVxgolNCwPLblsoqHEfADNm0ChNRR0CsFdOFZM5BQLGPT1E+IitAjt2aO3K2JcD5ts11P7BAwNrYXv8mBknAaEsHEVn5TMBC2D4mnthLwOIxcDCQ1kXALAPMsngBOMDASwYXh2XAvxlNfdyhxTdAkOfZwcLARUAszm3gwM5LQK6J6YQm/UxAW/XHkvQWSUCDeJJJG8tAQKp/9XVGNyZAeJQJHZmiKsD2Kc+vXrRBwAwFqqabsUjA",
          "dtype": "f8"
         },
         "z": {
          "bdata": "tatAHwI7M8Cg7RFuseP+v/D6x/jEMy5A5IzUBwARQEALG3fRDpVIQJrUjM2OjFBArRteMpbOVEDCYi+XnRBZQNepAPykUl1AdfhoMFbKYEAAnNHiWetiQIo/OpVdDGVAFeOiR2EtZ0Cghgv6ZE5pQCoqdKxob2tAss3cXmyQbUA8cUURcLFvQGMK1+E56XBAKFwLu7v5cUDtrT+UPQpzQKdYItZ0FnRAskh76YcaKcCOgYr1qZ4SQLS8pxDIrzVAg2z20fJbQ0Cq+pibAeBLQGnEnTIIMlJAfQtvlw90VkCRUkD8FrZaQKaZEWEe+F5AXHDx4hKdYUDoE1qVFr5jQHG3wkca32VA/For+h0AaECI/pOsISFqQBKi/F4lQmxAmkVlESljbkCS9OZhFkJwQFdGGzuYUnFAHJhPFBpjckDh6YPtm3NzQB6JyrhQgXRA",
          "dtype": "f8"
         }
        },
        {
         "color": "red",
         "i": {
          "bdata": "AAEBAgIDAwQEBQUGBgcHCAgJCQoKCwsMDA0NDg4PDxAQERESEhMTFA==",
          "dtype": "i1"
         },
         "j": {
          "bdata": "ARYCFwMYBBkFGgYbBxwIHQkeCh8LIAwhDSIOIw8kECURJhInEygUKQ==",
          "dtype": "i1"
         },
         "k": {
          "bdata": "FRUWFhcXGBgZGRoaGxscHB0dHh4fHyAgISEiIiMjJCQlJSYmJycoKA==",
          "dtype": "i1"
         },
         "name": "surface",
         "opacity": 0.6,
         "type": "mesh3d",
         "x": {
          "bdata": "VRmvlORHP0CxCzatfx1HQGpDZKX9YExAmJVhKkKrTEB0GjUzSe9HQOVV9lb0Aj5A9Q0/L3OTG0BIXVqzh24xwCaVxOPrWUPApqh/IGGYSsDxbUHjoi1NwOuur7vNpUrAvQAI0mpyQ8BxV5cwFK0xwDe9MsffjhpAr/vh0qHKPUDEGx6ReNxHQLjlkksWpUxAyA4ba4toTECOx1AwdDFHQDM291vK5EBATp6JNrejM0CaWw8gjsRCQD50HEo1mktAWAGPbnmZT0Bj6Ad8BQ9OQPKdoKr6P0dANdJi7KW7OEA0/O3pBOX1v2Jfb6LhOjvAuUcQZuIoSMB2I7K/ZXhOwGgBRoLacE/AaE/mo7XmSsCuEAb/oqVBwPm9rUBOMyXA5gKWxRjnL0Bwsi5Ki9pDQMTmYeaSQExAzs6BdA+zT0AaPmP/V5dNQDgOWO83akhA",
          "dtype": "f8"
         },
         "y": {
          "bdata": "DNm0ChNRR0CsFdOFZM5BQLGPT1E+IitAjt2aO3K2JcD5ts11P7BAwNrYXv8mBknAaEsHEVn5TMBC2D4mnthLwOIxcDCQ1kXALAPMsngBOMDASwYXh2XAvxlNfdyhxTdAkOfZwcLARUAszm3gwM5LQK6J6YQm/UxAW/XHkvQWSUCDeJJJG8tAQKp/9XVGNyZAeJQJHZmiKsD2Kc+vXrRBwAwFqqabsUjAhqq3ksH/TUAa24utTJlJQMcvKWCCWD9AyPhc6VcAGECE6/1Bi2U0wHYtf18JnEXANqAwDMk7TcBuWokB97tPwEEHE3NhrEzAvqpjD1yWRMASMgqZXckxwPyLCmb5byFApCcmMhbZQECNrGBvSmJKQA2jleXFS09AsBoFWye5TkB8iFbrIMRIQJJgmF7u7zxAuJlNNKMqCkBcp76NBPg2wLbJdYfOAUTA",
          "dtype": "f8"
         },
         "z": {
          "bdata": "skh76YcaKcCOgYr1qZ4SQLS8pxDIrzVAg2z20fJbQ0Cq+pibAeBLQGnEnTIIMlJAfQtvlw90VkCRUkD8FrZaQKaZEWEe+F5AXHDx4hKdYUDoE1qVFr5jQHG3wkca32VA/For+h0AaECI/pOsISFqQBKi/F4lQmxAmkVlESljbkCS9OZhFkJwQFdGGzuYUnFAHJhPFBpjckDh6YPtm3NzQB6JyrhQgXRAyzKvJiqK9bxRHEWTHQgxQFEcRZMdCEFAeqrnXCyMSUBRHEWTHQhRQGVjFvgkSlVAearnXCyMWUCN8bjBM85dQFEcRZMdCGFA2r+tRSEpY0BlYxb4JEplQO8Gf6ooa2dAeqrnXCyMaUAFTlAPMK1rQJDxuMEzzm1AGZUhdDfvb0BRHEWTHQhxQBZueWyfGHJA27+tRSEpc0CgEeIeozl0QGRjFvgkSnVA",
          "dtype": "f8"
         }
        },
        {
         "line": {
          "color": "red"
         },
         "mode": "lines",
         "type": "scatter3d",
         "x": {
          "bdata": "TZ6JNrejM0CaWw8gjsRCQD50HEo1mktAWAGPbnmZT0Bk6Ad8BQ9OQPKdoKr6P0dANtJi7KW7OEAY/O3pBOX1v2Bfb6LhOjvAuEcQZuIoSMB2I7K/ZXhOwGgBRoLacE/AaE/mo7XmSsCuEAb/oqVBwPy9rUBOMyXA4gKWxRjnL0Bvsi5Ki9pDQMTmYeaSQExAzs6BdA+zT0AbPmP/V5dNQDgOWO83akhA",
          "dtype": "f8"
         },
         "y": {
          "bdata": "hqq3ksH/TUAa24utTJlJQMgvKWCCWD9Azvhc6VcAGECD6/1Bi2U0wHUtf18JnEXANqAwDMk7TcBuWokB97tPwEIHE3NhrEzAv6pjD1yWRMAUMgqZXckxwPqLCmb5byFAoycmMhbZQECMrGBvSmJKQA2jleXFS09AsBoFWye5TkB8iFbrIMRIQJRgmF7u7zxAxplNNKMqCkBap76NBPg2wLbJdYfOAUTA",
          "dtype": "f8"
         },
         "z": {
          "bdata": "AAAAAAAAAABSHEWTHQgxQFIcRZMdCEFAe6rnXCyMSUBRHEWTHQhRQGVjFvgkSlVAearnXCyMWUCN8bjBM85dQFEcRZMdCGFA2r+tRSEpY0BlYxb4JEplQO8Gf6ooa2dAeqrnXCyMaUAFTlAPMK1rQJDxuMEzzm1AGZUhdDfvb0BRHEWTHQhxQBZueWyfGHJA27+tRSEpc0CgEeIeozl0QGRjFvgkSnVA",
          "dtype": "f8"
         }
        },
        {
         "line": {
          "color": "red"
         },
         "mode": "lines",
         "type": "scatter3d",
         "x": {
          "bdata": "bNtUqKSq/j/8/iBChg40QB2vG17PXURADSYK2JwiS0ATihn6/CVNQOIA8VOdDUpAdoQP61tkQkAkFkiswwcuQKUjbJs5xSLAx1WH2AQSQMC41j/nuqFIwCDEgPVU4EzAoAMLYWQPTMDcUxBLh1NGwKEmhXf7WznAsM5uk4Hy+b8ZRKpdbWY2QNj6/zqDP0VA0w180YKSS0Ak/v+3eBBNQOHU7gUruklA",
          "dtype": "f8"
         },
         "y": {
          "bdata": "hEZ0hHrnTUAekw/UnmZLQCXK3tgC5URA5Cx5jexzNUAmzUb9RyUFwPLQLgqoRjrAvgsDEOOmRsCSCwy8KTJMwDonPuVrzEzAUOKgtKBaSMBbo4ASX0g/wOKCbrH2vyDABU1dmyYAMECmWGDqNMlCQNqSjmKAR0pAX6+t+8QqTUDN2kRJc/FKQED23uxR/0NA/lFJPAIYM0BHL+v4E50UwGgZqtNTfDbA",
          "dtype": "f8"
         },
         "z": {
          "bdata": "rkh76YcaKUA/mCepkGg9QElaNh5XOEdAcujY52W8T0BNu71YOiBUQGACj71BYlhAdUlgIkmkXEBEyJhDKHNgQM9rAfYrlGJAVw9qqC+1ZEDistJaM9ZmQGxWOw0392hA9/mjvzoYa0CCnQxyPjltQA5BdSRCWm9ATPJu66K9cEAQRKPEJM5xQNWV152m3nJAmucLdyjvc0BfOUBQqv90QKo9Yjf5EnZA",
          "dtype": "f8"
         }
        },
        {
         "line": {
          "color": "red"
         },
         "mode": "lines",
         "type": "scatter3d",
         "x": {
          "bdata": "Ov2R9qQwK8DgMmDxK4//P8hig7AbHTRAxGv9XW5dQUAQGMueOaFFQHw8rQWYGkZA2WAOVkS0QkD6TAzziw04QJjjGAeu7RlANoQEXw5zKMCkQFrlAso8wG8Dm7FuJ0TAXY2X16RhRsDo/5A5ta9EwJ+9CPVYuz7AsrPeSvpoLcAgbs9x6jAPQG5jYSDL0TVAgjhHiET1QUCKw7YM8ttFQD0EutJxN0RA",
          "dtype": "f8"
         },
         "y": {
          "bdata": "Uprj95kTR0CB3HeJf15GQEwtxdpYAURAOL25j09FPEB+/QGrGycnQAA6SadRlhzAM3tAJxKeOMAneNsHDONCwOBD8YKxJ0bANTF4MFmKRcD41CtiliZBwMMZ88O1gjPAYP1rkV/O9L8QpcxgQSMxQCGaiMNCSUBA+olgAzYmRUBw2Fl3S05GQFENpEGfjUNAjHO4XWG/OkBoaxfq9WYjQAAJyRIJBBTA",
          "dtype": "f8"
         },
         "z": {
          "bdata": "tKtAHwI7M0C+q7UeO/9BQOg5WOhJg0pACWT9WKyDUUAcq869s8VVQDDynyK7B1pARTlxh8JJXkAsQCH25EVhQLfjiajoZmNAP4fyWuyHZUDKKlsN8KhnQFTOw7/zyWlA33Escvfqa0BqFZUk+wtuQHvcfmt/FnBAQC6zRAEncUAEgOcdgzdyQMnRG/cESHNAjiNQ0IZYdEBTdYSpCGl1QCBuChrVfXZA",
          "dtype": "f8"
         }
        },
        {
         "line": {
          "color": "red"
         },
         "mode": "lines",
         "type": "scatter3d",
         "x": {
          "bdata": "nYEeaC2jM8B2meO5xoIgwLBAT0QK9gdAbKgplgpxK0CylHZFswo2QBivwzr4fzpARDNI3FBQOkDkj3UpF4Q1QIDxQnwX5SlAAP6nzuPgAEBeW5sB9jEiwHVAej/otTLAX2rNOWELOcCsaE40Ov06wO9D1yMzNDjAVqQ1LUItMcD0pKDgtI4cwPRn43LbmBBAjk9G6+RrLUARobT9rbE2QN/tEWBI7DRA",
          "dtype": "f8"
         },
         "y": {
          "bdata": "zCbfovNrOUCap6KuUbc5QGpYGAGU1zpA2liabI9DN0BIkROVmjcvQMQu42oK3xRASEv7DYVZGMA4vokQaFMwwIv3zdn4szfASurEsxjtOsC/lM45LG45wFiBm2FPejPAvq/ROCU5JMAAnS/pMG3wP3onFhhS+CdAdsD6VMnXNEDECeBaSgw6QAIDJQYlsDpA4wsH/KGmNkD+yoj1w0ktQHgBru4pARFA",
          "dtype": "f8"
         },
         "z": {
          "bdata": "2piQiDjpMEA+EURgetpAQGif5imJXklAyZbE+UvxUEDc3ZVeUzNVQPAkZ8NadVlABGw4KGK3XUCM2YTGtPxgQBZ97Xi4HWNAnyBWK7w+ZUAqxL7dv19nQLRnJ5DDgGlAPwuQQseha0DKrvj0ysJtQFVSYafO429A8PrkLGkCcUC0TBkG6xJyQHmeTd9sI3NAPvCBuO4zdEADQraRcER1QPNsn4C4WHZA",
          "dtype": "f8"
         }
        },
        {
         "line": {
          "color": "red"
         },
         "mode": "lines",
         "type": "scatter3d",
         "x": {
          "bdata": "nhidHTjEKsBIZAIHWF0XwKCSf+UZ5wTAgMUlPpUs8T9UgOUlNkkSQOTjJmDfEh1AXMFbORFiIUBKuBt9zS4hQIAeV/VA8RtA2LwImUKfEECA7qpAGBzjP5Ctck3QhgjAgAF6IyHEGMBUHQRl23YgwOLDyrX5qCHAehlQ44qFH8CkldmC6DIWwEjmkFmi+AHAED23n6k19z/QVaB60pITQAiYHzRjbABA",
          "dtype": "f8"
         },
         "y": {
          "bdata": "kH2wEBpCHUDMnRnjI4saQOzRmxQd5CBASCjn4tWMIUCcUe06VUQeQGRm/PsPIRRAUCj/uMXa+T+IAk6aVqsAwAxbe3wYrBXA8nb7GzE2H8DDJ8b8+6MhwPqm9sNslSDAqKw+M6s9GcCAWPVJGcgJwID39O+1fts/QJSBTcoGEEBEuBWgoIYbQBEIrzXBGSFARyx9J/lwIUAM6mIiXnMdQKD1GptoXu4/",
          "dtype": "f8"
         },
         "z": {
          "bdata": "eB0Mqvi2GkCQ24gnA543QPH7Zl0QU0RAG4oJJx/XTEAhDFb4lq1SQDVTJ12e71ZASZr4waUxW0Bd4ckmrXNfQDmUzUXa2mFAwjc2+N37Y0BN256q4RxmQNd+B13lPWhAYiJwD+leakDtxdjB7H9sQHhpQXTwoG5AgQZVE/pgcEBFWInse3FxQAqqvcX9gXJAz/vxnn+Sc0CUTSZ4AaN0QNqTvtoAtXVA",
          "dtype": "f8"
         }
        },
        {
         "line": {
          "color": "red"
         },
         "mode": "lines",
         "type": "scatter3d",
         "x": {
          "bdata": "EM6yKMrtAUBjvnKR0isgQDQ9aL67pxdA6GdWBA2lBUDg/6TL10Hvv8QieuWw8xHAflgQG7zZHMCiKFxUslghwFBamcBFOiHAeF0KndotHMD8NtKJ5vYQwKBuaQOqNua/IC7Xb5/LB0AAe26sqXwYQKQtdFRzZCBAz+QIIB+rIUCKziYaMLIfQDQpxRUVgBZA2GRJWf24AkAAIQERXKz1v6yf11rWYx3A",
          "dtype": "f8"
         },
         "y": {
          "bdata": "QDm9xQ950z/Ijhudn5gMwFwKsg7uSBrAxr7mrCLVIMDe1SP9m5IhwB63fFxcdx7A5K1PqqByFMAwNIfjAGL7v/CD80QK0/8/1Ou6qBFdFUBwggO95QYfQH0lpfdYoCFAMRWdk2+mIEAk5O8UBoMZQNCjmFAqgQpAgANnCMxG1b+Yp+PZilsPwKy2i1mvRxvAVIJLVtYMIcBS65CX33ghwJJa8SP5uirA",
          "dtype": "f8"
         },
         "z": {
          "bdata": "cx0Mqvi2GsAqugL+b+QkQGZ5RpJVejtA3MrFkjlBRkADWWhcSMVOQJZzBZOrpFNAqbrW97LmV0C+AahcuihcQGmkvOBgNWBA8kclk2RWYkB+641FaHdkQAeP9vdrmGZAkzJfqm+5aEAe1sdcc9pqQKh5MA93+2xAMR2ZwXocb0Bd4AA6v55wQCIyNRNBr3FA54Np7MK/ckCs1Z3FRNBzQO4ybhVJ33RA",
          "dtype": "f8"
         }
        },
        {
         "line": {
          "color": "red"
         },
         "mode": "lines",
         "type": "scatter3d",
         "x": {
          "bdata": "x1cRkMHsM0BEjw5/IgI7QFYoIw7alThAz/gViYraMUBIXnOg4vgfQGgmlTirJQrA0SwFrwDqK8C/1FLFGzM2wOi3wUE5jTrAEZt4xRdAOsCotR/OO1k1wMrZVM0haSnAINSiOu5d/b8Io3nzV7YiQGkrLOty6DJAH7fhB2olOUBLncoaMfo6QKXRe1OgFDhAzPVGM672MEBgmw/yon4bQNjqq8CrCQfA",
          "dtype": "f8"
         },
         "y": {
          "bdata": "KH/l7x2vHkAApfVjb5vBv67Qdw0CXSbA+6d4SyBENMA+Nzgdgcw5wL6eaVtpzzrAPuoCGHkfN8ACQqGtPMQuwOS0/glcyhPAkFT6o6hrGUDm8JNvS4swQGwB80Jr1TdAdyKIjD3yOkCH54+5HFY5QEACwQNDSTNAjtlU4kO2I0CA3A6vANP0v4ztuvk6dijA8taCvkwENcAA0mCjjx46wJDmvpBj/j/A",
          "dtype": "f8"
         },
         "z": {
          "bdata": "2JiQiDjpMMCAioWAmdHWP3syR/ljYzFAZidGxsA1QUCMteiPz7lJQNqhxSzvHlFA7uiWkfZgVUADMGj2/aJZQBh3OVsF5V1AFV8FYIYTYUCgAm4SijRjQCqm1sSNVWVAtUk/d5F2Z0BB7acplZdpQMuQENyYuGtAUzR5jpzZbUDc1+FAoPpvQLM9pfnRDXFAeI/Z0lMeckA94Q2s1S5zQNVZjW+RO3RA",
          "dtype": "f8"
         }
        },
        {
         "line": {
          "color": "red"
         },
         "mode": "lines",
         "type": "scatter3d",
         "x": {
          "bdata": "ELPFIr1kP0Dqie2QVQlFQIBGrzUlVUZAoROp1v+2Q0DQyPZnr0g7QOAWDVKLtiRAE/VIA5TFIMDUCy5/nag5wCyq10qhN0PANtd7hsM8RsAkquugNlxFwBtpABtVvUDAzq5PWtpeMsAARAT236+lvxCRaPkQSzJAwwPBhx+2QEAe/QWd81hFQCJQFWkFPkZA2xV9qi89Q0Bj8laqYLo5QGHglahAuypA",
          "dtype": "f8"
         },
         "y": {
          "bdata": "NC8zt8L3OUCpyRkUW60uQDjrLgz30wnA+NFzY9I6NcBxat+xVcFBwFC7P7qqyEXAQmy2V6n+RcBPnoUP21lCwAuO2Nh0+zbAHCE05WPwFMCiwj1bPdwqQAFbD0/KvT1AA/zuwo1rREAaGrH9DmRGQEMxDR/+b0RAzp5zcf3NPUCPEhrYmgUrQPAO1jI6mhTA+//5K9XoNsBIgVxgolNCwPLblsoqHEfA",
          "dtype": "f8"
         },
         "z": {
          "bdata": "tatAHwI7M8Cg7RFuseP+v/D6x/jEMy5A5IzUBwARQEALG3fRDpVIQJrUjM2OjFBArRteMpbOVEDCYi+XnRBZQNepAPykUl1AdfhoMFbKYEAAnNHiWetiQIo/OpVdDGVAFeOiR2EtZ0Cghgv6ZE5pQCoqdKxob2tAss3cXmyQbUA8cUURcLFvQGMK1+E56XBAKFwLu7v5cUDtrT+UPQpzQKdYItZ0FnRA",
          "dtype": "f8"
         }
        },
        {
         "line": {
          "color": "red"
         },
         "mode": "lines",
         "type": "scatter3d",
         "x": {
          "bdata": "VRmvlORHP0CxCzatfx1HQGpDZKX9YExAmJVhKkKrTEB0GjUzSe9HQOVV9lb0Aj5A9Q0/L3OTG0BIXVqzh24xwCaVxOPrWUPApqh/IGGYSsDxbUHjoi1NwOuur7vNpUrAvQAI0mpyQ8BxV5cwFK0xwDe9MsffjhpAr/vh0qHKPUDEGx6ReNxHQLjlkksWpUxAyA4ba4toTECOx1AwdDFHQDM291vK5EBA",
          "dtype": "f8"
         },
         "y": {
          "bdata": "DNm0ChNRR0CsFdOFZM5BQLGPT1E+IitAjt2aO3K2JcD5ts11P7BAwNrYXv8mBknAaEsHEVn5TMBC2D4mnthLwOIxcDCQ1kXALAPMsngBOMDASwYXh2XAvxlNfdyhxTdAkOfZwcLARUAszm3gwM5LQK6J6YQm/UxAW/XHkvQWSUCDeJJJG8tAQKp/9XVGNyZAeJQJHZmiKsD2Kc+vXrRBwAwFqqabsUjA",
          "dtype": "f8"
         },
         "z": {
          "bdata": "skh76YcaKcCOgYr1qZ4SQLS8pxDIrzVAg2z20fJbQ0Cq+pibAeBLQGnEnTIIMlJAfQtvlw90VkCRUkD8FrZaQKaZEWEe+F5AXHDx4hKdYUDoE1qVFr5jQHG3wkca32VA/For+h0AaECI/pOsISFqQBKi/F4lQmxAmkVlESljbkCS9OZhFkJwQFdGGzuYUnFAHJhPFBpjckDh6YPtm3NzQB6JyrhQgXRA",
          "dtype": "f8"
         }
        },
        {
         "line": {
          "color": "red"
         },
         "mode": "lines",
         "type": "scatter3d",
         "x": {
          "bdata": "Tp6JNrejM0CaWw8gjsRCQD50HEo1mktAWAGPbnmZT0Bj6Ad8BQ9OQPKdoKr6P0dANdJi7KW7OEA0/O3pBOX1v2Jfb6LhOjvAuUcQZuIoSMB2I7K/ZXhOwGgBRoLacE/AaE/mo7XmSsCuEAb/oqVBwPm9rUBOMyXA5gKWxRjnL0Bwsi5Ki9pDQMTmYeaSQExAzs6BdA+zT0AaPmP/V5dNQDgOWO83akhA",
          "dtype": "f8"
         },
         "y": {
          "bdata": "hqq3ksH/TUAa24utTJlJQMcvKWCCWD9AyPhc6VcAGECE6/1Bi2U0wHYtf18JnEXANqAwDMk7TcBuWokB97tPwEEHE3NhrEzAvqpjD1yWRMASMgqZXckxwPyLCmb5byFApCcmMhbZQECNrGBvSmJKQA2jleXFS09AsBoFWye5TkB8iFbrIMRIQJJgmF7u7zxAuJlNNKMqCkBcp76NBPg2wLbJdYfOAUTA",
          "dtype": "f8"
         },
         "z": {
          "bdata": "yzKvJiqK9bxRHEWTHQgxQFEcRZMdCEFAeqrnXCyMSUBRHEWTHQhRQGVjFvgkSlVAearnXCyMWUCN8bjBM85dQFEcRZMdCGFA2r+tRSEpY0BlYxb4JEplQO8Gf6ooa2dAeqrnXCyMaUAFTlAPMK1rQJDxuMEzzm1AGZUhdDfvb0BRHEWTHQhxQBZueWyfGHJA27+tRSEpc0CgEeIeozl0QGRjFvgkSnVA",
          "dtype": "f8"
         }
        }
       ],
       "layout": {
        "dragmode": "turntable",
        "scene": {
         "aspectmode": "data",
         "camera": {
          "eye": {
           "x": 0,
           "y": 1.8,
           "z": 1.2
          }
         }
        },
        "template": {
         "data": {
          "bar": [
           {
            "error_x": {
             "color": "#2a3f5f"
            },
            "error_y": {
             "color": "#2a3f5f"
            },
            "marker": {
             "line": {
              "color": "#E5ECF6",
              "width": 0.5
             },
             "pattern": {
              "fillmode": "overlay",
              "size": 10,
              "solidity": 0.2
             }
            },
            "type": "bar"
           }
          ],
          "barpolar": [
           {
            "marker": {
             "line": {
              "color": "#E5ECF6",
              "width": 0.5
             },
             "pattern": {
              "fillmode": "overlay",
              "size": 10,
              "solidity": 0.2
             }
            },
            "type": "barpolar"
           }
          ],
          "carpet": [
           {
            "aaxis": {
             "endlinecolor": "#2a3f5f",
             "gridcolor": "white",
             "linecolor": "white",
             "minorgridcolor": "white",
             "startlinecolor": "#2a3f5f"
            },
            "baxis": {
             "endlinecolor": "#2a3f5f",
             "gridcolor": "white",
             "linecolor": "white",
             "minorgridcolor": "white",
             "startlinecolor": "#2a3f5f"
            },
            "type": "carpet"
           }
          ],
          "choropleth": [
           {
            "colorbar": {
             "outlinewidth": 0,
             "ticks": ""
            },
            "type": "choropleth"
           }
          ],
          "contour": [
           {
            "colorbar": {
             "outlinewidth": 0,
             "ticks": ""
            },
            "colorscale": [
             [
              0,
              "#0d0887"
             ],
             [
              0.1111111111111111,
              "#46039f"
             ],
             [
              0.2222222222222222,
              "#7201a8"
             ],
             [
              0.3333333333333333,
              "#9c179e"
             ],
             [
              0.4444444444444444,
              "#bd3786"
             ],
             [
              0.5555555555555556,
              "#d8576b"
             ],
             [
              0.6666666666666666,
              "#ed7953"
             ],
             [
              0.7777777777777778,
              "#fb9f3a"
             ],
             [
              0.8888888888888888,
              "#fdca26"
             ],
             [
              1,
              "#f0f921"
             ]
            ],
            "type": "contour"
           }
          ],
          "contourcarpet": [
           {
            "colorbar": {
             "outlinewidth": 0,
             "ticks": ""
            },
            "type": "contourcarpet"
           }
          ],
          "heatmap": [
           {
            "colorbar": {
             "outlinewidth": 0,
             "ticks": ""
            },
            "colorscale": [
             [
              0,
              "#0d0887"
             ],
             [
              0.1111111111111111,
              "#46039f"
             ],
             [
              0.2222222222222222,
              "#7201a8"
             ],
             [
              0.3333333333333333,
              "#9c179e"
             ],
             [
              0.4444444444444444,
              "#bd3786"
             ],
             [
              0.5555555555555556,
              "#d8576b"
             ],
             [
              0.6666666666666666,
              "#ed7953"
             ],
             [
              0.7777777777777778,
              "#fb9f3a"
             ],
             [
              0.8888888888888888,
              "#fdca26"
             ],
             [
              1,
              "#f0f921"
             ]
            ],
            "type": "heatmap"
           }
          ],
          "histogram": [
           {
            "marker": {
             "pattern": {
              "fillmode": "overlay",
              "size": 10,
              "solidity": 0.2
             }
            },
            "type": "histogram"
           }
          ],
          "histogram2d": [
           {
            "colorbar": {
             "outlinewidth": 0,
             "ticks": ""
            },
            "colorscale": [
             [
              0,
              "#0d0887"
             ],
             [
              0.1111111111111111,
              "#46039f"
             ],
             [
              0.2222222222222222,
              "#7201a8"
             ],
             [
              0.3333333333333333,
              "#9c179e"
             ],
             [
              0.4444444444444444,
              "#bd3786"
             ],
             [
              0.5555555555555556,
              "#d8576b"
             ],
             [
              0.6666666666666666,
              "#ed7953"
             ],
             [
              0.7777777777777778,
              "#fb9f3a"
             ],
             [
              0.8888888888888888,
              "#fdca26"
             ],
             [
              1,
              "#f0f921"
             ]
            ],
            "type": "histogram2d"
           }
          ],
          "histogram2dcontour": [
           {
            "colorbar": {
             "outlinewidth": 0,
             "ticks": ""
            },
            "colorscale": [
             [
              0,
              "#0d0887"
             ],
             [
              0.1111111111111111,
              "#46039f"
             ],
             [
              0.2222222222222222,
              "#7201a8"
             ],
             [
              0.3333333333333333,
              "#9c179e"
             ],
             [
              0.4444444444444444,
              "#bd3786"
             ],
             [
              0.5555555555555556,
              "#d8576b"
             ],
             [
              0.6666666666666666,
              "#ed7953"
             ],
             [
              0.7777777777777778,
              "#fb9f3a"
             ],
             [
              0.8888888888888888,
              "#fdca26"
             ],
             [
              1,
              "#f0f921"
             ]
            ],
            "type": "histogram2dcontour"
           }
          ],
          "mesh3d": [
           {
            "colorbar": {
             "outlinewidth": 0,
             "ticks": ""
            },
            "type": "mesh3d"
           }
          ],
          "parcoords": [
           {
            "line": {
             "colorbar": {
              "outlinewidth": 0,
              "ticks": ""
             }
            },
            "type": "parcoords"
           }
          ],
          "pie": [
           {
            "automargin": true,
            "type": "pie"
           }
          ],
          "scatter": [
           {
            "fillpattern": {
             "fillmode": "overlay",
             "size": 10,
             "solidity": 0.2
            },
            "type": "scatter"
           }
          ],
          "scatter3d": [
           {
            "line": {
             "colorbar": {
              "outlinewidth": 0,
              "ticks": ""
             }
            },
            "marker": {
             "colorbar": {
              "outlinewidth": 0,
              "ticks": ""
             }
            },
            "type": "scatter3d"
           }
          ],
          "scattercarpet": [
           {
            "marker": {
             "colorbar": {
              "outlinewidth": 0,
              "ticks": ""
             }
            },
            "type": "scattercarpet"
           }
          ],
          "scattergeo": [
           {
            "marker": {
             "colorbar": {
              "outlinewidth": 0,
              "ticks": ""
             }
            },
            "type": "scattergeo"
           }
          ],
          "scattergl": [
           {
            "marker": {
             "colorbar": {
              "outlinewidth": 0,
              "ticks": ""
             }
            },
            "type": "scattergl"
           }
          ],
          "scattermap": [
           {
            "marker": {
             "colorbar": {
              "outlinewidth": 0,
              "ticks": ""
             }
            },
            "type": "scattermap"
           }
          ],
          "scattermapbox": [
           {
            "marker": {
             "colorbar": {
              "outlinewidth": 0,
              "ticks": ""
             }
            },
            "type": "scattermapbox"
           }
          ],
          "scatterpolar": [
           {
            "marker": {
             "colorbar": {
              "outlinewidth": 0,
              "ticks": ""
             }
            },
            "type": "scatterpolar"
           }
          ],
          "scatterpolargl": [
           {
            "marker": {
             "colorbar": {
              "outlinewidth": 0,
              "ticks": ""
             }
            },
            "type": "scatterpolargl"
           }
          ],
          "scatterternary": [
           {
            "marker": {
             "colorbar": {
              "outlinewidth": 0,
              "ticks": ""
             }
            },
            "type": "scatterternary"
           }
          ],
          "surface": [
           {
            "colorbar": {
             "outlinewidth": 0,
             "ticks": ""
            },
            "colorscale": [
             [
              0,
              "#0d0887"
             ],
             [
              0.1111111111111111,
              "#46039f"
             ],
             [
              0.2222222222222222,
              "#7201a8"
             ],
             [
              0.3333333333333333,
              "#9c179e"
             ],
             [
              0.4444444444444444,
              "#bd3786"
             ],
             [
              0.5555555555555556,
              "#d8576b"
             ],
             [
              0.6666666666666666,
              "#ed7953"
             ],
             [
              0.7777777777777778,
              "#fb9f3a"
             ],
             [
              0.8888888888888888,
              "#fdca26"
             ],
             [
              1,
              "#f0f921"
             ]
            ],
            "type": "surface"
           }
          ],
          "table": [
           {
            "cells": {
             "fill": {
              "color": "#EBF0F8"
             },
             "line": {
              "color": "white"
             }
            },
            "header": {
             "fill": {
              "color": "#C8D4E3"
             },
             "line": {
              "color": "white"
             }
            },
            "type": "table"
           }
          ]
         },
         "layout": {
          "annotationdefaults": {
           "arrowcolor": "#2a3f5f",
           "arrowhead": 0,
           "arrowwidth": 1
          },
          "autotypenumbers": "strict",
          "coloraxis": {
           "colorbar": {
            "outlinewidth": 0,
            "ticks": ""
           }
          },
          "colorscale": {
           "diverging": [
            [
             0,
             "#8e0152"
            ],
            [
             0.1,
             "#c51b7d"
            ],
            [
             0.2,
             "#de77ae"
            ],
            [
             0.3,
             "#f1b6da"
            ],
            [
             0.4,
             "#fde0ef"
            ],
            [
             0.5,
             "#f7f7f7"
            ],
            [
             0.6,
             "#e6f5d0"
            ],
            [
             0.7,
             "#b8e186"
            ],
            [
             0.8,
             "#7fbc41"
            ],
            [
             0.9,
             "#4d9221"
            ],
            [
             1,
             "#276419"
            ]
           ],
           "sequential": [
            [
             0,
             "#0d0887"
            ],
            [
             0.1111111111111111,
             "#46039f"
            ],
            [
             0.2222222222222222,
             "#7201a8"
            ],
            [
             0.3333333333333333,
             "#9c179e"
            ],
            [
             0.4444444444444444,
             "#bd3786"
            ],
            [
             0.5555555555555556,
             "#d8576b"
            ],
            [
             0.6666666666666666,
             "#ed7953"
            ],
            [
             0.7777777777777778,
             "#fb9f3a"
            ],
            [
             0.8888888888888888,
             "#fdca26"
            ],
            [
             1,
             "#f0f921"
            ]
           ],
           "sequentialminus": [
            [
             0,
             "#0d0887"
            ],
            [
             0.1111111111111111,
             "#46039f"
            ],
            [
             0.2222222222222222,
             "#7201a8"
            ],
            [
             0.3333333333333333,
             "#9c179e"
            ],
            [
             0.4444444444444444,
             "#bd3786"
            ],
            [
             0.5555555555555556,
             "#d8576b"
            ],
            [
             0.6666666666666666,
             "#ed7953"
            ],
            [
             0.7777777777777778,
             "#fb9f3a"
            ],
            [
             0.8888888888888888,
             "#fdca26"
            ],
            [
             1,
             "#f0f921"
            ]
           ]
          },
          "colorway": [
           "#636efa",
           "#EF553B",
           "#00cc96",
           "#ab63fa",
           "#FFA15A",
           "#19d3f3",
           "#FF6692",
           "#B6E880",
           "#FF97FF",
           "#FECB52"
          ],
          "font": {
           "color": "#2a3f5f"
          },
          "geo": {
           "bgcolor": "white",
           "lakecolor": "white",
           "landcolor": "#E5ECF6",
           "showlakes": true,
           "showland": true,
           "subunitcolor": "white"
          },
          "hoverlabel": {
           "align": "left"
          },
          "hovermode": "closest",
          "mapbox": {
           "style": "light"
          },
          "paper_bgcolor": "white",
          "plot_bgcolor": "#E5ECF6",
          "polar": {
           "angularaxis": {
            "gridcolor": "white",
            "linecolor": "white",
            "ticks": ""
           },
           "bgcolor": "#E5ECF6",
           "radialaxis": {
            "gridcolor": "white",
            "linecolor": "white",
            "ticks": ""
           }
          },
          "scene": {
           "xaxis": {
            "backgroundcolor": "#E5ECF6",
            "gridcolor": "white",
            "gridwidth": 2,
            "linecolor": "white",
            "showbackground": true,
            "ticks": "",
            "zerolinecolor": "white"
           },
           "yaxis": {
            "backgroundcolor": "#E5ECF6",
            "gridcolor": "white",
            "gridwidth": 2,
            "linecolor": "white",
            "showbackground": true,
            "ticks": "",
            "zerolinecolor": "white"
           },
           "zaxis": {
            "backgroundcolor": "#E5ECF6",
            "gridcolor": "white",
            "gridwidth": 2,
            "linecolor": "white",
            "showbackground": true,
            "ticks": "",
            "zerolinecolor": "white"
           }
          },
          "shapedefaults": {
           "line": {
            "color": "#2a3f5f"
           }
          },
          "ternary": {
           "aaxis": {
            "gridcolor": "white",
            "linecolor": "white",
            "ticks": ""
           },
           "baxis": {
            "gridcolor": "white",
            "linecolor": "white",
            "ticks": ""
           },
           "bgcolor": "#E5ECF6",
           "caxis": {
            "gridcolor": "white",
            "linecolor": "white",
            "ticks": ""
           }
          },
          "title": {
           "x": 0.05
          },
          "xaxis": {
           "automargin": true,
           "gridcolor": "white",
           "linecolor": "white",
           "ticks": "",
           "title": {
            "standoff": 15
           },
           "zerolinecolor": "white",
           "zerolinewidth": 2
          },
          "yaxis": {
           "automargin": true,
           "gridcolor": "white",
           "linecolor": "white",
           "ticks": "",
           "title": {
            "standoff": 15
           },
           "zerolinecolor": "white",
           "zerolinewidth": 2
          }
         }
        }
       }
      }
     },
     "metadata": {},
     "output_type": "display_data"
    }
   ],
   "source": [
    "plot_helix(21.6,15,19,20,63.5)"
   ]
  }
 ],
 "metadata": {
  "kernelspec": {
   "display_name": "jonas",
   "language": "python",
   "name": "python3"
  },
  "language_info": {
   "codemirror_mode": {
    "name": "ipython",
    "version": 3
   },
   "file_extension": ".py",
   "mimetype": "text/x-python",
   "name": "python",
   "nbconvert_exporter": "python",
   "pygments_lexer": "ipython3",
   "version": "3.11.2"
  }
 },
 "nbformat": 4,
 "nbformat_minor": 2
}
