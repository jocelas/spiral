{
 "cells": [
  {
   "cell_type": "code",
   "execution_count": 1,
   "metadata": {},
   "outputs": [],
   "source": [
    "import numpy as np\n",
    "import matplotlib.pyplot as plt\n",
    "from helper_functions import *\n",
    "import plotly.graph_objects as go\n",
    "import warnings"
   ]
  },
  {
   "cell_type": "markdown",
   "metadata": {},
   "source": [
    "# Constructing a helix using the _Joint Face Normal Method_\n",
    "\n",
    "This notebook will implement the following algorithm:\n",
    "\n",
    "Given :\n",
    "- the length $L$ of an object,\n",
    "- the angles between the axis and the normal vectors of the joint faces $\\theta/2$, where the angles are assumed to be the same but in opposite directions and the two face normals and the axis are co-planar. Note that the total angle between the planes defined by the joint faces are $\\theta$, which is consistent with the reference,\n",
    "- the twist angle $\\tau$. This is the same angle described in the reference.\n",
    "\n",
    "All relevant properties of the matrix will be computed. Then later, practical methods to find the right parameters for the welding application."
   ]
  },
  {
   "cell_type": "markdown",
   "metadata": {},
   "source": [
    "## Homogeneous coordinates and rigid transformations\n",
    "\n",
    "In **homogeneous coordinates** in 3D, a space is described by a vector $(x, y, z, w)$. The corresponding cartesian coordinates are $(x/w, y/w, z/w)$. The point $(x, y, z, 0)$ signifies the point 'at infinity, so meaning a direction.\n",
    "\n",
    "**Rigid body transormations** are transormations, where all distances are preserved. They include rotations and translations, which is all that is important here. The transformation matrix is of the form:\n",
    "\n",
    "$$\n",
    "M = \\begin{pmatrix} r_{11}&r_{12}&r_{13}&t_x\\\\ r_{21}&r_{22}&r_{23}&t_y \\\\ r_{31}&r_{32}&r_{33}&t_z \\\\ 0 & 0& 0& 1\\end{pmatrix}\n",
    "$$\n",
    "\n",
    "Where the matrix $R \\in SO(3)$ is a rotation matrix and $\\vec t$ the translation vector."
   ]
  },
  {
   "cell_type": "markdown",
   "metadata": {},
   "source": [
    "## The algorithm\n",
    "\n",
    "To construct the helix, we will assume that the first point B lies at the origin. \n",
    "The first segment goes in the x direction, so C is at $(L,0,0,1)$.\n",
    "Further, the joint faces of the first segment are normal to the $xy$-plane, meaning\n",
    "$$N_B = (-\\cos(\\theta/2), \\sin(\\theta/2), 0, 1)\\quad N_C = (\\cos(\\theta/2), \\sin(\\theta/2), 0, 1)$$\n",
    "which are the normal vectors to the joint faces.\n",
    "\n",
    "Note that this means that the axis of the helix is not the $z$-axis, and it is in fact not even parallel to it unless the twist angle $\\tau$ is 0.\n",
    "\n",
    "To determine the third point A we do the following:\n",
    "\n",
    "1. translate C to the origin ($\\vec t = (-L, 0, 0), R = \\mathbf 1$)\n",
    "2. rotate by $-\\theta/2$ along the $z$-axis. Now $\\vec N_B$ is aligned with the $x$-axis.\n",
    "3. rotate by $\\tau$ around the $x$-axis.\n",
    "4. rotate by $-\\theta/2$ around the $z$-axis again. Now the point D would lie where C was before, and B has moved to A.\n",
    "\n",
    "Doing this transformation to B will give you A, and doing the inverse to C will give you D."
   ]
  },
  {
   "cell_type": "code",
   "execution_count": 2,
   "metadata": {},
   "outputs": [],
   "source": [
    "## Defining parameters\n",
    "\n",
    "L = 60 ## mm\n",
    "theta = 15 ## degrees\n",
    "tau = 10 ## degrees\n"
   ]
  },
  {
   "cell_type": "code",
   "execution_count": 3,
   "metadata": {},
   "outputs": [],
   "source": [
    "B = np.array([0,0,0,1])\n",
    "C = np.array([L,0,0,1])\n",
    "\n",
    "M, inverse_M = transformation_matrix(L, theta, tau)\n"
   ]
  },
  {
   "cell_type": "code",
   "execution_count": 4,
   "metadata": {},
   "outputs": [
    {
     "data": {
      "text/plain": [
       "array([-57.97107948,  15.41118142,   1.35993813,   1.        ])"
      ]
     },
     "execution_count": 4,
     "metadata": {},
     "output_type": "execute_result"
    }
   ],
   "source": [
    "A = np.array(M@B)\n",
    "D = inverse_M@C\n",
    "\n",
    "A"
   ]
  },
  {
   "cell_type": "code",
   "execution_count": 5,
   "metadata": {},
   "outputs": [],
   "source": [
    "Bcart = homogeneous_to_cartesian(B)\n",
    "x, y, z = Bcart.T\n",
    "\n",
    "points = generate_points_on_helix(45, M)\n",
    "axis_origin, axis_direction = find_helix_axis(M)\n",
    "# axis_direction = find_axis_ev(M)\n",
    "points_straight = transform_helix_to_z_axis(points.copy(), axis_origin, axis_direction)"
   ]
  },
  {
   "cell_type": "code",
   "execution_count": 6,
   "metadata": {},
   "outputs": [
    {
     "data": {
      "application/vnd.plotly.v1+json": {
       "config": {
        "plotlyServerURL": "https://plot.ly"
       },
       "data": [
        {
         "marker": {
          "color": "blue",
          "size": 3
         },
         "type": "scatter3d",
         "x": {
          "bdata": "oxdKQX/rOEA38tkJTRRSQFvYN3cVKFxAuH0fva68YUA4Rv10RKhjQF2/1xidpmNAhiaVJ+K3YUDI0lWwIhlcQNvVNrx3AVJAf5AVLgKYOEDp1mVO9T45wI3h+T4dJ1LA6mJ2TgA3XMC7wthSdsFhwMRpw0bmqWPAtCjKMvCkY8CXBZSTELNhwBnrBv4nClzAX3VfW53uUcCOXlAsfkQ4wEKs4j1kkjlA2ipJVug5UkCIFt0x40VcQCAWaOc4xmFAoWa0jYKrY0DoZU3DPaNjQE7MdwI6rmFAFfeDZCX7W0BgKaTsvdtRQF2ZhFPz8DdAUnA8+MvlOcB6xHtKrkxSwDjTOR2+VFzAkwB2efbKYcBACFxJGa1jwOvo28qFoWPAr5KddV6pYcDzAwjoGuxbwF+0VnXZyFHAATs+u2GdN8BOD/FlLDk6QGoaRxZvX1JA/rpcDJFjXEDEdawHr89hQL+rR3mqrmNA3bTxScifY0A=",
          "dtype": "f8"
         },
         "y": {
          "bdata": "WwMveHGnY0BP2D4SSbphQMTodxGdIFxAqOPDBeMKUkDGdvqWwcE4QMp+Eyo7FTnA1y/Px7UdUsBX4A7hiy9cwADZCygTv2HAE6ozDxapY8A+cQZXx6VjwL68Tf15tWHAentYVKYRXMBpsdwtC/hRwCZ4jAlBbjjAOmxQq61oOUDqY7BugzBSQLbm575yPlxAXipbPdjDYUB72Z0btapjQNcOMqwXpGNAr4KT6qWwYUCsTuitpwJcQK04aUUu5VFAFphSmbkaOEAyICwDGbw5wCvAGvVLQ1LAu7/PplFNXMALotRQmMhhwLyW+JxOrGPAMogreGKiY8A0kGzbzKthwMlWYSKh81vAHYq6UUzSUcCX7NddK8c3wClvIxp9DzpAG/LCVQ9WUkCNaJWUKFxcQC18IWFTzWFABnTQkuKtY0CxFW67p6BjQNqvNtHupmFAALv/tZLkW0AdGyNYZb9RQJdXqW6WczdAsVi12NliOsA=",
          "dtype": "f8"
         },
         "z": {
          "bdata": "AAAAAAAAAAC6zec1B7RAQLjN5zUHtFBAkrTb0AoOWUC2zec1B7RgQCPBYQMJ4WRAkLTb0AoOaUD/p1WeDDttQLfN5zUHtHBAcMekHIjKckAowWEDCeF0QOG6HuqJ93ZAm7Tb0AoOeUBVrpi3iyR7QBCoVZ4MO31AyqEShY1Rf0DCzec1B7SAQJ5KRqlHv4FAfMekHIjKgkBYRAOQyNWDQDTBYQMJ4YRAED7AdknshUDruh7qifeGQMY3fV3KAohAobTb0AoOiUB8MTpESxmKQFiumLeLJItAMyv3KswvjEAQqFWeDDuNQOsktBFNRo5Ax6EShY1Rj0BSjzj8Zi6QQMHN5zUHtJBAMAyXb6c5kUCeSkapR7+RQA2J9eLnRJJAe8ekHIjKkkDqBVRWKFCTQFlEA5DI1ZNAx4KyyWhblEA1wWEDCeGUQKP/ED2pZpVAET7AdknslUB+fG+w6XGWQOy6HuqJ95ZAWfnNIyp9l0A=",
          "dtype": "f8"
         }
        },
        {
         "marker": {
          "color": "blue",
          "size": 3
         },
         "type": "scatter3d",
         "x": {
          "bdata": "oxdKQX/rOMA38tkJTRRSwFvYN3cVKFzAuH0fva68YcA4Rv10RKhjwF2/1xidpmPAhiaVJ+K3YcDI0lWwIhlcwNvVNrx3AVLAf5AVLgKYOMDp1mVO9T45QI3h+T4dJ1JA6mJ2TgA3XEC7wthSdsFhQMRpw0bmqWNAtCjKMvCkY0CXBZSTELNhQBnrBv4nClxAX3VfW53uUUCOXlAsfkQ4QEKs4j1kkjnA2ipJVug5UsCIFt0x40VcwCAWaOc4xmHAoWa0jYKrY8DoZU3DPaNjwE7MdwI6rmHAFfeDZCX7W8BgKaTsvdtRwF2ZhFPz8DfAUnA8+MvlOUB6xHtKrkxSQDjTOR2+VFxAkwB2efbKYUBACFxJGa1jQOvo28qFoWNAr5KddV6pYUDzAwjoGuxbQF+0VnXZyFFAATs+u2GdN0BOD/FlLDk6wGoaRxZvX1LA/rpcDJFjXMDEdawHr89hwL+rR3mqrmPA3bTxScifY8A=",
          "dtype": "f8"
         },
         "y": {
          "bdata": "WwMveHGnY8BP2D4SSbphwMTodxGdIFzAqOPDBeMKUsDGdvqWwcE4wMp+Eyo7FTlA1y/Px7UdUkBX4A7hiy9cQADZCygTv2FAE6ozDxapY0A+cQZXx6VjQL68Tf15tWFAentYVKYRXEBpsdwtC/hRQCZ4jAlBbjhAOmxQq61oOcDqY7BugzBSwLbm575yPlzAXipbPdjDYcB72Z0btapjwNcOMqwXpGPAr4KT6qWwYcCsTuitpwJcwK04aUUu5VHAFphSmbkaOMAyICwDGbw5QCvAGvVLQ1JAu7/PplFNXEALotRQmMhhQLyW+JxOrGNAMogreGKiY0A0kGzbzKthQMlWYSKh81tAHYq6UUzSUUCX7NddK8c3QClvIxp9DzrAG/LCVQ9WUsCNaJWUKFxcwC18IWFTzWHABnTQkuKtY8CxFW67p6BjwNqvNtHupmHAALv/tZLkW8AdGyNYZb9RwJdXqW6WczfAsVi12NliOkA=",
          "dtype": "f8"
         },
         "z": {
          "bdata": "AAAAAAAAAAC6zec1B7RAQLjN5zUHtFBAkrTb0AoOWUC2zec1B7RgQCPBYQMJ4WRAkLTb0AoOaUD/p1WeDDttQLfN5zUHtHBAcMekHIjKckAowWEDCeF0QOG6HuqJ93ZAm7Tb0AoOeUBVrpi3iyR7QBCoVZ4MO31AyqEShY1Rf0DCzec1B7SAQJ5KRqlHv4FAfMekHIjKgkBYRAOQyNWDQDTBYQMJ4YRAED7AdknshUDruh7qifeGQMY3fV3KAohAobTb0AoOiUB8MTpESxmKQFiumLeLJItAMyv3KswvjEAQqFWeDDuNQOsktBFNRo5Ax6EShY1Rj0BSjzj8Zi6QQMHN5zUHtJBAMAyXb6c5kUCeSkapR7+RQA2J9eLnRJJAe8ekHIjKkkDqBVRWKFCTQFlEA5DI1ZNAx4KyyWhblEA1wWEDCeGUQKP/ED2pZpVAET7AdknslUB+fG+w6XGWQOy6HuqJ95ZAWfnNIyp9l0A=",
          "dtype": "f8"
         }
        }
       ],
       "layout": {
        "dragmode": "turntable",
        "font": {
         "family": "Arial",
         "size": 14
        },
        "margin": {
         "b": 0,
         "l": 0,
         "r": 0,
         "t": 40
        },
        "scene": {
         "aspectmode": "data",
         "camera": {
          "eye": {
           "x": 4,
           "y": 1.8,
           "z": 1.2
          }
         },
         "xaxis": {
          "autorange": true,
          "showbackground": false,
          "showgrid": true,
          "zeroline": false
         },
         "yaxis": {
          "autorange": true,
          "showbackground": false,
          "showgrid": true,
          "zeroline": false
         },
         "zaxis": {
          "autorange": true,
          "showbackground": false,
          "showgrid": true,
          "zeroline": false
         }
        },
        "showlegend": false,
        "template": {
         "data": {
          "bar": [
           {
            "error_x": {
             "color": "#2a3f5f"
            },
            "error_y": {
             "color": "#2a3f5f"
            },
            "marker": {
             "line": {
              "color": "white",
              "width": 0.5
             },
             "pattern": {
              "fillmode": "overlay",
              "size": 10,
              "solidity": 0.2
             }
            },
            "type": "bar"
           }
          ],
          "barpolar": [
           {
            "marker": {
             "line": {
              "color": "white",
              "width": 0.5
             },
             "pattern": {
              "fillmode": "overlay",
              "size": 10,
              "solidity": 0.2
             }
            },
            "type": "barpolar"
           }
          ],
          "carpet": [
           {
            "aaxis": {
             "endlinecolor": "#2a3f5f",
             "gridcolor": "#C8D4E3",
             "linecolor": "#C8D4E3",
             "minorgridcolor": "#C8D4E3",
             "startlinecolor": "#2a3f5f"
            },
            "baxis": {
             "endlinecolor": "#2a3f5f",
             "gridcolor": "#C8D4E3",
             "linecolor": "#C8D4E3",
             "minorgridcolor": "#C8D4E3",
             "startlinecolor": "#2a3f5f"
            },
            "type": "carpet"
           }
          ],
          "choropleth": [
           {
            "colorbar": {
             "outlinewidth": 0,
             "ticks": ""
            },
            "type": "choropleth"
           }
          ],
          "contour": [
           {
            "colorbar": {
             "outlinewidth": 0,
             "ticks": ""
            },
            "colorscale": [
             [
              0,
              "#0d0887"
             ],
             [
              0.1111111111111111,
              "#46039f"
             ],
             [
              0.2222222222222222,
              "#7201a8"
             ],
             [
              0.3333333333333333,
              "#9c179e"
             ],
             [
              0.4444444444444444,
              "#bd3786"
             ],
             [
              0.5555555555555556,
              "#d8576b"
             ],
             [
              0.6666666666666666,
              "#ed7953"
             ],
             [
              0.7777777777777778,
              "#fb9f3a"
             ],
             [
              0.8888888888888888,
              "#fdca26"
             ],
             [
              1,
              "#f0f921"
             ]
            ],
            "type": "contour"
           }
          ],
          "contourcarpet": [
           {
            "colorbar": {
             "outlinewidth": 0,
             "ticks": ""
            },
            "type": "contourcarpet"
           }
          ],
          "heatmap": [
           {
            "colorbar": {
             "outlinewidth": 0,
             "ticks": ""
            },
            "colorscale": [
             [
              0,
              "#0d0887"
             ],
             [
              0.1111111111111111,
              "#46039f"
             ],
             [
              0.2222222222222222,
              "#7201a8"
             ],
             [
              0.3333333333333333,
              "#9c179e"
             ],
             [
              0.4444444444444444,
              "#bd3786"
             ],
             [
              0.5555555555555556,
              "#d8576b"
             ],
             [
              0.6666666666666666,
              "#ed7953"
             ],
             [
              0.7777777777777778,
              "#fb9f3a"
             ],
             [
              0.8888888888888888,
              "#fdca26"
             ],
             [
              1,
              "#f0f921"
             ]
            ],
            "type": "heatmap"
           }
          ],
          "histogram": [
           {
            "marker": {
             "pattern": {
              "fillmode": "overlay",
              "size": 10,
              "solidity": 0.2
             }
            },
            "type": "histogram"
           }
          ],
          "histogram2d": [
           {
            "colorbar": {
             "outlinewidth": 0,
             "ticks": ""
            },
            "colorscale": [
             [
              0,
              "#0d0887"
             ],
             [
              0.1111111111111111,
              "#46039f"
             ],
             [
              0.2222222222222222,
              "#7201a8"
             ],
             [
              0.3333333333333333,
              "#9c179e"
             ],
             [
              0.4444444444444444,
              "#bd3786"
             ],
             [
              0.5555555555555556,
              "#d8576b"
             ],
             [
              0.6666666666666666,
              "#ed7953"
             ],
             [
              0.7777777777777778,
              "#fb9f3a"
             ],
             [
              0.8888888888888888,
              "#fdca26"
             ],
             [
              1,
              "#f0f921"
             ]
            ],
            "type": "histogram2d"
           }
          ],
          "histogram2dcontour": [
           {
            "colorbar": {
             "outlinewidth": 0,
             "ticks": ""
            },
            "colorscale": [
             [
              0,
              "#0d0887"
             ],
             [
              0.1111111111111111,
              "#46039f"
             ],
             [
              0.2222222222222222,
              "#7201a8"
             ],
             [
              0.3333333333333333,
              "#9c179e"
             ],
             [
              0.4444444444444444,
              "#bd3786"
             ],
             [
              0.5555555555555556,
              "#d8576b"
             ],
             [
              0.6666666666666666,
              "#ed7953"
             ],
             [
              0.7777777777777778,
              "#fb9f3a"
             ],
             [
              0.8888888888888888,
              "#fdca26"
             ],
             [
              1,
              "#f0f921"
             ]
            ],
            "type": "histogram2dcontour"
           }
          ],
          "mesh3d": [
           {
            "colorbar": {
             "outlinewidth": 0,
             "ticks": ""
            },
            "type": "mesh3d"
           }
          ],
          "parcoords": [
           {
            "line": {
             "colorbar": {
              "outlinewidth": 0,
              "ticks": ""
             }
            },
            "type": "parcoords"
           }
          ],
          "pie": [
           {
            "automargin": true,
            "type": "pie"
           }
          ],
          "scatter": [
           {
            "fillpattern": {
             "fillmode": "overlay",
             "size": 10,
             "solidity": 0.2
            },
            "type": "scatter"
           }
          ],
          "scatter3d": [
           {
            "line": {
             "colorbar": {
              "outlinewidth": 0,
              "ticks": ""
             }
            },
            "marker": {
             "colorbar": {
              "outlinewidth": 0,
              "ticks": ""
             }
            },
            "type": "scatter3d"
           }
          ],
          "scattercarpet": [
           {
            "marker": {
             "colorbar": {
              "outlinewidth": 0,
              "ticks": ""
             }
            },
            "type": "scattercarpet"
           }
          ],
          "scattergeo": [
           {
            "marker": {
             "colorbar": {
              "outlinewidth": 0,
              "ticks": ""
             }
            },
            "type": "scattergeo"
           }
          ],
          "scattergl": [
           {
            "marker": {
             "colorbar": {
              "outlinewidth": 0,
              "ticks": ""
             }
            },
            "type": "scattergl"
           }
          ],
          "scattermap": [
           {
            "marker": {
             "colorbar": {
              "outlinewidth": 0,
              "ticks": ""
             }
            },
            "type": "scattermap"
           }
          ],
          "scattermapbox": [
           {
            "marker": {
             "colorbar": {
              "outlinewidth": 0,
              "ticks": ""
             }
            },
            "type": "scattermapbox"
           }
          ],
          "scatterpolar": [
           {
            "marker": {
             "colorbar": {
              "outlinewidth": 0,
              "ticks": ""
             }
            },
            "type": "scatterpolar"
           }
          ],
          "scatterpolargl": [
           {
            "marker": {
             "colorbar": {
              "outlinewidth": 0,
              "ticks": ""
             }
            },
            "type": "scatterpolargl"
           }
          ],
          "scatterternary": [
           {
            "marker": {
             "colorbar": {
              "outlinewidth": 0,
              "ticks": ""
             }
            },
            "type": "scatterternary"
           }
          ],
          "surface": [
           {
            "colorbar": {
             "outlinewidth": 0,
             "ticks": ""
            },
            "colorscale": [
             [
              0,
              "#0d0887"
             ],
             [
              0.1111111111111111,
              "#46039f"
             ],
             [
              0.2222222222222222,
              "#7201a8"
             ],
             [
              0.3333333333333333,
              "#9c179e"
             ],
             [
              0.4444444444444444,
              "#bd3786"
             ],
             [
              0.5555555555555556,
              "#d8576b"
             ],
             [
              0.6666666666666666,
              "#ed7953"
             ],
             [
              0.7777777777777778,
              "#fb9f3a"
             ],
             [
              0.8888888888888888,
              "#fdca26"
             ],
             [
              1,
              "#f0f921"
             ]
            ],
            "type": "surface"
           }
          ],
          "table": [
           {
            "cells": {
             "fill": {
              "color": "#EBF0F8"
             },
             "line": {
              "color": "white"
             }
            },
            "header": {
             "fill": {
              "color": "#C8D4E3"
             },
             "line": {
              "color": "white"
             }
            },
            "type": "table"
           }
          ]
         },
         "layout": {
          "annotationdefaults": {
           "arrowcolor": "#2a3f5f",
           "arrowhead": 0,
           "arrowwidth": 1
          },
          "autotypenumbers": "strict",
          "coloraxis": {
           "colorbar": {
            "outlinewidth": 0,
            "ticks": ""
           }
          },
          "colorscale": {
           "diverging": [
            [
             0,
             "#8e0152"
            ],
            [
             0.1,
             "#c51b7d"
            ],
            [
             0.2,
             "#de77ae"
            ],
            [
             0.3,
             "#f1b6da"
            ],
            [
             0.4,
             "#fde0ef"
            ],
            [
             0.5,
             "#f7f7f7"
            ],
            [
             0.6,
             "#e6f5d0"
            ],
            [
             0.7,
             "#b8e186"
            ],
            [
             0.8,
             "#7fbc41"
            ],
            [
             0.9,
             "#4d9221"
            ],
            [
             1,
             "#276419"
            ]
           ],
           "sequential": [
            [
             0,
             "#0d0887"
            ],
            [
             0.1111111111111111,
             "#46039f"
            ],
            [
             0.2222222222222222,
             "#7201a8"
            ],
            [
             0.3333333333333333,
             "#9c179e"
            ],
            [
             0.4444444444444444,
             "#bd3786"
            ],
            [
             0.5555555555555556,
             "#d8576b"
            ],
            [
             0.6666666666666666,
             "#ed7953"
            ],
            [
             0.7777777777777778,
             "#fb9f3a"
            ],
            [
             0.8888888888888888,
             "#fdca26"
            ],
            [
             1,
             "#f0f921"
            ]
           ],
           "sequentialminus": [
            [
             0,
             "#0d0887"
            ],
            [
             0.1111111111111111,
             "#46039f"
            ],
            [
             0.2222222222222222,
             "#7201a8"
            ],
            [
             0.3333333333333333,
             "#9c179e"
            ],
            [
             0.4444444444444444,
             "#bd3786"
            ],
            [
             0.5555555555555556,
             "#d8576b"
            ],
            [
             0.6666666666666666,
             "#ed7953"
            ],
            [
             0.7777777777777778,
             "#fb9f3a"
            ],
            [
             0.8888888888888888,
             "#fdca26"
            ],
            [
             1,
             "#f0f921"
            ]
           ]
          },
          "colorway": [
           "#636efa",
           "#EF553B",
           "#00cc96",
           "#ab63fa",
           "#FFA15A",
           "#19d3f3",
           "#FF6692",
           "#B6E880",
           "#FF97FF",
           "#FECB52"
          ],
          "font": {
           "color": "#2a3f5f"
          },
          "geo": {
           "bgcolor": "white",
           "lakecolor": "white",
           "landcolor": "white",
           "showlakes": true,
           "showland": true,
           "subunitcolor": "#C8D4E3"
          },
          "hoverlabel": {
           "align": "left"
          },
          "hovermode": "closest",
          "mapbox": {
           "style": "light"
          },
          "paper_bgcolor": "white",
          "plot_bgcolor": "white",
          "polar": {
           "angularaxis": {
            "gridcolor": "#EBF0F8",
            "linecolor": "#EBF0F8",
            "ticks": ""
           },
           "bgcolor": "white",
           "radialaxis": {
            "gridcolor": "#EBF0F8",
            "linecolor": "#EBF0F8",
            "ticks": ""
           }
          },
          "scene": {
           "xaxis": {
            "backgroundcolor": "white",
            "gridcolor": "#DFE8F3",
            "gridwidth": 2,
            "linecolor": "#EBF0F8",
            "showbackground": true,
            "ticks": "",
            "zerolinecolor": "#EBF0F8"
           },
           "yaxis": {
            "backgroundcolor": "white",
            "gridcolor": "#DFE8F3",
            "gridwidth": 2,
            "linecolor": "#EBF0F8",
            "showbackground": true,
            "ticks": "",
            "zerolinecolor": "#EBF0F8"
           },
           "zaxis": {
            "backgroundcolor": "white",
            "gridcolor": "#DFE8F3",
            "gridwidth": 2,
            "linecolor": "#EBF0F8",
            "showbackground": true,
            "ticks": "",
            "zerolinecolor": "#EBF0F8"
           }
          },
          "shapedefaults": {
           "line": {
            "color": "#2a3f5f"
           }
          },
          "ternary": {
           "aaxis": {
            "gridcolor": "#DFE8F3",
            "linecolor": "#A2B1C6",
            "ticks": ""
           },
           "baxis": {
            "gridcolor": "#DFE8F3",
            "linecolor": "#A2B1C6",
            "ticks": ""
           },
           "bgcolor": "white",
           "caxis": {
            "gridcolor": "#DFE8F3",
            "linecolor": "#A2B1C6",
            "ticks": ""
           }
          },
          "title": {
           "x": 0.05
          },
          "xaxis": {
           "automargin": true,
           "gridcolor": "#EBF0F8",
           "linecolor": "#EBF0F8",
           "ticks": "",
           "title": {
            "standoff": 15
           },
           "zerolinecolor": "#EBF0F8",
           "zerolinewidth": 2
          },
          "yaxis": {
           "automargin": true,
           "gridcolor": "#EBF0F8",
           "linecolor": "#EBF0F8",
           "ticks": "",
           "title": {
            "standoff": 15
           },
           "zerolinecolor": "#EBF0F8",
           "zerolinewidth": 2
          }
         }
        },
        "title": {
         "text": "Helical path straightened along its axis"
        }
       }
      }
     },
     "metadata": {},
     "output_type": "display_data"
    }
   ],
   "source": [
    "x, y, z = points.T\n",
    "\n",
    "\n",
    "fig = go.Figure()\n",
    "\n",
    "rotated = make_second_helix(points_straight)\n",
    "x,y,z = rotated.T\n",
    "fig.add_trace(go.Scatter3d(x=x, y=y, z=z, ))\n",
    "\n",
    "\n",
    "x, y, z = points_straight.T\n",
    "fig.add_trace(go.Scatter3d(x=x, y=y, z=z, ))\n",
    "\n",
    "\n",
    "#x, y, z = make_line(axis_origin + axis_direction * 500, axis_direction, length=1000).T\n",
    "#fig.add_trace(go.Scatter3d(x=x, y=y, z=z, ))\n",
    "\n",
    "\n",
    "#fig.update_layout(scene=dict(xaxis_title='x', yaxis_title='y', zaxis_title='z'))\n",
    "fig.update_layout(\n",
    "    scene=dict(\n",
    "        xaxis=dict(range=None, autorange=True),\n",
    "        yaxis=dict(range=None, autorange=True),\n",
    "        zaxis=dict(range=None, autorange=True)\n",
    "    )\n",
    ")\n",
    "fig.update_layout(\n",
    "    scene=dict(\n",
    "        aspectmode='data'   # ensures equal scaling for x, y, z\n",
    "    )\n",
    ")\n",
    "\n",
    "fig.update_layout(\n",
    "    template=\"plotly_white\",          # clean background\n",
    "    scene=dict(\n",
    "        aspectmode=\"data\",            # equal axes\n",
    "        xaxis=dict(showbackground=False, showgrid=True, zeroline=False),\n",
    "        yaxis=dict(showbackground=False, showgrid=True, zeroline=False),\n",
    "        zaxis=dict(showbackground=False, showgrid=True, zeroline=False),\n",
    "    ),\n",
    "    margin=dict(l=0, r=0, t=40, b=0),\n",
    "    font=dict(size=14, family=\"Arial\"),\n",
    ")\n",
    "\n",
    "fig.update_layout(\n",
    "    dragmode=\"turntable\",        # intuitive rotation\n",
    "    scene_camera=dict(eye=dict(x=4, y=1.8, z=1.2)),  # pleasant starting view\n",
    ")\n",
    "\n",
    "fig.update_traces(marker=dict(size=3, color='blue'))\n",
    "fig.update_layout(showlegend=False, title_text=\"Helical path straightened along its axis\")\n",
    "\n",
    "\n",
    "fig.show()  # fully interactive in browser/notebook\n",
    "fig.write_html(\"plot.html\")  # shareable file"
   ]
  },
  {
   "cell_type": "markdown",
   "metadata": {},
   "source": [
    "## Identifying the axis of the helix"
   ]
  },
  {
   "cell_type": "code",
   "execution_count": 7,
   "metadata": {},
   "outputs": [
    {
     "data": {
      "text/plain": [
       "(14.942594097841914, 159.19514074432928)"
      ]
     },
     "execution_count": 7,
     "metadata": {},
     "output_type": "execute_result"
    }
   ],
   "source": [
    "BC = points[1] - points[0]\n",
    "CD = points[2] - points[1]\n",
    "\n",
    "angle_BCD = angle(BC, CD)\n",
    "angle_BCD, point_line_distance(points_straight[2], [0,0,0], [0,0,1])"
   ]
  },
  {
   "cell_type": "code",
   "execution_count": 8,
   "metadata": {},
   "outputs": [
    {
     "data": {
      "text/plain": [
       "(1005, 33.40647004908119, 30, 1002.1941014724358)"
      ]
     },
     "execution_count": 8,
     "metadata": {},
     "output_type": "execute_result"
    }
   ],
   "source": [
    "## How many for desired length?\n",
    "\n",
    "length = 1005 # mm\n",
    "\n",
    "find_number_of_segments_for_length(points_straight, length)"
   ]
  },
  {
   "cell_type": "code",
   "execution_count": null,
   "metadata": {},
   "outputs": [],
   "source": []
  },
  {
   "cell_type": "code",
   "execution_count": 9,
   "metadata": {},
   "outputs": [
    {
     "data": {
      "text/plain": [
       "(array([[ -23.36627808, -138.23840821,    0.        ],\n",
       "        [ -67.5026411 , -122.87894002,   37.63068157],\n",
       "        [-104.13888399,  -93.86657177,   75.26136314],\n",
       "        [-129.20440716,  -54.42482545,  112.89204472],\n",
       "        [-139.91421684,   -8.93601605,  150.52272629],\n",
       "        [-135.07836166,   37.54566109,  188.15340786],\n",
       "        [-115.23414646,   79.8556945 ,  225.78408943],\n",
       "        [ -82.58643309,  113.29307801,  263.41477101],\n",
       "        [ -40.76266142,  134.14263263,  301.04545258],\n",
       "        [   5.59019018,  140.08779472,  338.67613415],\n",
       "        [  51.3219239 ,  130.46800597,  376.30681572],\n",
       "        [  91.35135341,  106.35210711,  413.93749729],\n",
       "        [ 121.23086709,   70.41958053,  451.56817887],\n",
       "        [ 137.6405957 ,   26.66283691,  489.19886044],\n",
       "        [ 138.75727819,  -20.05637567,  526.82954201],\n",
       "        [ 124.4568416 ,  -64.54715357,  564.46022358],\n",
       "        [  96.32818662, -101.86619124,  602.09090516],\n",
       "        [  57.49664712, -127.86702478,  639.72158673],\n",
       "        [  12.2767389 , -139.66073943,  677.3522683 ],\n",
       "        [ -34.30721989, -135.93695273,  714.98294987],\n",
       "        [ -77.07935346, -117.10940921,  752.61363144],\n",
       "        [-111.28731232,  -85.27000981,  790.24431302],\n",
       "        [-133.1303    ,  -43.9563838 ,  827.87499459],\n",
       "        [-140.18137395,    2.24117198,  865.50567616],\n",
       "        [-131.65709962,   48.18971441,  903.13635773],\n",
       "        [-108.5045967 ,   88.78396786,  940.76703931],\n",
       "        [ -73.29630609,  119.51356396,  978.39772088],\n",
       "        [ -29.94416965,  136.96418203, 1016.02840245],\n",
       "        [  16.73501986,  139.19690933, 1053.65908402],\n",
       "        [  61.55480568,  125.96367077, 1091.28976559],\n",
       "        [  99.53532671,   98.73479221, 1128.92044717]]),\n",
       " 140.19928835655992,\n",
       " 30,\n",
       " 1128.9204471663618,\n",
       " 37.63068157221194)"
      ]
     },
     "execution_count": 9,
     "metadata": {},
     "output_type": "execute_result"
    }
   ],
   "source": [
    "full_helix_calculation(60, 15, 12, segments = 30)"
   ]
  },
  {
   "cell_type": "code",
   "execution_count": 10,
   "metadata": {},
   "outputs": [
    {
     "data": {
      "application/vnd.plotly.v1+json": {
       "config": {
        "plotlyServerURL": "https://plot.ly"
       },
       "data": [
        {
         "type": "scatter3d",
         "x": {
          "bdata": "vj2ZB2XZMcDP9ZIxhRtJwCIDZ+UiTVLA6wTrWsKhVMDMHJ0DPBxTwAN3zzSUCkzAqmBCd8dAOcArKIHeQJUkQDvkRCcQ9UVAWLiRPahVUUBEi4llPHRUQF6AX6QqwVNAOh7XA8S7TkA6HtcDxLtOwF6AX6QqwVPARIuJZTx0VMBYuJE9qFVRwDvkRCcQ9UXAKyiB3kCVJMCqYEJ3x0A5QAN3zzSUCkxAzBydAzwcU0DrBOtawqFUQCIDZ+UiTVJAz/WSMYUbSUC+PZkHZdkxQA==",
          "dtype": "f8"
         },
         "y": {
          "bdata": "L9sMLZUqVMAw6XOwr2ZQwOlgDbe4JUPAj1xgXxCuDsCD44S2Olc/QFvwfWgbVU5Agd7eLGWqU0CvyfIsRn5UQG+faXehflFAxICTppR1RkCTfi3fn/EmQHaeERzdHTjA8U0oFuqZS8DxTSgW6plLQHaeERzdHThAk34t35/xJsDEgJOmlHVGwG+faXehflHAr8nyLEZ+VMCB3t4sZapTwFvwfWgbVU7Ag+OEtjpXP8CPXGBfEK4OQOlgDbe4JUNAMOlzsK9mUEAv2wwtlSpUQA==",
          "dtype": "f8"
         },
         "z": {
          "bdata": "AAAAAAAAAABv6JbwwxxIQG7olvDDHFhAUi5x9JIVYkBu6JbwwxxoQIqivOz0I25AVC5x9JIVckBjC4RyKxl1QHLolvDDHHhAgcWpblwge0CQorzs9CN+QM+/Z7XGk4BAVi5x9JIVgkBWLnH0khWCQM+/Z7XGk4BAkKK87PQjfkCBxaluXCB7QHLolvDDHHhAYwuEcisZdUBULnH0khVyQIqivOz0I25AbuiW8MMcaEBSLnH0khViQG7olvDDHFhAb+iW8MMcSEAAAAAAAAAAAA==",
          "dtype": "f8"
         }
        }
       ],
       "layout": {
        "dragmode": "turntable",
        "scene": {
         "aspectmode": "data",
         "camera": {
          "eye": {
           "x": 4,
           "y": 1.8,
           "z": 1.2
          }
         }
        },
        "template": {
         "data": {
          "bar": [
           {
            "error_x": {
             "color": "#2a3f5f"
            },
            "error_y": {
             "color": "#2a3f5f"
            },
            "marker": {
             "line": {
              "color": "#E5ECF6",
              "width": 0.5
             },
             "pattern": {
              "fillmode": "overlay",
              "size": 10,
              "solidity": 0.2
             }
            },
            "type": "bar"
           }
          ],
          "barpolar": [
           {
            "marker": {
             "line": {
              "color": "#E5ECF6",
              "width": 0.5
             },
             "pattern": {
              "fillmode": "overlay",
              "size": 10,
              "solidity": 0.2
             }
            },
            "type": "barpolar"
           }
          ],
          "carpet": [
           {
            "aaxis": {
             "endlinecolor": "#2a3f5f",
             "gridcolor": "white",
             "linecolor": "white",
             "minorgridcolor": "white",
             "startlinecolor": "#2a3f5f"
            },
            "baxis": {
             "endlinecolor": "#2a3f5f",
             "gridcolor": "white",
             "linecolor": "white",
             "minorgridcolor": "white",
             "startlinecolor": "#2a3f5f"
            },
            "type": "carpet"
           }
          ],
          "choropleth": [
           {
            "colorbar": {
             "outlinewidth": 0,
             "ticks": ""
            },
            "type": "choropleth"
           }
          ],
          "contour": [
           {
            "colorbar": {
             "outlinewidth": 0,
             "ticks": ""
            },
            "colorscale": [
             [
              0,
              "#0d0887"
             ],
             [
              0.1111111111111111,
              "#46039f"
             ],
             [
              0.2222222222222222,
              "#7201a8"
             ],
             [
              0.3333333333333333,
              "#9c179e"
             ],
             [
              0.4444444444444444,
              "#bd3786"
             ],
             [
              0.5555555555555556,
              "#d8576b"
             ],
             [
              0.6666666666666666,
              "#ed7953"
             ],
             [
              0.7777777777777778,
              "#fb9f3a"
             ],
             [
              0.8888888888888888,
              "#fdca26"
             ],
             [
              1,
              "#f0f921"
             ]
            ],
            "type": "contour"
           }
          ],
          "contourcarpet": [
           {
            "colorbar": {
             "outlinewidth": 0,
             "ticks": ""
            },
            "type": "contourcarpet"
           }
          ],
          "heatmap": [
           {
            "colorbar": {
             "outlinewidth": 0,
             "ticks": ""
            },
            "colorscale": [
             [
              0,
              "#0d0887"
             ],
             [
              0.1111111111111111,
              "#46039f"
             ],
             [
              0.2222222222222222,
              "#7201a8"
             ],
             [
              0.3333333333333333,
              "#9c179e"
             ],
             [
              0.4444444444444444,
              "#bd3786"
             ],
             [
              0.5555555555555556,
              "#d8576b"
             ],
             [
              0.6666666666666666,
              "#ed7953"
             ],
             [
              0.7777777777777778,
              "#fb9f3a"
             ],
             [
              0.8888888888888888,
              "#fdca26"
             ],
             [
              1,
              "#f0f921"
             ]
            ],
            "type": "heatmap"
           }
          ],
          "histogram": [
           {
            "marker": {
             "pattern": {
              "fillmode": "overlay",
              "size": 10,
              "solidity": 0.2
             }
            },
            "type": "histogram"
           }
          ],
          "histogram2d": [
           {
            "colorbar": {
             "outlinewidth": 0,
             "ticks": ""
            },
            "colorscale": [
             [
              0,
              "#0d0887"
             ],
             [
              0.1111111111111111,
              "#46039f"
             ],
             [
              0.2222222222222222,
              "#7201a8"
             ],
             [
              0.3333333333333333,
              "#9c179e"
             ],
             [
              0.4444444444444444,
              "#bd3786"
             ],
             [
              0.5555555555555556,
              "#d8576b"
             ],
             [
              0.6666666666666666,
              "#ed7953"
             ],
             [
              0.7777777777777778,
              "#fb9f3a"
             ],
             [
              0.8888888888888888,
              "#fdca26"
             ],
             [
              1,
              "#f0f921"
             ]
            ],
            "type": "histogram2d"
           }
          ],
          "histogram2dcontour": [
           {
            "colorbar": {
             "outlinewidth": 0,
             "ticks": ""
            },
            "colorscale": [
             [
              0,
              "#0d0887"
             ],
             [
              0.1111111111111111,
              "#46039f"
             ],
             [
              0.2222222222222222,
              "#7201a8"
             ],
             [
              0.3333333333333333,
              "#9c179e"
             ],
             [
              0.4444444444444444,
              "#bd3786"
             ],
             [
              0.5555555555555556,
              "#d8576b"
             ],
             [
              0.6666666666666666,
              "#ed7953"
             ],
             [
              0.7777777777777778,
              "#fb9f3a"
             ],
             [
              0.8888888888888888,
              "#fdca26"
             ],
             [
              1,
              "#f0f921"
             ]
            ],
            "type": "histogram2dcontour"
           }
          ],
          "mesh3d": [
           {
            "colorbar": {
             "outlinewidth": 0,
             "ticks": ""
            },
            "type": "mesh3d"
           }
          ],
          "parcoords": [
           {
            "line": {
             "colorbar": {
              "outlinewidth": 0,
              "ticks": ""
             }
            },
            "type": "parcoords"
           }
          ],
          "pie": [
           {
            "automargin": true,
            "type": "pie"
           }
          ],
          "scatter": [
           {
            "fillpattern": {
             "fillmode": "overlay",
             "size": 10,
             "solidity": 0.2
            },
            "type": "scatter"
           }
          ],
          "scatter3d": [
           {
            "line": {
             "colorbar": {
              "outlinewidth": 0,
              "ticks": ""
             }
            },
            "marker": {
             "colorbar": {
              "outlinewidth": 0,
              "ticks": ""
             }
            },
            "type": "scatter3d"
           }
          ],
          "scattercarpet": [
           {
            "marker": {
             "colorbar": {
              "outlinewidth": 0,
              "ticks": ""
             }
            },
            "type": "scattercarpet"
           }
          ],
          "scattergeo": [
           {
            "marker": {
             "colorbar": {
              "outlinewidth": 0,
              "ticks": ""
             }
            },
            "type": "scattergeo"
           }
          ],
          "scattergl": [
           {
            "marker": {
             "colorbar": {
              "outlinewidth": 0,
              "ticks": ""
             }
            },
            "type": "scattergl"
           }
          ],
          "scattermap": [
           {
            "marker": {
             "colorbar": {
              "outlinewidth": 0,
              "ticks": ""
             }
            },
            "type": "scattermap"
           }
          ],
          "scattermapbox": [
           {
            "marker": {
             "colorbar": {
              "outlinewidth": 0,
              "ticks": ""
             }
            },
            "type": "scattermapbox"
           }
          ],
          "scatterpolar": [
           {
            "marker": {
             "colorbar": {
              "outlinewidth": 0,
              "ticks": ""
             }
            },
            "type": "scatterpolar"
           }
          ],
          "scatterpolargl": [
           {
            "marker": {
             "colorbar": {
              "outlinewidth": 0,
              "ticks": ""
             }
            },
            "type": "scatterpolargl"
           }
          ],
          "scatterternary": [
           {
            "marker": {
             "colorbar": {
              "outlinewidth": 0,
              "ticks": ""
             }
            },
            "type": "scatterternary"
           }
          ],
          "surface": [
           {
            "colorbar": {
             "outlinewidth": 0,
             "ticks": ""
            },
            "colorscale": [
             [
              0,
              "#0d0887"
             ],
             [
              0.1111111111111111,
              "#46039f"
             ],
             [
              0.2222222222222222,
              "#7201a8"
             ],
             [
              0.3333333333333333,
              "#9c179e"
             ],
             [
              0.4444444444444444,
              "#bd3786"
             ],
             [
              0.5555555555555556,
              "#d8576b"
             ],
             [
              0.6666666666666666,
              "#ed7953"
             ],
             [
              0.7777777777777778,
              "#fb9f3a"
             ],
             [
              0.8888888888888888,
              "#fdca26"
             ],
             [
              1,
              "#f0f921"
             ]
            ],
            "type": "surface"
           }
          ],
          "table": [
           {
            "cells": {
             "fill": {
              "color": "#EBF0F8"
             },
             "line": {
              "color": "white"
             }
            },
            "header": {
             "fill": {
              "color": "#C8D4E3"
             },
             "line": {
              "color": "white"
             }
            },
            "type": "table"
           }
          ]
         },
         "layout": {
          "annotationdefaults": {
           "arrowcolor": "#2a3f5f",
           "arrowhead": 0,
           "arrowwidth": 1
          },
          "autotypenumbers": "strict",
          "coloraxis": {
           "colorbar": {
            "outlinewidth": 0,
            "ticks": ""
           }
          },
          "colorscale": {
           "diverging": [
            [
             0,
             "#8e0152"
            ],
            [
             0.1,
             "#c51b7d"
            ],
            [
             0.2,
             "#de77ae"
            ],
            [
             0.3,
             "#f1b6da"
            ],
            [
             0.4,
             "#fde0ef"
            ],
            [
             0.5,
             "#f7f7f7"
            ],
            [
             0.6,
             "#e6f5d0"
            ],
            [
             0.7,
             "#b8e186"
            ],
            [
             0.8,
             "#7fbc41"
            ],
            [
             0.9,
             "#4d9221"
            ],
            [
             1,
             "#276419"
            ]
           ],
           "sequential": [
            [
             0,
             "#0d0887"
            ],
            [
             0.1111111111111111,
             "#46039f"
            ],
            [
             0.2222222222222222,
             "#7201a8"
            ],
            [
             0.3333333333333333,
             "#9c179e"
            ],
            [
             0.4444444444444444,
             "#bd3786"
            ],
            [
             0.5555555555555556,
             "#d8576b"
            ],
            [
             0.6666666666666666,
             "#ed7953"
            ],
            [
             0.7777777777777778,
             "#fb9f3a"
            ],
            [
             0.8888888888888888,
             "#fdca26"
            ],
            [
             1,
             "#f0f921"
            ]
           ],
           "sequentialminus": [
            [
             0,
             "#0d0887"
            ],
            [
             0.1111111111111111,
             "#46039f"
            ],
            [
             0.2222222222222222,
             "#7201a8"
            ],
            [
             0.3333333333333333,
             "#9c179e"
            ],
            [
             0.4444444444444444,
             "#bd3786"
            ],
            [
             0.5555555555555556,
             "#d8576b"
            ],
            [
             0.6666666666666666,
             "#ed7953"
            ],
            [
             0.7777777777777778,
             "#fb9f3a"
            ],
            [
             0.8888888888888888,
             "#fdca26"
            ],
            [
             1,
             "#f0f921"
            ]
           ]
          },
          "colorway": [
           "#636efa",
           "#EF553B",
           "#00cc96",
           "#ab63fa",
           "#FFA15A",
           "#19d3f3",
           "#FF6692",
           "#B6E880",
           "#FF97FF",
           "#FECB52"
          ],
          "font": {
           "color": "#2a3f5f"
          },
          "geo": {
           "bgcolor": "white",
           "lakecolor": "white",
           "landcolor": "#E5ECF6",
           "showlakes": true,
           "showland": true,
           "subunitcolor": "white"
          },
          "hoverlabel": {
           "align": "left"
          },
          "hovermode": "closest",
          "mapbox": {
           "style": "light"
          },
          "paper_bgcolor": "white",
          "plot_bgcolor": "#E5ECF6",
          "polar": {
           "angularaxis": {
            "gridcolor": "white",
            "linecolor": "white",
            "ticks": ""
           },
           "bgcolor": "#E5ECF6",
           "radialaxis": {
            "gridcolor": "white",
            "linecolor": "white",
            "ticks": ""
           }
          },
          "scene": {
           "xaxis": {
            "backgroundcolor": "#E5ECF6",
            "gridcolor": "white",
            "gridwidth": 2,
            "linecolor": "white",
            "showbackground": true,
            "ticks": "",
            "zerolinecolor": "white"
           },
           "yaxis": {
            "backgroundcolor": "#E5ECF6",
            "gridcolor": "white",
            "gridwidth": 2,
            "linecolor": "white",
            "showbackground": true,
            "ticks": "",
            "zerolinecolor": "white"
           },
           "zaxis": {
            "backgroundcolor": "#E5ECF6",
            "gridcolor": "white",
            "gridwidth": 2,
            "linecolor": "white",
            "showbackground": true,
            "ticks": "",
            "zerolinecolor": "white"
           }
          },
          "shapedefaults": {
           "line": {
            "color": "#2a3f5f"
           }
          },
          "ternary": {
           "aaxis": {
            "gridcolor": "white",
            "linecolor": "white",
            "ticks": ""
           },
           "baxis": {
            "gridcolor": "white",
            "linecolor": "white",
            "ticks": ""
           },
           "bgcolor": "#E5ECF6",
           "caxis": {
            "gridcolor": "white",
            "linecolor": "white",
            "ticks": ""
           }
          },
          "title": {
           "x": 0.05
          },
          "xaxis": {
           "automargin": true,
           "gridcolor": "white",
           "linecolor": "white",
           "ticks": "",
           "title": {
            "standoff": 15
           },
           "zerolinecolor": "white",
           "zerolinewidth": 2
          },
          "yaxis": {
           "automargin": true,
           "gridcolor": "white",
           "linecolor": "white",
           "ticks": "",
           "title": {
            "standoff": 15
           },
           "zerolinecolor": "white",
           "zerolinewidth": 2
          }
         }
        }
       }
      }
     },
     "metadata": {},
     "output_type": "display_data"
    }
   ],
   "source": [
    "def plot_points(points, saveto = None):\n",
    "    fig = go.Figure()\n",
    "\n",
    "    x,y,z = points.T\n",
    "    fig.add_trace(go.Scatter3d(x=x, y=y, z=z,))\n",
    "\n",
    "    fig.update_layout(\n",
    "    scene=dict(\n",
    "        aspectmode='data'   # ensures equal scaling for x, y, z\n",
    "    )\n",
    "    )    \n",
    "\n",
    "    fig.update_layout(\n",
    "    dragmode=\"turntable\",        # intuitive rotation\n",
    "    scene_camera=dict(eye=dict(x=4, y=1.8, z=1.2)),  # pleasant starting view\n",
    "    )\n",
    "\n",
    "    fig.show()\n",
    "\n",
    "    if saveto is not None:\n",
    "        fig.write_html(saveto)\n",
    "\n",
    "\n",
    "\n",
    "\n",
    "def plot_helix(L, theta, tau, segments = 45, saveto = None, double_helix = True):\n",
    "\n",
    "    data = full_helix_calculation(L, theta, tau, segments = segments)\n",
    "    points = data[0]\n",
    "\n",
    "    if double_helix:\n",
    "        points2 = points.copy()\n",
    "        points2 = make_second_helix(points2)\n",
    "        points = np.vstack((points, points2[::-1]))\n",
    "\n",
    "    plot_points(points, saveto)\n",
    "\n",
    "\n",
    "plot_helix(60, 15, 20, segments = 12, saveto = \"helix.html\", double_helix = True)\n"
   ]
  },
  {
   "cell_type": "code",
   "execution_count": 11,
   "metadata": {},
   "outputs": [],
   "source": [
    "def vis_tangent_vectors(segments, L, theta, tau):\n",
    "    radius, polar_angle, deltaz = find_helix_parameters(L, theta, tau)\n",
    "    normal_vectors = []\n",
    "    for n in range(segments + 1):\n",
    "        x = - radius * polar_angle * np.sin(n * polar_angle)\n",
    "        y = radius * polar_angle * np.cos(n * polar_angle)\n",
    "        z = deltaz\n",
    "        normal_vectors.append(unit(np.array([x,y,z])))\n",
    "    return np.asarray(normal_vectors)\n",
    "\n",
    "def xy_perp(v):\n",
    "    ## find the vector orthogonal to v lying in the xy plane\n",
    "    vx, vy, vz = v\n",
    "    # Handle special case where v has no xy component\n",
    "    if vx == 0 and vy == 0:\n",
    "        # any xy vector is fine, choose (1, 0, 0)\n",
    "        return np.array([1, 0, 0], dtype=float)\n",
    "    w = np.array([-vy, vx, 0], dtype=float)\n",
    "    return unit(w)\n",
    "\n",
    "def vis_local_xy_plane(vectors):\n",
    "    basis = []\n",
    "    for vector in vectors:\n",
    "        vector = unit(vector.copy())\n",
    "        u1 = xy_perp(vector)\n",
    "        u2 = unit(np.cross(vector, u1))\n",
    "        basis.append([u1, u2])\n",
    "    return np.array(basis)\n",
    "\n",
    "\n",
    "\n",
    "\n",
    "def vis_circle(angle, point, basis, pipe_diameter):\n",
    "    r = pipe_diameter / 2\n",
    "    return point + r * (np.cos(angle)*basis[0] + np.sin(angle)*basis[1])\n",
    "\n",
    "def vis_whole_circle(point, basis, pipe_diameter, sides = 10):\n",
    "    points = []\n",
    "    angles = np.linspace(0,2*np.pi, sides)\n",
    "    for angle in angles:\n",
    "        points.append(vis_circle(angle, point, basis, pipe_diameter))\n",
    "    return np.asarray(points)"
   ]
  },
  {
   "cell_type": "code",
   "execution_count": 12,
   "metadata": {},
   "outputs": [],
   "source": [
    "def connect_lines_mesh3d(line1, line2, color='lightblue', opacity=0.6, name='surface'):\n",
    "    \"\"\"\n",
    "    Create a Mesh3d surface filling the area between two 3D lines.\n",
    "    \n",
    "    Parameters\n",
    "    ----------\n",
    "    line1, line2 : (N,3) array_like\n",
    "        Arrays of 3D points with the same length.\n",
    "    color : str\n",
    "        Color of the surface.\n",
    "    opacity : float\n",
    "        Opacity of the surface.\n",
    "    name : str\n",
    "        Trace name for Plotly legend.\n",
    "    \n",
    "    Returns\n",
    "    -------\n",
    "    go.Mesh3d\n",
    "        Plotly Mesh3d trace connecting the two lines.\n",
    "    \"\"\"\n",
    "    line1 = np.asarray(line1)\n",
    "    line2 = np.asarray(line2)\n",
    "    assert line1.shape == line2.shape, \"Both lines must have same number of points\"\n",
    "\n",
    "    n = len(line1)\n",
    "    x = np.concatenate([line1[:,0], line2[:,0]])\n",
    "    y = np.concatenate([line1[:,1], line2[:,1]])\n",
    "    z = np.concatenate([line1[:,2], line2[:,2]])\n",
    "\n",
    "    # Triangles between the two lines\n",
    "    triangles = []\n",
    "    for i in range(n - 1):\n",
    "        triangles += [\n",
    "            (i, i + 1, n + i),\n",
    "            (i + 1, n + i + 1, n + i)\n",
    "        ]\n",
    "    i, j, k = np.array(triangles).T\n",
    "\n",
    "    return go.Mesh3d(\n",
    "        x=x, y=y, z=z,\n",
    "        i=i, j=j, k=k,\n",
    "        color=color, opacity=opacity,\n",
    "        name=name\n",
    "    )\n"
   ]
  },
  {
   "cell_type": "code",
   "execution_count": 13,
   "metadata": {},
   "outputs": [
    {
     "data": {
      "application/vnd.plotly.v1+json": {
       "config": {
        "plotlyServerURL": "https://plot.ly"
       },
       "data": [
        {
         "color": "lightblue",
         "i": {
          "bdata": "AAEBAgIDAwQEBQUGBgcHCAgJCQoKCwsMDA0NDg4PDxAQERESEhMTFBQVFRYWFxcYGBkZGhobGxwcHR0eHh8fICAhISIiIyMkJCUlJiYnJygoKSkqKisrLCwtLS4uLy8wMDExMjIzMzQ0NTU2Njc3ODg5OTo6Ozs8PD09Pj4/P0BAQUFCQkNDRERFRUZGR0dISElJSkpLS0xMTU1OTk9PUFBRUVJSU1NUVFVVVlZXV1hYWVlaWltbXFxdXV5eX19gYGFhYmJj",
          "dtype": "i1"
         },
         "j": {
          "bdata": "AQBlAAIAZgADAGcABABoAAUAaQAGAGoABwBrAAgAbAAJAG0ACgBuAAsAbwAMAHAADQBxAA4AcgAPAHMAEAB0ABEAdQASAHYAEwB3ABQAeAAVAHkAFgB6ABcAewAYAHwAGQB9ABoAfgAbAH8AHACAAB0AgQAeAIIAHwCDACAAhAAhAIUAIgCGACMAhwAkAIgAJQCJACYAigAnAIsAKACMACkAjQAqAI4AKwCPACwAkAAtAJEALgCSAC8AkwAwAJQAMQCVADIAlgAzAJcANACYADUAmQA2AJoANwCbADgAnAA5AJ0AOgCeADsAnwA8AKAAPQChAD4AogA/AKMAQACkAEEApQBCAKYAQwCnAEQAqABFAKkARgCqAEcAqwBIAKwASQCtAEoArgBLAK8ATACwAE0AsQBOALIATwCzAFAAtABRALUAUgC2AFMAtwBUALgAVQC5AFYAugBXALsAWAC8AFkAvQBaAL4AWwC/AFwAwABdAMEAXgDCAF8AwwBgAMQAYQDFAGIAxgBjAMcA",
          "dtype": "i2"
         },
         "k": {
          "bdata": "ZABkAGUAZQBmAGYAZwBnAGgAaABpAGkAagBqAGsAawBsAGwAbQBtAG4AbgBvAG8AcABwAHEAcQByAHIAcwBzAHQAdAB1AHUAdgB2AHcAdwB4AHgAeQB5AHoAegB7AHsAfAB8AH0AfQB+AH4AfwB/AIAAgACBAIEAggCCAIMAgwCEAIQAhQCFAIYAhgCHAIcAiACIAIkAiQCKAIoAiwCLAIwAjACNAI0AjgCOAI8AjwCQAJAAkQCRAJIAkgCTAJMAlACUAJUAlQCWAJYAlwCXAJgAmACZAJkAmgCaAJsAmwCcAJwAnQCdAJ4AngCfAJ8AoACgAKEAoQCiAKIAowCjAKQApAClAKUApgCmAKcApwCoAKgAqQCpAKoAqgCrAKsArACsAK0ArQCuAK4ArwCvALAAsACxALEAsgCyALMAswC0ALQAtQC1ALYAtgC3ALcAuAC4ALkAuQC6ALoAuwC7ALwAvAC9AL0AvgC+AL8AvwDAAMAAwQDBAMIAwgDDAMMAxADEAMUAxQDGAMYA",
          "dtype": "i2"
         },
         "name": "surface",
         "opacity": 0.6,
         "type": "mesh3d",
         "x": {
          "bdata": "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",
          "dtype": "f8"
         },
         "y": {
          "bdata": "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",
          "dtype": "f8"
         },
         "z": {
          "bdata": "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",
          "dtype": "f8"
         }
        },
        {
         "line": {
          "color": "blue",
          "width": 5
         },
         "mode": "lines",
         "name": "Line 1",
         "type": "scatter3d",
         "x": {
          "bdata": "AAAAAAAA8D+VSynBge/vP2j6BgUYvu8/Jek3u/Vr7z8jfxaOb/nuP/FJcov7Zu4/XLHeqjC17T9+NRQyxuTsP1+hBPiS9us/uvBkh4zr6j9WMpEhxsTpPzlQz6Jvg+g/tDkVSdQo5z+WUJVeWbblP0ATccl8LeQ/A6sNgtOP4j9cLKDxB9/gP1a1P3WwOd4/thLH2SiW2j+KU4hOOdfWP1tDY1G+ANM/jFrgSlktzj+Mcwt+GjrGPyLsuGvkX7w/cyCwKKhcqD/N+ijPKj+QvwzJ6KS5SbS/3kQPZF83wr9P3qvaGjfKv5OAwi7oDdG/PSGBd67u1L83i/Tn4LnYv4vJmF6Wa9y/AgAAAAAA4L/P5tyRtrnhv860DJEnYeO/hlh3f5705L/bPrV2e3Lmv11Sx9Q02ee/JuDa0Vgn6b9dHHf9jlvqv4pZi6GZdOu/wfLvCVdx7L/ZTwivwlDtvxstUkL2Ee6/V1DNmyq07r9D8kaHuDbvvwQ9tXAZme+/XjTx7ufa778HB0As4PvvvwcHQCzg+++/XjTx7ufa778EPbVwGZnvv0PyRoe4Nu+/V1DNmyq07r8cLVJC9hHuv9lPCK/CUO2/wvLvCVdx7L+JWYuhmXTrv14cd/2OW+q/JeDa0Vgn6b9eUsfUNNnnv9o+tXZ7cua/iFh3f5705L/MtAyRJ2Hjv9Hm3JG2ueG/+f//////37+IyZhelmvcvzeL9Ofgudi/QSGBd67u1L+MgMIu6A3Rv0jeq9oaN8q/3kQPZF83wr8eyeikuUm0v1T6KM8qP5C/kCCwKKhcqD8R7Lhr5F+8P3xzC34aOsY/k1rgSlktzj9bQ2NRvgDTP4ZTiE4519Y/vRLH2SiW2j9ZtT91sDneP1wsoPEH3+A/AasNgtOP4j9DE3HJfC3kP5dQlV5ZtuU/tDkVSdQo5z83UM+ib4PoP1cykSHGxOk/uvBkh4zr6j9foQT4kvbrP301FDLG5Ow/XbHeqjC17T/xSXKL+2buPyN/Fo5v+e4/Juk3u/Vr7z9o+gYFGL7vP5VLKcGB7+8/AAAAAAAA8D8=",
          "dtype": "f8"
         },
         "y": {
          "bdata": "AAAAAAAAAAADhrXMjDywP/CDAnguNMA/kayggGI5yD+aiNkBzxLQP9ofIiFb+NM/+5MNU1HJ1z+CQNqEwoHbPxlNPurYHd8/C1i7+O1M4T9GhZoMGvniPxwWPFK3keQ/ABg/lCAV5j+GGZN4xoHnP4hAIRwx1ug/lkFFlgER6j93zoZi8zDrPzKcHq/dNOw/EyzujrQb7T/B8a4NiuTtP/0jPCWPju4/3176khQZ7z8XHIGMi4PvPzTGy1KGze8/g6xao7j27z/vOc8G+P7vP2Zmsvw75u8/70I4BJ6s7z+/l/eBWVLvPwOssILL1+4/xVNiW3I97j+TIxAn7YPtP1EHwCL7q+w/qUxY6Hq26z+RVimJaaTqP5aCD4nhduk/oSg6uxkv6D+158MBZM7mP9OHZvErVuU/8XixWvXH4z8mRkW6WiXiP2ITsJELcOA/8qg+VZVT3T/agWKM2KjZP/gLinSo49U/v412/ecH0j/lKaSyIjPMP+bENsZjOcQ/3FNHxZdVuD+s23zJpD6gP8nbfMmkPqC/6lNHxZdVuL/txDbGYznEv9wppLIiM8y/wo12/ecH0r/0C4p0qOPVv92BYozYqNm/7qg+VZVT3b9jE7CRC3DgvyRGRbpaJeK/83ixWvXH47/Rh2bxK1blv7fnwwFkzua/oCg6uxkv6L+Xgg+J4Xbpv5BWKYlppOq/rExY6Hq2679SB8Ai+6vsv5MjECftg+2/xFNiW3I97r8ErLCCy9fuv7+X94FZUu+/70I4BJ6s779lZrL8O+bvv+85zwb4/u+/g6xao7j27780xstShs3vvxgcgYyLg++/3176khQZ77/9Izwlj47uv8Lxrg2K5O2/EizujrQb7b8xnB6v3TTsv3fOhmLzMOu/l0FFlgER6r+GQCEcMdbov4UZk3jGgee/ABg/lCAV5r8fFjxSt5Hkv0SFmgwa+eK/Cli7+O1M4b8bTT7q2B3fv4dA2oTCgdu/9ZMNU1HJ17/ZHyIhW/jTv52I2QHPEtC/gKyggGI5yL/ogwJ4LjTAvwSGtcyMPLC/B1wUMyamsbw=",
          "dtype": "f8"
         },
         "z": {
          "bdata": "AAAAAAAAAACCKnhg8v6JP4IqeGDy/pk/4h9ayDV/oz+CKnhg8v6pP5EaS3xXP7A/4h9ayDV/sz8yJWkUFL+2P4IqeGDy/rk/0i+HrNA+vT+RGkt8Vz/APzmdUqJG38E/4h9ayDV/wz+KomHuJB/FPzIlaRQUv8Y/2qdwOgNfyD+CKnhg8v7JPyqtf4bhnss/0i+HrNA+zT96so7Sv97OP5EaS3xXP9A/5dtOD08P0T85nVKiRt/RP41eVjU+r9I/4h9ayDV/0z824V1bLU/UP4qiYe4kH9U/3mNlgRzv1T8yJWkUFL/WP4bmbKcLj9c/2qdwOgNf2D8uaXTN+i7ZP4IqeGDy/tk/1+t78+nO2j8qrX+G4Z7bP39ugxnZbtw/0i+HrNA+3T8n8Yo/yA7eP3qyjtK/3t4/z3OSZbeu3z+RGkt8Vz/gPzv7zEVTp+A/5dtOD08P4T+PvNDYSnfhPzmdUqJG3+E/433Ua0JH4j+NXlY1Pq/iPzc/2P45F+M/4h9ayDV/4z+MANyRMefjPzbhXVstT+Q/4MHfJCm35D+KomHuJB/lPzSD47cgh+U/3mNlgRzv5T+IROdKGFfmPzIlaRQUv+Y/3AXr3Q8n5z+G5mynC4/nPzDH7nAH9+c/2qdwOgNf6D+EiPID/8boPy5pdM36Luk/2En2lvaW6T+CKnhg8v7pPywL+inuZuo/1+t78+nO6j+AzP285TbrPyqtf4bhnus/1I0BUN0G7D9/boMZ2W7sPyhPBePU1uw/0i+HrNA+7T98EAl2zKbtPyfxij/IDu4/0NEMCcR27j96so7Sv97uPySTEJy7Ru8/z3OSZbeu7z88KoqXWQvwP5EaS3xXP/A/5woMYVVz8D87+8xFU6fwP5DrjSpR2/A/5dtOD08P8T87zA/0TEPxP4+80NhKd/E/5KyRvUir8T85nVKiRt/xP4+NE4dEE/I/433Ua0JH8j84bpVQQHvyP41eVjU+r/I/404XGjzj8j83P9j+ORfzP4wvmeM3S/M/4h9ayDV/8z83EButM7PzP4wA3JEx5/M/4PCcdi8b9D8=",
          "dtype": "f8"
         }
        },
        {
         "line": {
          "color": "red",
          "width": 5
         },
         "mode": "lines",
         "name": "Line 2",
         "type": "scatter3d",
         "x": {
          "bdata": "zczMzMzM8D/iegIfJMTwP92powIzqvA/Z1p9NRR/8D9ZnJgq9ELwP3Ga0bgh7O8/OzrQGXMx7z9ea8jnnFbuPz52nreAXO0/kMn2WiBE7D90DnLWnA7rPzwUwDc1vek/yq+8TEVR6D+elOk8RMzmP526tgbDL+U/kPMn4mp94z8uyIGK+7bhP87kguGSvN8/P213sXfq2z8evqjFlfvXP+05qAj789M/rfjRwZ2vzz+6nyXRm1bHP4qR6D0Wy70/EyLsXX2UqT++bVEmIA+Rv00GjlNpTbW/tm52j4ogw786djT/qIbLv5ugssoz6NG/52IUl5361b+U+PNZX/bZv2ygU+Nd192/z8zMzMzM4L+NJVtMmZziv3JXTVg2WeS/WoNwn9kA5r9m6NdvzpHnv+J8BHl3Cum/j57ydVBp6r+Vqla976zrv9Hqa7YH1Oy/sYvVMGjd7b+kIC+e/8fuvyp8CSzcku+/+5aYXpYe8L/K2J7gIGPwv9WMxfTGlvC/GNVxXVO58L9KnaF9osrwv0qdoX2iyvC/GNVxXVO58L/VjMX0xpbwv8rYnuAgY/C/+5aYXpYe8L8rfAks3JLvv6QgL57/x+6/sovVMGjd7b/Q6mu2B9Tsv5aqVr3vrOu/jp7ydVBp6r/jfAR5dwrpv2Xo12/Okee/XINwn9kA5r9wV01YNlnkv48lW0yZnOK/yczMzMzM4L9poFPjXdfdv5T481lf9tm/62IUl5361b+ToLLKM+jRvzJ2NP+ohsu/tm52j4ogw79gBo5TaU21vz9tUSYgD5G/MSLsXX2UqT95keg9Fsu9P6mfJdGbVsc/tPjRwZ2vzz/tOagI+/PTPxq+qMWV+9c/R213sXfq2z/R5ILhkrzfPy7IgYr7tuE/jvMn4mp94z+gurYGwy/lP5+U6TxEzOY/yq+8TEVR6D86FMA3Nb3pP3UOctacDus/kMn2WiBE7D8+dp63gFztP11ryOecVu4/PDrQGXMx7z9xmtG4IezvP1mcmCr0QvA/Z1p9NRR/8D/dqaMCM6rwP+J6Ah8kxPA/zczMzMzM8D8=",
          "dtype": "f8"
         },
         "y": {
          "bdata": "AAAAAAAAAACDmb6jYAyxP1bXNTGXA8E/zE5COnRvyT+iAr6OjODQP3KhMEn599Q/Lqg0l8j52D+8w34L2eHcP0e1YOERVuA/chwrRWAq4j8jP6Lz9OvjPzcXv3wAmeU/AKaom8gv5z9ndJr+qa7oPynqIvcZFOo/ROv7EKhe6z/KWNqN/4zsP87wrMTone0/FHvgYkqQ7j9xF16OKmPvP7JfjPPXCvA/nD6QM5FT8D+/LioQdovwPw/Id+tMsvA/KzQpvO3H8D/RZMY2QszwP8N1quRFv/A/iomdKAah8D/eYggxonHwP+jzz9dKMfA/KQv034TA7z/0vp0Cuf3uP3zUfOT6Gu4/Sx3DQDQZ7T9MAQXQbvnrPx5JUDbTvOo/dndj0adk6T9+5kBoT/LnPwR1eL1HZ+Y//b6gBSjF5D+oiZVDnw3jP1oULIxyQuE/y5dOZvbK3j/yoZrGSfHaP5GMKkfX+9Y/b67vlrPu0j/+K/mhF5zNPyW17FxCPMU/dH4kjxKNuT9CgCltkw6hP2CAKW2TDqG/g34kjxKNub8stexcQjzFv/Qr+aEXnM2/cq7vlrPu0r+NjCpH1/vWv/WhmsZJ8dq/x5dOZvbK3r9bFCyMckLhv6aJlUOfDeO//76gBSjF5L8CdXi9R2fmv4DmQGhP8ue/dXdj0adk6b8fSVA207zqv0sBBdBu+eu/Tx3DQDQZ7b991Hzk+hruv/S+nQK5/e6/KAv034TA77/p88/XSjHwv95iCDGicfC/iomdKAah8L/CdarkRb/wv9FkxjZCzPC/KzQpvO3H8L8PyHfrTLLwv8AuKhB2i/C/nD6QM5FT8L+yX4zz1wrwv3IXXo4qY++/E3vgYkqQ7r/N8KzE6J3tv8pY2o3/jOy/Rev7EKhe678n6iL3GRTqv2Z0mv6prui/AKaom8gv5786F798AJnlvyE/ovP06+O/cRwrRWAq4r9ItWDhEVbgv8HDfgvZ4dy/KKg0l8j52L9xoTBJ+ffUv6UCvo6M4NC/uk5COnRvyb9N1zUxlwPBv4SZvqNgDLG/O/pugg6Isrw=",
          "dtype": "f8"
         },
         "z": {
          "bdata": "mpmZmZmZyT9CHKG/iDnLP+qeqOV32cw/kiGwC2d5zj8d0tsYqwzQP3GT36ui3NA/xlTjPpqs0T8aFufRkXzSP27X6mSJTNM/wpju94Ac1D8WWvKKeOzUP2ob9h1wvNU/vtz5sGeM1j8Snv1DX1zXP2ZfAddWLNg/uiAFak782D8O4gj9RczZP2KjDJA9nNo/tmQQIzVs2z8KJhS2LDzcP17nF0kkDN0/sqgb3Bvc3T8Gah9vE6zeP1orIwILfN8/WHaTSgEm4D8CVxUU/Y3gP6w3l9349eA/VhgZp/Rd4T8A+Zpw8MXhP6rZHDrsLeI/VLqeA+iV4j/+miDN4/3iP6h7opbfZeM/UlwkYNvN4z/8PKYp1zXkP6YdKPPSneQ/UP6pvM4F5T/63iuGym3lP6S/rU/G1eU/TqAvGcI95j/4gLHivaXmP6JhM6y5Dec/TEK1dbV15z/2Ijc/sd3nP6ADuQitReg/SuQ60qit6D/0xLybpBXpP56lPmWgfek/SIbALpzl6T/yZkL4l03qP5xHxMGTteo/RihGi48d6z/wCMhUi4XrP5rpSR6H7es/RMrL54JV7D/uqk2xfr3sP5iLz3p6Je0/QmxRRHaN7T/sTNMNcvXtP5YtVddtXe4/QA7XoGnF7j/q7lhqZS3vP5TP2jNhle8/PrBc/Vz97z90SG9jrDLwP8k4MEiqZvA/HynxLKia8D9zGbIRps7wP8gJc/ajAvE/Hfoz26E28T9z6vS/n2rxP8fataSdnvE/HMt2iZvS8T9xuzdumQbyP8er+FKXOvI/G5y5N5Vu8j9wjHock6LyP8V8OwGR1vI/G2385Y4K8z9vXb3KjD7zP8RNfq+KcvM/Gj4/lIim8z9uLgB5htrzP8MewV2EDvQ/GA+CQoJC9D9u/0IngHb0P8LvAwx+qvQ/F+DE8Hve9D9s0IXVeRL1P8LARrp3RvU/FrEHn3V69T9rociDc671P8CRiWhx4vU/FoJKTW8W9j9qcgsybUr2P79izBZrfvY/FVON+2iy9j9qQ07gZub2P78zD8VkGvc/EyTQqWJO9z8=",
          "dtype": "f8"
         }
        }
       ],
       "layout": {
        "scene": {
         "aspectmode": "data"
        },
        "template": {
         "data": {
          "bar": [
           {
            "error_x": {
             "color": "#2a3f5f"
            },
            "error_y": {
             "color": "#2a3f5f"
            },
            "marker": {
             "line": {
              "color": "#E5ECF6",
              "width": 0.5
             },
             "pattern": {
              "fillmode": "overlay",
              "size": 10,
              "solidity": 0.2
             }
            },
            "type": "bar"
           }
          ],
          "barpolar": [
           {
            "marker": {
             "line": {
              "color": "#E5ECF6",
              "width": 0.5
             },
             "pattern": {
              "fillmode": "overlay",
              "size": 10,
              "solidity": 0.2
             }
            },
            "type": "barpolar"
           }
          ],
          "carpet": [
           {
            "aaxis": {
             "endlinecolor": "#2a3f5f",
             "gridcolor": "white",
             "linecolor": "white",
             "minorgridcolor": "white",
             "startlinecolor": "#2a3f5f"
            },
            "baxis": {
             "endlinecolor": "#2a3f5f",
             "gridcolor": "white",
             "linecolor": "white",
             "minorgridcolor": "white",
             "startlinecolor": "#2a3f5f"
            },
            "type": "carpet"
           }
          ],
          "choropleth": [
           {
            "colorbar": {
             "outlinewidth": 0,
             "ticks": ""
            },
            "type": "choropleth"
           }
          ],
          "contour": [
           {
            "colorbar": {
             "outlinewidth": 0,
             "ticks": ""
            },
            "colorscale": [
             [
              0,
              "#0d0887"
             ],
             [
              0.1111111111111111,
              "#46039f"
             ],
             [
              0.2222222222222222,
              "#7201a8"
             ],
             [
              0.3333333333333333,
              "#9c179e"
             ],
             [
              0.4444444444444444,
              "#bd3786"
             ],
             [
              0.5555555555555556,
              "#d8576b"
             ],
             [
              0.6666666666666666,
              "#ed7953"
             ],
             [
              0.7777777777777778,
              "#fb9f3a"
             ],
             [
              0.8888888888888888,
              "#fdca26"
             ],
             [
              1,
              "#f0f921"
             ]
            ],
            "type": "contour"
           }
          ],
          "contourcarpet": [
           {
            "colorbar": {
             "outlinewidth": 0,
             "ticks": ""
            },
            "type": "contourcarpet"
           }
          ],
          "heatmap": [
           {
            "colorbar": {
             "outlinewidth": 0,
             "ticks": ""
            },
            "colorscale": [
             [
              0,
              "#0d0887"
             ],
             [
              0.1111111111111111,
              "#46039f"
             ],
             [
              0.2222222222222222,
              "#7201a8"
             ],
             [
              0.3333333333333333,
              "#9c179e"
             ],
             [
              0.4444444444444444,
              "#bd3786"
             ],
             [
              0.5555555555555556,
              "#d8576b"
             ],
             [
              0.6666666666666666,
              "#ed7953"
             ],
             [
              0.7777777777777778,
              "#fb9f3a"
             ],
             [
              0.8888888888888888,
              "#fdca26"
             ],
             [
              1,
              "#f0f921"
             ]
            ],
            "type": "heatmap"
           }
          ],
          "histogram": [
           {
            "marker": {
             "pattern": {
              "fillmode": "overlay",
              "size": 10,
              "solidity": 0.2
             }
            },
            "type": "histogram"
           }
          ],
          "histogram2d": [
           {
            "colorbar": {
             "outlinewidth": 0,
             "ticks": ""
            },
            "colorscale": [
             [
              0,
              "#0d0887"
             ],
             [
              0.1111111111111111,
              "#46039f"
             ],
             [
              0.2222222222222222,
              "#7201a8"
             ],
             [
              0.3333333333333333,
              "#9c179e"
             ],
             [
              0.4444444444444444,
              "#bd3786"
             ],
             [
              0.5555555555555556,
              "#d8576b"
             ],
             [
              0.6666666666666666,
              "#ed7953"
             ],
             [
              0.7777777777777778,
              "#fb9f3a"
             ],
             [
              0.8888888888888888,
              "#fdca26"
             ],
             [
              1,
              "#f0f921"
             ]
            ],
            "type": "histogram2d"
           }
          ],
          "histogram2dcontour": [
           {
            "colorbar": {
             "outlinewidth": 0,
             "ticks": ""
            },
            "colorscale": [
             [
              0,
              "#0d0887"
             ],
             [
              0.1111111111111111,
              "#46039f"
             ],
             [
              0.2222222222222222,
              "#7201a8"
             ],
             [
              0.3333333333333333,
              "#9c179e"
             ],
             [
              0.4444444444444444,
              "#bd3786"
             ],
             [
              0.5555555555555556,
              "#d8576b"
             ],
             [
              0.6666666666666666,
              "#ed7953"
             ],
             [
              0.7777777777777778,
              "#fb9f3a"
             ],
             [
              0.8888888888888888,
              "#fdca26"
             ],
             [
              1,
              "#f0f921"
             ]
            ],
            "type": "histogram2dcontour"
           }
          ],
          "mesh3d": [
           {
            "colorbar": {
             "outlinewidth": 0,
             "ticks": ""
            },
            "type": "mesh3d"
           }
          ],
          "parcoords": [
           {
            "line": {
             "colorbar": {
              "outlinewidth": 0,
              "ticks": ""
             }
            },
            "type": "parcoords"
           }
          ],
          "pie": [
           {
            "automargin": true,
            "type": "pie"
           }
          ],
          "scatter": [
           {
            "fillpattern": {
             "fillmode": "overlay",
             "size": 10,
             "solidity": 0.2
            },
            "type": "scatter"
           }
          ],
          "scatter3d": [
           {
            "line": {
             "colorbar": {
              "outlinewidth": 0,
              "ticks": ""
             }
            },
            "marker": {
             "colorbar": {
              "outlinewidth": 0,
              "ticks": ""
             }
            },
            "type": "scatter3d"
           }
          ],
          "scattercarpet": [
           {
            "marker": {
             "colorbar": {
              "outlinewidth": 0,
              "ticks": ""
             }
            },
            "type": "scattercarpet"
           }
          ],
          "scattergeo": [
           {
            "marker": {
             "colorbar": {
              "outlinewidth": 0,
              "ticks": ""
             }
            },
            "type": "scattergeo"
           }
          ],
          "scattergl": [
           {
            "marker": {
             "colorbar": {
              "outlinewidth": 0,
              "ticks": ""
             }
            },
            "type": "scattergl"
           }
          ],
          "scattermap": [
           {
            "marker": {
             "colorbar": {
              "outlinewidth": 0,
              "ticks": ""
             }
            },
            "type": "scattermap"
           }
          ],
          "scattermapbox": [
           {
            "marker": {
             "colorbar": {
              "outlinewidth": 0,
              "ticks": ""
             }
            },
            "type": "scattermapbox"
           }
          ],
          "scatterpolar": [
           {
            "marker": {
             "colorbar": {
              "outlinewidth": 0,
              "ticks": ""
             }
            },
            "type": "scatterpolar"
           }
          ],
          "scatterpolargl": [
           {
            "marker": {
             "colorbar": {
              "outlinewidth": 0,
              "ticks": ""
             }
            },
            "type": "scatterpolargl"
           }
          ],
          "scatterternary": [
           {
            "marker": {
             "colorbar": {
              "outlinewidth": 0,
              "ticks": ""
             }
            },
            "type": "scatterternary"
           }
          ],
          "surface": [
           {
            "colorbar": {
             "outlinewidth": 0,
             "ticks": ""
            },
            "colorscale": [
             [
              0,
              "#0d0887"
             ],
             [
              0.1111111111111111,
              "#46039f"
             ],
             [
              0.2222222222222222,
              "#7201a8"
             ],
             [
              0.3333333333333333,
              "#9c179e"
             ],
             [
              0.4444444444444444,
              "#bd3786"
             ],
             [
              0.5555555555555556,
              "#d8576b"
             ],
             [
              0.6666666666666666,
              "#ed7953"
             ],
             [
              0.7777777777777778,
              "#fb9f3a"
             ],
             [
              0.8888888888888888,
              "#fdca26"
             ],
             [
              1,
              "#f0f921"
             ]
            ],
            "type": "surface"
           }
          ],
          "table": [
           {
            "cells": {
             "fill": {
              "color": "#EBF0F8"
             },
             "line": {
              "color": "white"
             }
            },
            "header": {
             "fill": {
              "color": "#C8D4E3"
             },
             "line": {
              "color": "white"
             }
            },
            "type": "table"
           }
          ]
         },
         "layout": {
          "annotationdefaults": {
           "arrowcolor": "#2a3f5f",
           "arrowhead": 0,
           "arrowwidth": 1
          },
          "autotypenumbers": "strict",
          "coloraxis": {
           "colorbar": {
            "outlinewidth": 0,
            "ticks": ""
           }
          },
          "colorscale": {
           "diverging": [
            [
             0,
             "#8e0152"
            ],
            [
             0.1,
             "#c51b7d"
            ],
            [
             0.2,
             "#de77ae"
            ],
            [
             0.3,
             "#f1b6da"
            ],
            [
             0.4,
             "#fde0ef"
            ],
            [
             0.5,
             "#f7f7f7"
            ],
            [
             0.6,
             "#e6f5d0"
            ],
            [
             0.7,
             "#b8e186"
            ],
            [
             0.8,
             "#7fbc41"
            ],
            [
             0.9,
             "#4d9221"
            ],
            [
             1,
             "#276419"
            ]
           ],
           "sequential": [
            [
             0,
             "#0d0887"
            ],
            [
             0.1111111111111111,
             "#46039f"
            ],
            [
             0.2222222222222222,
             "#7201a8"
            ],
            [
             0.3333333333333333,
             "#9c179e"
            ],
            [
             0.4444444444444444,
             "#bd3786"
            ],
            [
             0.5555555555555556,
             "#d8576b"
            ],
            [
             0.6666666666666666,
             "#ed7953"
            ],
            [
             0.7777777777777778,
             "#fb9f3a"
            ],
            [
             0.8888888888888888,
             "#fdca26"
            ],
            [
             1,
             "#f0f921"
            ]
           ],
           "sequentialminus": [
            [
             0,
             "#0d0887"
            ],
            [
             0.1111111111111111,
             "#46039f"
            ],
            [
             0.2222222222222222,
             "#7201a8"
            ],
            [
             0.3333333333333333,
             "#9c179e"
            ],
            [
             0.4444444444444444,
             "#bd3786"
            ],
            [
             0.5555555555555556,
             "#d8576b"
            ],
            [
             0.6666666666666666,
             "#ed7953"
            ],
            [
             0.7777777777777778,
             "#fb9f3a"
            ],
            [
             0.8888888888888888,
             "#fdca26"
            ],
            [
             1,
             "#f0f921"
            ]
           ]
          },
          "colorway": [
           "#636efa",
           "#EF553B",
           "#00cc96",
           "#ab63fa",
           "#FFA15A",
           "#19d3f3",
           "#FF6692",
           "#B6E880",
           "#FF97FF",
           "#FECB52"
          ],
          "font": {
           "color": "#2a3f5f"
          },
          "geo": {
           "bgcolor": "white",
           "lakecolor": "white",
           "landcolor": "#E5ECF6",
           "showlakes": true,
           "showland": true,
           "subunitcolor": "white"
          },
          "hoverlabel": {
           "align": "left"
          },
          "hovermode": "closest",
          "mapbox": {
           "style": "light"
          },
          "paper_bgcolor": "white",
          "plot_bgcolor": "#E5ECF6",
          "polar": {
           "angularaxis": {
            "gridcolor": "white",
            "linecolor": "white",
            "ticks": ""
           },
           "bgcolor": "#E5ECF6",
           "radialaxis": {
            "gridcolor": "white",
            "linecolor": "white",
            "ticks": ""
           }
          },
          "scene": {
           "xaxis": {
            "backgroundcolor": "#E5ECF6",
            "gridcolor": "white",
            "gridwidth": 2,
            "linecolor": "white",
            "showbackground": true,
            "ticks": "",
            "zerolinecolor": "white"
           },
           "yaxis": {
            "backgroundcolor": "#E5ECF6",
            "gridcolor": "white",
            "gridwidth": 2,
            "linecolor": "white",
            "showbackground": true,
            "ticks": "",
            "zerolinecolor": "white"
           },
           "zaxis": {
            "backgroundcolor": "#E5ECF6",
            "gridcolor": "white",
            "gridwidth": 2,
            "linecolor": "white",
            "showbackground": true,
            "ticks": "",
            "zerolinecolor": "white"
           }
          },
          "shapedefaults": {
           "line": {
            "color": "#2a3f5f"
           }
          },
          "ternary": {
           "aaxis": {
            "gridcolor": "white",
            "linecolor": "white",
            "ticks": ""
           },
           "baxis": {
            "gridcolor": "white",
            "linecolor": "white",
            "ticks": ""
           },
           "bgcolor": "#E5ECF6",
           "caxis": {
            "gridcolor": "white",
            "linecolor": "white",
            "ticks": ""
           }
          },
          "title": {
           "x": 0.05
          },
          "xaxis": {
           "automargin": true,
           "gridcolor": "white",
           "linecolor": "white",
           "ticks": "",
           "title": {
            "standoff": 15
           },
           "zerolinecolor": "white",
           "zerolinewidth": 2
          },
          "yaxis": {
           "automargin": true,
           "gridcolor": "white",
           "linecolor": "white",
           "ticks": "",
           "title": {
            "standoff": 15
           },
           "zerolinecolor": "white",
           "zerolinewidth": 2
          }
         }
        }
       }
      }
     },
     "metadata": {},
     "output_type": "display_data"
    }
   ],
   "source": [
    "# Example lines\n",
    "t = np.linspace(0, 2*np.pi, 100)\n",
    "line1 = np.column_stack((np.cos(t), np.sin(t), 0.2*t))\n",
    "line2 = np.column_stack((1.05*np.cos(t), 1.05*np.sin(t), 0.2*t + 0.2))\n",
    "\n",
    "# Make figure\n",
    "fig = go.Figure()\n",
    "\n",
    "fig.add_trace(connect_lines_mesh3d(line1, line2, color='lightblue', opacity=0.6))\n",
    "fig.add_trace(go.Scatter3d(x=line1[:,0], y=line1[:,1], z=line1[:,2],\n",
    "                           mode='lines', line=dict(color='blue', width=5), name='Line 1'))\n",
    "fig.add_trace(go.Scatter3d(x=line2[:,0], y=line2[:,1], z=line2[:,2],\n",
    "                           mode='lines', line=dict(color='red', width=5), name='Line 2'))\n",
    "\n",
    "fig.update_layout(scene=dict(aspectmode='data'))\n",
    "fig.show()\n"
   ]
  },
  {
   "cell_type": "code",
   "execution_count": 14,
   "metadata": {},
   "outputs": [
    {
     "data": {
      "application/vnd.plotly.v1+json": {
       "config": {
        "plotlyServerURL": "https://plot.ly"
       },
       "data": [
        {
         "color": "blue",
         "i": {
          "bdata": "AAEBAgIDAwQEBQUGBgcHCAgJCQoKCwsMDA0NDg4PDxAQERESEhMTFBQVFRYWFxcYGBk=",
          "dtype": "i1"
         },
         "j": {
          "bdata": "ARsCHAMdBB4FHwYgByEIIgkjCiQLJQwmDScOKA8pECoRKxIsEy0ULhUvFjAXMRgyGTM=",
          "dtype": "i1"
         },
         "k": {
          "bdata": "GhobGxwcHR0eHh8fICAhISIiIyMkJCUlJiYnJygoKSkqKisrLCwtLS4uLy8wMDExMjI=",
          "dtype": "i1"
         },
         "name": "surface",
         "opacity": 0.6,
         "type": "mesh3d",
         "x": {
          "bdata": "nw72BfoGLsCDA1sPv7cowCEx2ZHBli1A8BtH+AzyJUBeTdSsH6UvwPD+F9gJ+yLATMqiWzC2MEDyQBO2vrIfQAGUANFCdDHAdDdDDy4oGcAhiegTHAsyQOe9ftwUZRJA2EqZJml5MsAU+juTSvEGwHNl9SkyvjJAMxTlnbnJ8T8pXomK3NgywLshi1c27uQ/C7zpWyzJMkBC2g6zNVADwJNwXN9EjzLAAG6ShrucEECKAJ80qCsyQGLij1gHbBfAJnl7NTafMcAsuZsWAJMMQABsgwnFxyvAiDqM18gwKcBFEluJCxsqQEhHPaCiviZA6VlLpZQ8LMAamlOgXxkkwLC/Hn6pHi5AJMHKzfFGIUDiRCS7Dr0vwNY30D1hmxzAEpRejxCKMEANYuKTlWgWQAQ+idluEDHAJOafgW4DEMBAgU1HdHAxQLVnkCmW9AJAvfedEEmpMcB85NfK2d7mvxllDX9tujFA9AZuPgpI7r8ChM4Mu6MxwIY05Wu4ygRADLtFu2RlMUDwJNV1WuoQwGUwaqD2/zDA+fk4AuUfCUA=",
          "dtype": "f8"
         },
         "y": {
          "bdata": "nUnmsuymIsDVkM1LU3YsQHGOwpZ2WydAYrzs9I2mLsBa4LpbTXwkwPD4VNDzSDBAJU1o/RpvIUBbBAcRCBoxwDopJgV2dRzAFhtm463EMUDs0qf5wcwVQIEUfMtlRzLAGiKkZiHmDcCmtkkICqEyQK6YfJAc3/8/CGzoJ9HQMsBSGIaat1LNv7CMO8xP1jJA5oplU6uS+L+r5DecebEywI8OFoU6TApAIUyjX6FiMkA4WuZDAwoUwGjqDUV46jHA2QOL9+DAGkD9bN5BSU8xQDp1rlO6riTAwOTjNPXzKECR4h0edP4nQJWSbzl1MyvARdVCJAhyJcCVSF3F1DUtQFY4SdFqtSJAG1HV7o/2LsB3VacrhZ0fwNhMoifbODBACkhvuiiJGUC407vu+dEwwKBQGc5pOxPA+jspNExFMUCAX1q15YQJQE87q9DOkTHAXExSzj2z+L+9l7HU1bYxQMDoUwcZrb2/dxy8Cg60McCGzMbotWT8P9vrV7J9iTFAriLQ52VXC8A77hRyhDcxwL7rTM9/HxRA1hCwe2S3L0A=",
          "dtype": "f8"
         },
         "z": {
          "bdata": "AAAAAAAAAAAypejGPCEZQD6l6MY8ISlA9Xsule3YMkBEpejGPCE5QJHOoviLaT9A8nsule3YQkCdkAsuFf1FQESl6MY8IUlA67nFX2RFTECVzqL4i2lPQKDxv8jZRlFA8nsule3YUkBFBp1hAWtUQJmQCy4V/VVA7Rp6+iiPV0BBpejGPCFZQJQvV5NQs1pA6rnFX2RFXEA+RDQseNddQJHOoviLaV9AcqyI4s99YECd8b/I2UZhQMY2967jD2JA73sule3YYkAawWV796FjQHUPVVWxiAhAAAwUW+FqIkCkXoi+f/suQKhY/hAPxjVA+IG4Ql4OPECiVTm6VitBQExqFlN+T0RA937z66VzR0Cek9CEzZdKQEWorR31u01Ad15FWw5wUEDN6LMnIgJSQB9zIvQ1lFNAcv2QwEkmVUDGh/+MXbhWQBoSbllxSlhAbpzcJYXcWUDBJkvymG5bQBexub6sAF1Aazsoi8CSXkDfYssrahJgQAioAhJ022BAM+05+H2kYUBcMnHeh21iQIV3qMSRNmNAWBW7QBoEZEA=",
          "dtype": "f8"
         }
        },
        {
         "color": "blue",
         "i": {
          "bdata": "AAEBAgIDAwQEBQUGBgcHCAgJCQoKCwsMDA0NDg4PDxAQERESEhMTFBQVFRYWFxcYGBk=",
          "dtype": "i1"
         },
         "j": {
          "bdata": "ARsCHAMdBB4FHwYgByEIIgkjCiQLJQwmDScOKA8pECoRKxIsEy0ULhUvFjAXMRgyGTM=",
          "dtype": "i1"
         },
         "k": {
          "bdata": "GhobGxwcHR0eHh8fICAhISIiIyMkJCUlJiYnJygoKSkqKisrLCwtLS4uLy8wMDExMjI=",
          "dtype": "i1"
         },
         "name": "surface",
         "opacity": 0.6,
         "type": "mesh3d",
         "x": {
          "bdata": "AGyDCcXHK8CIOozXyDApwEUSW4kLGypASEc9oKK+JkDpWUullDwswBqaU6BfGSTAsL8efqkeLkAkwcrN8UYhQOJEJLsOvS/A1jfQPWGbHMASlF6PEIowQA1i4pOVaBZABD6J2W4QMcAk5p+BbgMQwECBTUd0cDFAtWeQKZb0AkC9950QSakxwHzk18rZ3ua/GWUNf226MUD0Bm4+CkjuvwKEzgy7ozHAhjTla7jKBEAMu0W7ZGUxQPAk1XVa6hDAZTBqoPb/MMD5+TgC5R8JQBn7Qcwr6SXAJ4W/48JfJsB9S5N3XZQkQJ0phxAociRAn/KvysN+JsClYLnmmlYiwKdtO92cNihAAI7x5NcRIEAu8Ac/DLgpwEEQYEvwURvAnxwVx6//KkBc1vnUy0IWQEdpBS6nCizAxWtZ4aABEcAsCbSEmtYsQOFJfax8NAdAoh9leL9hLcD4aXTtI2P4v+aMuljdqi1A2N00BwY0wT/mymLWT7EtwNNekIb3GvQ/XcBWdAh1LUAR2mGzoBcFwPvIaKiO9izAKN+5tWaQDkA=",
          "dtype": "f8"
         },
         "y": {
          "bdata": "OnWuU7quJMDA5OM09fMoQJHiHR50/idAlZJvOXUzK8BF1UIkCHIlwJVIXcXUNS1AVjhJ0Wq1IkAbUdXuj/YuwHdVpyuFnR/A2EyiJ9s4MEAKSG+6KIkZQLjTu+750TDAoFAZzmk7E8D6Oyk0TEUxQIBfWrXlhAlATzur0M6RMcBcTFLOPbP4v72XsdTVtjFAwOhTBxmtvb93HLwKDrQxwIbMxui1ZPw/2+tXsn2JMUCuItDnZVcLwDvuFHKENzHAvutMz38fFEDWELB7ZLcvQNhn95Bs+yXASMsEi4mNI0Agvb+i+24lQMwXWvafjyXAbHkyS9ZpI8Dw9fmHQmEnQJb+aZkQOSFAg9ym3Fr+KMCmhEZ4LcMdwPl/4KJIYypANjEHuFfRGECgNQjB6YwrwPIWc5C8pxPAVzjhX6F4LECgcfHo66MMQCwkmsldJC3A5lvjMgK4AcBACy4QnY4tQLDpai8ckeo/bgaqcHC2LcCk8z0QhPnhPypgumt+my1ARkad1N8t/7+SgsmOAz4twBjByEV2jApAl1krMkvcKUA=",
          "dtype": "f8"
         },
         "z": {
          "bdata": "dQ9VVbGICEAADBRb4WoiQKReiL5/+y5AqFj+EA/GNUD4gbhCXg48QKJVObpWK0FATGoWU35PRED3fvPrpXNHQJ6T0ITNl0pARaitHfW7TUB3XkVbDnBQQM3osyciAlJAH3Mi9DWUU0By/ZDASSZVQMaH/4xduFZAGhJuWXFKWEBunNwlhdxZQMEmS/KYbltAF7G5vqwAXUBrOyiLwJJeQN9iyytqEmBACKgCEnTbYEAz7Tn4faRhQFwycd6HbWJAhXeoxJE2Y0BYFbtAGgRkQEsz7yxKyxJAfKXtsBaIJUAQ/DCKWgwxQGYl67upVDdAtk6l7ficPUABvK8PpPJBQKrQjKjLFkVAVeVpQfM6SED9+UbaGl9LQKMOJHNCg05Ap5EABrXTUED8G2/SyGVSQE6m3Z7c91NAoTBMa/CJVUD1uro3BBxXQElFKQQYrlhAnc+X0CtAWkDwWQadP9JbQEbkdGlTZF1Amm7jNWf2XkB3/CiBPURgQKBBYGdHDWFAy4aXTVHWYUD0y84zW59iQB0RBhplaGNAtDrNzFE4ZEA=",
          "dtype": "f8"
         }
        },
        {
         "color": "blue",
         "i": {
          "bdata": "AAEBAgIDAwQEBQUGBgcHCAgJCQoKCwsMDA0NDg4PDxAQERESEhMTFBQVFRYWFxcYGBk=",
          "dtype": "i1"
         },
         "j": {
          "bdata": "ARsCHAMdBB4FHwYgByEIIgkjCiQLJQwmDScOKA8pECoRKxIsEy0ULhUvFjAXMRgyGTM=",
          "dtype": "i1"
         },
         "k": {
          "bdata": "GhobGxwcHR0eHh8fICAhISIiIyMkJCUlJiYnJygoKSkqKisrLCwtLS4uLy8wMDExMjI=",
          "dtype": "i1"
         },
         "name": "surface",
         "opacity": 0.6,
         "type": "mesh3d",
         "x": {
          "bdata": "GftBzCvpJcAnhb/jwl8mwH1Lk3ddlCRAnSmHEChyJECf8q/Kw34mwKVgueaaViLAp2073Zw2KEAAjvHk1xEgQC7wBz8MuCnAQRBgS/BRG8CfHBXHr/8qQFzW+dTLQhZAR2kFLqcKLMDFa1nhoAERwCwJtISa1ixA4Ul9rHw0B0CiH2V4v2EtwPhpdO0jY/i/5oy6WN2qLUDY3TQHBjTBP+bKYtZPsS3A016Qhvca9D9dwFZ0CHUtQBHaYbOgFwXA+8hoqI72LMAo37m1ZpAOQIbtV+SGVB7AB/xcJg2WIcAjqUJLUjEfQM3HkFv4HyBABL8MXWsbIcD2YI4oTgsdwI1etge8dyJAEEc2yGaVGUAgN2BnjKojwCII0mkB5hXA7DL/ACuxJED8L8YTZgUSQM+KJqpJiSXAtTvrxZb4C8AMSkS3AjEmQD/tH+yFpwNAP5QKP92mJsC0lnIxlFT2vyQFcWnQ6SZAnJTqXLif1D8qw97CRfkmwGQub2OcIOg/eslDjhrVJkDCNQRbbi39vy+kKROgfSbAaYeUuHksFUA=",
          "dtype": "f8"
         },
         "y": {
          "bdata": "2Gf3kGz7JcBIywSLiY0jQCC9v6L7biVAzBda9p+PJcBseTJL1mkjwPD1+YdCYSdAlv5pmRA5IUCD3KbcWv4owKaERngtwx3A+X/gokhjKkA2MQe4V9EYQKA1CMHpjCvA8hZzkLynE8BXOOFfoXgsQKBx8ejrowxALCSayV0kLcDmW+MyArgBwEALLhCdji1AsOlqLxyR6j9uBqpwcLYtwKTzPRCE+eE/KmC6a36bLUBGRp3U3y3/v5KCyY4DPi3AGMHIRXaMCkCXWSsyS9wpQAdawFBX8SXAojNGyNOTHUBHdYPawN8gQARlJhGkXiDA/0vT7j6uHsAgqNDrlM4hQIkngeIJWBtAR2hmm4EWI8AAUAwpYsQXwOEWJTSJMyRA+XLXcVH7E0DGZ0ovKyMlwLAllnJZBRDAZNh8Ck3jJUBF9PuSwdYHQKCw8gE/cibAaQ7Q8nva/r/JDbjav84mQNj/Tx8+hOs/c3qPtP/3JsCQkiqpRqnLP9ftFt2h7SZAKMZrkquk9L+uVBegva8mwIQeijrl0gJAPnNRkbjKI0A=",
          "dtype": "f8"
         },
         "z": {
          "bdata": "SzPvLErLEkB8pe2wFoglQBD8MIpaDDFAZiXru6lUN0C2TqXt+Jw9QAG8rw+k8kFAqtCMqMsWRUBV5WlB8zpIQP35RtoaX0tAow4kc0KDTkCnkQAGtdNQQPwbb9LIZVJATqbdntz3U0ChMExr8IlVQPW6ujcEHFdASUUpBBiuWECdz5fQK0BaQPBZBp0/0ltARuR0aVNkXUCabuM1Z/ZeQHf8KIE9RGBAoEFgZ0cNYUDLhpdNUdZhQPTLzjNbn2JAHREGGmVoY0C0Os3MUThkQLiWnCn6hhBAAFEVmThzJEDS0UR+64EwQCj7/q86yjZAeCS54YkSPUDiprmJbK1BQIy7liKU0URAN9Bzu7v1R0De5FBU4xlLQIX5Le0KPk5AF4cFQxmxUEBtEXQPLUNSQL+b4ttA1VNAEiZRqFRnVUBmsL90aPlWQLo6LkF8i1hADsWcDZAdWkBhTwvao69bQLfZeaa3QV1AC2TocsvTXkAvd6uf7zJgQFi84oX5+2BAgwEabAPFYUCtRlFSDY5iQNWLiDgXV2NA0KWyTC8mZEA=",
          "dtype": "f8"
         }
        },
        {
         "color": "blue",
         "i": {
          "bdata": "AAEBAgIDAwQEBQUGBgcHCAgJCQoKCwsMDA0NDg4PDxAQERESEhMTFBQVFRYWFxcYGBk=",
          "dtype": "i1"
         },
         "j": {
          "bdata": "ARsCHAMdBB4FHwYgByEIIgkjCiQLJQwmDScOKA8pECoRKxIsEy0ULhUvFjAXMRgyGTM=",
          "dtype": "i1"
         },
         "k": {
          "bdata": "GhobGxwcHR0eHh8fICAhISIiIyMkJCUlJiYnJygoKSkqKisrLCwtLS4uLy8wMDExMjI=",
          "dtype": "i1"
         },
         "name": "surface",
         "opacity": 0.6,
         "type": "mesh3d",
         "x": {
          "bdata": "hu1X5IZUHsAH/FwmDZYhwCOpQktSMR9AzceQW/gfIEAEvwxdaxshwPZgjihOCx3AjV62B7x3IkAQRzbIZpUZQCA3YGeMqiPAIgjSaQHmFcDsMv8AK7EkQPwvxhNmBRJAz4omqkmJJcC1O+vFlvgLwAxKRLcCMSZAP+0f7IWnA0A/lAo/3aYmwLSWcjGUVPa/JAVxadDpJkCclOpcuJ/UPyrD3sJF+SbAZC5vY5wg6D96yUOOGtUmQMI1BFtuLf2/L6QpE6B9JsBph5S4eSwVQFYHtREsZhXAtEIELFsiGsB7YG5GsvkaQCk0MZ5YmxdA4hBRLukvHcBM//RKSd8UwO8QngGJJB9AYqbXY1L0EUB/RQ1elmkgwD4zRAQFwg3AebaKTwYcIUAR0lnVhVgHQCS/ElgDqCHALZ/aC5C6AMDav7HhUgwiQKbSnbwE7vM/uCmngBNIIsBGU4Pyf+jYv0vq9+2+WiJAiMHYfgwf3r+Szy41K0QiwLfleh26OPU/ccakEosEIkBoQoFEAF0BwMAXfYFtnCHANJEihwh7G0A=",
          "dtype": "f8"
         },
         "y": {
          "bdata": "B1rAUFfxJcCiM0bI05MdQEd1g9rA3yBABGUmEaReIMD/S9PuPq4ewCCo0OuUziFAiSeB4glYG0BHaGabgRYjwABQDClixBfA4RYlNIkzJED5ctdxUfsTQMZnSi8rIyXAsCWWclkFEMBk2HwKTeMlQEX0+5LB1gdAoLDyAT9yJsBpDtDye9r+v8kNuNq/ziZA2P9PHz6E6z9zeo+0//cmwJCSKqlGqcs/1+0W3aHtJkAoxmuSq6T0v65UF6C9rybAhB6KOuXSAkA+c1GRuMojQKEIzV4ylSTAeKDWVYbHGUBoWmVQ2eUYQB34xWq0HBzADFNA3ZJDFsA4anvetTIeQO7Fmy1EbxNAQr1iVG0CIMCuNlnwSG8QwE7J4aCFxyBA1isw872UCkD4Dfjp6GYhwFUlwzguDwTABA9mATHfIUCISUcnFbn6P/5nWZpPLyLAVLFoy4Av6r8QydmokFYiQEC+wi4Q4KS/lRFk9ptUIsDSzRM8lMjsPyleJuh1KSJAjE82SzwB/L9WeR91f9UhwCD+98ifrwRAm45gsZtZIEA=",
          "dtype": "f8"
         },
         "z": {
          "bdata": "uJacKfqGEEAAURWZOHMkQNLRRH7rgTBAKPv+rzrKNkB4JLnhiRI9QOKmuYlsrUFAjLuWIpTRREA30HO7u/VHQN7kUFTjGUtAhfkt7Qo+TkAXhwVDGbFQQG0RdA8tQ1JAv5vi20DVU0ASJlGoVGdVQGawv3Ro+VZAujouQXyLWEAOxZwNkB1aQGFPC9qjr1tAt9l5prdBXUALZOhyy9NeQC93q5/vMmBAWLzihfn7YECDARpsA8VhQK1GUVINjmJA1YuIOBdXY0DQpbJMLyZkQEWuEgnGG/o/KtibcqdbH0C5PsIccj4sQLNIG0CIZzRAAnLVcdevOkCnzcdRE3xAQFHipOo6oENA/PaBg2LERkCjC18ciuhJQEogPLWxDE1AepoMp2wYUEDPJHtzgKpRQCKv6T+UPFNAdDlYDKjOVEDIw8bYu2BWQBxONaXP8ldAcNijceOEWUDDYhI+9xZbQBntgAoLqVxAbXfv1h47XkDAAV6jMs1fQApG5jejr2BANYsdHq14YUBe0FQEt0FiQIcVjOrACmNAduZ3By/WY0A=",
          "dtype": "f8"
         }
        },
        {
         "color": "blue",
         "i": {
          "bdata": "AAEBAgIDAwQEBQUGBgcHCAgJCQoKCwsMDA0NDg4PDxAQERESEhMTFBQVFRYWFxcYGBk=",
          "dtype": "i1"
         },
         "j": {
          "bdata": "ARsCHAMdBB4FHwYgByEIIgkjCiQLJQwmDScOKA8pECoRKxIsEy0ULhUvFjAXMRgyGTM=",
          "dtype": "i1"
         },
         "k": {
          "bdata": "GhobGxwcHR0eHh8fICAhISIiIyMkJCUlJiYnJygoKSkqKisrLCwtLS4uLy8wMDExMjI=",
          "dtype": "i1"
         },
         "name": "surface",
         "opacity": 0.6,
         "type": "mesh3d",
         "x": {
          "bdata": "Vge1ESxmFcC0QgQsWyIawHtgbkay+RpAKTQxnlibF0DiEFEu6S8dwEz/9EpJ3xTA7xCeAYkkH0BiptdjUvQRQH9FDV6WaSDAPjNEBAXCDcB5topPBhwhQBHSWdWFWAdAJL8SWAOoIcAtn9oLkLoAwNq/seFSDCJAptKdvATu8z+4KaeAE0giwEZTg/J/6Ni/S+r37b5aIkCIwdh+DB/ev5LPLjUrRCLAt+V6Hbo49T9xxqQSiwQiQGhCgUQAXQHAwBd9gW2cIcA0kSKHCHsbQKL72LEWNRXAsDdHGencFcDGXBwIBnseQO6Ql/fTARNA0ozl9XQhIMB9QCduEPgPwAh38hMn4SBACwXDeaGkCUB3eIWV6nohwOy2Ek6SFwPApu3h72XtIUBxz3VNN7/4P7DiwN6XNyLAxjkGp1ov5r+AEnSm2VgiQAh1/GRQRsW/otOViuBQIsAmHmuJR2PwP9Tu+3W+HyJACP5ZR/H4/b/e9nPS4cUhwLLJlxagpQVAF5qjkBREIUDDrCI/Ih4MwJGIOmJ6myDA3AmnkWdAH0A=",
          "dtype": "f8"
         },
         "y": {
          "bdata": "oQjNXjKVJMB4oNZVhscZQGhaZVDZ5RhAHfjFarQcHMAMU0DdkkMWwDhqe961Mh5A7sWbLURvE0BCvWJUbQIgwK42WfBIbxDATsnhoIXHIEDWKzDzvZQKQPgN+OnoZiHAVSXDOC4PBMAED2YBMd8hQIhJRycVufo//mdZmk8vIsBUsWjLgC/qvxDJ2aiQViJAQL7CLhDgpL+VEWT2m1QiwNLNEzyUyOw/KV4m6HUpIkCMTzZLPAH8v1Z5H3V/1SHAIP73yJ+vBECbjmCxm1kgQKRAg0jkiSLA46TaPR59HUCo9yR3HnUUQHPtXZ/LZx/AwMr2T9qDEcC2Wfbg8oUgQGUeDdlz1gxAwWV4St4yIcAL4RUGZWQGwJO+R3UjuSFABFcfagiA/z+gfBSllBciwL/IihF98PG/IrI9nl1NIkCwbnpuheLQP47pwIIFWiLAeZ+BjG0R4z+E4tfhbz0iQM3+dxGiNPe/ihri99z3IcAJgoy0M1YCQCyVCh7piSFA5ZpKcOHoCMCAMe5qi/QgwLrRit+UQw9AGGsp4jwlIUA=",
          "dtype": "f8"
         },
         "z": {
          "bdata": "Ra4SCcYb+j8q2Jtyp1sfQLk+whxyPixAs0gbQIhnNEACctVx1686QKfNx1ETfEBAUeKk6jqgQ0D89oGDYsRGQKMLXxyK6ElASiA8tbEMTUB6mgynbBhQQM8ke3OAqlFAIq/pP5Q8U0B0OVgMqM5UQMjDxti7YFZAHE41pc/yV0Bw2KNx44RZQMNiEj73FltAGe2ACgupXEBtd+/WHjteQMABXqMyzV9ACkbmN6OvYEA1ix0erXhhQF7QVAS3QWJAhxWM6sAKY0B25ncHL9ZjQECuEgnGG/q/PHI1G9LmEkDDCw9xBwQmQDivQepSSjFAhtj7G6KSN0DTAbZN8do9QJMVuD+gEUJAPiqV2Mc1RUDlPnJx71lIQIxTTwoXfktANmgsoz6iTkBxvgQeM+NQQMNIc+pGdVJAFtPhtloHVEBqXVCDbplVQL7nvk+CK1dAEnItHJa9WEBl/JvoqU9aQLuGCrW94VtADxF5gdFzXUBim+dN5QVfQNoSK438S2BABVhicwYVYUAunZlZEN5hQFfi0D8ap2JAvptT779tY0A=",
          "dtype": "f8"
         }
        },
        {
         "color": "blue",
         "i": {
          "bdata": "AAEBAgIDAwQEBQUGBgcHCAgJCQoKCwsMDA0NDg4PDxAQERESEhMTFBQVFRYWFxcYGBk=",
          "dtype": "i1"
         },
         "j": {
          "bdata": "ARsCHAMdBB4FHwYgByEIIgkjCiQLJQwmDScOKA8pECoRKxIsEy0ULhUvFjAXMRgyGTM=",
          "dtype": "i1"
         },
         "k": {
          "bdata": "GhobGxwcHR0eHh8fICAhISIiIyMkJCUlJiYnJygoKSkqKisrLCwtLS4uLy8wMDExMjI=",
          "dtype": "i1"
         },
         "name": "surface",
         "opacity": 0.6,
         "type": "mesh3d",
         "x": {
          "bdata": "ovvYsRY1FcCwN0cZ6dwVwMZcHAgGex5A7pCX99MBE0DSjOX1dCEgwH1AJ24Q+A/ACHfyEyfhIEALBcN5oaQJQHd4hZXqeiHA7LYSTpIXA8Cm7eHvZe0hQHHPdU03v/g/sOLA3pc3IsDGOQanWi/mv4ASdKbZWCJACHX8ZFBGxb+i05WK4FAiwCYea4lHY/A/1O77db4fIkAI/llH8fj9v972c9LhxSHAssmXFqClBUAXmqOQFEQhQMOsIj8iHgzAkYg6YnqbIMDcCaeRZ0AfQDQ5OT8+2B3A3xOqumZbGMBnpQuBtwgkQIoxtxBcmhRAK6V7zsz/JMCpbLi3BKsQwAgrN3exxyVA20pD0nAsCUC6aahGpF4mwDvY8BVGygDAYvCjBVLDJkA2nkROwITwP/r/s3TY9CbAwF2rxVAFpj/MuIZIyPImQGFx/3eJ4/G/DpIIJCa9JsA83bCTWncBQL4P+Y1qVCZAmiyoRbDVCcBSIxHigLklwFTe7cD7/BBAbt0bQMXtJEDcHMo38ugUwHoFpn0B8yPAUGmonOG4HkA=",
          "dtype": "f8"
         },
         "y": {
          "bdata": "pECDSOSJIsDjpNo9Hn0dQKj3JHcedRRAc+1dn8tnH8DAyvZP2oMRwLZZ9uDyhSBAZR4N2XPWDEDBZXhK3jIhwAvhFQZlZAbAk75HdSO5IUAEVx9qCID/P6B8FKWUFyLAv8iKEX3w8b8isj2eXU0iQLBuem6F4tA/junAggVaIsB5n4GMbRHjP4Ti1+FvPSJAzf53EaI097+KGuL33PchwAmCjLQzVgJALJUKHumJIUDlmkpw4egIwIAx7mqL9CDAutGK35RDD0AYayniPCUhQDi8dkZJxCDAlzXMHCR8I0DIBNSgNIEWQKyfHfcHiiTAP6QztO6nEsDWbgXUw2klQIhwjFl4SQ1Adeqk62AZJsCMax/GQgEFwASJMJlUlyZA3mk0i7IT+T8yk8rRg+ImwBjaURYUst+/CK2SoEX6JkBQbrkW7pjiv4HbVKJk3ibA22JFqo1w+j/K14J9H48mQBJ1m+ecrAXAkgNqVSgNJsB83tP7PfANQPN04jmjWSVANemX4kv4EsA+nfqWI3YkwH+33JPXzRZA9VfNT1TOJUA=",
          "dtype": "f8"
         },
         "z": {
          "bdata": "QK4SCcYb+r88cjUb0uYSQMMLD3EHBCZAOK9B6lJKMUCG2PsbopI3QNMBtk3x2j1AkxW4P6ARQkA+KpXYxzVFQOU+cnHvWUhAjFNPChd+S0A2aCyjPqJOQHG+BB4z41BAw0hz6kZ1UkAW0+G2WgdUQGpdUINumVVAvue+T4IrV0ASci0clr1YQGX8m+ipT1pAu4YKtb3hW0APEXmB0XNdQGKb503lBV9A2hIrjfxLYEAFWGJzBhVhQC6dmVkQ3mFAV+LQPxqnYkC+m1Pvv21jQLaWnCn6hhDAylBNtxC4AkDZpkeRoj4hQIT5u/RAzy1AECYYrO8vNUBeT9LdPng7QFk8xgdH4EBABFGjoG4ERECqZYA5lihHQFJ6XdK9TEpA/I46a+VwTUDT0QuChkpQQCVcek6a3FFAeOboGq5uU0DMcFfnwQBVQCD7xbPVklZAdIU0gOkkWEDHD6NM/bZZQB2aERkRSVtAcSSA5STbXEDEru6xOG1eQBc5XX5M/19At+FlJbDIYEDgJp0LupFhQAls1PHDWmJAZNwYqr8dY0A=",
          "dtype": "f8"
         }
        },
        {
         "color": "blue",
         "i": {
          "bdata": "AAEBAgIDAwQEBQUGBgcHCAgJCQoKCwsMDA0NDg4PDxAQERESEhMTFBQVFRYWFxcYGBk=",
          "dtype": "i1"
         },
         "j": {
          "bdata": "ARsCHAMdBB4FHwYgByEIIgkjCiQLJQwmDScOKA8pECoRKxIsEy0ULhUvFjAXMRgyGTM=",
          "dtype": "i1"
         },
         "k": {
          "bdata": "GhobGxwcHR0eHh8fICAhISIiIyMkJCUlJiYnJygoKSkqKisrLCwtLS4uLy8wMDExMjI=",
          "dtype": "i1"
         },
         "name": "surface",
         "opacity": 0.6,
         "type": "mesh3d",
         "x": {
          "bdata": "NDk5Pz7YHcDfE6q6ZlsYwGelC4G3CCRAijG3EFyaFEArpXvOzP8kwKlsuLcEqxDACCs3d7HHJUDbSkPScCwJQLppqEakXibAO9jwFUbKAMBi8KMFUsMmQDaeRE7AhPA/+v+zdNj0JsDAXavFUAWmP8y4hkjI8iZAYXH/d4nj8b8OkggkJr0mwDzdsJNadwFAvg/5jWpUJkCaLKhFsNUJwFIjEeKAuSXAVN7twPv8EEBu3RtAxe0kQNwcyjfy6BTAegWmfQHzI8BQaaic4bgeQFGyYIWBoiXAlq1+JYk5IMCX6POLPaApQEw2u9nIpRtAM8/om87rKsD9l9oEXpoWwAVWRTfg+itAxwT+5ydcEUB6Ptg2EcsswHy0Nojd7QfA9VYswI1aLUBrKRsVStv5P0vl52ATqC3AuM1hb/AFzb9kC2nj87ItQMMkmRH1ofK/bMlC1hZ7LcDaveCBZF0EQHvYKsP5AC1AXBqjzQo8D8AN8NwUr0UswHDenBZA6hRAcmttrttKK0CKRgWPegcawGkjdTmzEirAH79LWOAjGkA=",
          "dtype": "f8"
         },
         "y": {
          "bdata": "OLx2RknEIMCXNcwcJHwjQMgE1KA0gRZArJ8d9weKJMA/pDO07qcSwNZuBdTDaSVAiHCMWXhJDUB16qTrYBkmwIxrH8ZCAQXABIkwmVSXJkDeaTSLshP5PzKTytGD4ibAGNpRFhSy378IrZKgRfomQFBuuRbumOK/gdtUomTeJsDbYkWqjXD6P8rXgn0fjyZAEnWb55ysBcCSA2pVKA0mwHze0/s98A1A83TiOaNZJUA16ZfiS/gSwD6d+pYjdiTAf7fck9fNFkD1V81PVM4lQAHioZegGCDAQavt7KjkKECs7L724RQeQG4yXo5qTSrAWrO2NCUnGcAkC+WrEHsrQHzD6TniABRAFU3hZfVqLMC1RYPqVlsNwBJz+6P9Gi1AzgSKtPByAkCUbp3QnYktwJSIk+ZThO2/vGvqUd21LUD0+ZCb3wrev5SFaLhYny3AcDYr+Li2/T9pBnWeQkYtQFOQhAD60wnA1/yMNmOrLMA/Hgp0RkkSQCzFaYkW0CtAvo9jBHh/F8DwcORnSbYqwMzf43TbgBxAuwXLN58mLEA=",
          "dtype": "f8"
         },
         "z": {
          "bdata": "tpacKfqGEMDKUE23ELgCQNmmR5GiPiFAhPm79EDPLUAQJhis7y81QF5P0t0+eDtAWTzGB0fgQEAEUaOgbgREQKplgDmWKEdAUnpd0r1MSkD8jjpr5XBNQNPRC4KGSlBAJVx6TprcUUB45ugarm5TQMxwV+fBAFVAIPvFs9WSVkB0hTSA6SRYQMcPo0z9tllAHZoRGRFJW0BxJIDlJNtcQMSu7rE4bV5AFzldfkz/X0C34WUlsMhgQOAmnQu6kWFACWzU8cNaYkBk3Biqvx1jQEwz7yxKyxLAsP3XrzDJ/D9cUm95xCkgQAil49xiuixA0vsroIClNEAgJebRz+06QDon0IEPm0BA5DutGje/Q0CLUIqzXuNGQDJlZ0yGB0pA3XlE5a0rTUBExxC/6idQQJZRf4v+uVFA6dvtVxJMU0A9ZlwkJt5UQJHwyvA5cFZA5Xo5vU0CWEA4BaiJYZRZQI6PFlZ1JltA4hmFIom4XEA1pPPunEpeQIguYruw3F9Ab1zoQ2K3YECYoR8qbIBhQMHmVhB2SWJAgEf+KZ0LY0A=",
          "dtype": "f8"
         }
        },
        {
         "color": "blue",
         "i": {
          "bdata": "AAEBAgIDAwQEBQUGBgcHCAgJCQoKCwsMDA0NDg4PDxAQERESEhMTFBQVFRYWFxcYGBk=",
          "dtype": "i1"
         },
         "j": {
          "bdata": "ARsCHAMdBB4FHwYgByEIIgkjCiQLJQwmDScOKA8pECoRKxIsEy0ULhUvFjAXMRgyGTM=",
          "dtype": "i1"
         },
         "k": {
          "bdata": "GhobGxwcHR0eHh8fICAhISIiIyMkJCUlJiYnJygoKSkqKisrLCwtLS4uLy8wMDExMjI=",
          "dtype": "i1"
         },
         "name": "surface",
         "opacity": 0.6,
         "type": "mesh3d",
         "x": {
          "bdata": "UbJghYGiJcCWrX4liTkgwJfo84s9oClATDa72cilG0Azz+ibzusqwP2X2gRemhbABVZFN+D6K0DHBP7nJ1wRQHo+2DYRyyzAfLQ2iN3tB8D1VizAjVotQGspGxVK2/k/S+XnYBOoLcC4zWFv8AXNv2QLaePzsi1AwySZEfWh8r9syULWFnstwNq94IFkXQRAe9gqw/kALUBcGqPNCjwPwA3w3BSvRSzAcN6cFkDqFEBya22u20orQIpGBY96BxrAaSN1ObMSKsAfv0tY4CMaQBIpkHKlmSvAeeipIkgtJcA6seS8QWYtQG2K4E8hbCJAHDLHFx8gL8D0afCLKAMfwL6cgiIFSjBA6o6mYF3oGEAcML69X98wwPs/pBGZlRLAppW+u89OMUBvlv22IjIIQEBqo69alzHAp0Q4U2cF9r8J2UaUXbgxQFAf1jjNK9K/rXeVOo6xMcB4AL6FGBH/P5+IQ/D7gjFAJAPgqbaoDMDvAmldDy0xwJQ1/uY8xBRAxKZRmYmwMEBFyditcwUbwDSlkXiCDjDA4NMGdECmE0A=",
          "dtype": "f8"
         },
         "y": {
          "bdata": "AeKhl6AYIMBBq+3sqOQoQKzsvvbhFB5AbjJejmpNKsBas7Y0JScZwCQL5asQeytAfMPpOeIAFEAVTeFl9WoswLVFg+pWWw3AEnP7o/0aLUDOBIq08HICQJRundCdiS3AlIiT5lOE7b+8a+pR3bUtQPT5kJvfCt6/lIVouFifLcBwNiv4uLb9P2kGdZ5CRi1AU5CEAPrTCcDX/Iw2Y6sswD8eCnRGSRJALMVpiRbQK0C+j2MEeH8XwPBw5GdJtirAzN/jdNuAHEC7Bcs3nyYsQF+3onA81yDAhMLKokhwLEAozV3jRtIjQIyyJze0Sy7Aq3kQuqD7IMAwuY/3CuMvQLltveqg/RtAlwz9wFyZMMDTufCVGcUVwMLL/L3mGzFAyrJ6d0y3DkDeOPgY/ncxwHQW7yRfnwHAHwTC3tOsMUA6liz7Xn/hPzyr3lPxuTHAfHmqYwjT8T+YCFb/OJ8xQJj1mAzZHgbAMpPu7OZcMcCiS3AZPJERQNuCPSaQ8zBA9ZXMXZHrF8BVCbtjIWQwwDMBA5YlEB5APnBDqAubMEA=",
          "dtype": "f8"
         },
         "z": {
          "bdata": "TDPvLErLEsCw/devMMn8P1xSb3nEKSBACKXj3GK6LEDS+yuggKU0QCAl5tHP7TpAOifQgQ+bQEDkO60aN79DQItQirNe40ZAMmVnTIYHSkDdeUTlrStNQETHEL/qJ1BAllF/i/65UUDp2+1XEkxTQD1mXCQm3lRAkfDK8DlwVkDlejm9TQJYQDgFqIlhlFlAjo8WVnUmW0DiGYUiibhcQDWk8+6cSl5AiC5iu7DcX0BvXOhDYrdgQJihHypsgGFAweZWEHZJYkCAR/4pnQtjQHgPVVWxiAjAxWRSr23ZCkDX60jP+UYjQIM+vTKY1y9AkMgYSxs0NkDd8dJ8anw8QJiNRtdcYkFAQ6IjcISGREDqtgAJrKpHQJHL3aHTzkpAO+C6OvvyTUBz+stpkYtQQMWEOjalHVJAGA+pArmvU0BsmRfPzEFVQMAjhpvg01ZAFK70Z/RlWEBnOGM0CPhZQL3C0QAciltAEU1AzS8cXUBk166ZQ65eQNywDrMrIGBAB/ZFmTXpYEAvO31/P7JhQFmAtGVJe2JA3GwQttQ/Y0A=",
          "dtype": "f8"
         }
        },
        {
         "color": "blue",
         "i": {
          "bdata": "AAEBAgIDAwQEBQUGBgcHCAgJCQoKCwsMDA0NDg4PDxAQERESEhMTFBQVFRYWFxcYGBk=",
          "dtype": "i1"
         },
         "j": {
          "bdata": "ARsCHAMdBB4FHwYgByEIIgkjCiQLJQwmDScOKA8pECoRKxIsEy0ULhUvFjAXMRgyGTM=",
          "dtype": "i1"
         },
         "k": {
          "bdata": "GhobGxwcHR0eHh8fICAhISIiIyMkJCUlJiYnJygoKSkqKisrLCwtLS4uLy8wMDExMjI=",
          "dtype": "i1"
         },
         "name": "surface",
         "opacity": 0.6,
         "type": "mesh3d",
         "x": {
          "bdata": "EimQcqWZK8B56KkiSC0lwDqx5LxBZi1AbYrgTyFsIkAcMscXHyAvwPRp8IsoAx/AvpyCIgVKMEDqjqZgXegYQBwwvr1f3zDA+z+kEZmVEsCmlb67z04xQG+W/bYiMghAQGqjr1qXMcCnRDhTZwX2vwnZRpRduDFAUB/WOM0r0r+td5U6jrExwHgAvoUYEf8/n4hD8PuCMUAkA+CptqgMwO8CaV0PLTHAlDX+5jzEFEDEplGZibAwQEXJ2K1zBRvANKWReIIOMMDg0wZ0QKYTQJ8O9gX6Bi7AggNbD7+3KMAiMdmRwZYtQPAbR/gM8iVAXk3UrB+lL8Dw/hfYCfsiwEzKolswtjBA8kATtr6yH0ABlADRQnQxwHM3Qw8uKBnAIYnoExwLMkDmvX7cFGUSQNhKmSZpeTLAFPo7k0rxBsBzZfUpMr4yQDAU5Z25yfE/KV6JitzYMsDAIYtXNu7kPwu86VssyTJARNoOszVQA8CTcFzfRI8ywABukoa7nBBAigCfNKgrMkBi4o9YB2wXwCZ5ezU2nzHALbmbFgCTDEA=",
          "dtype": "f8"
         },
         "y": {
          "bdata": "X7eicDzXIMCEwsqiSHAsQCjNXeNG0iNAjLInN7RLLsCreRC6oPsgwDC5j/cK4y9AuW296qD9G0CXDP3AXJkwwNO58JUZxRXAwsv8veYbMUDKsnp3TLcOQN44+Bj+dzHAdBbvJF+fAcAfBMLe06wxQDqWLPtef+E/PKveU/G5McB8eapjCNPxP5gIVv84nzFAmPWYDNkeBsAyk+7s5lwxwKJLcBk8kRFA24I9JpDzMED1lcxdkesXwFUJu2MhZDDAMwEDliUQHkA+cEOoC5swQJ1J5rLspiLA1pDNS1N2LEBxjsKWdlsnQGK87PSNpi7AWeC6W018JMDw+FTQ80gwQCVNaP0abyFAWwQHEQgaMcA5KSYFdnUcwBYbZuOtxDFA69Kn+cHMFUCBFHzLZUcywBgipGYh5g3AprZJCAqhMkCsmHyQHN//Pwhs6CfR0DLAPxiGmrdSzb+wjDvMT9YyQOmKZVOrkvi/q+Q3nHmxMsCQDhaFOkwKQCFMo1+hYjJAOVrmQwMKFMBo6g1FeOoxwNoDi/fgwBpA/WzeQUlPMUA=",
          "dtype": "f8"
         },
         "z": {
          "bdata": "eA9VVbGICMDFZFKvbdkKQNfrSM/5RiNAgz69MpjXL0CQyBhLGzQ2QN3x0nxqfDxAmI1G11xiQUBDoiNwhIZEQOq2AAmsqkdAkcvdodPOSkA74Lo6+/JNQHP6y2mRi1BAxYQ6NqUdUkAYD6kCua9TQGyZF8/MQVVAwCOGm+DTVkAUrvRn9GVYQGc4YzQI+FlAvcLRAByKW0ARTUDNLxxdQGTXrplDrl5A3LAOsysgYEAH9kWZNelgQC87fX8/smFAWYC0ZUl7YkDcbBC21D9jQAEwAuoHDdW8MaXoxjwhGUA9pejGPCEpQPV7LpXt2DJARKXoxjwhOUCRzqL4i2k/QPJ7LpXt2EJAnZALLhX9RUBEpejGPCFJQOu5xV9kRUxAlc6i+ItpT0Cg8b/I2UZRQPJ7LpXt2FJARQadYQFrVECZkAsuFf1VQO0aevooj1dAQaXoxjwhWUCUL1eTULNaQOq5xV9kRVxAPkQ0LHjXXUCRzqL4i2lfQHKsiOLPfWBAnfG/yNlGYUDGNveu4w9iQO97LpXt2GJAGsFle/ehY0A=",
          "dtype": "f8"
         }
        },
        {
         "line": {
          "color": "blue"
         },
         "mode": "lines",
         "type": "scatter3d",
         "x": {
          "bdata": "nw72BfoGLsCDA1sPv7cowCEx2ZHBli1A8BtH+AzyJUBeTdSsH6UvwPD+F9gJ+yLATMqiWzC2MEDyQBO2vrIfQAGUANFCdDHAdDdDDy4oGcAhiegTHAsyQOe9ftwUZRJA2EqZJml5MsAU+juTSvEGwHNl9SkyvjJAMxTlnbnJ8T8pXomK3NgywLshi1c27uQ/C7zpWyzJMkBC2g6zNVADwJNwXN9EjzLAAG6ShrucEECKAJ80qCsyQGLij1gHbBfAJnl7NTafMcAsuZsWAJMMQA==",
          "dtype": "f8"
         },
         "y": {
          "bdata": "nUnmsuymIsDVkM1LU3YsQHGOwpZ2WydAYrzs9I2mLsBa4LpbTXwkwPD4VNDzSDBAJU1o/RpvIUBbBAcRCBoxwDopJgV2dRzAFhtm463EMUDs0qf5wcwVQIEUfMtlRzLAGiKkZiHmDcCmtkkICqEyQK6YfJAc3/8/CGzoJ9HQMsBSGIaat1LNv7CMO8xP1jJA5oplU6uS+L+r5DecebEywI8OFoU6TApAIUyjX6FiMkA4WuZDAwoUwGjqDUV46jHA2QOL9+DAGkD9bN5BSU8xQA==",
          "dtype": "f8"
         },
         "z": {
          "bdata": "AAAAAAAAAAAypejGPCEZQD6l6MY8ISlA9Xsule3YMkBEpejGPCE5QJHOoviLaT9A8nsule3YQkCdkAsuFf1FQESl6MY8IUlA67nFX2RFTECVzqL4i2lPQKDxv8jZRlFA8nsule3YUkBFBp1hAWtUQJmQCy4V/VVA7Rp6+iiPV0BBpejGPCFZQJQvV5NQs1pA6rnFX2RFXEA+RDQseNddQJHOoviLaV9AcqyI4s99YECd8b/I2UZhQMY2967jD2JA73sule3YYkAawWV796FjQA==",
          "dtype": "f8"
         }
        },
        {
         "line": {
          "color": "blue"
         },
         "mode": "lines",
         "type": "scatter3d",
         "x": {
          "bdata": "AGyDCcXHK8CIOozXyDApwEUSW4kLGypASEc9oKK+JkDpWUullDwswBqaU6BfGSTAsL8efqkeLkAkwcrN8UYhQOJEJLsOvS/A1jfQPWGbHMASlF6PEIowQA1i4pOVaBZABD6J2W4QMcAk5p+BbgMQwECBTUd0cDFAtWeQKZb0AkC9950QSakxwHzk18rZ3ua/GWUNf226MUD0Bm4+CkjuvwKEzgy7ozHAhjTla7jKBEAMu0W7ZGUxQPAk1XVa6hDAZTBqoPb/MMD5+TgC5R8JQA==",
          "dtype": "f8"
         },
         "y": {
          "bdata": "OnWuU7quJMDA5OM09fMoQJHiHR50/idAlZJvOXUzK8BF1UIkCHIlwJVIXcXUNS1AVjhJ0Wq1IkAbUdXuj/YuwHdVpyuFnR/A2EyiJ9s4MEAKSG+6KIkZQLjTu+750TDAoFAZzmk7E8D6Oyk0TEUxQIBfWrXlhAlATzur0M6RMcBcTFLOPbP4v72XsdTVtjFAwOhTBxmtvb93HLwKDrQxwIbMxui1ZPw/2+tXsn2JMUCuItDnZVcLwDvuFHKENzHAvutMz38fFEDWELB7ZLcvQA==",
          "dtype": "f8"
         },
         "z": {
          "bdata": "dQ9VVbGICEAADBRb4WoiQKReiL5/+y5AqFj+EA/GNUD4gbhCXg48QKJVObpWK0FATGoWU35PRED3fvPrpXNHQJ6T0ITNl0pARaitHfW7TUB3XkVbDnBQQM3osyciAlJAH3Mi9DWUU0By/ZDASSZVQMaH/4xduFZAGhJuWXFKWEBunNwlhdxZQMEmS/KYbltAF7G5vqwAXUBrOyiLwJJeQN9iyytqEmBACKgCEnTbYEAz7Tn4faRhQFwycd6HbWJAhXeoxJE2Y0BYFbtAGgRkQA==",
          "dtype": "f8"
         }
        },
        {
         "line": {
          "color": "blue"
         },
         "mode": "lines",
         "type": "scatter3d",
         "x": {
          "bdata": "GftBzCvpJcAnhb/jwl8mwH1Lk3ddlCRAnSmHEChyJECf8q/Kw34mwKVgueaaViLAp2073Zw2KEAAjvHk1xEgQC7wBz8MuCnAQRBgS/BRG8CfHBXHr/8qQFzW+dTLQhZAR2kFLqcKLMDFa1nhoAERwCwJtISa1ixA4Ul9rHw0B0CiH2V4v2EtwPhpdO0jY/i/5oy6WN2qLUDY3TQHBjTBP+bKYtZPsS3A016Qhvca9D9dwFZ0CHUtQBHaYbOgFwXA+8hoqI72LMAo37m1ZpAOQA==",
          "dtype": "f8"
         },
         "y": {
          "bdata": "2Gf3kGz7JcBIywSLiY0jQCC9v6L7biVAzBda9p+PJcBseTJL1mkjwPD1+YdCYSdAlv5pmRA5IUCD3KbcWv4owKaERngtwx3A+X/gokhjKkA2MQe4V9EYQKA1CMHpjCvA8hZzkLynE8BXOOFfoXgsQKBx8ejrowxALCSayV0kLcDmW+MyArgBwEALLhCdji1AsOlqLxyR6j9uBqpwcLYtwKTzPRCE+eE/KmC6a36bLUBGRp3U3y3/v5KCyY4DPi3AGMHIRXaMCkCXWSsyS9wpQA==",
          "dtype": "f8"
         },
         "z": {
          "bdata": "SzPvLErLEkB8pe2wFoglQBD8MIpaDDFAZiXru6lUN0C2TqXt+Jw9QAG8rw+k8kFAqtCMqMsWRUBV5WlB8zpIQP35RtoaX0tAow4kc0KDTkCnkQAGtdNQQPwbb9LIZVJATqbdntz3U0ChMExr8IlVQPW6ujcEHFdASUUpBBiuWECdz5fQK0BaQPBZBp0/0ltARuR0aVNkXUCabuM1Z/ZeQHf8KIE9RGBAoEFgZ0cNYUDLhpdNUdZhQPTLzjNbn2JAHREGGmVoY0C0Os3MUThkQA==",
          "dtype": "f8"
         }
        },
        {
         "line": {
          "color": "blue"
         },
         "mode": "lines",
         "type": "scatter3d",
         "x": {
          "bdata": "hu1X5IZUHsAH/FwmDZYhwCOpQktSMR9AzceQW/gfIEAEvwxdaxshwPZgjihOCx3AjV62B7x3IkAQRzbIZpUZQCA3YGeMqiPAIgjSaQHmFcDsMv8AK7EkQPwvxhNmBRJAz4omqkmJJcC1O+vFlvgLwAxKRLcCMSZAP+0f7IWnA0A/lAo/3aYmwLSWcjGUVPa/JAVxadDpJkCclOpcuJ/UPyrD3sJF+SbAZC5vY5wg6D96yUOOGtUmQMI1BFtuLf2/L6QpE6B9JsBph5S4eSwVQA==",
          "dtype": "f8"
         },
         "y": {
          "bdata": "B1rAUFfxJcCiM0bI05MdQEd1g9rA3yBABGUmEaReIMD/S9PuPq4ewCCo0OuUziFAiSeB4glYG0BHaGabgRYjwABQDClixBfA4RYlNIkzJED5ctdxUfsTQMZnSi8rIyXAsCWWclkFEMBk2HwKTeMlQEX0+5LB1gdAoLDyAT9yJsBpDtDye9r+v8kNuNq/ziZA2P9PHz6E6z9zeo+0//cmwJCSKqlGqcs/1+0W3aHtJkAoxmuSq6T0v65UF6C9rybAhB6KOuXSAkA+c1GRuMojQA==",
          "dtype": "f8"
         },
         "z": {
          "bdata": "uJacKfqGEEAAURWZOHMkQNLRRH7rgTBAKPv+rzrKNkB4JLnhiRI9QOKmuYlsrUFAjLuWIpTRREA30HO7u/VHQN7kUFTjGUtAhfkt7Qo+TkAXhwVDGbFQQG0RdA8tQ1JAv5vi20DVU0ASJlGoVGdVQGawv3Ro+VZAujouQXyLWEAOxZwNkB1aQGFPC9qjr1tAt9l5prdBXUALZOhyy9NeQC93q5/vMmBAWLzihfn7YECDARpsA8VhQK1GUVINjmJA1YuIOBdXY0DQpbJMLyZkQA==",
          "dtype": "f8"
         }
        },
        {
         "line": {
          "color": "blue"
         },
         "mode": "lines",
         "type": "scatter3d",
         "x": {
          "bdata": "Vge1ESxmFcC0QgQsWyIawHtgbkay+RpAKTQxnlibF0DiEFEu6S8dwEz/9EpJ3xTA7xCeAYkkH0BiptdjUvQRQH9FDV6WaSDAPjNEBAXCDcB5topPBhwhQBHSWdWFWAdAJL8SWAOoIcAtn9oLkLoAwNq/seFSDCJAptKdvATu8z+4KaeAE0giwEZTg/J/6Ni/S+r37b5aIkCIwdh+DB/ev5LPLjUrRCLAt+V6Hbo49T9xxqQSiwQiQGhCgUQAXQHAwBd9gW2cIcA0kSKHCHsbQA==",
          "dtype": "f8"
         },
         "y": {
          "bdata": "oQjNXjKVJMB4oNZVhscZQGhaZVDZ5RhAHfjFarQcHMAMU0DdkkMWwDhqe961Mh5A7sWbLURvE0BCvWJUbQIgwK42WfBIbxDATsnhoIXHIEDWKzDzvZQKQPgN+OnoZiHAVSXDOC4PBMAED2YBMd8hQIhJRycVufo//mdZmk8vIsBUsWjLgC/qvxDJ2aiQViJAQL7CLhDgpL+VEWT2m1QiwNLNEzyUyOw/KV4m6HUpIkCMTzZLPAH8v1Z5H3V/1SHAIP73yJ+vBECbjmCxm1kgQA==",
          "dtype": "f8"
         },
         "z": {
          "bdata": "Ra4SCcYb+j8q2Jtyp1sfQLk+whxyPixAs0gbQIhnNEACctVx1686QKfNx1ETfEBAUeKk6jqgQ0D89oGDYsRGQKMLXxyK6ElASiA8tbEMTUB6mgynbBhQQM8ke3OAqlFAIq/pP5Q8U0B0OVgMqM5UQMjDxti7YFZAHE41pc/yV0Bw2KNx44RZQMNiEj73FltAGe2ACgupXEBtd+/WHjteQMABXqMyzV9ACkbmN6OvYEA1ix0erXhhQF7QVAS3QWJAhxWM6sAKY0B25ncHL9ZjQA==",
          "dtype": "f8"
         }
        },
        {
         "line": {
          "color": "blue"
         },
         "mode": "lines",
         "type": "scatter3d",
         "x": {
          "bdata": "ovvYsRY1FcCwN0cZ6dwVwMZcHAgGex5A7pCX99MBE0DSjOX1dCEgwH1AJ24Q+A/ACHfyEyfhIEALBcN5oaQJQHd4hZXqeiHA7LYSTpIXA8Cm7eHvZe0hQHHPdU03v/g/sOLA3pc3IsDGOQanWi/mv4ASdKbZWCJACHX8ZFBGxb+i05WK4FAiwCYea4lHY/A/1O77db4fIkAI/llH8fj9v972c9LhxSHAssmXFqClBUAXmqOQFEQhQMOsIj8iHgzAkYg6YnqbIMDcCaeRZ0AfQA==",
          "dtype": "f8"
         },
         "y": {
          "bdata": "pECDSOSJIsDjpNo9Hn0dQKj3JHcedRRAc+1dn8tnH8DAyvZP2oMRwLZZ9uDyhSBAZR4N2XPWDEDBZXhK3jIhwAvhFQZlZAbAk75HdSO5IUAEVx9qCID/P6B8FKWUFyLAv8iKEX3w8b8isj2eXU0iQLBuem6F4tA/junAggVaIsB5n4GMbRHjP4Ti1+FvPSJAzf53EaI097+KGuL33PchwAmCjLQzVgJALJUKHumJIUDlmkpw4egIwIAx7mqL9CDAutGK35RDD0AYayniPCUhQA==",
          "dtype": "f8"
         },
         "z": {
          "bdata": "QK4SCcYb+r88cjUb0uYSQMMLD3EHBCZAOK9B6lJKMUCG2PsbopI3QNMBtk3x2j1AkxW4P6ARQkA+KpXYxzVFQOU+cnHvWUhAjFNPChd+S0A2aCyjPqJOQHG+BB4z41BAw0hz6kZ1UkAW0+G2WgdUQGpdUINumVVAvue+T4IrV0ASci0clr1YQGX8m+ipT1pAu4YKtb3hW0APEXmB0XNdQGKb503lBV9A2hIrjfxLYEAFWGJzBhVhQC6dmVkQ3mFAV+LQPxqnYkC+m1Pvv21jQA==",
          "dtype": "f8"
         }
        },
        {
         "line": {
          "color": "blue"
         },
         "mode": "lines",
         "type": "scatter3d",
         "x": {
          "bdata": "NDk5Pz7YHcDfE6q6ZlsYwGelC4G3CCRAijG3EFyaFEArpXvOzP8kwKlsuLcEqxDACCs3d7HHJUDbSkPScCwJQLppqEakXibAO9jwFUbKAMBi8KMFUsMmQDaeRE7AhPA/+v+zdNj0JsDAXavFUAWmP8y4hkjI8iZAYXH/d4nj8b8OkggkJr0mwDzdsJNadwFAvg/5jWpUJkCaLKhFsNUJwFIjEeKAuSXAVN7twPv8EEBu3RtAxe0kQNwcyjfy6BTAegWmfQHzI8BQaaic4bgeQA==",
          "dtype": "f8"
         },
         "y": {
          "bdata": "OLx2RknEIMCXNcwcJHwjQMgE1KA0gRZArJ8d9weKJMA/pDO07qcSwNZuBdTDaSVAiHCMWXhJDUB16qTrYBkmwIxrH8ZCAQXABIkwmVSXJkDeaTSLshP5PzKTytGD4ibAGNpRFhSy378IrZKgRfomQFBuuRbumOK/gdtUomTeJsDbYkWqjXD6P8rXgn0fjyZAEnWb55ysBcCSA2pVKA0mwHze0/s98A1A83TiOaNZJUA16ZfiS/gSwD6d+pYjdiTAf7fck9fNFkD1V81PVM4lQA==",
          "dtype": "f8"
         },
         "z": {
          "bdata": "tpacKfqGEMDKUE23ELgCQNmmR5GiPiFAhPm79EDPLUAQJhis7y81QF5P0t0+eDtAWTzGB0fgQEAEUaOgbgREQKplgDmWKEdAUnpd0r1MSkD8jjpr5XBNQNPRC4KGSlBAJVx6TprcUUB45ugarm5TQMxwV+fBAFVAIPvFs9WSVkB0hTSA6SRYQMcPo0z9tllAHZoRGRFJW0BxJIDlJNtcQMSu7rE4bV5AFzldfkz/X0C34WUlsMhgQOAmnQu6kWFACWzU8cNaYkBk3Biqvx1jQA==",
          "dtype": "f8"
         }
        },
        {
         "line": {
          "color": "blue"
         },
         "mode": "lines",
         "type": "scatter3d",
         "x": {
          "bdata": "UbJghYGiJcCWrX4liTkgwJfo84s9oClATDa72cilG0Azz+ibzusqwP2X2gRemhbABVZFN+D6K0DHBP7nJ1wRQHo+2DYRyyzAfLQ2iN3tB8D1VizAjVotQGspGxVK2/k/S+XnYBOoLcC4zWFv8AXNv2QLaePzsi1AwySZEfWh8r9syULWFnstwNq94IFkXQRAe9gqw/kALUBcGqPNCjwPwA3w3BSvRSzAcN6cFkDqFEBya22u20orQIpGBY96BxrAaSN1ObMSKsAfv0tY4CMaQA==",
          "dtype": "f8"
         },
         "y": {
          "bdata": "AeKhl6AYIMBBq+3sqOQoQKzsvvbhFB5AbjJejmpNKsBas7Y0JScZwCQL5asQeytAfMPpOeIAFEAVTeFl9WoswLVFg+pWWw3AEnP7o/0aLUDOBIq08HICQJRundCdiS3AlIiT5lOE7b+8a+pR3bUtQPT5kJvfCt6/lIVouFifLcBwNiv4uLb9P2kGdZ5CRi1AU5CEAPrTCcDX/Iw2Y6sswD8eCnRGSRJALMVpiRbQK0C+j2MEeH8XwPBw5GdJtirAzN/jdNuAHEC7Bcs3nyYsQA==",
          "dtype": "f8"
         },
         "z": {
          "bdata": "TDPvLErLEsCw/devMMn8P1xSb3nEKSBACKXj3GK6LEDS+yuggKU0QCAl5tHP7TpAOifQgQ+bQEDkO60aN79DQItQirNe40ZAMmVnTIYHSkDdeUTlrStNQETHEL/qJ1BAllF/i/65UUDp2+1XEkxTQD1mXCQm3lRAkfDK8DlwVkDlejm9TQJYQDgFqIlhlFlAjo8WVnUmW0DiGYUiibhcQDWk8+6cSl5AiC5iu7DcX0BvXOhDYrdgQJihHypsgGFAweZWEHZJYkCAR/4pnQtjQA==",
          "dtype": "f8"
         }
        },
        {
         "line": {
          "color": "blue"
         },
         "mode": "lines",
         "type": "scatter3d",
         "x": {
          "bdata": "EimQcqWZK8B56KkiSC0lwDqx5LxBZi1AbYrgTyFsIkAcMscXHyAvwPRp8IsoAx/AvpyCIgVKMEDqjqZgXegYQBwwvr1f3zDA+z+kEZmVEsCmlb67z04xQG+W/bYiMghAQGqjr1qXMcCnRDhTZwX2vwnZRpRduDFAUB/WOM0r0r+td5U6jrExwHgAvoUYEf8/n4hD8PuCMUAkA+CptqgMwO8CaV0PLTHAlDX+5jzEFEDEplGZibAwQEXJ2K1zBRvANKWReIIOMMDg0wZ0QKYTQA==",
          "dtype": "f8"
         },
         "y": {
          "bdata": "X7eicDzXIMCEwsqiSHAsQCjNXeNG0iNAjLInN7RLLsCreRC6oPsgwDC5j/cK4y9AuW296qD9G0CXDP3AXJkwwNO58JUZxRXAwsv8veYbMUDKsnp3TLcOQN44+Bj+dzHAdBbvJF+fAcAfBMLe06wxQDqWLPtef+E/PKveU/G5McB8eapjCNPxP5gIVv84nzFAmPWYDNkeBsAyk+7s5lwxwKJLcBk8kRFA24I9JpDzMED1lcxdkesXwFUJu2MhZDDAMwEDliUQHkA+cEOoC5swQA==",
          "dtype": "f8"
         },
         "z": {
          "bdata": "eA9VVbGICMDFZFKvbdkKQNfrSM/5RiNAgz69MpjXL0CQyBhLGzQ2QN3x0nxqfDxAmI1G11xiQUBDoiNwhIZEQOq2AAmsqkdAkcvdodPOSkA74Lo6+/JNQHP6y2mRi1BAxYQ6NqUdUkAYD6kCua9TQGyZF8/MQVVAwCOGm+DTVkAUrvRn9GVYQGc4YzQI+FlAvcLRAByKW0ARTUDNLxxdQGTXrplDrl5A3LAOsysgYEAH9kWZNelgQC87fX8/smFAWYC0ZUl7YkDcbBC21D9jQA==",
          "dtype": "f8"
         }
        },
        {
         "line": {
          "color": "blue"
         },
         "mode": "lines",
         "type": "scatter3d",
         "x": {
          "bdata": "nw72BfoGLsCCA1sPv7cowCIx2ZHBli1A8BtH+AzyJUBeTdSsH6UvwPD+F9gJ+yLATMqiWzC2MEDyQBO2vrIfQAGUANFCdDHAczdDDy4oGcAhiegTHAsyQOa9ftwUZRJA2EqZJml5MsAU+juTSvEGwHNl9SkyvjJAMBTlnbnJ8T8pXomK3NgywMAhi1c27uQ/C7zpWyzJMkBE2g6zNVADwJNwXN9EjzLAAG6ShrucEECKAJ80qCsyQGLij1gHbBfAJnl7NTafMcAtuZsWAJMMQA==",
          "dtype": "f8"
         },
         "y": {
          "bdata": "nUnmsuymIsDWkM1LU3YsQHGOwpZ2WydAYrzs9I2mLsBZ4LpbTXwkwPD4VNDzSDBAJU1o/RpvIUBbBAcRCBoxwDkpJgV2dRzAFhtm463EMUDr0qf5wcwVQIEUfMtlRzLAGCKkZiHmDcCmtkkICqEyQKyYfJAc3/8/CGzoJ9HQMsA/GIaat1LNv7CMO8xP1jJA6YplU6uS+L+r5DecebEywJAOFoU6TApAIUyjX6FiMkA5WuZDAwoUwGjqDUV46jHA2gOL9+DAGkD9bN5BSU8xQA==",
          "dtype": "f8"
         },
         "z": {
          "bdata": "ATAC6gcN1bwxpejGPCEZQD2l6MY8ISlA9Xsule3YMkBEpejGPCE5QJHOoviLaT9A8nsule3YQkCdkAsuFf1FQESl6MY8IUlA67nFX2RFTECVzqL4i2lPQKDxv8jZRlFA8nsule3YUkBFBp1hAWtUQJmQCy4V/VVA7Rp6+iiPV0BBpejGPCFZQJQvV5NQs1pA6rnFX2RFXEA+RDQseNddQJHOoviLaV9AcqyI4s99YECd8b/I2UZhQMY2967jD2JA73sule3YYkAawWV796FjQA==",
          "dtype": "f8"
         }
        },
        {
         "color": "red",
         "i": {
          "bdata": "AAEBAgIDAwQEBQUGBgcHCAgJCQoKCwsMDA0NDg4PDxAQERESEhMTFBQVFRYWFxcYGBk=",
          "dtype": "i1"
         },
         "j": {
          "bdata": "ARsCHAMdBB4FHwYgByEIIgkjCiQLJQwmDScOKA8pECoRKxIsEy0ULhUvFjAXMRgyGTM=",
          "dtype": "i1"
         },
         "k": {
          "bdata": "GhobGxwcHR0eHh8fICAhISIiIyMkJCUlJiYnJygoKSkqKisrLCwtLS4uLy8wMDExMjI=",
          "dtype": "i1"
         },
         "name": "surface",
         "opacity": 0.6,
         "type": "mesh3d",
         "x": {
          "bdata": "nw72BfoGLkCDA1sPv7coQCEx2ZHBli3A8BtH+AzyJcBeTdSsH6UvQPD+F9gJ+yJATMqiWzC2MMDyQBO2vrIfwAGUANFCdDFAdDdDDy4oGUAhiegTHAsywOe9ftwUZRLA2EqZJml5MkAU+juTSvEGQHNl9SkyvjLAMxTlnbnJ8b8pXomK3NgyQLshi1c27uS/C7zpWyzJMsBC2g6zNVADQJNwXN9EjzJAAG6ShrucEMCKAJ80qCsywGLij1gHbBdAJnl7NTafMUAsuZsWAJMMwABsgwnFxytAiDqM18gwKUBFEluJCxsqwEhHPaCivibA6VlLpZQ8LEAamlOgXxkkQLC/Hn6pHi7AJMHKzfFGIcDiRCS7Dr0vQNY30D1hmxxAEpRejxCKMMANYuKTlWgWwAQ+idluEDFAJOafgW4DEEBAgU1HdHAxwLVnkCmW9ALAvfedEEmpMUB85NfK2d7mPxllDX9tujHA9AZuPgpI7j8ChM4Mu6MxQIY05Wu4ygTADLtFu2RlMcDwJNV1WuoQQGUwaqD2/zBA+fk4AuUfCcA=",
          "dtype": "f8"
         },
         "y": {
          "bdata": "nUnmsuymIkDVkM1LU3YswHGOwpZ2WyfAYrzs9I2mLkBa4LpbTXwkQPD4VNDzSDDAJU1o/RpvIcBbBAcRCBoxQDopJgV2dRxAFhtm463EMcDs0qf5wcwVwIEUfMtlRzJAGiKkZiHmDUCmtkkICqEywK6YfJAc3/+/CGzoJ9HQMkBSGIaat1LNP7CMO8xP1jLA5oplU6uS+D+r5DecebEyQI8OFoU6TArAIUyjX6FiMsA4WuZDAwoUQGjqDUV46jFA2QOL9+DAGsD9bN5BSU8xwDp1rlO6riRAwOTjNPXzKMCR4h0edP4nwJWSbzl1MytARdVCJAhyJUCVSF3F1DUtwFY4SdFqtSLAG1HV7o/2LkB3VacrhZ0fQNhMoifbODDACkhvuiiJGcC407vu+dEwQKBQGc5pOxNA+jspNExFMcCAX1q15YQJwE87q9DOkTFAXExSzj2z+D+9l7HU1bYxwMDoUwcZrb0/dxy8Cg60MUCGzMbotWT8v9vrV7J9iTHAriLQ52VXC0A77hRyhDcxQL7rTM9/HxTA1hCwe2S3L8A=",
          "dtype": "f8"
         },
         "z": {
          "bdata": "AAAAAAAAAAAypejGPCEZQD6l6MY8ISlA9Xsule3YMkBEpejGPCE5QJHOoviLaT9A8nsule3YQkCdkAsuFf1FQESl6MY8IUlA67nFX2RFTECVzqL4i2lPQKDxv8jZRlFA8nsule3YUkBFBp1hAWtUQJmQCy4V/VVA7Rp6+iiPV0BBpejGPCFZQJQvV5NQs1pA6rnFX2RFXEA+RDQseNddQJHOoviLaV9AcqyI4s99YECd8b/I2UZhQMY2967jD2JA73sule3YYkAawWV796FjQHUPVVWxiAhAAAwUW+FqIkCkXoi+f/suQKhY/hAPxjVA+IG4Ql4OPECiVTm6VitBQExqFlN+T0RA937z66VzR0Cek9CEzZdKQEWorR31u01Ad15FWw5wUEDN6LMnIgJSQB9zIvQ1lFNAcv2QwEkmVUDGh/+MXbhWQBoSbllxSlhAbpzcJYXcWUDBJkvymG5bQBexub6sAF1Aazsoi8CSXkDfYssrahJgQAioAhJ022BAM+05+H2kYUBcMnHeh21iQIV3qMSRNmNAWBW7QBoEZEA=",
          "dtype": "f8"
         }
        },
        {
         "color": "red",
         "i": {
          "bdata": "AAEBAgIDAwQEBQUGBgcHCAgJCQoKCwsMDA0NDg4PDxAQERESEhMTFBQVFRYWFxcYGBk=",
          "dtype": "i1"
         },
         "j": {
          "bdata": "ARsCHAMdBB4FHwYgByEIIgkjCiQLJQwmDScOKA8pECoRKxIsEy0ULhUvFjAXMRgyGTM=",
          "dtype": "i1"
         },
         "k": {
          "bdata": "GhobGxwcHR0eHh8fICAhISIiIyMkJCUlJiYnJygoKSkqKisrLCwtLS4uLy8wMDExMjI=",
          "dtype": "i1"
         },
         "name": "surface",
         "opacity": 0.6,
         "type": "mesh3d",
         "x": {
          "bdata": "AGyDCcXHK0CIOozXyDApQEUSW4kLGyrASEc9oKK+JsDpWUullDwsQBqaU6BfGSRAsL8efqkeLsAkwcrN8UYhwOJEJLsOvS9A1jfQPWGbHEASlF6PEIowwA1i4pOVaBbABD6J2W4QMUAk5p+BbgMQQECBTUd0cDHAtWeQKZb0AsC9950QSakxQHzk18rZ3uY/GWUNf226McD0Bm4+CkjuPwKEzgy7ozFAhjTla7jKBMAMu0W7ZGUxwPAk1XVa6hBAZTBqoPb/MED5+TgC5R8JwBn7Qcwr6SVAJ4W/48JfJkB9S5N3XZQkwJ0phxAociTAn/KvysN+JkClYLnmmlYiQKdtO92cNijAAI7x5NcRIMAu8Ac/DLgpQEEQYEvwURtAnxwVx6//KsBc1vnUy0IWwEdpBS6nCixAxWtZ4aABEUAsCbSEmtYswOFJfax8NAfAoh9leL9hLUD4aXTtI2P4P+aMuljdqi3A2N00BwY0wb/mymLWT7EtQNNekIb3GvS/XcBWdAh1LcAR2mGzoBcFQPvIaKiO9ixAKN+5tWaQDsA=",
          "dtype": "f8"
         },
         "y": {
          "bdata": "OnWuU7quJEDA5OM09fMowJHiHR50/ifAlZJvOXUzK0BF1UIkCHIlQJVIXcXUNS3AVjhJ0Wq1IsAbUdXuj/YuQHdVpyuFnR9A2EyiJ9s4MMAKSG+6KIkZwLjTu+750TBAoFAZzmk7E0D6Oyk0TEUxwIBfWrXlhAnATzur0M6RMUBcTFLOPbP4P72XsdTVtjHAwOhTBxmtvT93HLwKDrQxQIbMxui1ZPy/2+tXsn2JMcCuItDnZVcLQDvuFHKENzFAvutMz38fFMDWELB7ZLcvwNhn95Bs+yVASMsEi4mNI8Agvb+i+24lwMwXWvafjyVAbHkyS9ZpI0Dw9fmHQmEnwJb+aZkQOSHAg9ym3Fr+KECmhEZ4LcMdQPl/4KJIYyrANjEHuFfRGMCgNQjB6YwrQPIWc5C8pxNAVzjhX6F4LMCgcfHo66MMwCwkmsldJC1A5lvjMgK4AUBACy4QnY4twLDpai8ckeq/bgaqcHC2LUCk8z0QhPnhvypgumt+my3ARkad1N8t/z+SgsmOAz4tQBjByEV2jArAl1krMkvcKcA=",
          "dtype": "f8"
         },
         "z": {
          "bdata": "dQ9VVbGICEAADBRb4WoiQKReiL5/+y5AqFj+EA/GNUD4gbhCXg48QKJVObpWK0FATGoWU35PRED3fvPrpXNHQJ6T0ITNl0pARaitHfW7TUB3XkVbDnBQQM3osyciAlJAH3Mi9DWUU0By/ZDASSZVQMaH/4xduFZAGhJuWXFKWEBunNwlhdxZQMEmS/KYbltAF7G5vqwAXUBrOyiLwJJeQN9iyytqEmBACKgCEnTbYEAz7Tn4faRhQFwycd6HbWJAhXeoxJE2Y0BYFbtAGgRkQEsz7yxKyxJAfKXtsBaIJUAQ/DCKWgwxQGYl67upVDdAtk6l7ficPUABvK8PpPJBQKrQjKjLFkVAVeVpQfM6SED9+UbaGl9LQKMOJHNCg05Ap5EABrXTUED8G2/SyGVSQE6m3Z7c91NAoTBMa/CJVUD1uro3BBxXQElFKQQYrlhAnc+X0CtAWkDwWQadP9JbQEbkdGlTZF1Amm7jNWf2XkB3/CiBPURgQKBBYGdHDWFAy4aXTVHWYUD0y84zW59iQB0RBhplaGNAtDrNzFE4ZEA=",
          "dtype": "f8"
         }
        },
        {
         "color": "red",
         "i": {
          "bdata": "AAEBAgIDAwQEBQUGBgcHCAgJCQoKCwsMDA0NDg4PDxAQERESEhMTFBQVFRYWFxcYGBk=",
          "dtype": "i1"
         },
         "j": {
          "bdata": "ARsCHAMdBB4FHwYgByEIIgkjCiQLJQwmDScOKA8pECoRKxIsEy0ULhUvFjAXMRgyGTM=",
          "dtype": "i1"
         },
         "k": {
          "bdata": "GhobGxwcHR0eHh8fICAhISIiIyMkJCUlJiYnJygoKSkqKisrLCwtLS4uLy8wMDExMjI=",
          "dtype": "i1"
         },
         "name": "surface",
         "opacity": 0.6,
         "type": "mesh3d",
         "x": {
          "bdata": "GftBzCvpJUAnhb/jwl8mQH1Lk3ddlCTAnSmHEChyJMCf8q/Kw34mQKVgueaaViJAp2073Zw2KMAAjvHk1xEgwC7wBz8MuClAQRBgS/BRG0CfHBXHr/8qwFzW+dTLQhbAR2kFLqcKLEDFa1nhoAERQCwJtISa1izA4Ul9rHw0B8CiH2V4v2EtQPhpdO0jY/g/5oy6WN2qLcDY3TQHBjTBv+bKYtZPsS1A016Qhvca9L9dwFZ0CHUtwBHaYbOgFwVA+8hoqI72LEAo37m1ZpAOwIbtV+SGVB5AB/xcJg2WIUAjqUJLUjEfwM3HkFv4HyDABL8MXWsbIUD2YI4oTgsdQI1etge8dyLAEEc2yGaVGcAgN2BnjKojQCII0mkB5hVA7DL/ACuxJMD8L8YTZgUSwM+KJqpJiSVAtTvrxZb4C0AMSkS3AjEmwD/tH+yFpwPAP5QKP92mJkC0lnIxlFT2PyQFcWnQ6SbAnJTqXLif1L8qw97CRfkmQGQub2OcIOi/eslDjhrVJsDCNQRbbi39Py+kKROgfSZAaYeUuHksFcA=",
          "dtype": "f8"
         },
         "y": {
          "bdata": "2Gf3kGz7JUBIywSLiY0jwCC9v6L7biXAzBda9p+PJUBseTJL1mkjQPD1+YdCYSfAlv5pmRA5IcCD3KbcWv4oQKaERngtwx1A+X/gokhjKsA2MQe4V9EYwKA1CMHpjCtA8hZzkLynE0BXOOFfoXgswKBx8ejrowzALCSayV0kLUDmW+MyArgBQEALLhCdji3AsOlqLxyR6r9uBqpwcLYtQKTzPRCE+eG/KmC6a36bLcBGRp3U3y3/P5KCyY4DPi1AGMHIRXaMCsCXWSsyS9wpwAdawFBX8SVAojNGyNOTHcBHdYPawN8gwARlJhGkXiBA/0vT7j6uHkAgqNDrlM4hwIkngeIJWBvAR2hmm4EWI0AAUAwpYsQXQOEWJTSJMyTA+XLXcVH7E8DGZ0ovKyMlQLAllnJZBRBAZNh8Ck3jJcBF9PuSwdYHwKCw8gE/ciZAaQ7Q8nva/j/JDbjav84mwNj/Tx8+hOu/c3qPtP/3JkCQkiqpRqnLv9ftFt2h7SbAKMZrkquk9D+uVBegva8mQIQeijrl0gLAPnNRkbjKI8A=",
          "dtype": "f8"
         },
         "z": {
          "bdata": "SzPvLErLEkB8pe2wFoglQBD8MIpaDDFAZiXru6lUN0C2TqXt+Jw9QAG8rw+k8kFAqtCMqMsWRUBV5WlB8zpIQP35RtoaX0tAow4kc0KDTkCnkQAGtdNQQPwbb9LIZVJATqbdntz3U0ChMExr8IlVQPW6ujcEHFdASUUpBBiuWECdz5fQK0BaQPBZBp0/0ltARuR0aVNkXUCabuM1Z/ZeQHf8KIE9RGBAoEFgZ0cNYUDLhpdNUdZhQPTLzjNbn2JAHREGGmVoY0C0Os3MUThkQLiWnCn6hhBAAFEVmThzJEDS0UR+64EwQCj7/q86yjZAeCS54YkSPUDiprmJbK1BQIy7liKU0URAN9Bzu7v1R0De5FBU4xlLQIX5Le0KPk5AF4cFQxmxUEBtEXQPLUNSQL+b4ttA1VNAEiZRqFRnVUBmsL90aPlWQLo6LkF8i1hADsWcDZAdWkBhTwvao69bQLfZeaa3QV1AC2TocsvTXkAvd6uf7zJgQFi84oX5+2BAgwEabAPFYUCtRlFSDY5iQNWLiDgXV2NA0KWyTC8mZEA=",
          "dtype": "f8"
         }
        },
        {
         "color": "red",
         "i": {
          "bdata": "AAEBAgIDAwQEBQUGBgcHCAgJCQoKCwsMDA0NDg4PDxAQERESEhMTFBQVFRYWFxcYGBk=",
          "dtype": "i1"
         },
         "j": {
          "bdata": "ARsCHAMdBB4FHwYgByEIIgkjCiQLJQwmDScOKA8pECoRKxIsEy0ULhUvFjAXMRgyGTM=",
          "dtype": "i1"
         },
         "k": {
          "bdata": "GhobGxwcHR0eHh8fICAhISIiIyMkJCUlJiYnJygoKSkqKisrLCwtLS4uLy8wMDExMjI=",
          "dtype": "i1"
         },
         "name": "surface",
         "opacity": 0.6,
         "type": "mesh3d",
         "x": {
          "bdata": "hu1X5IZUHkAH/FwmDZYhQCOpQktSMR/AzceQW/gfIMAEvwxdaxshQPZgjihOCx1AjV62B7x3IsAQRzbIZpUZwCA3YGeMqiNAIgjSaQHmFUDsMv8AK7EkwPwvxhNmBRLAz4omqkmJJUC1O+vFlvgLQAxKRLcCMSbAP+0f7IWnA8A/lAo/3aYmQLSWcjGUVPY/JAVxadDpJsCclOpcuJ/UvyrD3sJF+SZAZC5vY5wg6L96yUOOGtUmwMI1BFtuLf0/L6QpE6B9JkBph5S4eSwVwFYHtREsZhVAtEIELFsiGkB7YG5GsvkawCk0MZ5YmxfA4hBRLukvHUBM//RKSd8UQO8QngGJJB/AYqbXY1L0EcB/RQ1elmkgQD4zRAQFwg1AebaKTwYcIcAR0lnVhVgHwCS/ElgDqCFALZ/aC5C6AEDav7HhUgwiwKbSnbwE7vO/uCmngBNIIkBGU4Pyf+jYP0vq9+2+WiLAiMHYfgwf3j+Szy41K0QiQLfleh26OPW/ccakEosEIsBoQoFEAF0BQMAXfYFtnCFANJEihwh7G8A=",
          "dtype": "f8"
         },
         "y": {
          "bdata": "B1rAUFfxJUCiM0bI05MdwEd1g9rA3yDABGUmEaReIED/S9PuPq4eQCCo0OuUziHAiSeB4glYG8BHaGabgRYjQABQDClixBdA4RYlNIkzJMD5ctdxUfsTwMZnSi8rIyVAsCWWclkFEEBk2HwKTeMlwEX0+5LB1gfAoLDyAT9yJkBpDtDye9r+P8kNuNq/zibA2P9PHz6E679zeo+0//cmQJCSKqlGqcu/1+0W3aHtJsAoxmuSq6T0P65UF6C9ryZAhB6KOuXSAsA+c1GRuMojwKEIzV4ylSRAeKDWVYbHGcBoWmVQ2eUYwB34xWq0HBxADFNA3ZJDFkA4anvetTIewO7Fmy1EbxPAQr1iVG0CIECuNlnwSG8QQE7J4aCFxyDA1isw872UCsD4Dfjp6GYhQFUlwzguDwRABA9mATHfIcCISUcnFbn6v/5nWZpPLyJAVLFoy4Av6j8QydmokFYiwEC+wi4Q4KQ/lRFk9ptUIkDSzRM8lMjsvyleJuh1KSLAjE82SzwB/D9WeR91f9UhQCD+98ifrwTAm45gsZtZIMA=",
          "dtype": "f8"
         },
         "z": {
          "bdata": "uJacKfqGEEAAURWZOHMkQNLRRH7rgTBAKPv+rzrKNkB4JLnhiRI9QOKmuYlsrUFAjLuWIpTRREA30HO7u/VHQN7kUFTjGUtAhfkt7Qo+TkAXhwVDGbFQQG0RdA8tQ1JAv5vi20DVU0ASJlGoVGdVQGawv3Ro+VZAujouQXyLWEAOxZwNkB1aQGFPC9qjr1tAt9l5prdBXUALZOhyy9NeQC93q5/vMmBAWLzihfn7YECDARpsA8VhQK1GUVINjmJA1YuIOBdXY0DQpbJMLyZkQEWuEgnGG/o/KtibcqdbH0C5PsIccj4sQLNIG0CIZzRAAnLVcdevOkCnzcdRE3xAQFHipOo6oENA/PaBg2LERkCjC18ciuhJQEogPLWxDE1AepoMp2wYUEDPJHtzgKpRQCKv6T+UPFNAdDlYDKjOVEDIw8bYu2BWQBxONaXP8ldAcNijceOEWUDDYhI+9xZbQBntgAoLqVxAbXfv1h47XkDAAV6jMs1fQApG5jejr2BANYsdHq14YUBe0FQEt0FiQIcVjOrACmNAduZ3By/WY0A=",
          "dtype": "f8"
         }
        },
        {
         "color": "red",
         "i": {
          "bdata": "AAEBAgIDAwQEBQUGBgcHCAgJCQoKCwsMDA0NDg4PDxAQERESEhMTFBQVFRYWFxcYGBk=",
          "dtype": "i1"
         },
         "j": {
          "bdata": "ARsCHAMdBB4FHwYgByEIIgkjCiQLJQwmDScOKA8pECoRKxIsEy0ULhUvFjAXMRgyGTM=",
          "dtype": "i1"
         },
         "k": {
          "bdata": "GhobGxwcHR0eHh8fICAhISIiIyMkJCUlJiYnJygoKSkqKisrLCwtLS4uLy8wMDExMjI=",
          "dtype": "i1"
         },
         "name": "surface",
         "opacity": 0.6,
         "type": "mesh3d",
         "x": {
          "bdata": "Vge1ESxmFUC0QgQsWyIaQHtgbkay+RrAKTQxnlibF8DiEFEu6S8dQEz/9EpJ3xRA7xCeAYkkH8BiptdjUvQRwH9FDV6WaSBAPjNEBAXCDUB5topPBhwhwBHSWdWFWAfAJL8SWAOoIUAtn9oLkLoAQNq/seFSDCLAptKdvATu87+4KaeAE0giQEZTg/J/6Ng/S+r37b5aIsCIwdh+DB/eP5LPLjUrRCJAt+V6Hbo49b9xxqQSiwQiwGhCgUQAXQFAwBd9gW2cIUA0kSKHCHsbwKL72LEWNRVAsDdHGencFUDGXBwIBnsewO6Ql/fTARPA0ozl9XQhIEB9QCduEPgPQAh38hMn4SDACwXDeaGkCcB3eIWV6nohQOy2Ek6SFwNApu3h72XtIcBxz3VNN7/4v7DiwN6XNyJAxjkGp1ov5j+AEnSm2VgiwAh1/GRQRsU/otOViuBQIkAmHmuJR2Pwv9Tu+3W+HyLACP5ZR/H4/T/e9nPS4cUhQLLJlxagpQXAF5qjkBREIcDDrCI/Ih4MQJGIOmJ6myBA3AmnkWdAH8A=",
          "dtype": "f8"
         },
         "y": {
          "bdata": "oQjNXjKVJEB4oNZVhscZwGhaZVDZ5RjAHfjFarQcHEAMU0DdkkMWQDhqe961Mh7A7sWbLURvE8BCvWJUbQIgQK42WfBIbxBATsnhoIXHIMDWKzDzvZQKwPgN+OnoZiFAVSXDOC4PBEAED2YBMd8hwIhJRycVufq//mdZmk8vIkBUsWjLgC/qPxDJ2aiQViLAQL7CLhDgpD+VEWT2m1QiQNLNEzyUyOy/KV4m6HUpIsCMTzZLPAH8P1Z5H3V/1SFAIP73yJ+vBMCbjmCxm1kgwKRAg0jkiSJA46TaPR59HcCo9yR3HnUUwHPtXZ/LZx9AwMr2T9qDEUC2Wfbg8oUgwGUeDdlz1gzAwWV4St4yIUAL4RUGZWQGQJO+R3UjuSHABFcfagiA/7+gfBSllBciQL/IihF98PE/IrI9nl1NIsCwbnpuheLQv47pwIIFWiJAeZ+BjG0R47+E4tfhbz0iwM3+dxGiNPc/ihri99z3IUAJgoy0M1YCwCyVCh7piSHA5ZpKcOHoCECAMe5qi/QgQLrRit+UQw/AGGsp4jwlIcA=",
          "dtype": "f8"
         },
         "z": {
          "bdata": "Ra4SCcYb+j8q2Jtyp1sfQLk+whxyPixAs0gbQIhnNEACctVx1686QKfNx1ETfEBAUeKk6jqgQ0D89oGDYsRGQKMLXxyK6ElASiA8tbEMTUB6mgynbBhQQM8ke3OAqlFAIq/pP5Q8U0B0OVgMqM5UQMjDxti7YFZAHE41pc/yV0Bw2KNx44RZQMNiEj73FltAGe2ACgupXEBtd+/WHjteQMABXqMyzV9ACkbmN6OvYEA1ix0erXhhQF7QVAS3QWJAhxWM6sAKY0B25ncHL9ZjQECuEgnGG/q/PHI1G9LmEkDDCw9xBwQmQDivQepSSjFAhtj7G6KSN0DTAbZN8do9QJMVuD+gEUJAPiqV2Mc1RUDlPnJx71lIQIxTTwoXfktANmgsoz6iTkBxvgQeM+NQQMNIc+pGdVJAFtPhtloHVEBqXVCDbplVQL7nvk+CK1dAEnItHJa9WEBl/JvoqU9aQLuGCrW94VtADxF5gdFzXUBim+dN5QVfQNoSK438S2BABVhicwYVYUAunZlZEN5hQFfi0D8ap2JAvptT779tY0A=",
          "dtype": "f8"
         }
        },
        {
         "color": "red",
         "i": {
          "bdata": "AAEBAgIDAwQEBQUGBgcHCAgJCQoKCwsMDA0NDg4PDxAQERESEhMTFBQVFRYWFxcYGBk=",
          "dtype": "i1"
         },
         "j": {
          "bdata": "ARsCHAMdBB4FHwYgByEIIgkjCiQLJQwmDScOKA8pECoRKxIsEy0ULhUvFjAXMRgyGTM=",
          "dtype": "i1"
         },
         "k": {
          "bdata": "GhobGxwcHR0eHh8fICAhISIiIyMkJCUlJiYnJygoKSkqKisrLCwtLS4uLy8wMDExMjI=",
          "dtype": "i1"
         },
         "name": "surface",
         "opacity": 0.6,
         "type": "mesh3d",
         "x": {
          "bdata": "ovvYsRY1FUCwN0cZ6dwVQMZcHAgGex7A7pCX99MBE8DSjOX1dCEgQH1AJ24Q+A9ACHfyEyfhIMALBcN5oaQJwHd4hZXqeiFA7LYSTpIXA0Cm7eHvZe0hwHHPdU03v/i/sOLA3pc3IkDGOQanWi/mP4ASdKbZWCLACHX8ZFBGxT+i05WK4FAiQCYea4lHY/C/1O77db4fIsAI/llH8fj9P972c9LhxSFAssmXFqClBcAXmqOQFEQhwMOsIj8iHgxAkYg6YnqbIEDcCaeRZ0AfwDQ5OT8+2B1A3xOqumZbGEBnpQuBtwgkwIoxtxBcmhTAK6V7zsz/JECpbLi3BKsQQAgrN3exxyXA20pD0nAsCcC6aahGpF4mQDvY8BVGygBAYvCjBVLDJsA2nkROwITwv/r/s3TY9CZAwF2rxVAFpr/MuIZIyPImwGFx/3eJ4/E/DpIIJCa9JkA83bCTWncBwL4P+Y1qVCbAmiyoRbDVCUBSIxHigLklQFTe7cD7/BDAbt0bQMXtJMDcHMo38ugUQHoFpn0B8yNAUGmonOG4HsA=",
          "dtype": "f8"
         },
         "y": {
          "bdata": "pECDSOSJIkDjpNo9Hn0dwKj3JHcedRTAc+1dn8tnH0DAyvZP2oMRQLZZ9uDyhSDAZR4N2XPWDMDBZXhK3jIhQAvhFQZlZAZAk75HdSO5IcAEVx9qCID/v6B8FKWUFyJAv8iKEX3w8T8isj2eXU0iwLBuem6F4tC/junAggVaIkB5n4GMbRHjv4Ti1+FvPSLAzf53EaI09z+KGuL33PchQAmCjLQzVgLALJUKHumJIcDlmkpw4egIQIAx7mqL9CBAutGK35RDD8AYayniPCUhwDi8dkZJxCBAlzXMHCR8I8DIBNSgNIEWwKyfHfcHiiRAP6QztO6nEkDWbgXUw2klwIhwjFl4SQ3Adeqk62AZJkCMax/GQgEFQASJMJlUlybA3mk0i7IT+b8yk8rRg+ImQBjaURYUst8/CK2SoEX6JsBQbrkW7pjiP4HbVKJk3iZA22JFqo1w+r/K14J9H48mwBJ1m+ecrAVAkgNqVSgNJkB83tP7PfANwPN04jmjWSXANemX4kv4EkA+nfqWI3YkQH+33JPXzRbA9VfNT1TOJcA=",
          "dtype": "f8"
         },
         "z": {
          "bdata": "QK4SCcYb+r88cjUb0uYSQMMLD3EHBCZAOK9B6lJKMUCG2PsbopI3QNMBtk3x2j1AkxW4P6ARQkA+KpXYxzVFQOU+cnHvWUhAjFNPChd+S0A2aCyjPqJOQHG+BB4z41BAw0hz6kZ1UkAW0+G2WgdUQGpdUINumVVAvue+T4IrV0ASci0clr1YQGX8m+ipT1pAu4YKtb3hW0APEXmB0XNdQGKb503lBV9A2hIrjfxLYEAFWGJzBhVhQC6dmVkQ3mFAV+LQPxqnYkC+m1Pvv21jQLaWnCn6hhDAylBNtxC4AkDZpkeRoj4hQIT5u/RAzy1AECYYrO8vNUBeT9LdPng7QFk8xgdH4EBABFGjoG4ERECqZYA5lihHQFJ6XdK9TEpA/I46a+VwTUDT0QuChkpQQCVcek6a3FFAeOboGq5uU0DMcFfnwQBVQCD7xbPVklZAdIU0gOkkWEDHD6NM/bZZQB2aERkRSVtAcSSA5STbXEDEru6xOG1eQBc5XX5M/19At+FlJbDIYEDgJp0LupFhQAls1PHDWmJAZNwYqr8dY0A=",
          "dtype": "f8"
         }
        },
        {
         "color": "red",
         "i": {
          "bdata": "AAEBAgIDAwQEBQUGBgcHCAgJCQoKCwsMDA0NDg4PDxAQERESEhMTFBQVFRYWFxcYGBk=",
          "dtype": "i1"
         },
         "j": {
          "bdata": "ARsCHAMdBB4FHwYgByEIIgkjCiQLJQwmDScOKA8pECoRKxIsEy0ULhUvFjAXMRgyGTM=",
          "dtype": "i1"
         },
         "k": {
          "bdata": "GhobGxwcHR0eHh8fICAhISIiIyMkJCUlJiYnJygoKSkqKisrLCwtLS4uLy8wMDExMjI=",
          "dtype": "i1"
         },
         "name": "surface",
         "opacity": 0.6,
         "type": "mesh3d",
         "x": {
          "bdata": "NDk5Pz7YHUDfE6q6ZlsYQGelC4G3CCTAijG3EFyaFMArpXvOzP8kQKlsuLcEqxBACCs3d7HHJcDbSkPScCwJwLppqEakXiZAO9jwFUbKAEBi8KMFUsMmwDaeRE7AhPC/+v+zdNj0JkDAXavFUAWmv8y4hkjI8ibAYXH/d4nj8T8OkggkJr0mQDzdsJNadwHAvg/5jWpUJsCaLKhFsNUJQFIjEeKAuSVAVN7twPv8EMBu3RtAxe0kwNwcyjfy6BRAegWmfQHzI0BQaaic4bgewFGyYIWBoiVAlq1+JYk5IECX6POLPaApwEw2u9nIpRvAM8/om87rKkD9l9oEXpoWQAVWRTfg+ivAxwT+5ydcEcB6Ptg2EcssQHy0Nojd7QdA9VYswI1aLcBrKRsVStv5v0vl52ATqC1AuM1hb/AFzT9kC2nj87ItwMMkmRH1ofI/bMlC1hZ7LUDaveCBZF0EwHvYKsP5AC3AXBqjzQo8D0AN8NwUr0UsQHDenBZA6hTAcmttrttKK8CKRgWPegcaQGkjdTmzEipAH79LWOAjGsA=",
          "dtype": "f8"
         },
         "y": {
          "bdata": "OLx2RknEIECXNcwcJHwjwMgE1KA0gRbArJ8d9weKJEA/pDO07qcSQNZuBdTDaSXAiHCMWXhJDcB16qTrYBkmQIxrH8ZCAQVABIkwmVSXJsDeaTSLshP5vzKTytGD4iZAGNpRFhSy3z8IrZKgRfomwFBuuRbumOI/gdtUomTeJkDbYkWqjXD6v8rXgn0fjybAEnWb55ysBUCSA2pVKA0mQHze0/s98A3A83TiOaNZJcA16ZfiS/gSQD6d+pYjdiRAf7fck9fNFsD1V81PVM4lwAHioZegGCBAQavt7KjkKMCs7L724RQewG4yXo5qTSpAWrO2NCUnGUAkC+WrEHsrwHzD6TniABTAFU3hZfVqLEC1RYPqVlsNQBJz+6P9Gi3AzgSKtPByAsCUbp3QnYktQJSIk+ZThO0/vGvqUd21LcD0+ZCb3wreP5SFaLhYny1AcDYr+Li2/b9pBnWeQkYtwFOQhAD60wlA1/yMNmOrLEA/Hgp0RkkSwCzFaYkW0CvAvo9jBHh/F0DwcORnSbYqQMzf43TbgBzAuwXLN58mLMA=",
          "dtype": "f8"
         },
         "z": {
          "bdata": "tpacKfqGEMDKUE23ELgCQNmmR5GiPiFAhPm79EDPLUAQJhis7y81QF5P0t0+eDtAWTzGB0fgQEAEUaOgbgREQKplgDmWKEdAUnpd0r1MSkD8jjpr5XBNQNPRC4KGSlBAJVx6TprcUUB45ugarm5TQMxwV+fBAFVAIPvFs9WSVkB0hTSA6SRYQMcPo0z9tllAHZoRGRFJW0BxJIDlJNtcQMSu7rE4bV5AFzldfkz/X0C34WUlsMhgQOAmnQu6kWFACWzU8cNaYkBk3Biqvx1jQEwz7yxKyxLAsP3XrzDJ/D9cUm95xCkgQAil49xiuixA0vsroIClNEAgJebRz+06QDon0IEPm0BA5DutGje/Q0CLUIqzXuNGQDJlZ0yGB0pA3XlE5a0rTUBExxC/6idQQJZRf4v+uVFA6dvtVxJMU0A9ZlwkJt5UQJHwyvA5cFZA5Xo5vU0CWEA4BaiJYZRZQI6PFlZ1JltA4hmFIom4XEA1pPPunEpeQIguYruw3F9Ab1zoQ2K3YECYoR8qbIBhQMHmVhB2SWJAgEf+KZ0LY0A=",
          "dtype": "f8"
         }
        },
        {
         "color": "red",
         "i": {
          "bdata": "AAEBAgIDAwQEBQUGBgcHCAgJCQoKCwsMDA0NDg4PDxAQERESEhMTFBQVFRYWFxcYGBk=",
          "dtype": "i1"
         },
         "j": {
          "bdata": "ARsCHAMdBB4FHwYgByEIIgkjCiQLJQwmDScOKA8pECoRKxIsEy0ULhUvFjAXMRgyGTM=",
          "dtype": "i1"
         },
         "k": {
          "bdata": "GhobGxwcHR0eHh8fICAhISIiIyMkJCUlJiYnJygoKSkqKisrLCwtLS4uLy8wMDExMjI=",
          "dtype": "i1"
         },
         "name": "surface",
         "opacity": 0.6,
         "type": "mesh3d",
         "x": {
          "bdata": "UbJghYGiJUCWrX4liTkgQJfo84s9oCnATDa72cilG8Azz+ibzusqQP2X2gRemhZABVZFN+D6K8DHBP7nJ1wRwHo+2DYRyyxAfLQ2iN3tB0D1VizAjVotwGspGxVK2/m/S+XnYBOoLUC4zWFv8AXNP2QLaePzsi3AwySZEfWh8j9syULWFnstQNq94IFkXQTAe9gqw/kALcBcGqPNCjwPQA3w3BSvRSxAcN6cFkDqFMBya22u20orwIpGBY96BxpAaSN1ObMSKkAfv0tY4CMawBIpkHKlmStAeeipIkgtJUA6seS8QWYtwG2K4E8hbCLAHDLHFx8gL0D0afCLKAMfQL6cgiIFSjDA6o6mYF3oGMAcML69X98wQPs/pBGZlRJAppW+u89OMcBvlv22IjIIwEBqo69alzFAp0Q4U2cF9j8J2UaUXbgxwFAf1jjNK9I/rXeVOo6xMUB4AL6FGBH/v5+IQ/D7gjHAJAPgqbaoDEDvAmldDy0xQJQ1/uY8xBTAxKZRmYmwMMBFyditcwUbQDSlkXiCDjBA4NMGdECmE8A=",
          "dtype": "f8"
         },
         "y": {
          "bdata": "AeKhl6AYIEBBq+3sqOQowKzsvvbhFB7AbjJejmpNKkBas7Y0JScZQCQL5asQeyvAfMPpOeIAFMAVTeFl9WosQLVFg+pWWw1AEnP7o/0aLcDOBIq08HICwJRundCdiS1AlIiT5lOE7T+8a+pR3bUtwPT5kJvfCt4/lIVouFifLUBwNiv4uLb9v2kGdZ5CRi3AU5CEAPrTCUDX/Iw2Y6ssQD8eCnRGSRLALMVpiRbQK8C+j2MEeH8XQPBw5GdJtipAzN/jdNuAHMC7Bcs3nyYswF+3onA81yBAhMLKokhwLMAozV3jRtIjwIyyJze0Sy5Aq3kQuqD7IEAwuY/3CuMvwLltveqg/RvAlwz9wFyZMEDTufCVGcUVQMLL/L3mGzHAyrJ6d0y3DsDeOPgY/ncxQHQW7yRfnwFAHwTC3tOsMcA6liz7Xn/hvzyr3lPxuTFAfHmqYwjT8b+YCFb/OJ8xwJj1mAzZHgZAMpPu7OZcMUCiS3AZPJERwNuCPSaQ8zDA9ZXMXZHrF0BVCbtjIWQwQDMBA5YlEB7APnBDqAubMMA=",
          "dtype": "f8"
         },
         "z": {
          "bdata": "TDPvLErLEsCw/devMMn8P1xSb3nEKSBACKXj3GK6LEDS+yuggKU0QCAl5tHP7TpAOifQgQ+bQEDkO60aN79DQItQirNe40ZAMmVnTIYHSkDdeUTlrStNQETHEL/qJ1BAllF/i/65UUDp2+1XEkxTQD1mXCQm3lRAkfDK8DlwVkDlejm9TQJYQDgFqIlhlFlAjo8WVnUmW0DiGYUiibhcQDWk8+6cSl5AiC5iu7DcX0BvXOhDYrdgQJihHypsgGFAweZWEHZJYkCAR/4pnQtjQHgPVVWxiAjAxWRSr23ZCkDX60jP+UYjQIM+vTKY1y9AkMgYSxs0NkDd8dJ8anw8QJiNRtdcYkFAQ6IjcISGREDqtgAJrKpHQJHL3aHTzkpAO+C6OvvyTUBz+stpkYtQQMWEOjalHVJAGA+pArmvU0BsmRfPzEFVQMAjhpvg01ZAFK70Z/RlWEBnOGM0CPhZQL3C0QAciltAEU1AzS8cXUBk166ZQ65eQNywDrMrIGBAB/ZFmTXpYEAvO31/P7JhQFmAtGVJe2JA3GwQttQ/Y0A=",
          "dtype": "f8"
         }
        },
        {
         "color": "red",
         "i": {
          "bdata": "AAEBAgIDAwQEBQUGBgcHCAgJCQoKCwsMDA0NDg4PDxAQERESEhMTFBQVFRYWFxcYGBk=",
          "dtype": "i1"
         },
         "j": {
          "bdata": "ARsCHAMdBB4FHwYgByEIIgkjCiQLJQwmDScOKA8pECoRKxIsEy0ULhUvFjAXMRgyGTM=",
          "dtype": "i1"
         },
         "k": {
          "bdata": "GhobGxwcHR0eHh8fICAhISIiIyMkJCUlJiYnJygoKSkqKisrLCwtLS4uLy8wMDExMjI=",
          "dtype": "i1"
         },
         "name": "surface",
         "opacity": 0.6,
         "type": "mesh3d",
         "x": {
          "bdata": "EimQcqWZK0B56KkiSC0lQDqx5LxBZi3AbYrgTyFsIsAcMscXHyAvQPRp8IsoAx9AvpyCIgVKMMDqjqZgXegYwBwwvr1f3zBA+z+kEZmVEkCmlb67z04xwG+W/bYiMgjAQGqjr1qXMUCnRDhTZwX2PwnZRpRduDHAUB/WOM0r0j+td5U6jrExQHgAvoUYEf+/n4hD8PuCMcAkA+CptqgMQO8CaV0PLTFAlDX+5jzEFMDEplGZibAwwEXJ2K1zBRtANKWReIIOMEDg0wZ0QKYTwJ8O9gX6Bi5AggNbD7+3KEAiMdmRwZYtwPAbR/gM8iXAXk3UrB+lL0Dw/hfYCfsiQEzKolswtjDA8kATtr6yH8ABlADRQnQxQHM3Qw8uKBlAIYnoExwLMsDmvX7cFGUSwNhKmSZpeTJAFPo7k0rxBkBzZfUpMr4ywDAU5Z25yfG/KV6JitzYMkDAIYtXNu7kvwu86VssyTLARNoOszVQA0CTcFzfRI8yQABukoa7nBDAigCfNKgrMsBi4o9YB2wXQCZ5ezU2nzFALbmbFgCTDMA=",
          "dtype": "f8"
         },
         "y": {
          "bdata": "X7eicDzXIECEwsqiSHAswCjNXeNG0iPAjLInN7RLLkCreRC6oPsgQDC5j/cK4y/AuW296qD9G8CXDP3AXJkwQNO58JUZxRVAwsv8veYbMcDKsnp3TLcOwN44+Bj+dzFAdBbvJF+fAUAfBMLe06wxwDqWLPtef+G/PKveU/G5MUB8eapjCNPxv5gIVv84nzHAmPWYDNkeBkAyk+7s5lwxQKJLcBk8kRHA24I9JpDzMMD1lcxdkesXQFUJu2MhZDBAMwEDliUQHsA+cEOoC5swwJ1J5rLspiJA1pDNS1N2LMBxjsKWdlsnwGK87PSNpi5AWeC6W018JEDw+FTQ80gwwCVNaP0abyHAWwQHEQgaMUA5KSYFdnUcQBYbZuOtxDHA69Kn+cHMFcCBFHzLZUcyQBgipGYh5g1AprZJCAqhMsCsmHyQHN//vwhs6CfR0DJAPxiGmrdSzT+wjDvMT9YywOmKZVOrkvg/q+Q3nHmxMkCQDhaFOkwKwCFMo1+hYjLAOVrmQwMKFEBo6g1FeOoxQNoDi/fgwBrA/WzeQUlPMcA=",
          "dtype": "f8"
         },
         "z": {
          "bdata": "eA9VVbGICMDFZFKvbdkKQNfrSM/5RiNAgz69MpjXL0CQyBhLGzQ2QN3x0nxqfDxAmI1G11xiQUBDoiNwhIZEQOq2AAmsqkdAkcvdodPOSkA74Lo6+/JNQHP6y2mRi1BAxYQ6NqUdUkAYD6kCua9TQGyZF8/MQVVAwCOGm+DTVkAUrvRn9GVYQGc4YzQI+FlAvcLRAByKW0ARTUDNLxxdQGTXrplDrl5A3LAOsysgYEAH9kWZNelgQC87fX8/smFAWYC0ZUl7YkDcbBC21D9jQAEwAuoHDdW8MaXoxjwhGUA9pejGPCEpQPV7LpXt2DJARKXoxjwhOUCRzqL4i2k/QPJ7LpXt2EJAnZALLhX9RUBEpejGPCFJQOu5xV9kRUxAlc6i+ItpT0Cg8b/I2UZRQPJ7LpXt2FJARQadYQFrVECZkAsuFf1VQO0aevooj1dAQaXoxjwhWUCUL1eTULNaQOq5xV9kRVxAPkQ0LHjXXUCRzqL4i2lfQHKsiOLPfWBAnfG/yNlGYUDGNveu4w9iQO97LpXt2GJAGsFle/ehY0A=",
          "dtype": "f8"
         }
        },
        {
         "line": {
          "color": "red"
         },
         "mode": "lines",
         "type": "scatter3d",
         "x": {
          "bdata": "nw72BfoGLkCDA1sPv7coQCEx2ZHBli3A8BtH+AzyJcBeTdSsH6UvQPD+F9gJ+yJATMqiWzC2MMDyQBO2vrIfwAGUANFCdDFAdDdDDy4oGUAhiegTHAsywOe9ftwUZRLA2EqZJml5MkAU+juTSvEGQHNl9SkyvjLAMxTlnbnJ8b8pXomK3NgyQLshi1c27uS/C7zpWyzJMsBC2g6zNVADQJNwXN9EjzJAAG6ShrucEMCKAJ80qCsywGLij1gHbBdAJnl7NTafMUAsuZsWAJMMwA==",
          "dtype": "f8"
         },
         "y": {
          "bdata": "nUnmsuymIkDVkM1LU3YswHGOwpZ2WyfAYrzs9I2mLkBa4LpbTXwkQPD4VNDzSDDAJU1o/RpvIcBbBAcRCBoxQDopJgV2dRxAFhtm463EMcDs0qf5wcwVwIEUfMtlRzJAGiKkZiHmDUCmtkkICqEywK6YfJAc3/+/CGzoJ9HQMkBSGIaat1LNP7CMO8xP1jLA5oplU6uS+D+r5DecebEyQI8OFoU6TArAIUyjX6FiMsA4WuZDAwoUQGjqDUV46jFA2QOL9+DAGsD9bN5BSU8xwA==",
          "dtype": "f8"
         },
         "z": {
          "bdata": "AAAAAAAAAAAypejGPCEZQD6l6MY8ISlA9Xsule3YMkBEpejGPCE5QJHOoviLaT9A8nsule3YQkCdkAsuFf1FQESl6MY8IUlA67nFX2RFTECVzqL4i2lPQKDxv8jZRlFA8nsule3YUkBFBp1hAWtUQJmQCy4V/VVA7Rp6+iiPV0BBpejGPCFZQJQvV5NQs1pA6rnFX2RFXEA+RDQseNddQJHOoviLaV9AcqyI4s99YECd8b/I2UZhQMY2967jD2JA73sule3YYkAawWV796FjQA==",
          "dtype": "f8"
         }
        },
        {
         "line": {
          "color": "red"
         },
         "mode": "lines",
         "type": "scatter3d",
         "x": {
          "bdata": "AGyDCcXHK0CIOozXyDApQEUSW4kLGyrASEc9oKK+JsDpWUullDwsQBqaU6BfGSRAsL8efqkeLsAkwcrN8UYhwOJEJLsOvS9A1jfQPWGbHEASlF6PEIowwA1i4pOVaBbABD6J2W4QMUAk5p+BbgMQQECBTUd0cDHAtWeQKZb0AsC9950QSakxQHzk18rZ3uY/GWUNf226McD0Bm4+CkjuPwKEzgy7ozFAhjTla7jKBMAMu0W7ZGUxwPAk1XVa6hBAZTBqoPb/MED5+TgC5R8JwA==",
          "dtype": "f8"
         },
         "y": {
          "bdata": "OnWuU7quJEDA5OM09fMowJHiHR50/ifAlZJvOXUzK0BF1UIkCHIlQJVIXcXUNS3AVjhJ0Wq1IsAbUdXuj/YuQHdVpyuFnR9A2EyiJ9s4MMAKSG+6KIkZwLjTu+750TBAoFAZzmk7E0D6Oyk0TEUxwIBfWrXlhAnATzur0M6RMUBcTFLOPbP4P72XsdTVtjHAwOhTBxmtvT93HLwKDrQxQIbMxui1ZPy/2+tXsn2JMcCuItDnZVcLQDvuFHKENzFAvutMz38fFMDWELB7ZLcvwA==",
          "dtype": "f8"
         },
         "z": {
          "bdata": "dQ9VVbGICEAADBRb4WoiQKReiL5/+y5AqFj+EA/GNUD4gbhCXg48QKJVObpWK0FATGoWU35PRED3fvPrpXNHQJ6T0ITNl0pARaitHfW7TUB3XkVbDnBQQM3osyciAlJAH3Mi9DWUU0By/ZDASSZVQMaH/4xduFZAGhJuWXFKWEBunNwlhdxZQMEmS/KYbltAF7G5vqwAXUBrOyiLwJJeQN9iyytqEmBACKgCEnTbYEAz7Tn4faRhQFwycd6HbWJAhXeoxJE2Y0BYFbtAGgRkQA==",
          "dtype": "f8"
         }
        },
        {
         "line": {
          "color": "red"
         },
         "mode": "lines",
         "type": "scatter3d",
         "x": {
          "bdata": "GftBzCvpJUAnhb/jwl8mQH1Lk3ddlCTAnSmHEChyJMCf8q/Kw34mQKVgueaaViJAp2073Zw2KMAAjvHk1xEgwC7wBz8MuClAQRBgS/BRG0CfHBXHr/8qwFzW+dTLQhbAR2kFLqcKLEDFa1nhoAERQCwJtISa1izA4Ul9rHw0B8CiH2V4v2EtQPhpdO0jY/g/5oy6WN2qLcDY3TQHBjTBv+bKYtZPsS1A016Qhvca9L9dwFZ0CHUtwBHaYbOgFwVA+8hoqI72LEAo37m1ZpAOwA==",
          "dtype": "f8"
         },
         "y": {
          "bdata": "2Gf3kGz7JUBIywSLiY0jwCC9v6L7biXAzBda9p+PJUBseTJL1mkjQPD1+YdCYSfAlv5pmRA5IcCD3KbcWv4oQKaERngtwx1A+X/gokhjKsA2MQe4V9EYwKA1CMHpjCtA8hZzkLynE0BXOOFfoXgswKBx8ejrowzALCSayV0kLUDmW+MyArgBQEALLhCdji3AsOlqLxyR6r9uBqpwcLYtQKTzPRCE+eG/KmC6a36bLcBGRp3U3y3/P5KCyY4DPi1AGMHIRXaMCsCXWSsyS9wpwA==",
          "dtype": "f8"
         },
         "z": {
          "bdata": "SzPvLErLEkB8pe2wFoglQBD8MIpaDDFAZiXru6lUN0C2TqXt+Jw9QAG8rw+k8kFAqtCMqMsWRUBV5WlB8zpIQP35RtoaX0tAow4kc0KDTkCnkQAGtdNQQPwbb9LIZVJATqbdntz3U0ChMExr8IlVQPW6ujcEHFdASUUpBBiuWECdz5fQK0BaQPBZBp0/0ltARuR0aVNkXUCabuM1Z/ZeQHf8KIE9RGBAoEFgZ0cNYUDLhpdNUdZhQPTLzjNbn2JAHREGGmVoY0C0Os3MUThkQA==",
          "dtype": "f8"
         }
        },
        {
         "line": {
          "color": "red"
         },
         "mode": "lines",
         "type": "scatter3d",
         "x": {
          "bdata": "hu1X5IZUHkAH/FwmDZYhQCOpQktSMR/AzceQW/gfIMAEvwxdaxshQPZgjihOCx1AjV62B7x3IsAQRzbIZpUZwCA3YGeMqiNAIgjSaQHmFUDsMv8AK7EkwPwvxhNmBRLAz4omqkmJJUC1O+vFlvgLQAxKRLcCMSbAP+0f7IWnA8A/lAo/3aYmQLSWcjGUVPY/JAVxadDpJsCclOpcuJ/UvyrD3sJF+SZAZC5vY5wg6L96yUOOGtUmwMI1BFtuLf0/L6QpE6B9JkBph5S4eSwVwA==",
          "dtype": "f8"
         },
         "y": {
          "bdata": "B1rAUFfxJUCiM0bI05MdwEd1g9rA3yDABGUmEaReIED/S9PuPq4eQCCo0OuUziHAiSeB4glYG8BHaGabgRYjQABQDClixBdA4RYlNIkzJMD5ctdxUfsTwMZnSi8rIyVAsCWWclkFEEBk2HwKTeMlwEX0+5LB1gfAoLDyAT9yJkBpDtDye9r+P8kNuNq/zibA2P9PHz6E679zeo+0//cmQJCSKqlGqcu/1+0W3aHtJsAoxmuSq6T0P65UF6C9ryZAhB6KOuXSAsA+c1GRuMojwA==",
          "dtype": "f8"
         },
         "z": {
          "bdata": "uJacKfqGEEAAURWZOHMkQNLRRH7rgTBAKPv+rzrKNkB4JLnhiRI9QOKmuYlsrUFAjLuWIpTRREA30HO7u/VHQN7kUFTjGUtAhfkt7Qo+TkAXhwVDGbFQQG0RdA8tQ1JAv5vi20DVU0ASJlGoVGdVQGawv3Ro+VZAujouQXyLWEAOxZwNkB1aQGFPC9qjr1tAt9l5prdBXUALZOhyy9NeQC93q5/vMmBAWLzihfn7YECDARpsA8VhQK1GUVINjmJA1YuIOBdXY0DQpbJMLyZkQA==",
          "dtype": "f8"
         }
        },
        {
         "line": {
          "color": "red"
         },
         "mode": "lines",
         "type": "scatter3d",
         "x": {
          "bdata": "Vge1ESxmFUC0QgQsWyIaQHtgbkay+RrAKTQxnlibF8DiEFEu6S8dQEz/9EpJ3xRA7xCeAYkkH8BiptdjUvQRwH9FDV6WaSBAPjNEBAXCDUB5topPBhwhwBHSWdWFWAfAJL8SWAOoIUAtn9oLkLoAQNq/seFSDCLAptKdvATu87+4KaeAE0giQEZTg/J/6Ng/S+r37b5aIsCIwdh+DB/eP5LPLjUrRCJAt+V6Hbo49b9xxqQSiwQiwGhCgUQAXQFAwBd9gW2cIUA0kSKHCHsbwA==",
          "dtype": "f8"
         },
         "y": {
          "bdata": "oQjNXjKVJEB4oNZVhscZwGhaZVDZ5RjAHfjFarQcHEAMU0DdkkMWQDhqe961Mh7A7sWbLURvE8BCvWJUbQIgQK42WfBIbxBATsnhoIXHIMDWKzDzvZQKwPgN+OnoZiFAVSXDOC4PBEAED2YBMd8hwIhJRycVufq//mdZmk8vIkBUsWjLgC/qPxDJ2aiQViLAQL7CLhDgpD+VEWT2m1QiQNLNEzyUyOy/KV4m6HUpIsCMTzZLPAH8P1Z5H3V/1SFAIP73yJ+vBMCbjmCxm1kgwA==",
          "dtype": "f8"
         },
         "z": {
          "bdata": "Ra4SCcYb+j8q2Jtyp1sfQLk+whxyPixAs0gbQIhnNEACctVx1686QKfNx1ETfEBAUeKk6jqgQ0D89oGDYsRGQKMLXxyK6ElASiA8tbEMTUB6mgynbBhQQM8ke3OAqlFAIq/pP5Q8U0B0OVgMqM5UQMjDxti7YFZAHE41pc/yV0Bw2KNx44RZQMNiEj73FltAGe2ACgupXEBtd+/WHjteQMABXqMyzV9ACkbmN6OvYEA1ix0erXhhQF7QVAS3QWJAhxWM6sAKY0B25ncHL9ZjQA==",
          "dtype": "f8"
         }
        },
        {
         "line": {
          "color": "red"
         },
         "mode": "lines",
         "type": "scatter3d",
         "x": {
          "bdata": "ovvYsRY1FUCwN0cZ6dwVQMZcHAgGex7A7pCX99MBE8DSjOX1dCEgQH1AJ24Q+A9ACHfyEyfhIMALBcN5oaQJwHd4hZXqeiFA7LYSTpIXA0Cm7eHvZe0hwHHPdU03v/i/sOLA3pc3IkDGOQanWi/mP4ASdKbZWCLACHX8ZFBGxT+i05WK4FAiQCYea4lHY/C/1O77db4fIsAI/llH8fj9P972c9LhxSFAssmXFqClBcAXmqOQFEQhwMOsIj8iHgxAkYg6YnqbIEDcCaeRZ0AfwA==",
          "dtype": "f8"
         },
         "y": {
          "bdata": "pECDSOSJIkDjpNo9Hn0dwKj3JHcedRTAc+1dn8tnH0DAyvZP2oMRQLZZ9uDyhSDAZR4N2XPWDMDBZXhK3jIhQAvhFQZlZAZAk75HdSO5IcAEVx9qCID/v6B8FKWUFyJAv8iKEX3w8T8isj2eXU0iwLBuem6F4tC/junAggVaIkB5n4GMbRHjv4Ti1+FvPSLAzf53EaI09z+KGuL33PchQAmCjLQzVgLALJUKHumJIcDlmkpw4egIQIAx7mqL9CBAutGK35RDD8AYayniPCUhwA==",
          "dtype": "f8"
         },
         "z": {
          "bdata": "QK4SCcYb+r88cjUb0uYSQMMLD3EHBCZAOK9B6lJKMUCG2PsbopI3QNMBtk3x2j1AkxW4P6ARQkA+KpXYxzVFQOU+cnHvWUhAjFNPChd+S0A2aCyjPqJOQHG+BB4z41BAw0hz6kZ1UkAW0+G2WgdUQGpdUINumVVAvue+T4IrV0ASci0clr1YQGX8m+ipT1pAu4YKtb3hW0APEXmB0XNdQGKb503lBV9A2hIrjfxLYEAFWGJzBhVhQC6dmVkQ3mFAV+LQPxqnYkC+m1Pvv21jQA==",
          "dtype": "f8"
         }
        },
        {
         "line": {
          "color": "red"
         },
         "mode": "lines",
         "type": "scatter3d",
         "x": {
          "bdata": "NDk5Pz7YHUDfE6q6ZlsYQGelC4G3CCTAijG3EFyaFMArpXvOzP8kQKlsuLcEqxBACCs3d7HHJcDbSkPScCwJwLppqEakXiZAO9jwFUbKAEBi8KMFUsMmwDaeRE7AhPC/+v+zdNj0JkDAXavFUAWmv8y4hkjI8ibAYXH/d4nj8T8OkggkJr0mQDzdsJNadwHAvg/5jWpUJsCaLKhFsNUJQFIjEeKAuSVAVN7twPv8EMBu3RtAxe0kwNwcyjfy6BRAegWmfQHzI0BQaaic4bgewA==",
          "dtype": "f8"
         },
         "y": {
          "bdata": "OLx2RknEIECXNcwcJHwjwMgE1KA0gRbArJ8d9weKJEA/pDO07qcSQNZuBdTDaSXAiHCMWXhJDcB16qTrYBkmQIxrH8ZCAQVABIkwmVSXJsDeaTSLshP5vzKTytGD4iZAGNpRFhSy3z8IrZKgRfomwFBuuRbumOI/gdtUomTeJkDbYkWqjXD6v8rXgn0fjybAEnWb55ysBUCSA2pVKA0mQHze0/s98A3A83TiOaNZJcA16ZfiS/gSQD6d+pYjdiRAf7fck9fNFsD1V81PVM4lwA==",
          "dtype": "f8"
         },
         "z": {
          "bdata": "tpacKfqGEMDKUE23ELgCQNmmR5GiPiFAhPm79EDPLUAQJhis7y81QF5P0t0+eDtAWTzGB0fgQEAEUaOgbgREQKplgDmWKEdAUnpd0r1MSkD8jjpr5XBNQNPRC4KGSlBAJVx6TprcUUB45ugarm5TQMxwV+fBAFVAIPvFs9WSVkB0hTSA6SRYQMcPo0z9tllAHZoRGRFJW0BxJIDlJNtcQMSu7rE4bV5AFzldfkz/X0C34WUlsMhgQOAmnQu6kWFACWzU8cNaYkBk3Biqvx1jQA==",
          "dtype": "f8"
         }
        },
        {
         "line": {
          "color": "red"
         },
         "mode": "lines",
         "type": "scatter3d",
         "x": {
          "bdata": "UbJghYGiJUCWrX4liTkgQJfo84s9oCnATDa72cilG8Azz+ibzusqQP2X2gRemhZABVZFN+D6K8DHBP7nJ1wRwHo+2DYRyyxAfLQ2iN3tB0D1VizAjVotwGspGxVK2/m/S+XnYBOoLUC4zWFv8AXNP2QLaePzsi3AwySZEfWh8j9syULWFnstQNq94IFkXQTAe9gqw/kALcBcGqPNCjwPQA3w3BSvRSxAcN6cFkDqFMBya22u20orwIpGBY96BxpAaSN1ObMSKkAfv0tY4CMawA==",
          "dtype": "f8"
         },
         "y": {
          "bdata": "AeKhl6AYIEBBq+3sqOQowKzsvvbhFB7AbjJejmpNKkBas7Y0JScZQCQL5asQeyvAfMPpOeIAFMAVTeFl9WosQLVFg+pWWw1AEnP7o/0aLcDOBIq08HICwJRundCdiS1AlIiT5lOE7T+8a+pR3bUtwPT5kJvfCt4/lIVouFifLUBwNiv4uLb9v2kGdZ5CRi3AU5CEAPrTCUDX/Iw2Y6ssQD8eCnRGSRLALMVpiRbQK8C+j2MEeH8XQPBw5GdJtipAzN/jdNuAHMC7Bcs3nyYswA==",
          "dtype": "f8"
         },
         "z": {
          "bdata": "TDPvLErLEsCw/devMMn8P1xSb3nEKSBACKXj3GK6LEDS+yuggKU0QCAl5tHP7TpAOifQgQ+bQEDkO60aN79DQItQirNe40ZAMmVnTIYHSkDdeUTlrStNQETHEL/qJ1BAllF/i/65UUDp2+1XEkxTQD1mXCQm3lRAkfDK8DlwVkDlejm9TQJYQDgFqIlhlFlAjo8WVnUmW0DiGYUiibhcQDWk8+6cSl5AiC5iu7DcX0BvXOhDYrdgQJihHypsgGFAweZWEHZJYkCAR/4pnQtjQA==",
          "dtype": "f8"
         }
        },
        {
         "line": {
          "color": "red"
         },
         "mode": "lines",
         "type": "scatter3d",
         "x": {
          "bdata": "EimQcqWZK0B56KkiSC0lQDqx5LxBZi3AbYrgTyFsIsAcMscXHyAvQPRp8IsoAx9AvpyCIgVKMMDqjqZgXegYwBwwvr1f3zBA+z+kEZmVEkCmlb67z04xwG+W/bYiMgjAQGqjr1qXMUCnRDhTZwX2PwnZRpRduDHAUB/WOM0r0j+td5U6jrExQHgAvoUYEf+/n4hD8PuCMcAkA+CptqgMQO8CaV0PLTFAlDX+5jzEFMDEplGZibAwwEXJ2K1zBRtANKWReIIOMEDg0wZ0QKYTwA==",
          "dtype": "f8"
         },
         "y": {
          "bdata": "X7eicDzXIECEwsqiSHAswCjNXeNG0iPAjLInN7RLLkCreRC6oPsgQDC5j/cK4y/AuW296qD9G8CXDP3AXJkwQNO58JUZxRVAwsv8veYbMcDKsnp3TLcOwN44+Bj+dzFAdBbvJF+fAUAfBMLe06wxwDqWLPtef+G/PKveU/G5MUB8eapjCNPxv5gIVv84nzHAmPWYDNkeBkAyk+7s5lwxQKJLcBk8kRHA24I9JpDzMMD1lcxdkesXQFUJu2MhZDBAMwEDliUQHsA+cEOoC5swwA==",
          "dtype": "f8"
         },
         "z": {
          "bdata": "eA9VVbGICMDFZFKvbdkKQNfrSM/5RiNAgz69MpjXL0CQyBhLGzQ2QN3x0nxqfDxAmI1G11xiQUBDoiNwhIZEQOq2AAmsqkdAkcvdodPOSkA74Lo6+/JNQHP6y2mRi1BAxYQ6NqUdUkAYD6kCua9TQGyZF8/MQVVAwCOGm+DTVkAUrvRn9GVYQGc4YzQI+FlAvcLRAByKW0ARTUDNLxxdQGTXrplDrl5A3LAOsysgYEAH9kWZNelgQC87fX8/smFAWYC0ZUl7YkDcbBC21D9jQA==",
          "dtype": "f8"
         }
        },
        {
         "line": {
          "color": "red"
         },
         "mode": "lines",
         "type": "scatter3d",
         "x": {
          "bdata": "nw72BfoGLkCCA1sPv7coQCIx2ZHBli3A8BtH+AzyJcBeTdSsH6UvQPD+F9gJ+yJATMqiWzC2MMDyQBO2vrIfwAGUANFCdDFAczdDDy4oGUAhiegTHAsywOa9ftwUZRLA2EqZJml5MkAU+juTSvEGQHNl9SkyvjLAMBTlnbnJ8b8pXomK3NgyQMAhi1c27uS/C7zpWyzJMsBE2g6zNVADQJNwXN9EjzJAAG6ShrucEMCKAJ80qCsywGLij1gHbBdAJnl7NTafMUAtuZsWAJMMwA==",
          "dtype": "f8"
         },
         "y": {
          "bdata": "nUnmsuymIkDWkM1LU3YswHGOwpZ2WyfAYrzs9I2mLkBZ4LpbTXwkQPD4VNDzSDDAJU1o/RpvIcBbBAcRCBoxQDkpJgV2dRxAFhtm463EMcDr0qf5wcwVwIEUfMtlRzJAGCKkZiHmDUCmtkkICqEywKyYfJAc3/+/CGzoJ9HQMkA/GIaat1LNP7CMO8xP1jLA6YplU6uS+D+r5DecebEyQJAOFoU6TArAIUyjX6FiMsA5WuZDAwoUQGjqDUV46jFA2gOL9+DAGsD9bN5BSU8xwA==",
          "dtype": "f8"
         },
         "z": {
          "bdata": "ATAC6gcN1bwxpejGPCEZQD2l6MY8ISlA9Xsule3YMkBEpejGPCE5QJHOoviLaT9A8nsule3YQkCdkAsuFf1FQESl6MY8IUlA67nFX2RFTECVzqL4i2lPQKDxv8jZRlFA8nsule3YUkBFBp1hAWtUQJmQCy4V/VVA7Rp6+iiPV0BBpejGPCFZQJQvV5NQs1pA6rnFX2RFXEA+RDQseNddQJHOoviLaV9AcqyI4s99YECd8b/I2UZhQMY2967jD2JA73sule3YYkAawWV796FjQA==",
          "dtype": "f8"
         }
        }
       ],
       "layout": {
        "dragmode": "turntable",
        "scene": {
         "aspectmode": "data",
         "camera": {
          "eye": {
           "x": 0,
           "y": 1.8,
           "z": 1.2
          }
         }
        },
        "template": {
         "data": {
          "bar": [
           {
            "error_x": {
             "color": "#2a3f5f"
            },
            "error_y": {
             "color": "#2a3f5f"
            },
            "marker": {
             "line": {
              "color": "#E5ECF6",
              "width": 0.5
             },
             "pattern": {
              "fillmode": "overlay",
              "size": 10,
              "solidity": 0.2
             }
            },
            "type": "bar"
           }
          ],
          "barpolar": [
           {
            "marker": {
             "line": {
              "color": "#E5ECF6",
              "width": 0.5
             },
             "pattern": {
              "fillmode": "overlay",
              "size": 10,
              "solidity": 0.2
             }
            },
            "type": "barpolar"
           }
          ],
          "carpet": [
           {
            "aaxis": {
             "endlinecolor": "#2a3f5f",
             "gridcolor": "white",
             "linecolor": "white",
             "minorgridcolor": "white",
             "startlinecolor": "#2a3f5f"
            },
            "baxis": {
             "endlinecolor": "#2a3f5f",
             "gridcolor": "white",
             "linecolor": "white",
             "minorgridcolor": "white",
             "startlinecolor": "#2a3f5f"
            },
            "type": "carpet"
           }
          ],
          "choropleth": [
           {
            "colorbar": {
             "outlinewidth": 0,
             "ticks": ""
            },
            "type": "choropleth"
           }
          ],
          "contour": [
           {
            "colorbar": {
             "outlinewidth": 0,
             "ticks": ""
            },
            "colorscale": [
             [
              0,
              "#0d0887"
             ],
             [
              0.1111111111111111,
              "#46039f"
             ],
             [
              0.2222222222222222,
              "#7201a8"
             ],
             [
              0.3333333333333333,
              "#9c179e"
             ],
             [
              0.4444444444444444,
              "#bd3786"
             ],
             [
              0.5555555555555556,
              "#d8576b"
             ],
             [
              0.6666666666666666,
              "#ed7953"
             ],
             [
              0.7777777777777778,
              "#fb9f3a"
             ],
             [
              0.8888888888888888,
              "#fdca26"
             ],
             [
              1,
              "#f0f921"
             ]
            ],
            "type": "contour"
           }
          ],
          "contourcarpet": [
           {
            "colorbar": {
             "outlinewidth": 0,
             "ticks": ""
            },
            "type": "contourcarpet"
           }
          ],
          "heatmap": [
           {
            "colorbar": {
             "outlinewidth": 0,
             "ticks": ""
            },
            "colorscale": [
             [
              0,
              "#0d0887"
             ],
             [
              0.1111111111111111,
              "#46039f"
             ],
             [
              0.2222222222222222,
              "#7201a8"
             ],
             [
              0.3333333333333333,
              "#9c179e"
             ],
             [
              0.4444444444444444,
              "#bd3786"
             ],
             [
              0.5555555555555556,
              "#d8576b"
             ],
             [
              0.6666666666666666,
              "#ed7953"
             ],
             [
              0.7777777777777778,
              "#fb9f3a"
             ],
             [
              0.8888888888888888,
              "#fdca26"
             ],
             [
              1,
              "#f0f921"
             ]
            ],
            "type": "heatmap"
           }
          ],
          "histogram": [
           {
            "marker": {
             "pattern": {
              "fillmode": "overlay",
              "size": 10,
              "solidity": 0.2
             }
            },
            "type": "histogram"
           }
          ],
          "histogram2d": [
           {
            "colorbar": {
             "outlinewidth": 0,
             "ticks": ""
            },
            "colorscale": [
             [
              0,
              "#0d0887"
             ],
             [
              0.1111111111111111,
              "#46039f"
             ],
             [
              0.2222222222222222,
              "#7201a8"
             ],
             [
              0.3333333333333333,
              "#9c179e"
             ],
             [
              0.4444444444444444,
              "#bd3786"
             ],
             [
              0.5555555555555556,
              "#d8576b"
             ],
             [
              0.6666666666666666,
              "#ed7953"
             ],
             [
              0.7777777777777778,
              "#fb9f3a"
             ],
             [
              0.8888888888888888,
              "#fdca26"
             ],
             [
              1,
              "#f0f921"
             ]
            ],
            "type": "histogram2d"
           }
          ],
          "histogram2dcontour": [
           {
            "colorbar": {
             "outlinewidth": 0,
             "ticks": ""
            },
            "colorscale": [
             [
              0,
              "#0d0887"
             ],
             [
              0.1111111111111111,
              "#46039f"
             ],
             [
              0.2222222222222222,
              "#7201a8"
             ],
             [
              0.3333333333333333,
              "#9c179e"
             ],
             [
              0.4444444444444444,
              "#bd3786"
             ],
             [
              0.5555555555555556,
              "#d8576b"
             ],
             [
              0.6666666666666666,
              "#ed7953"
             ],
             [
              0.7777777777777778,
              "#fb9f3a"
             ],
             [
              0.8888888888888888,
              "#fdca26"
             ],
             [
              1,
              "#f0f921"
             ]
            ],
            "type": "histogram2dcontour"
           }
          ],
          "mesh3d": [
           {
            "colorbar": {
             "outlinewidth": 0,
             "ticks": ""
            },
            "type": "mesh3d"
           }
          ],
          "parcoords": [
           {
            "line": {
             "colorbar": {
              "outlinewidth": 0,
              "ticks": ""
             }
            },
            "type": "parcoords"
           }
          ],
          "pie": [
           {
            "automargin": true,
            "type": "pie"
           }
          ],
          "scatter": [
           {
            "fillpattern": {
             "fillmode": "overlay",
             "size": 10,
             "solidity": 0.2
            },
            "type": "scatter"
           }
          ],
          "scatter3d": [
           {
            "line": {
             "colorbar": {
              "outlinewidth": 0,
              "ticks": ""
             }
            },
            "marker": {
             "colorbar": {
              "outlinewidth": 0,
              "ticks": ""
             }
            },
            "type": "scatter3d"
           }
          ],
          "scattercarpet": [
           {
            "marker": {
             "colorbar": {
              "outlinewidth": 0,
              "ticks": ""
             }
            },
            "type": "scattercarpet"
           }
          ],
          "scattergeo": [
           {
            "marker": {
             "colorbar": {
              "outlinewidth": 0,
              "ticks": ""
             }
            },
            "type": "scattergeo"
           }
          ],
          "scattergl": [
           {
            "marker": {
             "colorbar": {
              "outlinewidth": 0,
              "ticks": ""
             }
            },
            "type": "scattergl"
           }
          ],
          "scattermap": [
           {
            "marker": {
             "colorbar": {
              "outlinewidth": 0,
              "ticks": ""
             }
            },
            "type": "scattermap"
           }
          ],
          "scattermapbox": [
           {
            "marker": {
             "colorbar": {
              "outlinewidth": 0,
              "ticks": ""
             }
            },
            "type": "scattermapbox"
           }
          ],
          "scatterpolar": [
           {
            "marker": {
             "colorbar": {
              "outlinewidth": 0,
              "ticks": ""
             }
            },
            "type": "scatterpolar"
           }
          ],
          "scatterpolargl": [
           {
            "marker": {
             "colorbar": {
              "outlinewidth": 0,
              "ticks": ""
             }
            },
            "type": "scatterpolargl"
           }
          ],
          "scatterternary": [
           {
            "marker": {
             "colorbar": {
              "outlinewidth": 0,
              "ticks": ""
             }
            },
            "type": "scatterternary"
           }
          ],
          "surface": [
           {
            "colorbar": {
             "outlinewidth": 0,
             "ticks": ""
            },
            "colorscale": [
             [
              0,
              "#0d0887"
             ],
             [
              0.1111111111111111,
              "#46039f"
             ],
             [
              0.2222222222222222,
              "#7201a8"
             ],
             [
              0.3333333333333333,
              "#9c179e"
             ],
             [
              0.4444444444444444,
              "#bd3786"
             ],
             [
              0.5555555555555556,
              "#d8576b"
             ],
             [
              0.6666666666666666,
              "#ed7953"
             ],
             [
              0.7777777777777778,
              "#fb9f3a"
             ],
             [
              0.8888888888888888,
              "#fdca26"
             ],
             [
              1,
              "#f0f921"
             ]
            ],
            "type": "surface"
           }
          ],
          "table": [
           {
            "cells": {
             "fill": {
              "color": "#EBF0F8"
             },
             "line": {
              "color": "white"
             }
            },
            "header": {
             "fill": {
              "color": "#C8D4E3"
             },
             "line": {
              "color": "white"
             }
            },
            "type": "table"
           }
          ]
         },
         "layout": {
          "annotationdefaults": {
           "arrowcolor": "#2a3f5f",
           "arrowhead": 0,
           "arrowwidth": 1
          },
          "autotypenumbers": "strict",
          "coloraxis": {
           "colorbar": {
            "outlinewidth": 0,
            "ticks": ""
           }
          },
          "colorscale": {
           "diverging": [
            [
             0,
             "#8e0152"
            ],
            [
             0.1,
             "#c51b7d"
            ],
            [
             0.2,
             "#de77ae"
            ],
            [
             0.3,
             "#f1b6da"
            ],
            [
             0.4,
             "#fde0ef"
            ],
            [
             0.5,
             "#f7f7f7"
            ],
            [
             0.6,
             "#e6f5d0"
            ],
            [
             0.7,
             "#b8e186"
            ],
            [
             0.8,
             "#7fbc41"
            ],
            [
             0.9,
             "#4d9221"
            ],
            [
             1,
             "#276419"
            ]
           ],
           "sequential": [
            [
             0,
             "#0d0887"
            ],
            [
             0.1111111111111111,
             "#46039f"
            ],
            [
             0.2222222222222222,
             "#7201a8"
            ],
            [
             0.3333333333333333,
             "#9c179e"
            ],
            [
             0.4444444444444444,
             "#bd3786"
            ],
            [
             0.5555555555555556,
             "#d8576b"
            ],
            [
             0.6666666666666666,
             "#ed7953"
            ],
            [
             0.7777777777777778,
             "#fb9f3a"
            ],
            [
             0.8888888888888888,
             "#fdca26"
            ],
            [
             1,
             "#f0f921"
            ]
           ],
           "sequentialminus": [
            [
             0,
             "#0d0887"
            ],
            [
             0.1111111111111111,
             "#46039f"
            ],
            [
             0.2222222222222222,
             "#7201a8"
            ],
            [
             0.3333333333333333,
             "#9c179e"
            ],
            [
             0.4444444444444444,
             "#bd3786"
            ],
            [
             0.5555555555555556,
             "#d8576b"
            ],
            [
             0.6666666666666666,
             "#ed7953"
            ],
            [
             0.7777777777777778,
             "#fb9f3a"
            ],
            [
             0.8888888888888888,
             "#fdca26"
            ],
            [
             1,
             "#f0f921"
            ]
           ]
          },
          "colorway": [
           "#636efa",
           "#EF553B",
           "#00cc96",
           "#ab63fa",
           "#FFA15A",
           "#19d3f3",
           "#FF6692",
           "#B6E880",
           "#FF97FF",
           "#FECB52"
          ],
          "font": {
           "color": "#2a3f5f"
          },
          "geo": {
           "bgcolor": "white",
           "lakecolor": "white",
           "landcolor": "#E5ECF6",
           "showlakes": true,
           "showland": true,
           "subunitcolor": "white"
          },
          "hoverlabel": {
           "align": "left"
          },
          "hovermode": "closest",
          "mapbox": {
           "style": "light"
          },
          "paper_bgcolor": "white",
          "plot_bgcolor": "#E5ECF6",
          "polar": {
           "angularaxis": {
            "gridcolor": "white",
            "linecolor": "white",
            "ticks": ""
           },
           "bgcolor": "#E5ECF6",
           "radialaxis": {
            "gridcolor": "white",
            "linecolor": "white",
            "ticks": ""
           }
          },
          "scene": {
           "xaxis": {
            "backgroundcolor": "#E5ECF6",
            "gridcolor": "white",
            "gridwidth": 2,
            "linecolor": "white",
            "showbackground": true,
            "ticks": "",
            "zerolinecolor": "white"
           },
           "yaxis": {
            "backgroundcolor": "#E5ECF6",
            "gridcolor": "white",
            "gridwidth": 2,
            "linecolor": "white",
            "showbackground": true,
            "ticks": "",
            "zerolinecolor": "white"
           },
           "zaxis": {
            "backgroundcolor": "#E5ECF6",
            "gridcolor": "white",
            "gridwidth": 2,
            "linecolor": "white",
            "showbackground": true,
            "ticks": "",
            "zerolinecolor": "white"
           }
          },
          "shapedefaults": {
           "line": {
            "color": "#2a3f5f"
           }
          },
          "ternary": {
           "aaxis": {
            "gridcolor": "white",
            "linecolor": "white",
            "ticks": ""
           },
           "baxis": {
            "gridcolor": "white",
            "linecolor": "white",
            "ticks": ""
           },
           "bgcolor": "#E5ECF6",
           "caxis": {
            "gridcolor": "white",
            "linecolor": "white",
            "ticks": ""
           }
          },
          "title": {
           "x": 0.05
          },
          "xaxis": {
           "automargin": true,
           "gridcolor": "white",
           "linecolor": "white",
           "ticks": "",
           "title": {
            "standoff": 15
           },
           "zerolinecolor": "white",
           "zerolinewidth": 2
          },
          "yaxis": {
           "automargin": true,
           "gridcolor": "white",
           "linecolor": "white",
           "ticks": "",
           "title": {
            "standoff": 15
           },
           "zerolinecolor": "white",
           "zerolinewidth": 2
          }
         }
        }
       }
      }
     },
     "metadata": {},
     "output_type": "display_data"
    }
   ],
   "source": [
    "def plot_helix(L, theta, tau, segments, pipe_diameter, sides = 10, double_helix = True):\n",
    "\n",
    "    fig = go.Figure()\n",
    "    origin = np.zeros(3)\n",
    "    segments = 25\n",
    "\n",
    "    points_straight = generate_straight_matrix(L, theta, tau, segments)\n",
    "    vectors = vis_tangent_vectors(segments, L, theta, tau)\n",
    "\n",
    "    vectors = np.gradient(points_straight, axis=0)\n",
    "    basis = vis_local_xy_plane(vectors)\n",
    "\n",
    "    circles = []\n",
    "    for i in range(len(basis)):\n",
    "        circles.append(vis_whole_circle(points_straight[i], basis[i], pipe_diameter, sides = sides))\n",
    "        \n",
    "    circles = np.asarray(circles)\n",
    "    lines = np.transpose(circles, axes=[1,0,2])\n",
    "\n",
    "    for i in range(len(lines) -1):\n",
    "        fig.add_trace(connect_lines_mesh3d(lines[i], lines[i+1], color='blue', opacity = .6))\n",
    "\n",
    "\n",
    "    for circle in lines:\n",
    "        x,y,z = circle.T\n",
    "        fig.add_trace(go.Scatter3d(x=x, y=y, z=z, mode = 'lines', line = dict(color = 'blue')))\n",
    "        i = i+1\n",
    "\n",
    "\n",
    "    if double_helix:\n",
    "            second_points = make_second_helix(points_straight)\n",
    "            vectors = vis_tangent_vectors(segments, L, theta, tau)\n",
    "\n",
    "\n",
    "            vectors = np.gradient(second_points, axis=0)\n",
    "            basis = vis_local_xy_plane(vectors)\n",
    "\n",
    "            circles = []\n",
    "            for i in range(len(basis)):\n",
    "                circles.append(vis_whole_circle(second_points[i], basis[i], pipe_diameter, sides = sides))\n",
    "                \n",
    "            circles = np.asarray(circles)\n",
    "            lines = np.transpose(circles, axes=[1,0,2])\n",
    "\n",
    "            for i in range(len(lines) -1):\n",
    "                fig.add_trace(connect_lines_mesh3d(lines[i], lines[i+1], color='red', opacity = .6))\n",
    "\n",
    "\n",
    "\n",
    "            for circle in lines:\n",
    "                x,y,z = circle.T\n",
    "                fig.add_trace(go.Scatter3d(x=x, y=y, z=z, mode = 'lines', line = dict(color = 'red')))\n",
    "                i = i+1\n",
    "\n",
    "\n",
    "\n",
    "    fig.update_layout(\n",
    "    scene=dict(\n",
    "        aspectmode='data'   # ensures equal scaling for x, y, z\n",
    "    )\n",
    "    )    \n",
    "\n",
    "    fig.update_layout(\n",
    "    dragmode=\"turntable\",        # intuitive rotation\n",
    "    scene_camera=dict(eye=dict(x=0, y=1.8, z=1.2)),  # pleasant starting view\n",
    "    )\n",
    "\n",
    "    fig.show()\n",
    "\n",
    "plot_helix(21,90,25,25,10, 10,True)"
   ]
  },
  {
   "cell_type": "code",
   "execution_count": 15,
   "metadata": {},
   "outputs": [],
   "source": [
    "### Is helix allowed?"
   ]
  },
  {
   "cell_type": "code",
   "execution_count": 16,
   "metadata": {},
   "outputs": [
    {
     "data": {
      "image/png": "[encoded data removed]",
      "text/plain": [
       "<Figure size 640x480 with 1 Axes>"
      ]
     },
     "metadata": {},
     "output_type": "display_data"
    },
    {
     "data": {
      "text/plain": [
       "(4.0, 18.0)"
      ]
     },
     "execution_count": 16,
     "metadata": {},
     "output_type": "execute_result"
    }
   ],
   "source": [
    "\n",
    "\n",
    "\n",
    "\n",
    "def is_helix_allowed(L, theta, tau, pipe_diameter, eps_wide = 3, eps_loose = 3):\n",
    "    return is_helix_loose_enough(L, theta, tau, pipe_diameter, eps = eps_loose) * is_helix_wide_enough(L, theta, tau, pipe_diameter, eps = eps_wide)\n",
    "\n",
    "tautau = np.arange(0.1,180,0.1)\n",
    "L = 21\n",
    "theta = 15\n",
    "helix_possible = np.zeros(len(tautau), dtype = int)\n",
    "pipe_diameter = 63\n",
    "for i, tau in enumerate(tautau):\n",
    "    helix_possible[i] = is_helix_allowed(L, theta, tau, pipe_diameter)\n",
    "\n",
    "\n",
    "def find_allowed_twist_range(L, theta, pipe_diameter, accuracy = 0.1):\n",
    "    def toggle(truth):\n",
    "        if truth:\n",
    "            return False\n",
    "        else:\n",
    "            return True\n",
    "\n",
    "    taumin = 0\n",
    "    taumax = 0\n",
    "    eps = 1\n",
    "    direction = 1\n",
    "    want = True\n",
    "\n",
    "    while eps > accuracy:\n",
    "        if taumin > 180:\n",
    "            taumin = None\n",
    "            taumax = None\n",
    "            return taumin, taumax\n",
    "        if taumin < 0:\n",
    "            taumin = -1\n",
    "            break\n",
    "        taumin = taumin + direction * eps\n",
    "        possible = is_helix_allowed(L, theta, taumin, pipe_diameter)\n",
    "        if possible == want:\n",
    "            eps /= 2\n",
    "            direction *= -1\n",
    "            want = toggle(want)\n",
    "            if want:\n",
    "                taumax = taumin\n",
    "\n",
    "    direction = 1\n",
    "    eps = 0.5\n",
    "    want = False\n",
    "\n",
    "    while eps > accuracy:\n",
    "        taumax = taumax + direction * eps\n",
    "        possible = is_helix_allowed(L, theta, taumax, pipe_diameter)\n",
    "        if possible == want:\n",
    "            eps /= 2\n",
    "            direction *= -1\n",
    "            toggle(want)\n",
    "\n",
    "    return taumin, taumax\n",
    "\n",
    "taumin, taumax = find_allowed_twist_range(L, theta, pipe_diameter)\n",
    "\n",
    "\n",
    "\n",
    "\n",
    "plt.plot(tautau, helix_possible)\n",
    "plt.xlabel(\"Twist angle (degrees)\")\n",
    "plt.ylabel(\"Is helix allowed\")\n",
    "plt.title(f\"L = {L}, theta = {theta}, pipe diameter = {pipe_diameter}\")\n",
    "plt.vlines([taumin, taumax], 0,1, colors = 'red')\n",
    "plt.show()\n",
    "\n",
    "taumin, taumax"
   ]
  }
 ],
 "metadata": {
  "kernelspec": {
   "display_name": "jonas",
   "language": "python",
   "name": "python3"
  },
  "language_info": {
   "codemirror_mode": {
    "name": "ipython",
    "version": 3
   },
   "file_extension": ".py",
   "mimetype": "text/x-python",
   "name": "python",
   "nbconvert_exporter": "python",
   "pygments_lexer": "ipython3",
   "version": "3.11.2"
  }
 },
 "nbformat": 4,
 "nbformat_minor": 2
}
